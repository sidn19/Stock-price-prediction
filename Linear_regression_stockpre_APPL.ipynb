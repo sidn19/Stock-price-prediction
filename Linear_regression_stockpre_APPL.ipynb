{
  "nbformat": 4,
  "nbformat_minor": 0,
  "metadata": {
    "colab": {
      "name": "Linear_regression_stockpre_APPL.ipynb",
      "provenance": [],
      "collapsed_sections": []
    },
    "kernelspec": {
      "name": "python3",
      "display_name": "Python 3"
    },
    "language_info": {
      "name": "python"
    }
  },
  "cells": [
    {
      "cell_type": "markdown",
      "metadata": {
        "id": "_cIVN4JxtQtq"
      },
      "source": [
        "Linear Regression Stock Prediction APPLE"
      ]
    },
    {
      "cell_type": "code",
      "metadata": {
        "id": "4OcOrvhTUDOD"
      },
      "source": [
        "#importing all the necessary library \n",
        "import pandas as pd\n",
        "import numpy as np\n",
        "import matplotlib.pyplot as plt\n",
        "import seaborn as sns\n",
        "%matplotlib inline"
      ],
      "execution_count": 92,
      "outputs": []
    },
    {
      "cell_type": "code",
      "metadata": {
        "id": "ngjDLJvoUGAU"
      },
      "source": [
        "#reading the .csv file using pandas\n",
        "df=pd.read_csv('/content/HistoricalData_APPLE.csv',index_col=\"Date\",parse_dates=True)"
      ],
      "execution_count": 93,
      "outputs": []
    },
    {
      "cell_type": "code",
      "metadata": {
        "colab": {
          "base_uri": "https://localhost:8080/",
          "height": 237
        },
        "id": "ej1w9bf5Vppv",
        "outputId": "464a9c13-c448-4082-ac15-f5c2bef59ddb"
      },
      "source": [
        "#top 5 rows of the data\n",
        "df.head()"
      ],
      "execution_count": 94,
      "outputs": [
        {
          "output_type": "execute_result",
          "data": {
            "text/html": [
              "<div>\n",
              "<style scoped>\n",
              "    .dataframe tbody tr th:only-of-type {\n",
              "        vertical-align: middle;\n",
              "    }\n",
              "\n",
              "    .dataframe tbody tr th {\n",
              "        vertical-align: top;\n",
              "    }\n",
              "\n",
              "    .dataframe thead th {\n",
              "        text-align: right;\n",
              "    }\n",
              "</style>\n",
              "<table border=\"1\" class=\"dataframe\">\n",
              "  <thead>\n",
              "    <tr style=\"text-align: right;\">\n",
              "      <th></th>\n",
              "      <th>Close/Last</th>\n",
              "      <th>Volume</th>\n",
              "      <th>Open</th>\n",
              "      <th>High</th>\n",
              "      <th>Low</th>\n",
              "    </tr>\n",
              "    <tr>\n",
              "      <th>Date</th>\n",
              "      <th></th>\n",
              "      <th></th>\n",
              "      <th></th>\n",
              "      <th></th>\n",
              "      <th></th>\n",
              "    </tr>\n",
              "  </thead>\n",
              "  <tbody>\n",
              "    <tr>\n",
              "      <th>2021-06-09</th>\n",
              "      <td>$127.13</td>\n",
              "      <td>56877940</td>\n",
              "      <td>$127.21</td>\n",
              "      <td>$127.75</td>\n",
              "      <td>$126.52</td>\n",
              "    </tr>\n",
              "    <tr>\n",
              "      <th>2021-06-08</th>\n",
              "      <td>$126.74</td>\n",
              "      <td>74403770</td>\n",
              "      <td>$126.6</td>\n",
              "      <td>$128.46</td>\n",
              "      <td>$126.2101</td>\n",
              "    </tr>\n",
              "    <tr>\n",
              "      <th>2021-06-07</th>\n",
              "      <td>$125.9</td>\n",
              "      <td>71057550</td>\n",
              "      <td>$126.17</td>\n",
              "      <td>$126.32</td>\n",
              "      <td>$124.8321</td>\n",
              "    </tr>\n",
              "    <tr>\n",
              "      <th>2021-06-04</th>\n",
              "      <td>$125.89</td>\n",
              "      <td>75169340</td>\n",
              "      <td>$124.07</td>\n",
              "      <td>$126.16</td>\n",
              "      <td>$123.85</td>\n",
              "    </tr>\n",
              "    <tr>\n",
              "      <th>2021-06-03</th>\n",
              "      <td>$123.54</td>\n",
              "      <td>76229170</td>\n",
              "      <td>$124.68</td>\n",
              "      <td>$124.85</td>\n",
              "      <td>$123.13</td>\n",
              "    </tr>\n",
              "  </tbody>\n",
              "</table>\n",
              "</div>"
            ],
            "text/plain": [
              "           Close/Last    Volume     Open     High        Low\n",
              "Date                                                        \n",
              "2021-06-09    $127.13  56877940  $127.21  $127.75    $126.52\n",
              "2021-06-08    $126.74  74403770   $126.6  $128.46  $126.2101\n",
              "2021-06-07     $125.9  71057550  $126.17  $126.32  $124.8321\n",
              "2021-06-04    $125.89  75169340  $124.07  $126.16    $123.85\n",
              "2021-06-03    $123.54  76229170  $124.68  $124.85    $123.13"
            ]
          },
          "metadata": {
            "tags": []
          },
          "execution_count": 94
        }
      ]
    },
    {
      "cell_type": "code",
      "metadata": {
        "id": "TtIWp2VTbXFP"
      },
      "source": [
        "#converting each columnns datatypes from string to float\n",
        "df['Open']=df['Open'].str.replace('$','').astype(float)\n",
        "df['Close/Last']=df['Close/Last'].str.replace('$','').astype(float)\n",
        "df['High']=df['High'].str.replace('$','').astype(float)\n",
        "df['Low']=df['Low'].str.replace('$','').astype(float)"
      ],
      "execution_count": 95,
      "outputs": []
    },
    {
      "cell_type": "code",
      "metadata": {
        "id": "mbjBhbiWbfmo"
      },
      "source": [
        ""
      ],
      "execution_count": null,
      "outputs": []
    },
    {
      "cell_type": "code",
      "metadata": {
        "id": "Hbhfp3WNXPRa"
      },
      "source": [
        "#defining the dependent and independent varaiable as x and y\n",
        "y=df['Close/Last']\n",
        "x=df.drop('Close/Last',axis=1)"
      ],
      "execution_count": 96,
      "outputs": []
    },
    {
      "cell_type": "code",
      "metadata": {
        "colab": {
          "base_uri": "https://localhost:8080/"
        },
        "id": "K-EBV1hqcD9k",
        "outputId": "c7de26d0-f088-41ab-abc2-715d25f93f62"
      },
      "source": [
        "df.dtypes"
      ],
      "execution_count": 97,
      "outputs": [
        {
          "output_type": "execute_result",
          "data": {
            "text/plain": [
              "Close/Last    float64\n",
              "Volume          int64\n",
              "Open          float64\n",
              "High          float64\n",
              "Low           float64\n",
              "dtype: object"
            ]
          },
          "metadata": {
            "tags": []
          },
          "execution_count": 97
        }
      ]
    },
    {
      "cell_type": "code",
      "metadata": {
        "colab": {
          "base_uri": "https://localhost:8080/"
        },
        "id": "Ce8axXpoIERb",
        "outputId": "18fea594-2f14-4bc6-cea3-547ccf55f59d"
      },
      "source": [
        "print(len(x))\n",
        "print(len(y))"
      ],
      "execution_count": 98,
      "outputs": [
        {
          "output_type": "stream",
          "text": [
            "2516\n",
            "2516\n"
          ],
          "name": "stdout"
        }
      ]
    },
    {
      "cell_type": "code",
      "metadata": {
        "id": "nVDSdfuUIY--"
      },
      "source": [
        "#import all the necessary library for Linear regression \n",
        "from sklearn.model_selection import train_test_split\n",
        "from sklearn.linear_model import LinearRegression\n",
        "from sklearn.metrics import mean_squared_error, r2_score\n",
        "from sklearn.metrics import confusion_matrix,accuracy_score"
      ],
      "execution_count": 99,
      "outputs": []
    },
    {
      "cell_type": "code",
      "metadata": {
        "id": "uppG7qAuZ63o"
      },
      "source": [
        "#Divide the data into train and test set\n",
        "x_train,x_test,y_train,y_test=train_test_split(x,y,test_size=0.2,random_state=0)"
      ],
      "execution_count": 100,
      "outputs": []
    },
    {
      "cell_type": "code",
      "metadata": {
        "colab": {
          "base_uri": "https://localhost:8080/"
        },
        "id": "amvFlZSRRdMj",
        "outputId": "63cc048e-70d1-445c-dbf6-d5a2f2995075"
      },
      "source": [
        "#Independent variables as x\n",
        "x_test.columns"
      ],
      "execution_count": 102,
      "outputs": [
        {
          "output_type": "execute_result",
          "data": {
            "text/plain": [
              "Index(['Volume', 'Open', 'High', 'Low'], dtype='object')"
            ]
          },
          "metadata": {
            "tags": []
          },
          "execution_count": 102
        }
      ]
    },
    {
      "cell_type": "code",
      "metadata": {
        "id": "XUIWBVjVaQ9e"
      },
      "source": [
        "#creating an object of the LinearRegression function\n",
        "model_linear=LinearRegression()"
      ],
      "execution_count": 103,
      "outputs": []
    },
    {
      "cell_type": "code",
      "metadata": {
        "colab": {
          "base_uri": "https://localhost:8080/"
        },
        "id": "3DGX04lEayQN",
        "outputId": "32a9a3b1-48d4-48be-a265-88ee67e10a08"
      },
      "source": [
        "#Fit the model with parameter x_train and y_train\n",
        "model_linear.fit(x_train,y_train)"
      ],
      "execution_count": 104,
      "outputs": [
        {
          "output_type": "execute_result",
          "data": {
            "text/plain": [
              "LinearRegression(copy_X=True, fit_intercept=True, n_jobs=None, normalize=False)"
            ]
          },
          "metadata": {
            "tags": []
          },
          "execution_count": 104
        }
      ]
    },
    {
      "cell_type": "code",
      "metadata": {
        "id": "BKYnWZrOcv9n"
      },
      "source": [
        "#Predict the dependent variable y_predict by the independent variable x_test \n",
        "y_predict=model_linear.predict(x_test)"
      ],
      "execution_count": 105,
      "outputs": []
    },
    {
      "cell_type": "code",
      "metadata": {
        "id": "w00HcLMUdMG0"
      },
      "source": [
        "#Root mean square error caculation\n",
        "rmse=mean_squared_error(y_test,y_predict)"
      ],
      "execution_count": 106,
      "outputs": []
    },
    {
      "cell_type": "code",
      "metadata": {
        "id": "Zod6tcKydey_"
      },
      "source": [
        "#R-squared calculation\n",
        "r2=r2_score(y_test,y_predict)"
      ],
      "execution_count": 107,
      "outputs": []
    },
    {
      "cell_type": "code",
      "metadata": {
        "id": "8ddLD3Bddqht"
      },
      "source": [
        "#coefficient of the model\n",
        "coefficient=model_linear.coef_"
      ],
      "execution_count": 108,
      "outputs": []
    },
    {
      "cell_type": "code",
      "metadata": {
        "id": "2x-LJ3LMd1nv"
      },
      "source": [
        "#Intercept of the model\n",
        "intercept=model_linear.intercept_"
      ],
      "execution_count": 109,
      "outputs": []
    },
    {
      "cell_type": "code",
      "metadata": {
        "colab": {
          "base_uri": "https://localhost:8080/"
        },
        "id": "upYYd-YEd4_g",
        "outputId": "0501e0a6-de1f-4d3c-d57f-606cd8785748"
      },
      "source": [
        "#Print each data \n",
        "print('rmse=',rmse)\n",
        "print('r2=',r2)\n",
        "print('coefficient=',coefficient)\n",
        "print('intercept=',intercept)"
      ],
      "execution_count": 110,
      "outputs": [
        {
          "output_type": "stream",
          "text": [
            "rmse= 0.14598308740936597\n",
            "r2= 0.9998357614326422\n",
            "coefficient= [-7.22550815e-11 -5.28400606e-01  8.40707220e-01  6.86442758e-01]\n",
            "intercept= 0.019101983808461398\n"
          ],
          "name": "stdout"
        }
      ]
    },
    {
      "cell_type": "code",
      "metadata": {
        "id": "OTRCA_kUNjPM"
      },
      "source": [
        "d={'y_test':y_test,'y_predict':y_predict}"
      ],
      "execution_count": 111,
      "outputs": []
    },
    {
      "cell_type": "code",
      "metadata": {
        "id": "OmSQ0fmbKZYD"
      },
      "source": [
        "a=pd.DataFrame(data=d)"
      ],
      "execution_count": 112,
      "outputs": []
    },
    {
      "cell_type": "code",
      "metadata": {
        "colab": {
          "base_uri": "https://localhost:8080/",
          "height": 301
        },
        "id": "VeEdhNdqPz4D",
        "outputId": "28f05733-9dec-416b-93b2-3f017759d10a"
      },
      "source": [
        "#A bar plot to visualise y_test and Y_predict\n",
        "plt.figure(figsize=(20,8))\n",
        "a.resample('Y').mean().plot.barh(color=['powderblue','khaki'])"
      ],
      "execution_count": 173,
      "outputs": [
        {
          "output_type": "execute_result",
          "data": {
            "text/plain": [
              "<matplotlib.axes._subplots.AxesSubplot at 0x7fd692e56b90>"
            ]
          },
          "metadata": {
            "tags": []
          },
          "execution_count": 173
        },
        {
          "output_type": "display_data",
          "data": {
            "text/plain": [
              "<Figure size 1440x576 with 0 Axes>"
            ]
          },
          "metadata": {
            "tags": []
          }
        },
        {
          "output_type": "display_data",
          "data": {
            "image/png": "[encoded data removed]",
            "text/plain": [
              "<Figure size 432x288 with 1 Axes>"
            ]
          },
          "metadata": {
            "tags": [],
            "needs_background": "light"
          }
        }
      ]
    },
    {
      "cell_type": "code",
      "metadata": {
        "colab": {
          "base_uri": "https://localhost:8080/"
        },
        "id": "Jl_sY67OFMb2",
        "outputId": "79a321e1-a417-4039-d6cb-601e976ebff2"
      },
      "source": [
        "r2_score = model_linear.score(x_test,y_test) \n",
        "print(r2_score*100,'%')"
      ],
      "execution_count": 163,
      "outputs": [
        {
          "output_type": "stream",
          "text": [
            "99.98357614326422 %\n"
          ],
          "name": "stdout"
        }
      ]
    },
    {
      "cell_type": "code",
      "metadata": {
        "id": "wnRO48lILkW8"
      },
      "source": [
        "#I have given test data randomly\n",
        "Test_data = [[75169340.0 ,124.07 ,126.16 ,123.85 ]] #Test_data=[['Volume', 'Open', 'High', 'Low']]\n",
        "prediction = model_linear.predict(Test_data)"
      ],
      "execution_count": 164,
      "outputs": []
    },
    {
      "cell_type": "code",
      "metadata": {
        "colab": {
          "base_uri": "https://localhost:8080/"
        },
        "id": "jOZyOdUkMCYB",
        "outputId": "02530d7e-e065-4f91-e4da-b00376e1eb4b"
      },
      "source": [
        "print(prediction)"
      ],
      "execution_count": 165,
      "outputs": [
        {
          "output_type": "stream",
          "text": [
            "[125.53456591]\n"
          ],
          "name": "stdout"
        }
      ]
    }
  ]
}