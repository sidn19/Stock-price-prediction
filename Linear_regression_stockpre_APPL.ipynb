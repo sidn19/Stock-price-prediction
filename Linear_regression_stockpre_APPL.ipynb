{
  "nbformat": 4,
  "nbformat_minor": 0,
  "metadata": {
    "colab": {
      "name": "Linear_regression_stockpre_APPL.ipynb",
      "provenance": [],
      "collapsed_sections": []
    },
    "kernelspec": {
      "name": "python3",
      "display_name": "Python 3"
    },
    "language_info": {
      "name": "python"
    }
  },
  "cells": [
    {
      "cell_type": "markdown",
      "metadata": {
        "id": "_cIVN4JxtQtq"
      },
      "source": [
        "Linear Regression Stock Prediction APPLE"
      ]
    },
    {
      "cell_type": "code",
      "metadata": {
        "id": "4OcOrvhTUDOD"
      },
      "source": [
        "#importing all the necessary library \n",
        "import pandas as pd\n",
        "import numpy as np\n",
        "import matplotlib.pyplot as plt\n",
        "import seaborn as sns\n",
        "%matplotlib inline"
      ],
      "execution_count": 53,
      "outputs": []
    },
    {
      "cell_type": "code",
      "metadata": {
        "id": "ngjDLJvoUGAU"
      },
      "source": [
        "#reading the .csv file using pandas\n",
        "df=pd.read_csv('/content/HistoricalData_APPLE.csv',index_col=\"Date\",parse_dates=True)"
      ],
      "execution_count": 54,
      "outputs": []
    },
    {
      "cell_type": "code",
      "metadata": {
        "colab": {
          "base_uri": "https://localhost:8080/",
          "height": 237
        },
        "id": "ej1w9bf5Vppv",
        "outputId": "8a0e14ec-29a9-40c8-bd0f-34654528e102"
      },
      "source": [
        "#top 5 rows of the data\n",
        "df.head()"
      ],
      "execution_count": 55,
      "outputs": [
        {
          "output_type": "execute_result",
          "data": {
            "text/html": [
              "<div>\n",
              "<style scoped>\n",
              "    .dataframe tbody tr th:only-of-type {\n",
              "        vertical-align: middle;\n",
              "    }\n",
              "\n",
              "    .dataframe tbody tr th {\n",
              "        vertical-align: top;\n",
              "    }\n",
              "\n",
              "    .dataframe thead th {\n",
              "        text-align: right;\n",
              "    }\n",
              "</style>\n",
              "<table border=\"1\" class=\"dataframe\">\n",
              "  <thead>\n",
              "    <tr style=\"text-align: right;\">\n",
              "      <th></th>\n",
              "      <th>Close/Last</th>\n",
              "      <th>Volume</th>\n",
              "      <th>Open</th>\n",
              "      <th>High</th>\n",
              "      <th>Low</th>\n",
              "    </tr>\n",
              "    <tr>\n",
              "      <th>Date</th>\n",
              "      <th></th>\n",
              "      <th></th>\n",
              "      <th></th>\n",
              "      <th></th>\n",
              "      <th></th>\n",
              "    </tr>\n",
              "  </thead>\n",
              "  <tbody>\n",
              "    <tr>\n",
              "      <th>2021-06-09</th>\n",
              "      <td>$127.13</td>\n",
              "      <td>56877940</td>\n",
              "      <td>$127.21</td>\n",
              "      <td>$127.75</td>\n",
              "      <td>$126.52</td>\n",
              "    </tr>\n",
              "    <tr>\n",
              "      <th>2021-06-08</th>\n",
              "      <td>$126.74</td>\n",
              "      <td>74403770</td>\n",
              "      <td>$126.6</td>\n",
              "      <td>$128.46</td>\n",
              "      <td>$126.2101</td>\n",
              "    </tr>\n",
              "    <tr>\n",
              "      <th>2021-06-07</th>\n",
              "      <td>$125.9</td>\n",
              "      <td>71057550</td>\n",
              "      <td>$126.17</td>\n",
              "      <td>$126.32</td>\n",
              "      <td>$124.8321</td>\n",
              "    </tr>\n",
              "    <tr>\n",
              "      <th>2021-06-04</th>\n",
              "      <td>$125.89</td>\n",
              "      <td>75169340</td>\n",
              "      <td>$124.07</td>\n",
              "      <td>$126.16</td>\n",
              "      <td>$123.85</td>\n",
              "    </tr>\n",
              "    <tr>\n",
              "      <th>2021-06-03</th>\n",
              "      <td>$123.54</td>\n",
              "      <td>76229170</td>\n",
              "      <td>$124.68</td>\n",
              "      <td>$124.85</td>\n",
              "      <td>$123.13</td>\n",
              "    </tr>\n",
              "  </tbody>\n",
              "</table>\n",
              "</div>"
            ],
            "text/plain": [
              "           Close/Last    Volume     Open     High        Low\n",
              "Date                                                        \n",
              "2021-06-09    $127.13  56877940  $127.21  $127.75    $126.52\n",
              "2021-06-08    $126.74  74403770   $126.6  $128.46  $126.2101\n",
              "2021-06-07     $125.9  71057550  $126.17  $126.32  $124.8321\n",
              "2021-06-04    $125.89  75169340  $124.07  $126.16    $123.85\n",
              "2021-06-03    $123.54  76229170  $124.68  $124.85    $123.13"
            ]
          },
          "metadata": {
            "tags": []
          },
          "execution_count": 55
        }
      ]
    },
    {
      "cell_type": "code",
      "metadata": {
        "id": "TtIWp2VTbXFP"
      },
      "source": [
        "#converting each columnns datatypes from string to float\n",
        "df['Open']=df['Open'].str.replace('$','').astype(float)\n",
        "df['Close/Last']=df['Close/Last'].str.replace('$','').astype(float)\n",
        "df['High']=df['High'].str.replace('$','').astype(float)\n",
        "df['Low']=df['Low'].str.replace('$','').astype(float)"
      ],
      "execution_count": 56,
      "outputs": []
    },
    {
      "cell_type": "code",
      "metadata": {
        "id": "Hbhfp3WNXPRa"
      },
      "source": [
        "#defining the dependent and independent varaiable as x and y\n",
        "y=df['Close/Last']\n",
        "x=df.drop('Close/Last',axis=1)"
      ],
      "execution_count": 57,
      "outputs": []
    },
    {
      "cell_type": "code",
      "metadata": {
        "colab": {
          "base_uri": "https://localhost:8080/"
        },
        "id": "K-EBV1hqcD9k",
        "outputId": "4b1ebf60-2e6c-456a-b3b2-1006b74a410d"
      },
      "source": [
        "df.dtypes"
      ],
      "execution_count": 59,
      "outputs": [
        {
          "output_type": "execute_result",
          "data": {
            "text/plain": [
              "Close/Last    float64\n",
              "Volume          int64\n",
              "Open          float64\n",
              "High          float64\n",
              "Low           float64\n",
              "dtype: object"
            ]
          },
          "metadata": {
            "tags": []
          },
          "execution_count": 59
        }
      ]
    },
    {
      "cell_type": "code",
      "metadata": {
        "colab": {
          "base_uri": "https://localhost:8080/"
        },
        "id": "Ce8axXpoIERb",
        "outputId": "c6c2fedf-c0b7-47cc-c82e-caee0c23e39e"
      },
      "source": [
        "print(len(x))\n",
        "print(len(y))"
      ],
      "execution_count": 60,
      "outputs": [
        {
          "output_type": "stream",
          "text": [
            "2516\n",
            "2516\n"
          ],
          "name": "stdout"
        }
      ]
    },
    {
      "cell_type": "code",
      "metadata": {
        "id": "nVDSdfuUIY--"
      },
      "source": [
        "#import all the necessary library for Linear regression \n",
        "from sklearn.model_selection import train_test_split\n",
        "from sklearn.linear_model import LinearRegression\n",
        "from sklearn.metrics import mean_squared_error, r2_score\n",
        "from sklearn.metrics import confusion_matrix,accuracy_score"
      ],
      "execution_count": 61,
      "outputs": []
    },
    {
      "cell_type": "code",
      "metadata": {
        "id": "uppG7qAuZ63o"
      },
      "source": [
        "#Divide the data into train and test set\n",
        "x_train,x_test,y_train,y_test=train_test_split(x,y,test_size=0.2,random_state=0)"
      ],
      "execution_count": 62,
      "outputs": []
    },
    {
      "cell_type": "code",
      "metadata": {
        "colab": {
          "base_uri": "https://localhost:8080/"
        },
        "id": "amvFlZSRRdMj",
        "outputId": "d0e9037e-2aa0-4d62-bc86-84db8e2e6651"
      },
      "source": [
        "#Independent variables as x\n",
        "x_test.columns"
      ],
      "execution_count": 63,
      "outputs": [
        {
          "output_type": "execute_result",
          "data": {
            "text/plain": [
              "Index(['Volume', 'Open', 'High', 'Low'], dtype='object')"
            ]
          },
          "metadata": {
            "tags": []
          },
          "execution_count": 63
        }
      ]
    },
    {
      "cell_type": "code",
      "metadata": {
        "id": "XUIWBVjVaQ9e"
      },
      "source": [
        "#creating an object of the LinearRegression function\n",
        "model_linear=LinearRegression()"
      ],
      "execution_count": 64,
      "outputs": []
    },
    {
      "cell_type": "code",
      "metadata": {
        "colab": {
          "base_uri": "https://localhost:8080/"
        },
        "id": "3DGX04lEayQN",
        "outputId": "8e9df96a-8bae-4ab5-f922-5866eeae41dc"
      },
      "source": [
        "#Fit the model with parameter x_train and y_train\n",
        "model_linear.fit(x_train,y_train)"
      ],
      "execution_count": 66,
      "outputs": [
        {
          "output_type": "execute_result",
          "data": {
            "text/plain": [
              "LinearRegression(copy_X=True, fit_intercept=True, n_jobs=None, normalize=False)"
            ]
          },
          "metadata": {
            "tags": []
          },
          "execution_count": 66
        }
      ]
    },
    {
      "cell_type": "code",
      "metadata": {
        "id": "BKYnWZrOcv9n"
      },
      "source": [
        "#Predict the dependent variable y_predict by the independent variable x_test \n",
        "y_predict=model_linear.predict(x_test)"
      ],
      "execution_count": 68,
      "outputs": []
    },
    {
      "cell_type": "code",
      "metadata": {
        "id": "w00HcLMUdMG0"
      },
      "source": [
        "#Root mean square error caculation\n",
        "rmse=mean_squared_error(y_test,y_predict)"
      ],
      "execution_count": 69,
      "outputs": []
    },
    {
      "cell_type": "code",
      "metadata": {
        "id": "Zod6tcKydey_"
      },
      "source": [
        "#R-squared calculation\n",
        "r2=r2_score(y_test,y_predict)"
      ],
      "execution_count": 70,
      "outputs": []
    },
    {
      "cell_type": "code",
      "metadata": {
        "id": "8ddLD3Bddqht"
      },
      "source": [
        "#coefficient of the model\n",
        "coefficient=model_linear.coef_"
      ],
      "execution_count": 71,
      "outputs": []
    },
    {
      "cell_type": "code",
      "metadata": {
        "id": "2x-LJ3LMd1nv"
      },
      "source": [
        "#Intercept of the model\n",
        "intercept=model_linear.intercept_"
      ],
      "execution_count": 72,
      "outputs": []
    },
    {
      "cell_type": "code",
      "metadata": {
        "colab": {
          "base_uri": "https://localhost:8080/"
        },
        "id": "upYYd-YEd4_g",
        "outputId": "b0b88f54-aac8-4fc6-c584-bcaef1d5e970"
      },
      "source": [
        "#Print each data \n",
        "print('rmse=',rmse)\n",
        "print('r2=',r2)\n",
        "print('coefficient=',coefficient)\n",
        "print('intercept=',intercept)"
      ],
      "execution_count": 73,
      "outputs": [
        {
          "output_type": "stream",
          "text": [
            "rmse= 0.14598308740936597\n",
            "r2= 0.9998357614326422\n",
            "coefficient= [-7.22550815e-11 -5.28400606e-01  8.40707220e-01  6.86442758e-01]\n",
            "intercept= 0.019101983808461398\n"
          ],
          "name": "stdout"
        }
      ]
    },
    {
      "cell_type": "code",
      "metadata": {
        "id": "OTRCA_kUNjPM"
      },
      "source": [
        "d={'y_test':y_test,'y_predict':y_predict}"
      ],
      "execution_count": 74,
      "outputs": []
    },
    {
      "cell_type": "code",
      "metadata": {
        "id": "OmSQ0fmbKZYD"
      },
      "source": [
        "a=pd.DataFrame(data=d)"
      ],
      "execution_count": 75,
      "outputs": []
    },
    {
      "cell_type": "code",
      "metadata": {
        "colab": {
          "base_uri": "https://localhost:8080/",
          "height": 410
        },
        "id": "VeEdhNdqPz4D",
        "outputId": "13f89aa3-20ed-4d52-febc-156c827eb27b"
      },
      "source": [
        "#A bar plot to visualise y_test and Y_predict\n",
        "plt.figure(figsize=(20,8))\n",
        "a.resample('Y').mean().plot(kind=\"bar\")"
      ],
      "execution_count": 76,
      "outputs": [
        {
          "output_type": "execute_result",
          "data": {
            "text/plain": [
              "<matplotlib.axes._subplots.AxesSubplot at 0x7fd6a00f6c50>"
            ]
          },
          "metadata": {
            "tags": []
          },
          "execution_count": 76
        },
        {
          "output_type": "display_data",
          "data": {
            "text/plain": [
              "<Figure size 1440x576 with 0 Axes>"
            ]
          },
          "metadata": {
            "tags": []
          }
        },
        {
          "output_type": "display_data",
          "data": {
            "image/png": "[encoded data removed]",
            "text/plain": [
              "<Figure size 432x288 with 1 Axes>"
            ]
          },
          "metadata": {
            "tags": [],
            "needs_background": "light"
          }
        }
      ]
    },
    {
      "cell_type": "code",
      "metadata": {
        "colab": {
          "base_uri": "https://localhost:8080/"
        },
        "id": "Jl_sY67OFMb2",
        "outputId": "dd8830b5-5391-4a03-bd10-fbe92cfeb6a3"
      },
      "source": [
        "r2_score = model_linear.score(x_test,y_test) \n",
        "print(r2_score*100,'%')"
      ],
      "execution_count": 77,
      "outputs": [
        {
          "output_type": "stream",
          "text": [
            "99.98357614326422 %\n"
          ],
          "name": "stdout"
        }
      ]
    },
    {
      "cell_type": "code",
      "metadata": {
        "id": "wnRO48lILkW8"
      },
      "source": [
        "#I have given test data randomly\n",
        "Test_data = [[75169340.0 ,124.07 ,126.16 ,123.85 ]] #Test_data=[['Volume', 'Open', 'High', 'Low']]\n",
        "prediction = model_linear.predict(Test_data)"
      ],
      "execution_count": 86,
      "outputs": []
    },
    {
      "cell_type": "code",
      "metadata": {
        "colab": {
          "base_uri": "https://localhost:8080/"
        },
        "id": "jOZyOdUkMCYB",
        "outputId": "0a0ae037-b3be-4916-e582-865f551516d0"
      },
      "source": [
        "print(prediction)"
      ],
      "execution_count": 87,
      "outputs": [
        {
          "output_type": "stream",
          "text": [
            "[125.53456591]\n"
          ],
          "name": "stdout"
        }
      ]
    }
  ]
}