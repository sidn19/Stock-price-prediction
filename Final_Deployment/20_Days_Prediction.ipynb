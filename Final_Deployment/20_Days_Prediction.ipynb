{
  "nbformat": 4,
  "nbformat_minor": 0,
  "metadata": {
    "colab": {
      "name": "20 Days Prediction.ipynb",
      "provenance": [],
      "collapsed_sections": []
    },
    "kernelspec": {
      "name": "python3",
      "display_name": "Python 3"
    },
    "language_info": {
      "name": "python"
    }
  },
  "cells": [
    {
      "cell_type": "code",
      "metadata": {
        "id": "knvxUfmZXguE"
      },
      "source": [
        "import pandas as pd\n",
        "stock_data = pd.read_csv(\"/content/Stock_Data_with_vader.csv\",parse_dates=[\"Date\"],index_col=\"Date\")"
      ],
      "execution_count": 1,
      "outputs": []
    },
    {
      "cell_type": "code",
      "metadata": {
        "colab": {
          "base_uri": "https://localhost:8080/",
          "height": 234
        },
        "id": "odk8yQxMZsCh",
        "outputId": "5449883d-4319-499b-ca4b-aa5a8e5343db"
      },
      "source": [
        "stock_data.head()"
      ],
      "execution_count": 2,
      "outputs": [
        {
          "output_type": "execute_result",
          "data": {
            "text/html": [
              "<div>\n",
              "<style scoped>\n",
              "    .dataframe tbody tr th:only-of-type {\n",
              "        vertical-align: middle;\n",
              "    }\n",
              "\n",
              "    .dataframe tbody tr th {\n",
              "        vertical-align: top;\n",
              "    }\n",
              "\n",
              "    .dataframe thead th {\n",
              "        text-align: right;\n",
              "    }\n",
              "</style>\n",
              "<table border=\"1\" class=\"dataframe\">\n",
              "  <thead>\n",
              "    <tr style=\"text-align: right;\">\n",
              "      <th></th>\n",
              "      <th>Close/Last</th>\n",
              "      <th>compound</th>\n",
              "      <th>negative</th>\n",
              "      <th>neutral</th>\n",
              "      <th>positive</th>\n",
              "      <th>Open</th>\n",
              "      <th>High</th>\n",
              "      <th>Low</th>\n",
              "      <th>Volume</th>\n",
              "    </tr>\n",
              "    <tr>\n",
              "      <th>Date</th>\n",
              "      <th></th>\n",
              "      <th></th>\n",
              "      <th></th>\n",
              "      <th></th>\n",
              "      <th></th>\n",
              "      <th></th>\n",
              "      <th></th>\n",
              "      <th></th>\n",
              "      <th></th>\n",
              "    </tr>\n",
              "  </thead>\n",
              "  <tbody>\n",
              "    <tr>\n",
              "      <th>2015-01-02</th>\n",
              "      <td>27.3325</td>\n",
              "      <td>0.1943</td>\n",
              "      <td>0.116</td>\n",
              "      <td>0.749</td>\n",
              "      <td>0.135</td>\n",
              "      <td>27.8475</td>\n",
              "      <td>27.8600</td>\n",
              "      <td>26.8375</td>\n",
              "      <td>212575080</td>\n",
              "    </tr>\n",
              "    <tr>\n",
              "      <th>2015-01-05</th>\n",
              "      <td>26.5625</td>\n",
              "      <td>0.9770</td>\n",
              "      <td>0.051</td>\n",
              "      <td>0.849</td>\n",
              "      <td>0.100</td>\n",
              "      <td>27.0725</td>\n",
              "      <td>27.1625</td>\n",
              "      <td>26.3525</td>\n",
              "      <td>256843520</td>\n",
              "    </tr>\n",
              "    <tr>\n",
              "      <th>2015-01-06</th>\n",
              "      <td>26.5650</td>\n",
              "      <td>0.9932</td>\n",
              "      <td>0.034</td>\n",
              "      <td>0.862</td>\n",
              "      <td>0.105</td>\n",
              "      <td>26.6350</td>\n",
              "      <td>26.8575</td>\n",
              "      <td>26.1575</td>\n",
              "      <td>262729000</td>\n",
              "    </tr>\n",
              "    <tr>\n",
              "      <th>2015-01-07</th>\n",
              "      <td>26.9375</td>\n",
              "      <td>0.9866</td>\n",
              "      <td>0.059</td>\n",
              "      <td>0.812</td>\n",
              "      <td>0.129</td>\n",
              "      <td>26.8000</td>\n",
              "      <td>27.0500</td>\n",
              "      <td>26.6737</td>\n",
              "      <td>159933400</td>\n",
              "    </tr>\n",
              "    <tr>\n",
              "      <th>2015-01-08</th>\n",
              "      <td>27.9725</td>\n",
              "      <td>0.7430</td>\n",
              "      <td>0.037</td>\n",
              "      <td>0.843</td>\n",
              "      <td>0.120</td>\n",
              "      <td>27.3075</td>\n",
              "      <td>28.0375</td>\n",
              "      <td>27.1750</td>\n",
              "      <td>236675040</td>\n",
              "    </tr>\n",
              "  </tbody>\n",
              "</table>\n",
              "</div>"
            ],
            "text/plain": [
              "            Close/Last  compound  negative  ...     High      Low     Volume\n",
              "Date                                        ...                             \n",
              "2015-01-02     27.3325    0.1943     0.116  ...  27.8600  26.8375  212575080\n",
              "2015-01-05     26.5625    0.9770     0.051  ...  27.1625  26.3525  256843520\n",
              "2015-01-06     26.5650    0.9932     0.034  ...  26.8575  26.1575  262729000\n",
              "2015-01-07     26.9375    0.9866     0.059  ...  27.0500  26.6737  159933400\n",
              "2015-01-08     27.9725    0.7430     0.037  ...  28.0375  27.1750  236675040\n",
              "\n",
              "[5 rows x 9 columns]"
            ]
          },
          "metadata": {
            "tags": []
          },
          "execution_count": 2
        }
      ]
    },
    {
      "cell_type": "code",
      "metadata": {
        "colab": {
          "base_uri": "https://localhost:8080/"
        },
        "id": "84AsW4B4ZvCe",
        "outputId": "c5a8609b-9bec-45d9-90af-975663712bf1"
      },
      "source": [
        "stock_data.shape"
      ],
      "execution_count": 3,
      "outputs": [
        {
          "output_type": "execute_result",
          "data": {
            "text/plain": [
              "(1595, 9)"
            ]
          },
          "metadata": {
            "tags": []
          },
          "execution_count": 3
        }
      ]
    },
    {
      "cell_type": "code",
      "metadata": {
        "id": "TAfm2u1yZx0f"
      },
      "source": [
        "actual = stock_data[\"Close/Last\"]"
      ],
      "execution_count": 4,
      "outputs": []
    },
    {
      "cell_type": "code",
      "metadata": {
        "colab": {
          "base_uri": "https://localhost:8080/"
        },
        "id": "xnr9Owm6P9_3",
        "outputId": "c055ec2d-f8f9-4d23-c942-274088656ee0"
      },
      "source": [
        "actual"
      ],
      "execution_count": 5,
      "outputs": [
        {
          "output_type": "execute_result",
          "data": {
            "text/plain": [
              "Date\n",
              "2015-01-02     27.3325\n",
              "2015-01-05     26.5625\n",
              "2015-01-06     26.5650\n",
              "2015-01-07     26.9375\n",
              "2015-01-08     27.9725\n",
              "                ...   \n",
              "2021-05-28    124.6100\n",
              "2021-06-01    124.2800\n",
              "2021-06-02    125.0600\n",
              "2021-06-03    123.5400\n",
              "2021-06-04    125.8900\n",
              "Name: Close/Last, Length: 1595, dtype: float64"
            ]
          },
          "metadata": {
            "tags": []
          },
          "execution_count": 5
        }
      ]
    },
    {
      "cell_type": "code",
      "metadata": {
        "colab": {
          "base_uri": "https://localhost:8080/",
          "height": 282
        },
        "id": "FLSGxscvP_Wh",
        "outputId": "0ea8a2cf-ab21-4e31-b33c-be5b947c99d3"
      },
      "source": [
        "import matplotlib.pyplot as plt\n",
        "plt.plot(actual)"
      ],
      "execution_count": 6,
      "outputs": [
        {
          "output_type": "execute_result",
          "data": {
            "text/plain": [
              "[<matplotlib.lines.Line2D at 0x7f889651ec50>]"
            ]
          },
          "metadata": {
            "tags": []
          },
          "execution_count": 6
        },
        {
          "output_type": "display_data",
          "data": {
            "image/png": "[encoded data removed]",
            "text/plain": [
              "<Figure size 432x288 with 1 Axes>"
            ]
          },
          "metadata": {
            "tags": [],
            "needs_background": "light"
          }
        }
      ]
    },
    {
      "cell_type": "code",
      "metadata": {
        "id": "0oSo02egQFw3"
      },
      "source": [
        "import numpy as np\n",
        "from sklearn.preprocessing import MinMaxScaler\n",
        "scaler = MinMaxScaler(feature_range=(0,1))\n",
        "actual = scaler.fit_transform(np.array(actual).reshape(-1,1))"
      ],
      "execution_count": 7,
      "outputs": []
    },
    {
      "cell_type": "code",
      "metadata": {
        "colab": {
          "base_uri": "https://localhost:8080/"
        },
        "id": "hWxLYRINQR-m",
        "outputId": "1598673c-0a9c-481f-b682-18eebba21e59"
      },
      "source": [
        "actual"
      ],
      "execution_count": 8,
      "outputs": [
        {
          "output_type": "execute_result",
          "data": {
            "text/plain": [
              "array([[0.03937383],\n",
              "       [0.03298777],\n",
              "       [0.0330085 ],\n",
              "       ...,\n",
              "       [0.84988596],\n",
              "       [0.8372797 ],\n",
              "       [0.85676965]])"
            ]
          },
          "metadata": {
            "tags": []
          },
          "execution_count": 8
        }
      ]
    },
    {
      "cell_type": "code",
      "metadata": {
        "colab": {
          "base_uri": "https://localhost:8080/"
        },
        "id": "x_5VJmcWQY3-",
        "outputId": "d1f45e97-3044-4d2f-e617-95e273502c2a"
      },
      "source": [
        "training_size = int(len(actual)*0.8)\n",
        "train_data = actual[0:training_size , :]\n",
        "X_train = []\n",
        "Y_train = []\n",
        "past_days = 20\n",
        "for i in range(past_days, len(train_data)):\n",
        "    X_train.append(train_data[i-past_days:i, 0])\n",
        "    Y_train.append(train_data[i, 0])\n",
        "    if i<= past_days:\n",
        "        print(X_train)\n",
        "        print(Y_train)\n",
        "        print()"
      ],
      "execution_count": 9,
      "outputs": [
        {
          "output_type": "stream",
          "text": [
            "[array([0.03937383, 0.03298777, 0.0330085 , 0.03609786, 0.04468173,\n",
            "       0.04493054, 0.03920796, 0.04121916, 0.04034833, 0.0341696 ,\n",
            "       0.03244868, 0.03810906, 0.03982998, 0.04573917, 0.04694174,\n",
            "       0.04719055, 0.03897989, 0.05177276, 0.05921626, 0.05560854])]\n",
            "[0.0586564379017209]\n",
            "\n"
          ],
          "name": "stdout"
        }
      ]
    },
    {
      "cell_type": "code",
      "metadata": {
        "id": "UyXDU2qqRTIb"
      },
      "source": [
        "X_train, Y_train = np.array(X_train), np.array(Y_train)"
      ],
      "execution_count": 10,
      "outputs": []
    },
    {
      "cell_type": "code",
      "metadata": {
        "colab": {
          "base_uri": "https://localhost:8080/"
        },
        "id": "TfUHAhm0RZkW",
        "outputId": "28755b8a-9fe9-4f88-a2f5-c986f4805816"
      },
      "source": [
        "X_train = np.reshape(X_train, (X_train.shape[0], X_train.shape[1], 1))\n",
        "X_train.shape"
      ],
      "execution_count": 11,
      "outputs": [
        {
          "output_type": "execute_result",
          "data": {
            "text/plain": [
              "(1256, 20, 1)"
            ]
          },
          "metadata": {
            "tags": []
          },
          "execution_count": 11
        }
      ]
    },
    {
      "cell_type": "code",
      "metadata": {
        "colab": {
          "base_uri": "https://localhost:8080/"
        },
        "id": "PJ9PKKiMRK2D",
        "outputId": "141f599e-f70b-4f67-861d-3f5b8f1ab9ec"
      },
      "source": [
        "print(X_train.shape)\n",
        "print(Y_train.shape)"
      ],
      "execution_count": 12,
      "outputs": [
        {
          "output_type": "stream",
          "text": [
            "(1256, 20, 1)\n",
            "(1256,)\n"
          ],
          "name": "stdout"
        }
      ]
    },
    {
      "cell_type": "code",
      "metadata": {
        "colab": {
          "base_uri": "https://localhost:8080/"
        },
        "id": "FB-WbuIcSL5f",
        "outputId": "9785d683-8ec5-4665-cf24-f5858f2b570d"
      },
      "source": [
        "from tensorflow import keras\n",
        "model = keras.Sequential()\n",
        "model.add(keras.layers.LSTM(200, return_sequences=True,activation = \"tanh\",input_shape= (X_train.shape[1], 1)))\n",
        "model.add(keras.layers.Dropout(0.2))\n",
        "model.add(keras.layers.LSTM(80, return_sequences= False,activation = \"tanh\"))\n",
        "model.add(keras.layers.Dense(80))\n",
        "model.add(keras.layers.Dense(1))\n",
        "\n",
        "model.summary()"
      ],
      "execution_count": 13,
      "outputs": [
        {
          "output_type": "stream",
          "text": [
            "Model: \"sequential\"\n",
            "_________________________________________________________________\n",
            "Layer (type)                 Output Shape              Param #   \n",
            "=================================================================\n",
            "lstm (LSTM)                  (None, 20, 200)           161600    \n",
            "_________________________________________________________________\n",
            "dropout (Dropout)            (None, 20, 200)           0         \n",
            "_________________________________________________________________\n",
            "lstm_1 (LSTM)                (None, 80)                89920     \n",
            "_________________________________________________________________\n",
            "dense (Dense)                (None, 80)                6480      \n",
            "_________________________________________________________________\n",
            "dense_1 (Dense)              (None, 1)                 81        \n",
            "=================================================================\n",
            "Total params: 258,081\n",
            "Trainable params: 258,081\n",
            "Non-trainable params: 0\n",
            "_________________________________________________________________\n"
          ],
          "name": "stdout"
        }
      ]
    },
    {
      "cell_type": "code",
      "metadata": {
        "id": "bLpHHNODSgDS"
      },
      "source": [
        "model.compile(optimizer = 'adam',loss = 'mse')"
      ],
      "execution_count": 14,
      "outputs": []
    },
    {
      "cell_type": "code",
      "metadata": {
        "colab": {
          "base_uri": "https://localhost:8080/"
        },
        "id": "KjBr6SEtSoKt",
        "outputId": "fabe4c4a-4f81-4075-a952-b303658bd527"
      },
      "source": [
        "from keras.callbacks import EarlyStopping\n",
        "early_stop = EarlyStopping(monitor = 'val_loss',mode = 'min',verbose = 1,patience = 5)\n",
        "\n",
        "history = model.fit(X_train,Y_train, epochs = 100,batch_size = 128, validation_split = 0.4,verbose=1,callbacks = [early_stop])"
      ],
      "execution_count": 15,
      "outputs": [
        {
          "output_type": "stream",
          "text": [
            "Epoch 1/100\n",
            "6/6 [==============================] - 5s 303ms/step - loss: 0.0025 - val_loss: 0.0115\n",
            "Epoch 2/100\n",
            "6/6 [==============================] - 1s 169ms/step - loss: 8.5477e-04 - val_loss: 8.8440e-04\n",
            "Epoch 3/100\n",
            "6/6 [==============================] - 1s 166ms/step - loss: 3.5272e-04 - val_loss: 8.7890e-04\n",
            "Epoch 4/100\n",
            "6/6 [==============================] - 1s 168ms/step - loss: 2.3353e-04 - val_loss: 0.0012\n",
            "Epoch 5/100\n",
            "6/6 [==============================] - 1s 172ms/step - loss: 1.5197e-04 - val_loss: 8.5354e-04\n",
            "Epoch 6/100\n",
            "6/6 [==============================] - 1s 169ms/step - loss: 9.9836e-05 - val_loss: 2.8954e-04\n",
            "Epoch 7/100\n",
            "6/6 [==============================] - 1s 171ms/step - loss: 8.1364e-05 - val_loss: 2.9389e-04\n",
            "Epoch 8/100\n",
            "6/6 [==============================] - 1s 177ms/step - loss: 7.1311e-05 - val_loss: 3.0358e-04\n",
            "Epoch 9/100\n",
            "6/6 [==============================] - 1s 177ms/step - loss: 7.1163e-05 - val_loss: 3.2905e-04\n",
            "Epoch 10/100\n",
            "6/6 [==============================] - 1s 175ms/step - loss: 6.6233e-05 - val_loss: 2.6788e-04\n",
            "Epoch 11/100\n",
            "6/6 [==============================] - 1s 172ms/step - loss: 6.0757e-05 - val_loss: 2.6358e-04\n",
            "Epoch 12/100\n",
            "6/6 [==============================] - 1s 176ms/step - loss: 6.1063e-05 - val_loss: 2.8342e-04\n",
            "Epoch 13/100\n",
            "6/6 [==============================] - 1s 172ms/step - loss: 6.0483e-05 - val_loss: 2.4687e-04\n",
            "Epoch 14/100\n",
            "6/6 [==============================] - 1s 174ms/step - loss: 5.9181e-05 - val_loss: 2.3962e-04\n",
            "Epoch 15/100\n",
            "6/6 [==============================] - 1s 170ms/step - loss: 5.6772e-05 - val_loss: 2.3741e-04\n",
            "Epoch 16/100\n",
            "6/6 [==============================] - 1s 174ms/step - loss: 5.6783e-05 - val_loss: 2.3422e-04\n",
            "Epoch 17/100\n",
            "6/6 [==============================] - 1s 176ms/step - loss: 5.6319e-05 - val_loss: 2.3002e-04\n",
            "Epoch 18/100\n",
            "6/6 [==============================] - 1s 171ms/step - loss: 5.4688e-05 - val_loss: 2.2343e-04\n",
            "Epoch 19/100\n",
            "6/6 [==============================] - 1s 167ms/step - loss: 5.2744e-05 - val_loss: 2.2704e-04\n",
            "Epoch 20/100\n",
            "6/6 [==============================] - 1s 171ms/step - loss: 5.3771e-05 - val_loss: 2.1642e-04\n",
            "Epoch 21/100\n",
            "6/6 [==============================] - 1s 169ms/step - loss: 5.2373e-05 - val_loss: 2.1606e-04\n",
            "Epoch 22/100\n",
            "6/6 [==============================] - 1s 156ms/step - loss: 5.1647e-05 - val_loss: 2.0702e-04\n",
            "Epoch 23/100\n",
            "6/6 [==============================] - 1s 152ms/step - loss: 5.1948e-05 - val_loss: 2.3176e-04\n",
            "Epoch 24/100\n",
            "6/6 [==============================] - 1s 157ms/step - loss: 5.1754e-05 - val_loss: 1.9947e-04\n",
            "Epoch 25/100\n",
            "6/6 [==============================] - 1s 155ms/step - loss: 5.0857e-05 - val_loss: 2.4379e-04\n",
            "Epoch 26/100\n",
            "6/6 [==============================] - 1s 156ms/step - loss: 5.0190e-05 - val_loss: 1.9298e-04\n",
            "Epoch 27/100\n",
            "6/6 [==============================] - 1s 153ms/step - loss: 4.8230e-05 - val_loss: 1.9004e-04\n",
            "Epoch 28/100\n",
            "6/6 [==============================] - 1s 156ms/step - loss: 4.8492e-05 - val_loss: 1.8856e-04\n",
            "Epoch 29/100\n",
            "6/6 [==============================] - 1s 155ms/step - loss: 4.8604e-05 - val_loss: 1.8787e-04\n",
            "Epoch 30/100\n",
            "6/6 [==============================] - 1s 160ms/step - loss: 4.7333e-05 - val_loss: 1.8061e-04\n",
            "Epoch 31/100\n",
            "6/6 [==============================] - 1s 163ms/step - loss: 4.5076e-05 - val_loss: 1.7765e-04\n",
            "Epoch 32/100\n",
            "6/6 [==============================] - 1s 174ms/step - loss: 4.4362e-05 - val_loss: 1.9616e-04\n",
            "Epoch 33/100\n",
            "6/6 [==============================] - 1s 176ms/step - loss: 4.6745e-05 - val_loss: 1.8822e-04\n",
            "Epoch 34/100\n",
            "6/6 [==============================] - 1s 170ms/step - loss: 4.6253e-05 - val_loss: 2.1582e-04\n",
            "Epoch 35/100\n",
            "6/6 [==============================] - 1s 172ms/step - loss: 4.4394e-05 - val_loss: 1.8266e-04\n",
            "Epoch 36/100\n",
            "6/6 [==============================] - 1s 169ms/step - loss: 4.5381e-05 - val_loss: 1.6913e-04\n",
            "Epoch 37/100\n",
            "6/6 [==============================] - 1s 169ms/step - loss: 4.2827e-05 - val_loss: 1.7236e-04\n",
            "Epoch 38/100\n",
            "6/6 [==============================] - 1s 169ms/step - loss: 4.4044e-05 - val_loss: 1.6395e-04\n",
            "Epoch 39/100\n",
            "6/6 [==============================] - 1s 169ms/step - loss: 4.3828e-05 - val_loss: 1.6597e-04\n",
            "Epoch 40/100\n",
            "6/6 [==============================] - 1s 166ms/step - loss: 4.4801e-05 - val_loss: 1.7081e-04\n",
            "Epoch 41/100\n",
            "6/6 [==============================] - 1s 169ms/step - loss: 4.6590e-05 - val_loss: 1.6134e-04\n",
            "Epoch 42/100\n",
            "6/6 [==============================] - 1s 168ms/step - loss: 4.6312e-05 - val_loss: 1.6308e-04\n",
            "Epoch 43/100\n",
            "6/6 [==============================] - 1s 169ms/step - loss: 4.5439e-05 - val_loss: 1.7845e-04\n",
            "Epoch 44/100\n",
            "6/6 [==============================] - 1s 168ms/step - loss: 4.7653e-05 - val_loss: 1.5655e-04\n",
            "Epoch 45/100\n",
            "6/6 [==============================] - 1s 166ms/step - loss: 4.3202e-05 - val_loss: 1.6479e-04\n",
            "Epoch 46/100\n",
            "6/6 [==============================] - 1s 167ms/step - loss: 4.1390e-05 - val_loss: 1.5393e-04\n",
            "Epoch 47/100\n",
            "6/6 [==============================] - 1s 168ms/step - loss: 4.2736e-05 - val_loss: 1.5557e-04\n",
            "Epoch 48/100\n",
            "6/6 [==============================] - 1s 170ms/step - loss: 4.1121e-05 - val_loss: 1.5420e-04\n",
            "Epoch 49/100\n",
            "6/6 [==============================] - 1s 168ms/step - loss: 3.9487e-05 - val_loss: 1.4991e-04\n",
            "Epoch 50/100\n",
            "6/6 [==============================] - 1s 172ms/step - loss: 4.2411e-05 - val_loss: 1.5503e-04\n",
            "Epoch 51/100\n",
            "6/6 [==============================] - 1s 168ms/step - loss: 4.1097e-05 - val_loss: 1.5068e-04\n",
            "Epoch 52/100\n",
            "6/6 [==============================] - 1s 167ms/step - loss: 4.0425e-05 - val_loss: 1.4759e-04\n",
            "Epoch 53/100\n",
            "6/6 [==============================] - 1s 169ms/step - loss: 3.7481e-05 - val_loss: 1.4956e-04\n",
            "Epoch 54/100\n",
            "6/6 [==============================] - 1s 167ms/step - loss: 3.9627e-05 - val_loss: 1.4440e-04\n",
            "Epoch 55/100\n",
            "6/6 [==============================] - 1s 173ms/step - loss: 3.8698e-05 - val_loss: 1.5295e-04\n",
            "Epoch 56/100\n",
            "6/6 [==============================] - 1s 157ms/step - loss: 3.7856e-05 - val_loss: 1.5696e-04\n",
            "Epoch 57/100\n",
            "6/6 [==============================] - 1s 153ms/step - loss: 3.9040e-05 - val_loss: 1.5300e-04\n",
            "Epoch 58/100\n",
            "6/6 [==============================] - 1s 157ms/step - loss: 3.9862e-05 - val_loss: 1.4317e-04\n",
            "Epoch 59/100\n",
            "6/6 [==============================] - 1s 156ms/step - loss: 4.3603e-05 - val_loss: 1.4034e-04\n",
            "Epoch 60/100\n",
            "6/6 [==============================] - 1s 152ms/step - loss: 4.7010e-05 - val_loss: 1.9814e-04\n",
            "Epoch 61/100\n",
            "6/6 [==============================] - 1s 156ms/step - loss: 4.5882e-05 - val_loss: 1.4353e-04\n",
            "Epoch 62/100\n",
            "6/6 [==============================] - 1s 157ms/step - loss: 4.0988e-05 - val_loss: 1.4344e-04\n",
            "Epoch 63/100\n",
            "6/6 [==============================] - 1s 160ms/step - loss: 3.7026e-05 - val_loss: 1.4281e-04\n",
            "Epoch 64/100\n",
            "6/6 [==============================] - 1s 153ms/step - loss: 3.5534e-05 - val_loss: 1.3580e-04\n",
            "Epoch 65/100\n",
            "6/6 [==============================] - 1s 154ms/step - loss: 3.5756e-05 - val_loss: 1.4502e-04\n",
            "Epoch 66/100\n",
            "6/6 [==============================] - 1s 157ms/step - loss: 3.5741e-05 - val_loss: 1.3537e-04\n",
            "Epoch 67/100\n",
            "6/6 [==============================] - 1s 153ms/step - loss: 3.7105e-05 - val_loss: 1.4235e-04\n",
            "Epoch 68/100\n",
            "6/6 [==============================] - 1s 157ms/step - loss: 3.5527e-05 - val_loss: 1.3999e-04\n",
            "Epoch 69/100\n",
            "6/6 [==============================] - 1s 158ms/step - loss: 3.5712e-05 - val_loss: 1.3045e-04\n",
            "Epoch 70/100\n",
            "6/6 [==============================] - 1s 159ms/step - loss: 3.4314e-05 - val_loss: 1.3073e-04\n",
            "Epoch 71/100\n",
            "6/6 [==============================] - 1s 160ms/step - loss: 3.7258e-05 - val_loss: 1.5304e-04\n",
            "Epoch 72/100\n",
            "6/6 [==============================] - 1s 156ms/step - loss: 3.8308e-05 - val_loss: 1.3093e-04\n",
            "Epoch 73/100\n",
            "6/6 [==============================] - 1s 156ms/step - loss: 3.6644e-05 - val_loss: 1.3459e-04\n",
            "Epoch 74/100\n",
            "6/6 [==============================] - 1s 153ms/step - loss: 3.4582e-05 - val_loss: 1.3390e-04\n",
            "Epoch 00074: early stopping\n"
          ],
          "name": "stdout"
        }
      ]
    },
    {
      "cell_type": "code",
      "metadata": {
        "colab": {
          "base_uri": "https://localhost:8080/",
          "height": 285
        },
        "id": "A0-Ka-dvSrVR",
        "outputId": "4a32adc2-b2ac-4394-ae05-30dc4843844b"
      },
      "source": [
        "loss = pd.DataFrame(model.history.history)\n",
        "loss.plot()"
      ],
      "execution_count": 16,
      "outputs": [
        {
          "output_type": "execute_result",
          "data": {
            "text/plain": [
              "<matplotlib.axes._subplots.AxesSubplot at 0x7f883f662c50>"
            ]
          },
          "metadata": {
            "tags": []
          },
          "execution_count": 16
        },
        {
          "output_type": "display_data",
          "data": {
            "image/png": "[encoded data removed]",
            "text/plain": [
              "<Figure size 432x288 with 1 Axes>"
            ]
          },
          "metadata": {
            "tags": [],
            "needs_background": "light"
          }
        }
      ]
    },
    {
      "cell_type": "code",
      "metadata": {
        "id": "WpSn80rw7E-q"
      },
      "source": [
        "test_data = actual[training_size - past_days: , :]\n",
        "data = stock_data[\"Close/Last\"].values"
      ],
      "execution_count": 17,
      "outputs": []
    },
    {
      "cell_type": "code",
      "metadata": {
        "id": "DZ8VQqvW52fS"
      },
      "source": [
        "X_test = []\n",
        "Y_test = data[training_size:]\n",
        "for i in range(past_days, len(test_data)):\n",
        "    X_test.append(test_data[i-past_days:i, 0])"
      ],
      "execution_count": 18,
      "outputs": []
    },
    {
      "cell_type": "code",
      "metadata": {
        "id": "WSStAUUM8vyr"
      },
      "source": [
        "X_test = np.array(X_test)\n",
        "X_test = np.reshape(X_test, (X_test. shape[0], X_test. shape[1], 1))"
      ],
      "execution_count": 19,
      "outputs": []
    },
    {
      "cell_type": "code",
      "metadata": {
        "id": "RxGy1whj88np"
      },
      "source": [
        "predict = model.predict(X_test)\n",
        "predict = scaler.inverse_transform(predict)"
      ],
      "execution_count": 47,
      "outputs": []
    },
    {
      "cell_type": "code",
      "metadata": {
        "colab": {
          "base_uri": "https://localhost:8080/"
        },
        "id": "DBcJ1jzu9FI7",
        "outputId": "9e9d8a4b-3e7b-43bd-b7ce-9108c97e4a8e"
      },
      "source": [
        "rmse = np.sqrt(np.mean(predict - Y_test)**2)\n",
        "rmse"
      ],
      "execution_count": 21,
      "outputs": [
        {
          "output_type": "execute_result",
          "data": {
            "text/plain": [
              "0.2106990343052038"
            ]
          },
          "metadata": {
            "tags": []
          },
          "execution_count": 21
        }
      ]
    },
    {
      "cell_type": "code",
      "metadata": {
        "colab": {
          "base_uri": "https://localhost:8080/"
        },
        "id": "2OHNoSjdAAey",
        "outputId": "c738e75a-5670-4230-fdc7-c221f6e5749a"
      },
      "source": [
        "ndata =stock_data[\"Close/Last\"]\n",
        "ndata"
      ],
      "execution_count": 22,
      "outputs": [
        {
          "output_type": "execute_result",
          "data": {
            "text/plain": [
              "Date\n",
              "2015-01-02     27.3325\n",
              "2015-01-05     26.5625\n",
              "2015-01-06     26.5650\n",
              "2015-01-07     26.9375\n",
              "2015-01-08     27.9725\n",
              "                ...   \n",
              "2021-05-28    124.6100\n",
              "2021-06-01    124.2800\n",
              "2021-06-02    125.0600\n",
              "2021-06-03    123.5400\n",
              "2021-06-04    125.8900\n",
              "Name: Close/Last, Length: 1595, dtype: float64"
            ]
          },
          "metadata": {
            "tags": []
          },
          "execution_count": 22
        }
      ]
    },
    {
      "cell_type": "code",
      "metadata": {
        "id": "YlAMp9qX_6_P"
      },
      "source": [
        "training = ndata[:training_size]"
      ],
      "execution_count": 23,
      "outputs": []
    },
    {
      "cell_type": "code",
      "metadata": {
        "id": "eUrLeNOE_9wj"
      },
      "source": [
        "prediction = pd.DataFrame({'Close_Price' : ndata[training_size:]})\n",
        "prediction['Predictions'] = predict"
      ],
      "execution_count": 24,
      "outputs": []
    },
    {
      "cell_type": "code",
      "metadata": {
        "colab": {
          "base_uri": "https://localhost:8080/",
          "height": 447
        },
        "id": "rQruoVU0TQNA",
        "outputId": "1207fe8a-7024-4b03-9799-e2662e8d452d"
      },
      "source": [
        "prediction"
      ],
      "execution_count": 25,
      "outputs": [
        {
          "output_type": "execute_result",
          "data": {
            "text/html": [
              "<div>\n",
              "<style scoped>\n",
              "    .dataframe tbody tr th:only-of-type {\n",
              "        vertical-align: middle;\n",
              "    }\n",
              "\n",
              "    .dataframe tbody tr th {\n",
              "        vertical-align: top;\n",
              "    }\n",
              "\n",
              "    .dataframe thead th {\n",
              "        text-align: right;\n",
              "    }\n",
              "</style>\n",
              "<table border=\"1\" class=\"dataframe\">\n",
              "  <thead>\n",
              "    <tr style=\"text-align: right;\">\n",
              "      <th></th>\n",
              "      <th>Close_Price</th>\n",
              "      <th>Predictions</th>\n",
              "    </tr>\n",
              "    <tr>\n",
              "      <th>Date</th>\n",
              "      <th></th>\n",
              "      <th></th>\n",
              "    </tr>\n",
              "  </thead>\n",
              "  <tbody>\n",
              "    <tr>\n",
              "      <th>2020-01-29</th>\n",
              "      <td>81.0850</td>\n",
              "      <td>79.361618</td>\n",
              "    </tr>\n",
              "    <tr>\n",
              "      <th>2020-01-30</th>\n",
              "      <td>80.9675</td>\n",
              "      <td>79.469170</td>\n",
              "    </tr>\n",
              "    <tr>\n",
              "      <th>2020-01-31</th>\n",
              "      <td>77.3775</td>\n",
              "      <td>79.736000</td>\n",
              "    </tr>\n",
              "    <tr>\n",
              "      <th>2020-02-03</th>\n",
              "      <td>77.1650</td>\n",
              "      <td>79.631927</td>\n",
              "    </tr>\n",
              "    <tr>\n",
              "      <th>2020-02-04</th>\n",
              "      <td>79.7125</td>\n",
              "      <td>79.268829</td>\n",
              "    </tr>\n",
              "    <tr>\n",
              "      <th>...</th>\n",
              "      <td>...</td>\n",
              "      <td>...</td>\n",
              "    </tr>\n",
              "    <tr>\n",
              "      <th>2021-05-28</th>\n",
              "      <td>124.6100</td>\n",
              "      <td>126.484978</td>\n",
              "    </tr>\n",
              "    <tr>\n",
              "      <th>2021-06-01</th>\n",
              "      <td>124.2800</td>\n",
              "      <td>126.379974</td>\n",
              "    </tr>\n",
              "    <tr>\n",
              "      <th>2021-06-02</th>\n",
              "      <td>125.0600</td>\n",
              "      <td>126.080544</td>\n",
              "    </tr>\n",
              "    <tr>\n",
              "      <th>2021-06-03</th>\n",
              "      <td>123.5400</td>\n",
              "      <td>125.785393</td>\n",
              "    </tr>\n",
              "    <tr>\n",
              "      <th>2021-06-04</th>\n",
              "      <td>125.8900</td>\n",
              "      <td>125.342812</td>\n",
              "    </tr>\n",
              "  </tbody>\n",
              "</table>\n",
              "<p>319 rows × 2 columns</p>\n",
              "</div>"
            ],
            "text/plain": [
              "            Close_Price  Predictions\n",
              "Date                                \n",
              "2020-01-29      81.0850    79.361618\n",
              "2020-01-30      80.9675    79.469170\n",
              "2020-01-31      77.3775    79.736000\n",
              "2020-02-03      77.1650    79.631927\n",
              "2020-02-04      79.7125    79.268829\n",
              "...                 ...          ...\n",
              "2021-05-28     124.6100   126.484978\n",
              "2021-06-01     124.2800   126.379974\n",
              "2021-06-02     125.0600   126.080544\n",
              "2021-06-03     123.5400   125.785393\n",
              "2021-06-04     125.8900   125.342812\n",
              "\n",
              "[319 rows x 2 columns]"
            ]
          },
          "metadata": {
            "tags": []
          },
          "execution_count": 25
        }
      ]
    },
    {
      "cell_type": "code",
      "metadata": {
        "colab": {
          "base_uri": "https://localhost:8080/",
          "height": 638
        },
        "id": "NhbtH54XeDlT",
        "outputId": "b32ac747-70ae-4881-94d6-52f6336e75d3"
      },
      "source": [
        "plt.figure(figsize=(15,10))\n",
        "plt.title('Actual V/S Predicted Close Prices')\n",
        "plt.xlabel('Date')\n",
        "plt.ylabel( 'Closeed Price($)')\n",
        "plt.plot(prediction['Close_Price'],  color = 'orange', label = 'Actual Closed Price')\n",
        "plt.plot(prediction['Predictions'],   color = 'blue' ,label = 'Predicted Closed Price')"
      ],
      "execution_count": 29,
      "outputs": [
        {
          "output_type": "execute_result",
          "data": {
            "text/plain": [
              "[<matplotlib.lines.Line2D at 0x7f88403dff10>]"
            ]
          },
          "metadata": {
            "tags": []
          },
          "execution_count": 29
        },
        {
          "output_type": "display_data",
          "data": {
            "image/png": "[encoded data removed]",
            "text/plain": [
              "<Figure size 1080x720 with 1 Axes>"
            ]
          },
          "metadata": {
            "tags": [],
            "needs_background": "light"
          }
        }
      ]
    },
    {
      "cell_type": "code",
      "metadata": {
        "colab": {
          "base_uri": "https://localhost:8080/"
        },
        "id": "7yAVtR48pUwj",
        "outputId": "2b98cbc1-dd37-48e1-d161-79cd2e3f080f"
      },
      "source": [
        "import datetime\n",
        "\n",
        "lastday =stock_data.index[-1]\n",
        "nextday = lastday + datetime.timedelta(days = 1)\n",
        "print(nextday)"
      ],
      "execution_count": 30,
      "outputs": [
        {
          "output_type": "stream",
          "text": [
            "2021-06-05 00:00:00\n"
          ],
          "name": "stdout"
        }
      ]
    },
    {
      "cell_type": "code",
      "metadata": {
        "colab": {
          "base_uri": "https://localhost:8080/"
        },
        "id": "9zSVPOtuqCKy",
        "outputId": "5207b9dc-a715-4171-e6c8-8cc142e5bf51"
      },
      "source": [
        "ndata = stock_data.filter(['Close/Last']).values\n",
        "last20_days = ndata[-20:]\n",
        "scaled_last20_days = scaler.transform(last20_days)\n",
        "X_test = []\n",
        "X_test.append(scaled_last20_days)\n",
        "X_test = np.array(X_test)\n",
        "X_test = np.reshape(X_test, (X_test.shape[0], X_test.shape[1], 1))\n",
        "predicted_price = model.predict(X_test)\n",
        "predicted_price = scaler.inverse_transform(predicted_price)\n",
        "print('Predicted Close Price for {} '.format(nextday) + ' is ', predicted_price)"
      ],
      "execution_count": 46,
      "outputs": [
        {
          "output_type": "stream",
          "text": [
            "Predicted Close Price for 2021-06-05 00:00:00  is  [[125.15652]]\n"
          ],
          "name": "stdout"
        }
      ]
    },
    {
      "cell_type": "code",
      "metadata": {
        "id": "0fK19xCqfy4c"
      },
      "source": [
        "previous = prediction['Predictions'].values\n",
        "previous_predicted_price = previous[-1]"
      ],
      "execution_count": 45,
      "outputs": []
    },
    {
      "cell_type": "code",
      "metadata": {
        "colab": {
          "base_uri": "https://localhost:8080/"
        },
        "id": "j6xO1wQee79P",
        "outputId": "bde4016d-97f5-43be-9ff2-abe3cfa68860"
      },
      "source": [
        "diff=(float)(predicted_price - previous_predicted_price)\n",
        "if(diff < 0):\n",
        "  print(\"percentage decrease = \",round(((- (diff)/previous_predicted_price)*100),4))\n",
        "else:\n",
        "  print(\"percentage increase = \",round((( (diff)/previous_predicted_price)*100),4))"
      ],
      "execution_count": 44,
      "outputs": [
        {
          "output_type": "stream",
          "text": [
            "percentage decrease =  0.1486\n"
          ],
          "name": "stdout"
        }
      ]
    },
    {
      "cell_type": "code",
      "metadata": {
        "id": "5VhnBfZvtorH"
      },
      "source": [
        "model.save(\"20daysPrediction.h5\")"
      ],
      "execution_count": 33,
      "outputs": []
    }
  ]
}