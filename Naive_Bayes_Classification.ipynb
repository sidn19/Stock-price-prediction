{
 "cells": [
  {
   "cell_type": "code",
   "execution_count": 20,
   "id": "clear-exception",
   "metadata": {},
   "outputs": [],
   "source": [
    "import pandas as pd\n",
    "import numpy as np\n",
    "from sklearn.naive_bayes import GaussianNB\n",
    "from sklearn.model_selection import train_test_split\n",
    "from sklearn.feature_extraction.text import CountVectorizer\n",
    "from sklearn.metrics import confusion_matrix, accuracy_score\n",
    "import re\n",
    "import nltk\n",
    "from nltk.stem.porter import PorterStemmer\n",
    "from nltk.corpus import stopwords"
   ]
  },
  {
   "cell_type": "code",
   "execution_count": 21,
   "id": "developed-belly",
   "metadata": {},
   "outputs": [
    {
     "output_type": "execute_result",
     "data": {
      "text/plain": [
       "                                                    Headlines  Close/Last  \\\n",
       "Date                                                                        \n",
       "2015-01-02  Apple Loop: iOS 8.1.3 Angers Users, Outlook Ar...     27.3325   \n",
       "2015-01-05  Apple Watch interest described as &quot;tepid,...     26.5625   \n",
       "2015-01-06  Apple&quot;s TV Service Delayed: Getting Local...     26.5650   \n",
       "2015-01-07  Apple Inc. leaks new iPod colors in iTunes 12....     26.9375   \n",
       "2015-01-08  Nomura Begins Coverage on Apple (AAPL) IBM cou...     27.9725   \n",
       "...                                                       ...         ...   \n",
       "2021-05-28  Apple pushes back launch of podcast subscripti...    124.6100   \n",
       "2021-06-01  TSX nears record high as cannabis, renewables ...    124.2800   \n",
       "2021-06-02  Exclusive Social Media App Clubhouse Rises In ...    125.0600   \n",
       "2021-06-03  Two Patents were fulfilled last week as the Ma...    123.5400   \n",
       "2021-06-04  This Simple Stock Market Strategy Is Winning s...    125.8900   \n",
       "\n",
       "               Volume      Open      High       Low  Close_difference  Impact  \n",
       "Date                                                                           \n",
       "2015-01-02  212575080   27.8475   27.8600   26.8375           -0.2625       0  \n",
       "2015-01-05  256843520   27.0725   27.1625   26.3525           -0.7700       0  \n",
       "2015-01-06  262729000   26.6350   26.8575   26.1575            0.0025       1  \n",
       "2015-01-07  159933400   26.8000   27.0500   26.6737            0.3725       1  \n",
       "2015-01-08  236675040   27.3075   28.0375   27.1750            1.0350       1  \n",
       "...               ...       ...       ...       ...               ...     ...  \n",
       "2021-05-28   71311110  125.5700  125.8000  124.5500           -0.6700       0  \n",
       "2021-06-01   67637120  125.0800  125.3500  123.9400           -0.3300       0  \n",
       "2021-06-02   59278860  124.2800  125.2400  124.0500            0.7800       1  \n",
       "2021-06-03   76229170  124.6800  124.8500  123.1300           -1.5200       0  \n",
       "2021-06-04   75169340  124.0700  126.1600  123.8500            2.3500       1  \n",
       "\n",
       "[1595 rows x 8 columns]"
      ],
      "text/html": "<div>\n<style scoped>\n    .dataframe tbody tr th:only-of-type {\n        vertical-align: middle;\n    }\n\n    .dataframe tbody tr th {\n        vertical-align: top;\n    }\n\n    .dataframe thead th {\n        text-align: right;\n    }\n</style>\n<table border=\"1\" class=\"dataframe\">\n  <thead>\n    <tr style=\"text-align: right;\">\n      <th></th>\n      <th>Headlines</th>\n      <th>Close/Last</th>\n      <th>Volume</th>\n      <th>Open</th>\n      <th>High</th>\n      <th>Low</th>\n      <th>Close_difference</th>\n      <th>Impact</th>\n    </tr>\n    <tr>\n      <th>Date</th>\n      <th></th>\n      <th></th>\n      <th></th>\n      <th></th>\n      <th></th>\n      <th></th>\n      <th></th>\n      <th></th>\n    </tr>\n  </thead>\n  <tbody>\n    <tr>\n      <th>2015-01-02</th>\n      <td>Apple Loop: iOS 8.1.3 Angers Users, Outlook Ar...</td>\n      <td>27.3325</td>\n      <td>212575080</td>\n      <td>27.8475</td>\n      <td>27.8600</td>\n      <td>26.8375</td>\n      <td>-0.2625</td>\n      <td>0</td>\n    </tr>\n    <tr>\n      <th>2015-01-05</th>\n      <td>Apple Watch interest described as &amp;quot;tepid,...</td>\n      <td>26.5625</td>\n      <td>256843520</td>\n      <td>27.0725</td>\n      <td>27.1625</td>\n      <td>26.3525</td>\n      <td>-0.7700</td>\n      <td>0</td>\n    </tr>\n    <tr>\n      <th>2015-01-06</th>\n      <td>Apple&amp;quot;s TV Service Delayed: Getting Local...</td>\n      <td>26.5650</td>\n      <td>262729000</td>\n      <td>26.6350</td>\n      <td>26.8575</td>\n      <td>26.1575</td>\n      <td>0.0025</td>\n      <td>1</td>\n    </tr>\n    <tr>\n      <th>2015-01-07</th>\n      <td>Apple Inc. leaks new iPod colors in iTunes 12....</td>\n      <td>26.9375</td>\n      <td>159933400</td>\n      <td>26.8000</td>\n      <td>27.0500</td>\n      <td>26.6737</td>\n      <td>0.3725</td>\n      <td>1</td>\n    </tr>\n    <tr>\n      <th>2015-01-08</th>\n      <td>Nomura Begins Coverage on Apple (AAPL) IBM cou...</td>\n      <td>27.9725</td>\n      <td>236675040</td>\n      <td>27.3075</td>\n      <td>28.0375</td>\n      <td>27.1750</td>\n      <td>1.0350</td>\n      <td>1</td>\n    </tr>\n    <tr>\n      <th>...</th>\n      <td>...</td>\n      <td>...</td>\n      <td>...</td>\n      <td>...</td>\n      <td>...</td>\n      <td>...</td>\n      <td>...</td>\n      <td>...</td>\n    </tr>\n    <tr>\n      <th>2021-05-28</th>\n      <td>Apple pushes back launch of podcast subscripti...</td>\n      <td>124.6100</td>\n      <td>71311110</td>\n      <td>125.5700</td>\n      <td>125.8000</td>\n      <td>124.5500</td>\n      <td>-0.6700</td>\n      <td>0</td>\n    </tr>\n    <tr>\n      <th>2021-06-01</th>\n      <td>TSX nears record high as cannabis, renewables ...</td>\n      <td>124.2800</td>\n      <td>67637120</td>\n      <td>125.0800</td>\n      <td>125.3500</td>\n      <td>123.9400</td>\n      <td>-0.3300</td>\n      <td>0</td>\n    </tr>\n    <tr>\n      <th>2021-06-02</th>\n      <td>Exclusive Social Media App Clubhouse Rises In ...</td>\n      <td>125.0600</td>\n      <td>59278860</td>\n      <td>124.2800</td>\n      <td>125.2400</td>\n      <td>124.0500</td>\n      <td>0.7800</td>\n      <td>1</td>\n    </tr>\n    <tr>\n      <th>2021-06-03</th>\n      <td>Two Patents were fulfilled last week as the Ma...</td>\n      <td>123.5400</td>\n      <td>76229170</td>\n      <td>124.6800</td>\n      <td>124.8500</td>\n      <td>123.1300</td>\n      <td>-1.5200</td>\n      <td>0</td>\n    </tr>\n    <tr>\n      <th>2021-06-04</th>\n      <td>This Simple Stock Market Strategy Is Winning s...</td>\n      <td>125.8900</td>\n      <td>75169340</td>\n      <td>124.0700</td>\n      <td>126.1600</td>\n      <td>123.8500</td>\n      <td>2.3500</td>\n      <td>1</td>\n    </tr>\n  </tbody>\n</table>\n<p>1595 rows × 8 columns</p>\n</div>"
     },
     "metadata": {},
     "execution_count": 21
    }
   ],
   "source": [
    "df = pd.read_csv(\"./Datasets/Combined_dataset.csv\", parse_dates=[\"Date\"], index_col=\"Date\")\n",
    "df"
   ]
  },
  {
   "cell_type": "code",
   "execution_count": 22,
   "id": "hidden-burns",
   "metadata": {},
   "outputs": [
    {
     "output_type": "stream",
     "name": "stdout",
     "text": [
      "<class 'pandas.core.frame.DataFrame'>\nDatetimeIndex: 1595 entries, 2015-01-02 to 2021-06-04\nData columns (total 8 columns):\n #   Column            Non-Null Count  Dtype  \n---  ------            --------------  -----  \n 0   Headlines         1595 non-null   object \n 1   Close/Last        1595 non-null   float64\n 2   Volume            1595 non-null   int64  \n 3   Open              1595 non-null   float64\n 4   High              1595 non-null   float64\n 5   Low               1595 non-null   float64\n 6   Close_difference  1595 non-null   float64\n 7   Impact            1595 non-null   int64  \ndtypes: float64(5), int64(2), object(1)\nmemory usage: 112.1+ KB\n"
     ]
    }
   ],
   "source": [
    "df.info()"
   ]
  },
  {
   "cell_type": "code",
   "execution_count": 23,
   "metadata": {},
   "outputs": [
    {
     "output_type": "execute_result",
     "data": {
      "text/plain": [
       "1595"
      ]
     },
     "metadata": {},
     "execution_count": 23
    }
   ],
   "source": [
    "cleaned_headlines = []\n",
    "ps = PorterStemmer()\n",
    "for i in range(0, len(df)):\n",
    "  headlines = re.sub('[^a-zA-Z]', ' ', df['Headlines'][i])\n",
    "  headlines = headlines.lower()\n",
    "  headlines = headlines.split()\n",
    "  headlines_stopwords = stopwords.words('english')\n",
    "  headlines_stopwords.remove('not')\n",
    "  headlines = [ps.stem(word) for word in headlines if not word in set(headlines_stopwords)]\n",
    "  headlines = ' '.join(headlines)\n",
    "  cleaned_headlines.append(headlines)\n",
    "len(cleaned_headlines)"
   ]
  },
  {
   "cell_type": "code",
   "execution_count": 24,
   "metadata": {},
   "outputs": [
    {
     "output_type": "execute_result",
     "data": {
      "text/plain": [
       "array([0, 0, 1, ..., 1, 0, 1], dtype=int64)"
      ]
     },
     "metadata": {},
     "execution_count": 24
    }
   ],
   "source": [
    "cv = CountVectorizer(max_features = 20000)\n",
    "X = cv.fit_transform(corpus).toarray()\n",
    "Y = df.iloc[:, -1].values\n",
    "Y"
   ]
  },
  {
   "cell_type": "code",
   "execution_count": 25,
   "id": "caring-cartoon",
   "metadata": {},
   "outputs": [],
   "source": [
    "X_train,X_test,Y_train,Y_test = train_test_split(X,Y,test_size=0.2,random_state=0)"
   ]
  },
  {
   "cell_type": "code",
   "execution_count": 26,
   "id": "statutory-market",
   "metadata": {},
   "outputs": [
    {
     "output_type": "execute_result",
     "data": {
      "text/plain": [
       "GaussianNB()"
      ]
     },
     "metadata": {},
     "execution_count": 26
    }
   ],
   "source": [
    "nb_model = GaussianNB()\n",
    "nb_model.fit(X_train,Y_train)"
   ]
  },
  {
   "cell_type": "code",
   "execution_count": 27,
   "id": "passive-desire",
   "metadata": {},
   "outputs": [],
   "source": [
    "Y_predict = model.predict(X_test)"
   ]
  },
  {
   "cell_type": "code",
   "execution_count": 28,
   "id": "following-lotus",
   "metadata": {},
   "outputs": [
    {
     "output_type": "execute_result",
     "data": {
      "text/plain": [
       "0.5235109717868338"
      ]
     },
     "metadata": {},
     "execution_count": 28
    }
   ],
   "source": [
    "accuracy_score(Y_test, Y_predict)"
   ]
  },
  {
   "cell_type": "code",
   "execution_count": 29,
   "metadata": {},
   "outputs": [
    {
     "output_type": "stream",
     "name": "stdout",
     "text": [
      "[[ 67  84]\n [ 68 100]]\n"
     ]
    }
   ],
   "source": [
    "confusion_matrix = confusion_matrix(Y_test, Y_predict)\n",
    "print(confusion_matrix)"
   ]
  },
  {
   "cell_type": "code",
   "execution_count": 30,
   "id": "aggressive-carpet",
   "metadata": {},
   "outputs": [
    {
     "output_type": "execute_result",
     "data": {
      "text/plain": [
       "array([[1, 1],\n",
       "       [1, 1],\n",
       "       [1, 1],\n",
       "       [1, 1],\n",
       "       [1, 1],\n",
       "       [0, 0],\n",
       "       [1, 1],\n",
       "       [0, 0],\n",
       "       [1, 1],\n",
       "       [1, 1],\n",
       "       [1, 1],\n",
       "       [1, 1],\n",
       "       [1, 1],\n",
       "       [0, 0],\n",
       "       [1, 1],\n",
       "       [1, 1],\n",
       "       [1, 1],\n",
       "       [0, 0],\n",
       "       [1, 1],\n",
       "       [1, 1],\n",
       "       [1, 1],\n",
       "       [1, 1],\n",
       "       [1, 1],\n",
       "       [0, 0],\n",
       "       [0, 0],\n",
       "       [1, 1],\n",
       "       [0, 0],\n",
       "       [1, 1],\n",
       "       [0, 0],\n",
       "       [1, 1],\n",
       "       [0, 0],\n",
       "       [1, 1],\n",
       "       [0, 0],\n",
       "       [0, 0],\n",
       "       [1, 1],\n",
       "       [1, 1],\n",
       "       [1, 1],\n",
       "       [0, 0],\n",
       "       [1, 1],\n",
       "       [1, 1],\n",
       "       [0, 0],\n",
       "       [1, 1],\n",
       "       [1, 1],\n",
       "       [0, 0],\n",
       "       [0, 0],\n",
       "       [1, 1],\n",
       "       [0, 0],\n",
       "       [0, 0],\n",
       "       [1, 1],\n",
       "       [0, 0],\n",
       "       [0, 0],\n",
       "       [1, 1],\n",
       "       [1, 1],\n",
       "       [1, 1],\n",
       "       [1, 1],\n",
       "       [1, 1],\n",
       "       [0, 0],\n",
       "       [1, 1],\n",
       "       [1, 1],\n",
       "       [0, 0],\n",
       "       [0, 0],\n",
       "       [1, 1],\n",
       "       [0, 0],\n",
       "       [0, 0],\n",
       "       [1, 1],\n",
       "       [1, 1],\n",
       "       [1, 1],\n",
       "       [1, 1],\n",
       "       [1, 1],\n",
       "       [1, 1],\n",
       "       [0, 0],\n",
       "       [0, 0],\n",
       "       [0, 0],\n",
       "       [0, 0],\n",
       "       [1, 1],\n",
       "       [1, 1],\n",
       "       [1, 1],\n",
       "       [1, 1],\n",
       "       [1, 1],\n",
       "       [1, 1],\n",
       "       [1, 1],\n",
       "       [0, 0],\n",
       "       [1, 1],\n",
       "       [1, 1],\n",
       "       [1, 1],\n",
       "       [1, 1],\n",
       "       [1, 1],\n",
       "       [1, 1],\n",
       "       [0, 0],\n",
       "       [1, 1],\n",
       "       [0, 0],\n",
       "       [0, 0],\n",
       "       [0, 0],\n",
       "       [0, 0],\n",
       "       [1, 1],\n",
       "       [0, 0],\n",
       "       [0, 0],\n",
       "       [1, 1],\n",
       "       [0, 0],\n",
       "       [0, 0],\n",
       "       [0, 0],\n",
       "       [1, 1],\n",
       "       [0, 0],\n",
       "       [1, 1],\n",
       "       [1, 1],\n",
       "       [0, 0],\n",
       "       [0, 0],\n",
       "       [1, 1],\n",
       "       [0, 0],\n",
       "       [0, 0],\n",
       "       [1, 1],\n",
       "       [1, 1],\n",
       "       [1, 1],\n",
       "       [0, 0],\n",
       "       [1, 1],\n",
       "       [1, 1],\n",
       "       [1, 1],\n",
       "       [0, 0],\n",
       "       [0, 0],\n",
       "       [1, 1],\n",
       "       [1, 1],\n",
       "       [1, 1],\n",
       "       [1, 1],\n",
       "       [0, 0],\n",
       "       [0, 0],\n",
       "       [1, 1],\n",
       "       [0, 0],\n",
       "       [1, 1],\n",
       "       [0, 0],\n",
       "       [0, 0],\n",
       "       [1, 1],\n",
       "       [1, 1],\n",
       "       [0, 0],\n",
       "       [1, 1],\n",
       "       [0, 0],\n",
       "       [0, 0],\n",
       "       [0, 0],\n",
       "       [0, 0],\n",
       "       [0, 0],\n",
       "       [0, 0],\n",
       "       [1, 1],\n",
       "       [0, 0],\n",
       "       [1, 1],\n",
       "       [1, 1],\n",
       "       [0, 0],\n",
       "       [0, 0],\n",
       "       [1, 1],\n",
       "       [1, 1],\n",
       "       [1, 1],\n",
       "       [1, 1],\n",
       "       [0, 0],\n",
       "       [1, 1],\n",
       "       [1, 1],\n",
       "       [0, 0],\n",
       "       [0, 0],\n",
       "       [0, 0],\n",
       "       [0, 0],\n",
       "       [0, 0],\n",
       "       [1, 1],\n",
       "       [0, 0],\n",
       "       [0, 0],\n",
       "       [0, 0],\n",
       "       [0, 0],\n",
       "       [1, 1],\n",
       "       [0, 0],\n",
       "       [1, 1],\n",
       "       [1, 1],\n",
       "       [0, 0],\n",
       "       [1, 1],\n",
       "       [1, 1],\n",
       "       [0, 0],\n",
       "       [1, 1],\n",
       "       [0, 0],\n",
       "       [1, 1],\n",
       "       [1, 1],\n",
       "       [0, 0],\n",
       "       [1, 1],\n",
       "       [0, 0],\n",
       "       [1, 1],\n",
       "       [1, 1],\n",
       "       [0, 0],\n",
       "       [1, 1],\n",
       "       [1, 1],\n",
       "       [0, 0],\n",
       "       [1, 1],\n",
       "       [0, 0],\n",
       "       [1, 1],\n",
       "       [0, 0],\n",
       "       [0, 0],\n",
       "       [1, 1],\n",
       "       [1, 1],\n",
       "       [0, 0],\n",
       "       [0, 0],\n",
       "       [0, 0],\n",
       "       [0, 0],\n",
       "       [0, 0],\n",
       "       [1, 1],\n",
       "       [0, 0],\n",
       "       [0, 0],\n",
       "       [1, 1],\n",
       "       [0, 0],\n",
       "       [1, 1],\n",
       "       [1, 1],\n",
       "       [0, 0],\n",
       "       [1, 1],\n",
       "       [0, 0],\n",
       "       [1, 1],\n",
       "       [0, 0],\n",
       "       [1, 1],\n",
       "       [1, 1],\n",
       "       [1, 1],\n",
       "       [0, 0],\n",
       "       [1, 1],\n",
       "       [0, 0],\n",
       "       [1, 1],\n",
       "       [1, 1],\n",
       "       [1, 1],\n",
       "       [0, 0],\n",
       "       [0, 0],\n",
       "       [1, 1],\n",
       "       [0, 0],\n",
       "       [0, 0],\n",
       "       [1, 1],\n",
       "       [1, 1],\n",
       "       [1, 1],\n",
       "       [0, 0],\n",
       "       [0, 0],\n",
       "       [1, 1],\n",
       "       [1, 1],\n",
       "       [1, 1],\n",
       "       [1, 1],\n",
       "       [1, 1],\n",
       "       [1, 1],\n",
       "       [1, 1],\n",
       "       [1, 1],\n",
       "       [1, 1],\n",
       "       [0, 0],\n",
       "       [0, 0],\n",
       "       [0, 0],\n",
       "       [1, 1],\n",
       "       [0, 0],\n",
       "       [0, 0],\n",
       "       [1, 1],\n",
       "       [0, 0],\n",
       "       [1, 1],\n",
       "       [1, 1],\n",
       "       [0, 0],\n",
       "       [1, 1],\n",
       "       [0, 0],\n",
       "       [1, 1],\n",
       "       [0, 0],\n",
       "       [1, 1],\n",
       "       [0, 0],\n",
       "       [1, 1],\n",
       "       [1, 1],\n",
       "       [0, 0],\n",
       "       [1, 1],\n",
       "       [1, 1],\n",
       "       [1, 1],\n",
       "       [0, 0],\n",
       "       [1, 1],\n",
       "       [1, 1],\n",
       "       [1, 1],\n",
       "       [1, 1],\n",
       "       [0, 0],\n",
       "       [1, 1],\n",
       "       [1, 1],\n",
       "       [0, 0],\n",
       "       [1, 1],\n",
       "       [1, 1],\n",
       "       [1, 1],\n",
       "       [1, 1],\n",
       "       [0, 0],\n",
       "       [0, 0],\n",
       "       [0, 0],\n",
       "       [1, 1],\n",
       "       [1, 1],\n",
       "       [1, 1],\n",
       "       [0, 0],\n",
       "       [1, 1],\n",
       "       [0, 0],\n",
       "       [1, 1],\n",
       "       [1, 1],\n",
       "       [1, 1],\n",
       "       [0, 0],\n",
       "       [0, 0],\n",
       "       [1, 1],\n",
       "       [0, 0],\n",
       "       [0, 0],\n",
       "       [1, 1],\n",
       "       [1, 1],\n",
       "       [1, 1],\n",
       "       [0, 0],\n",
       "       [0, 0],\n",
       "       [1, 1],\n",
       "       [1, 1],\n",
       "       [1, 1],\n",
       "       [1, 1],\n",
       "       [0, 0],\n",
       "       [1, 1],\n",
       "       [0, 0],\n",
       "       [1, 1],\n",
       "       [1, 1],\n",
       "       [1, 1],\n",
       "       [1, 1],\n",
       "       [0, 0],\n",
       "       [1, 1],\n",
       "       [1, 1],\n",
       "       [1, 1],\n",
       "       [1, 1],\n",
       "       [0, 0],\n",
       "       [1, 1],\n",
       "       [0, 0],\n",
       "       [0, 0],\n",
       "       [0, 0],\n",
       "       [1, 1],\n",
       "       [1, 1],\n",
       "       [1, 1],\n",
       "       [0, 0]], dtype=int64)"
      ]
     },
     "metadata": {},
     "execution_count": 30
    }
   ],
   "source": [
    "np.concatenate((Y_predict.reshape(len(Y_predict),1), Y_predict.reshape(len(Y_predict),1)),1)"
   ]
  },
  {
   "cell_type": "code",
   "execution_count": null,
   "metadata": {},
   "outputs": [],
   "source": []
  }
 ],
 "metadata": {
  "kernelspec": {
   "name": "python3",
   "display_name": "Python 3.8.8 64-bit"
  },
  "language_info": {
   "codemirror_mode": {
    "name": "ipython",
    "version": 3
   },
   "file_extension": ".py",
   "mimetype": "text/x-python",
   "name": "python",
   "nbconvert_exporter": "python",
   "pygments_lexer": "ipython3",
   "version": "3.8.8"
  },
  "interpreter": {
   "hash": "38e0348de57a0fc1fbebb50b3594b5913e5291ce5479b817f728605ceeb4e713"
  }
 },
 "nbformat": 4,
 "nbformat_minor": 5
}