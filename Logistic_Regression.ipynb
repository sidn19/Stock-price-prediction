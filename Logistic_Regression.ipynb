{
 "metadata": {
  "language_info": {
   "codemirror_mode": {
    "name": "ipython",
    "version": 3
   },
   "file_extension": ".py",
   "mimetype": "text/x-python",
   "name": "python",
   "nbconvert_exporter": "python",
   "pygments_lexer": "ipython3",
   "version": "3.8.8"
  },
  "orig_nbformat": 4,
  "kernelspec": {
   "name": "python3",
   "display_name": "Python 3.8.8 64-bit"
  },
  "interpreter": {
   "hash": "38e0348de57a0fc1fbebb50b3594b5913e5291ce5479b817f728605ceeb4e713"
  }
 },
 "nbformat": 4,
 "nbformat_minor": 2,
 "cells": [
  {
   "cell_type": "code",
   "execution_count": 69,
   "metadata": {},
   "outputs": [],
   "source": [
    "#import modules\n",
    "import pandas as pd\n",
    "import numpy as np\n",
    "import seaborn as sns\n",
    "import matplotlib.pyplot as plt\n",
    "%matplotlib inline\n",
    "from sklearn.linear_model import LogisticRegression\n",
    "from sklearn import metrics\n",
    "from sklearn.model_selection import GridSearchCV\n",
    "from sklearn.model_selection import train_test_split"
   ]
  },
  {
   "cell_type": "code",
   "execution_count": 70,
   "metadata": {},
   "outputs": [
    {
     "output_type": "execute_result",
     "data": {
      "text/plain": [
       "           Close/Last     Volume      Open      High       Low\n",
       "Date                                                          \n",
       "2011-06-10   $11.6393  433801306  $11.8054   $11.845  $11.6254\n",
       "2011-06-13   $11.6643  329376468  $11.6857  $11.7254  $11.6096\n",
       "2011-06-14   $11.8729  333995906  $11.7857  $11.9018  $11.7611\n",
       "2011-06-15   $11.6696  395841722  $11.7768  $11.7964  $11.6029\n",
       "2011-06-16   $11.6129  507299317   $11.675  $11.7386  $11.3689"
      ],
      "text/html": "<div>\n<style scoped>\n    .dataframe tbody tr th:only-of-type {\n        vertical-align: middle;\n    }\n\n    .dataframe tbody tr th {\n        vertical-align: top;\n    }\n\n    .dataframe thead th {\n        text-align: right;\n    }\n</style>\n<table border=\"1\" class=\"dataframe\">\n  <thead>\n    <tr style=\"text-align: right;\">\n      <th></th>\n      <th>Close/Last</th>\n      <th>Volume</th>\n      <th>Open</th>\n      <th>High</th>\n      <th>Low</th>\n    </tr>\n    <tr>\n      <th>Date</th>\n      <th></th>\n      <th></th>\n      <th></th>\n      <th></th>\n      <th></th>\n    </tr>\n  </thead>\n  <tbody>\n    <tr>\n      <th>2011-06-10</th>\n      <td>$11.6393</td>\n      <td>433801306</td>\n      <td>$11.8054</td>\n      <td>$11.845</td>\n      <td>$11.6254</td>\n    </tr>\n    <tr>\n      <th>2011-06-13</th>\n      <td>$11.6643</td>\n      <td>329376468</td>\n      <td>$11.6857</td>\n      <td>$11.7254</td>\n      <td>$11.6096</td>\n    </tr>\n    <tr>\n      <th>2011-06-14</th>\n      <td>$11.8729</td>\n      <td>333995906</td>\n      <td>$11.7857</td>\n      <td>$11.9018</td>\n      <td>$11.7611</td>\n    </tr>\n    <tr>\n      <th>2011-06-15</th>\n      <td>$11.6696</td>\n      <td>395841722</td>\n      <td>$11.7768</td>\n      <td>$11.7964</td>\n      <td>$11.6029</td>\n    </tr>\n    <tr>\n      <th>2011-06-16</th>\n      <td>$11.6129</td>\n      <td>507299317</td>\n      <td>$11.675</td>\n      <td>$11.7386</td>\n      <td>$11.3689</td>\n    </tr>\n  </tbody>\n</table>\n</div>"
     },
     "metadata": {},
     "execution_count": 70
    }
   ],
   "source": [
    "#import dataset\n",
    "apple_data = pd.read_csv(\"./Datasets/Historical/HistoricalData_APPLE.csv\", parse_dates=[\"Date\"], index_col=\"Date\")\n",
    "apple_data.index = pd.to_datetime(apple_data.index,format='%Y-%m-%d')\n",
    "apple_data = apple_data.sort_index(ascending=True, axis=0)\n",
    "apple_data.head()"
   ]
  },
  {
   "cell_type": "code",
   "execution_count": 71,
   "metadata": {},
   "outputs": [
    {
     "output_type": "execute_result",
     "data": {
      "text/plain": [
       "(2516, 5)"
      ]
     },
     "metadata": {},
     "execution_count": 71
    }
   ],
   "source": [
    "apple_data.shape"
   ]
  },
  {
   "cell_type": "code",
   "execution_count": 72,
   "metadata": {},
   "outputs": [],
   "source": [
    "#Edit dataset to remove $ and convert to float\n",
    "apple_data['Open'] = apple_data['Open'].apply(lambda x: x.replace('$',''))\n",
    "apple_data['Open'] = apple_data['Open'].astype(float)\n",
    "\n",
    "apple_data['Close/Last'] = apple_data['Close/Last'].apply(lambda x: x.replace('$',''))\n",
    "apple_data['Close/Last'] = apple_data['Close/Last'].astype(float)\n",
    "\n",
    "apple_data['High'] = apple_data['High'].apply(lambda x: x.replace('$',''))\n",
    "apple_data['High'] = apple_data['High'].astype(float)\n",
    "\n",
    "apple_data['Low'] = apple_data['Low'].apply(lambda x: x.replace('$',''))\n",
    "apple_data['Low'] = apple_data['Low'].astype(float)"
   ]
  },
  {
   "cell_type": "code",
   "execution_count": 73,
   "metadata": {},
   "outputs": [
    {
     "output_type": "execute_result",
     "data": {
      "text/plain": [
       "        Close/Last        Volume         Open         High          Low\n",
       "count  2516.000000  2.516000e+03  2516.000000  2516.000000  2516.000000\n",
       "mean     41.277389  2.388826e+08    41.268871    41.698470    40.829849\n",
       "std      30.304841  1.914594e+08    30.319067    30.698585    29.893474\n",
       "min      11.261400  4.544820e+07    11.310000    11.346400    11.089300\n",
       "25%      21.215550  1.092658e+08    21.244100    21.423600    20.992800\n",
       "50%      29.592500  1.679334e+08    29.505000    29.810000    29.281250\n",
       "75%      47.733750  3.022477e+08    47.770625    47.996250    47.371250\n",
       "max     143.160000  1.498071e+09   143.600000   145.090000   141.370000"
      ],
      "text/html": "<div>\n<style scoped>\n    .dataframe tbody tr th:only-of-type {\n        vertical-align: middle;\n    }\n\n    .dataframe tbody tr th {\n        vertical-align: top;\n    }\n\n    .dataframe thead th {\n        text-align: right;\n    }\n</style>\n<table border=\"1\" class=\"dataframe\">\n  <thead>\n    <tr style=\"text-align: right;\">\n      <th></th>\n      <th>Close/Last</th>\n      <th>Volume</th>\n      <th>Open</th>\n      <th>High</th>\n      <th>Low</th>\n    </tr>\n  </thead>\n  <tbody>\n    <tr>\n      <th>count</th>\n      <td>2516.000000</td>\n      <td>2.516000e+03</td>\n      <td>2516.000000</td>\n      <td>2516.000000</td>\n      <td>2516.000000</td>\n    </tr>\n    <tr>\n      <th>mean</th>\n      <td>41.277389</td>\n      <td>2.388826e+08</td>\n      <td>41.268871</td>\n      <td>41.698470</td>\n      <td>40.829849</td>\n    </tr>\n    <tr>\n      <th>std</th>\n      <td>30.304841</td>\n      <td>1.914594e+08</td>\n      <td>30.319067</td>\n      <td>30.698585</td>\n      <td>29.893474</td>\n    </tr>\n    <tr>\n      <th>min</th>\n      <td>11.261400</td>\n      <td>4.544820e+07</td>\n      <td>11.310000</td>\n      <td>11.346400</td>\n      <td>11.089300</td>\n    </tr>\n    <tr>\n      <th>25%</th>\n      <td>21.215550</td>\n      <td>1.092658e+08</td>\n      <td>21.244100</td>\n      <td>21.423600</td>\n      <td>20.992800</td>\n    </tr>\n    <tr>\n      <th>50%</th>\n      <td>29.592500</td>\n      <td>1.679334e+08</td>\n      <td>29.505000</td>\n      <td>29.810000</td>\n      <td>29.281250</td>\n    </tr>\n    <tr>\n      <th>75%</th>\n      <td>47.733750</td>\n      <td>3.022477e+08</td>\n      <td>47.770625</td>\n      <td>47.996250</td>\n      <td>47.371250</td>\n    </tr>\n    <tr>\n      <th>max</th>\n      <td>143.160000</td>\n      <td>1.498071e+09</td>\n      <td>143.600000</td>\n      <td>145.090000</td>\n      <td>141.370000</td>\n    </tr>\n  </tbody>\n</table>\n</div>"
     },
     "metadata": {},
     "execution_count": 73
    }
   ],
   "source": [
    "apple_data.describe()"
   ]
  },
  {
   "cell_type": "code",
   "execution_count": 74,
   "metadata": {},
   "outputs": [
    {
     "output_type": "stream",
     "name": "stderr",
     "text": [
      "<ipython-input-74-e240ff74ffd9>:4: SettingWithCopyWarning: \nA value is trying to be set on a copy of a slice from a DataFrame\n\nSee the caveats in the documentation: https://pandas.pydata.org/pandas-docs/stable/user_guide/indexing.html#returning-a-view-versus-a-copy\n  apple_data['Close_difference'][i+1] = apple_data['Close/Last'][i+1] - apple_data['Close/Last'][i]\n"
     ]
    },
    {
     "output_type": "execute_result",
     "data": {
      "text/plain": [
       "            Close/Last     Volume      Open      High       Low  \\\n",
       "Date                                                              \n",
       "2011-06-10     11.6393  433801306   11.8054   11.8450   11.6254   \n",
       "2011-06-13     11.6643  329376468   11.6857   11.7254   11.6096   \n",
       "2011-06-14     11.8729  333995906   11.7857   11.9018   11.7611   \n",
       "2011-06-15     11.6696  395841722   11.7768   11.7964   11.6029   \n",
       "2011-06-16     11.6129  507299317   11.6750   11.7386   11.3689   \n",
       "...                ...        ...       ...       ...       ...   \n",
       "2021-06-03    123.5400   76229170  124.6800  124.8500  123.1300   \n",
       "2021-06-04    125.8900   75169340  124.0700  126.1600  123.8500   \n",
       "2021-06-07    125.9000   71057550  126.1700  126.3200  124.8321   \n",
       "2021-06-08    126.7400   74403770  126.6000  128.4600  126.2101   \n",
       "2021-06-09    127.1300   56877940  127.2100  127.7500  126.5200   \n",
       "\n",
       "           Close_difference  \n",
       "Date                         \n",
       "2011-06-10                   \n",
       "2011-06-13            0.025  \n",
       "2011-06-14           0.2086  \n",
       "2011-06-15          -0.2033  \n",
       "2011-06-16          -0.0567  \n",
       "...                     ...  \n",
       "2021-06-03            -1.52  \n",
       "2021-06-04             2.35  \n",
       "2021-06-07             0.01  \n",
       "2021-06-08             0.84  \n",
       "2021-06-09             0.39  \n",
       "\n",
       "[2516 rows x 6 columns]"
      ],
      "text/html": "<div>\n<style scoped>\n    .dataframe tbody tr th:only-of-type {\n        vertical-align: middle;\n    }\n\n    .dataframe tbody tr th {\n        vertical-align: top;\n    }\n\n    .dataframe thead th {\n        text-align: right;\n    }\n</style>\n<table border=\"1\" class=\"dataframe\">\n  <thead>\n    <tr style=\"text-align: right;\">\n      <th></th>\n      <th>Close/Last</th>\n      <th>Volume</th>\n      <th>Open</th>\n      <th>High</th>\n      <th>Low</th>\n      <th>Close_difference</th>\n    </tr>\n    <tr>\n      <th>Date</th>\n      <th></th>\n      <th></th>\n      <th></th>\n      <th></th>\n      <th></th>\n      <th></th>\n    </tr>\n  </thead>\n  <tbody>\n    <tr>\n      <th>2011-06-10</th>\n      <td>11.6393</td>\n      <td>433801306</td>\n      <td>11.8054</td>\n      <td>11.8450</td>\n      <td>11.6254</td>\n      <td></td>\n    </tr>\n    <tr>\n      <th>2011-06-13</th>\n      <td>11.6643</td>\n      <td>329376468</td>\n      <td>11.6857</td>\n      <td>11.7254</td>\n      <td>11.6096</td>\n      <td>0.025</td>\n    </tr>\n    <tr>\n      <th>2011-06-14</th>\n      <td>11.8729</td>\n      <td>333995906</td>\n      <td>11.7857</td>\n      <td>11.9018</td>\n      <td>11.7611</td>\n      <td>0.2086</td>\n    </tr>\n    <tr>\n      <th>2011-06-15</th>\n      <td>11.6696</td>\n      <td>395841722</td>\n      <td>11.7768</td>\n      <td>11.7964</td>\n      <td>11.6029</td>\n      <td>-0.2033</td>\n    </tr>\n    <tr>\n      <th>2011-06-16</th>\n      <td>11.6129</td>\n      <td>507299317</td>\n      <td>11.6750</td>\n      <td>11.7386</td>\n      <td>11.3689</td>\n      <td>-0.0567</td>\n    </tr>\n    <tr>\n      <th>...</th>\n      <td>...</td>\n      <td>...</td>\n      <td>...</td>\n      <td>...</td>\n      <td>...</td>\n      <td>...</td>\n    </tr>\n    <tr>\n      <th>2021-06-03</th>\n      <td>123.5400</td>\n      <td>76229170</td>\n      <td>124.6800</td>\n      <td>124.8500</td>\n      <td>123.1300</td>\n      <td>-1.52</td>\n    </tr>\n    <tr>\n      <th>2021-06-04</th>\n      <td>125.8900</td>\n      <td>75169340</td>\n      <td>124.0700</td>\n      <td>126.1600</td>\n      <td>123.8500</td>\n      <td>2.35</td>\n    </tr>\n    <tr>\n      <th>2021-06-07</th>\n      <td>125.9000</td>\n      <td>71057550</td>\n      <td>126.1700</td>\n      <td>126.3200</td>\n      <td>124.8321</td>\n      <td>0.01</td>\n    </tr>\n    <tr>\n      <th>2021-06-08</th>\n      <td>126.7400</td>\n      <td>74403770</td>\n      <td>126.6000</td>\n      <td>128.4600</td>\n      <td>126.2101</td>\n      <td>0.84</td>\n    </tr>\n    <tr>\n      <th>2021-06-09</th>\n      <td>127.1300</td>\n      <td>56877940</td>\n      <td>127.2100</td>\n      <td>127.7500</td>\n      <td>126.5200</td>\n      <td>0.39</td>\n    </tr>\n  </tbody>\n</table>\n<p>2516 rows × 6 columns</p>\n</div>"
     },
     "metadata": {},
     "execution_count": 74
    }
   ],
   "source": [
    "#find the difference in the Close/Last prices\n",
    "apple_data['Close_difference'] = ''\n",
    "for i in range(0, len(apple_data) - 1):\n",
    "  apple_data['Close_difference'][i+1] = apple_data['Close/Last'][i+1] - apple_data['Close/Last'][i]\n",
    "apple_data"
   ]
  },
  {
   "cell_type": "code",
   "execution_count": 75,
   "metadata": {},
   "outputs": [
    {
     "output_type": "execute_result",
     "data": {
      "text/plain": [
       "Close/Last          float64\n",
       "Volume                int64\n",
       "Open                float64\n",
       "High                float64\n",
       "Low                 float64\n",
       "Close_difference     object\n",
       "dtype: object"
      ]
     },
     "metadata": {},
     "execution_count": 75
    }
   ],
   "source": [
    "apple_data.dtypes"
   ]
  },
  {
   "cell_type": "code",
   "execution_count": 76,
   "metadata": {},
   "outputs": [],
   "source": [
    "apple_data['Close_difference'] = pd.to_numeric(apple_data['Close_difference'])"
   ]
  },
  {
   "cell_type": "code",
   "execution_count": 77,
   "metadata": {},
   "outputs": [
    {
     "output_type": "execute_result",
     "data": {
      "text/plain": [
       "            Close/Last     Volume      Open      High       Low  \\\n",
       "Date                                                              \n",
       "2011-06-10     11.6393  433801306   11.8054   11.8450   11.6254   \n",
       "2011-06-13     11.6643  329376468   11.6857   11.7254   11.6096   \n",
       "2011-06-14     11.8729  333995906   11.7857   11.9018   11.7611   \n",
       "2011-06-15     11.6696  395841722   11.7768   11.7964   11.6029   \n",
       "2011-06-16     11.6129  507299317   11.6750   11.7386   11.3689   \n",
       "...                ...        ...       ...       ...       ...   \n",
       "2021-06-03    123.5400   76229170  124.6800  124.8500  123.1300   \n",
       "2021-06-04    125.8900   75169340  124.0700  126.1600  123.8500   \n",
       "2021-06-07    125.9000   71057550  126.1700  126.3200  124.8321   \n",
       "2021-06-08    126.7400   74403770  126.6000  128.4600  126.2101   \n",
       "2021-06-09    127.1300   56877940  127.2100  127.7500  126.5200   \n",
       "\n",
       "            Close_difference  Impact  \n",
       "Date                                  \n",
       "2011-06-10               NaN       0  \n",
       "2011-06-13            0.0250       1  \n",
       "2011-06-14            0.2086       1  \n",
       "2011-06-15           -0.2033       0  \n",
       "2011-06-16           -0.0567       0  \n",
       "...                      ...     ...  \n",
       "2021-06-03           -1.5200       0  \n",
       "2021-06-04            2.3500       1  \n",
       "2021-06-07            0.0100       1  \n",
       "2021-06-08            0.8400       1  \n",
       "2021-06-09            0.3900       1  \n",
       "\n",
       "[2516 rows x 7 columns]"
      ],
      "text/html": "<div>\n<style scoped>\n    .dataframe tbody tr th:only-of-type {\n        vertical-align: middle;\n    }\n\n    .dataframe tbody tr th {\n        vertical-align: top;\n    }\n\n    .dataframe thead th {\n        text-align: right;\n    }\n</style>\n<table border=\"1\" class=\"dataframe\">\n  <thead>\n    <tr style=\"text-align: right;\">\n      <th></th>\n      <th>Close/Last</th>\n      <th>Volume</th>\n      <th>Open</th>\n      <th>High</th>\n      <th>Low</th>\n      <th>Close_difference</th>\n      <th>Impact</th>\n    </tr>\n    <tr>\n      <th>Date</th>\n      <th></th>\n      <th></th>\n      <th></th>\n      <th></th>\n      <th></th>\n      <th></th>\n      <th></th>\n    </tr>\n  </thead>\n  <tbody>\n    <tr>\n      <th>2011-06-10</th>\n      <td>11.6393</td>\n      <td>433801306</td>\n      <td>11.8054</td>\n      <td>11.8450</td>\n      <td>11.6254</td>\n      <td>NaN</td>\n      <td>0</td>\n    </tr>\n    <tr>\n      <th>2011-06-13</th>\n      <td>11.6643</td>\n      <td>329376468</td>\n      <td>11.6857</td>\n      <td>11.7254</td>\n      <td>11.6096</td>\n      <td>0.0250</td>\n      <td>1</td>\n    </tr>\n    <tr>\n      <th>2011-06-14</th>\n      <td>11.8729</td>\n      <td>333995906</td>\n      <td>11.7857</td>\n      <td>11.9018</td>\n      <td>11.7611</td>\n      <td>0.2086</td>\n      <td>1</td>\n    </tr>\n    <tr>\n      <th>2011-06-15</th>\n      <td>11.6696</td>\n      <td>395841722</td>\n      <td>11.7768</td>\n      <td>11.7964</td>\n      <td>11.6029</td>\n      <td>-0.2033</td>\n      <td>0</td>\n    </tr>\n    <tr>\n      <th>2011-06-16</th>\n      <td>11.6129</td>\n      <td>507299317</td>\n      <td>11.6750</td>\n      <td>11.7386</td>\n      <td>11.3689</td>\n      <td>-0.0567</td>\n      <td>0</td>\n    </tr>\n    <tr>\n      <th>...</th>\n      <td>...</td>\n      <td>...</td>\n      <td>...</td>\n      <td>...</td>\n      <td>...</td>\n      <td>...</td>\n      <td>...</td>\n    </tr>\n    <tr>\n      <th>2021-06-03</th>\n      <td>123.5400</td>\n      <td>76229170</td>\n      <td>124.6800</td>\n      <td>124.8500</td>\n      <td>123.1300</td>\n      <td>-1.5200</td>\n      <td>0</td>\n    </tr>\n    <tr>\n      <th>2021-06-04</th>\n      <td>125.8900</td>\n      <td>75169340</td>\n      <td>124.0700</td>\n      <td>126.1600</td>\n      <td>123.8500</td>\n      <td>2.3500</td>\n      <td>1</td>\n    </tr>\n    <tr>\n      <th>2021-06-07</th>\n      <td>125.9000</td>\n      <td>71057550</td>\n      <td>126.1700</td>\n      <td>126.3200</td>\n      <td>124.8321</td>\n      <td>0.0100</td>\n      <td>1</td>\n    </tr>\n    <tr>\n      <th>2021-06-08</th>\n      <td>126.7400</td>\n      <td>74403770</td>\n      <td>126.6000</td>\n      <td>128.4600</td>\n      <td>126.2101</td>\n      <td>0.8400</td>\n      <td>1</td>\n    </tr>\n    <tr>\n      <th>2021-06-09</th>\n      <td>127.1300</td>\n      <td>56877940</td>\n      <td>127.2100</td>\n      <td>127.7500</td>\n      <td>126.5200</td>\n      <td>0.3900</td>\n      <td>1</td>\n    </tr>\n  </tbody>\n</table>\n<p>2516 rows × 7 columns</p>\n</div>"
     },
     "metadata": {},
     "execution_count": 77
    }
   ],
   "source": [
    "#Get impact of the close price differences i.e., if close difference price>0, Impact=0 else if close difference price<0, Impact=0\n",
    "def get_Impact(close_price): \n",
    "    if close_price > 0: \n",
    "        return 1\n",
    "    else: \n",
    "        return 0\n",
    "apple_data['Impact']=apple_data.apply(lambda x: get_Impact(x['Close_difference']), axis=1)\n",
    "apple_data"
   ]
  },
  {
   "cell_type": "code",
   "execution_count": 78,
   "metadata": {},
   "outputs": [
    {
     "output_type": "execute_result",
     "data": {
      "text/plain": [
       "            Close/Last     Volume      Open      High       Low  \\\n",
       "Date                                                              \n",
       "2011-06-13     11.6643  329376468   11.6857   11.7254   11.6096   \n",
       "2011-06-14     11.8729  333995906   11.7857   11.9018   11.7611   \n",
       "2011-06-15     11.6696  395841722   11.7768   11.7964   11.6029   \n",
       "2011-06-16     11.6129  507299317   11.6750   11.7386   11.3689   \n",
       "2011-06-17     11.4379  614859874   11.7496   11.7589   11.4057   \n",
       "...                ...        ...       ...       ...       ...   \n",
       "2021-06-03    123.5400   76229170  124.6800  124.8500  123.1300   \n",
       "2021-06-04    125.8900   75169340  124.0700  126.1600  123.8500   \n",
       "2021-06-07    125.9000   71057550  126.1700  126.3200  124.8321   \n",
       "2021-06-08    126.7400   74403770  126.6000  128.4600  126.2101   \n",
       "2021-06-09    127.1300   56877940  127.2100  127.7500  126.5200   \n",
       "\n",
       "            Close_difference  Impact  \n",
       "Date                                  \n",
       "2011-06-13            0.0250       1  \n",
       "2011-06-14            0.2086       1  \n",
       "2011-06-15           -0.2033       0  \n",
       "2011-06-16           -0.0567       0  \n",
       "2011-06-17           -0.1750       0  \n",
       "...                      ...     ...  \n",
       "2021-06-03           -1.5200       0  \n",
       "2021-06-04            2.3500       1  \n",
       "2021-06-07            0.0100       1  \n",
       "2021-06-08            0.8400       1  \n",
       "2021-06-09            0.3900       1  \n",
       "\n",
       "[2515 rows x 7 columns]"
      ],
      "text/html": "<div>\n<style scoped>\n    .dataframe tbody tr th:only-of-type {\n        vertical-align: middle;\n    }\n\n    .dataframe tbody tr th {\n        vertical-align: top;\n    }\n\n    .dataframe thead th {\n        text-align: right;\n    }\n</style>\n<table border=\"1\" class=\"dataframe\">\n  <thead>\n    <tr style=\"text-align: right;\">\n      <th></th>\n      <th>Close/Last</th>\n      <th>Volume</th>\n      <th>Open</th>\n      <th>High</th>\n      <th>Low</th>\n      <th>Close_difference</th>\n      <th>Impact</th>\n    </tr>\n    <tr>\n      <th>Date</th>\n      <th></th>\n      <th></th>\n      <th></th>\n      <th></th>\n      <th></th>\n      <th></th>\n      <th></th>\n    </tr>\n  </thead>\n  <tbody>\n    <tr>\n      <th>2011-06-13</th>\n      <td>11.6643</td>\n      <td>329376468</td>\n      <td>11.6857</td>\n      <td>11.7254</td>\n      <td>11.6096</td>\n      <td>0.0250</td>\n      <td>1</td>\n    </tr>\n    <tr>\n      <th>2011-06-14</th>\n      <td>11.8729</td>\n      <td>333995906</td>\n      <td>11.7857</td>\n      <td>11.9018</td>\n      <td>11.7611</td>\n      <td>0.2086</td>\n      <td>1</td>\n    </tr>\n    <tr>\n      <th>2011-06-15</th>\n      <td>11.6696</td>\n      <td>395841722</td>\n      <td>11.7768</td>\n      <td>11.7964</td>\n      <td>11.6029</td>\n      <td>-0.2033</td>\n      <td>0</td>\n    </tr>\n    <tr>\n      <th>2011-06-16</th>\n      <td>11.6129</td>\n      <td>507299317</td>\n      <td>11.6750</td>\n      <td>11.7386</td>\n      <td>11.3689</td>\n      <td>-0.0567</td>\n      <td>0</td>\n    </tr>\n    <tr>\n      <th>2011-06-17</th>\n      <td>11.4379</td>\n      <td>614859874</td>\n      <td>11.7496</td>\n      <td>11.7589</td>\n      <td>11.4057</td>\n      <td>-0.1750</td>\n      <td>0</td>\n    </tr>\n    <tr>\n      <th>...</th>\n      <td>...</td>\n      <td>...</td>\n      <td>...</td>\n      <td>...</td>\n      <td>...</td>\n      <td>...</td>\n      <td>...</td>\n    </tr>\n    <tr>\n      <th>2021-06-03</th>\n      <td>123.5400</td>\n      <td>76229170</td>\n      <td>124.6800</td>\n      <td>124.8500</td>\n      <td>123.1300</td>\n      <td>-1.5200</td>\n      <td>0</td>\n    </tr>\n    <tr>\n      <th>2021-06-04</th>\n      <td>125.8900</td>\n      <td>75169340</td>\n      <td>124.0700</td>\n      <td>126.1600</td>\n      <td>123.8500</td>\n      <td>2.3500</td>\n      <td>1</td>\n    </tr>\n    <tr>\n      <th>2021-06-07</th>\n      <td>125.9000</td>\n      <td>71057550</td>\n      <td>126.1700</td>\n      <td>126.3200</td>\n      <td>124.8321</td>\n      <td>0.0100</td>\n      <td>1</td>\n    </tr>\n    <tr>\n      <th>2021-06-08</th>\n      <td>126.7400</td>\n      <td>74403770</td>\n      <td>126.6000</td>\n      <td>128.4600</td>\n      <td>126.2101</td>\n      <td>0.8400</td>\n      <td>1</td>\n    </tr>\n    <tr>\n      <th>2021-06-09</th>\n      <td>127.1300</td>\n      <td>56877940</td>\n      <td>127.2100</td>\n      <td>127.7500</td>\n      <td>126.5200</td>\n      <td>0.3900</td>\n      <td>1</td>\n    </tr>\n  </tbody>\n</table>\n<p>2515 rows × 7 columns</p>\n</div>"
     },
     "metadata": {},
     "execution_count": 78
    }
   ],
   "source": [
    "apple_data.drop(apple_data.index[[0]], inplace=True)\n",
    "apple_data"
   ]
  },
  {
   "cell_type": "code",
   "execution_count": 79,
   "metadata": {},
   "outputs": [],
   "source": [
    "# apple_data.to_csv(\"Impacted_APPLE.csv\")"
   ]
  },
  {
   "cell_type": "code",
   "execution_count": 80,
   "metadata": {},
   "outputs": [],
   "source": [
    "X=apple_data.iloc[:,0:5]\n",
    "Y=apple_data['Impact']"
   ]
  },
  {
   "cell_type": "code",
   "execution_count": 81,
   "metadata": {},
   "outputs": [],
   "source": [
    "#split the dataset into train and test\n",
    "X_train, X_test, Y_train, Y_test = train_test_split(X, Y, test_size = 0.20, random_state = 0)"
   ]
  },
  {
   "cell_type": "code",
   "execution_count": 82,
   "metadata": {},
   "outputs": [],
   "source": [
    "#create model\n",
    "log_model = LogisticRegression()\n",
    "log_model = log_model.fit(X_train,Y_train)"
   ]
  },
  {
   "cell_type": "code",
   "execution_count": 83,
   "metadata": {},
   "outputs": [
    {
     "output_type": "execute_result",
     "data": {
      "text/plain": [
       "array([[0.4968413 , 0.5031587 ],\n",
       "       [0.49415745, 0.50584255],\n",
       "       [0.4959823 , 0.5040177 ],\n",
       "       ...,\n",
       "       [0.49412509, 0.50587491],\n",
       "       [0.49703394, 0.50296606],\n",
       "       [0.49015058, 0.50984942]])"
      ]
     },
     "metadata": {},
     "execution_count": 83
    }
   ],
   "source": [
    "#find the probability\n",
    "probability = log_model.predict_proba(X_test)\n",
    "probability"
   ]
  },
  {
   "cell_type": "code",
   "execution_count": 84,
   "metadata": {},
   "outputs": [],
   "source": [
    "#predict Y\n",
    "Y_predict = log_model.predict(X_test)"
   ]
  },
  {
   "cell_type": "code",
   "execution_count": 60,
   "metadata": {},
   "outputs": [
    {
     "output_type": "stream",
     "name": "stdout",
     "text": [
      "[[  0 252]\n [  0 251]]\n"
     ]
    }
   ],
   "source": []
  },
  {
   "cell_type": "code",
   "execution_count": 86,
   "metadata": {},
   "outputs": [
    {
     "output_type": "stream",
     "name": "stdout",
     "text": [
      "[[  0 252]\n",
      " [  0 251]]\n",
      "0.4990059642147117\n",
      "              precision    recall  f1-score   support\n",
      "\n",
      "           0       0.00      0.00      0.00       252\n",
      "           1       0.50      1.00      0.67       251\n",
      "\n",
      "    accuracy                           0.50       503\n",
      "   macro avg       0.25      0.50      0.33       503\n",
      "weighted avg       0.25      0.50      0.33       503\n",
      "\n",
      "C:\\Users\\sidha\\AppData\\Local\\Programs\\Python\\Python38\\lib\\site-packages\\sklearn\\metrics\\_classification.py:1248: UndefinedMetricWarning: Precision and F-score are ill-defined and being set to 0.0 in labels with no predicted samples. Use `zero_division` parameter to control this behavior.\n",
      "  _warn_prf(average, modifier, msg_start, len(result))\n",
      "C:\\Users\\sidha\\AppData\\Local\\Programs\\Python\\Python38\\lib\\site-packages\\sklearn\\metrics\\_classification.py:1248: UndefinedMetricWarning: Precision and F-score are ill-defined and being set to 0.0 in labels with no predicted samples. Use `zero_division` parameter to control this behavior.\n",
      "  _warn_prf(average, modifier, msg_start, len(result))\n",
      "C:\\Users\\sidha\\AppData\\Local\\Programs\\Python\\Python38\\lib\\site-packages\\sklearn\\metrics\\_classification.py:1248: UndefinedMetricWarning: Precision and F-score are ill-defined and being set to 0.0 in labels with no predicted samples. Use `zero_division` parameter to control this behavior.\n",
      "  _warn_prf(average, modifier, msg_start, len(result))\n"
     ]
    }
   ],
   "source": [
    "#confusion matrix, accuracy, classification report\n",
    "print(metrics.confusion_matrix(Y_test,Y_predict))\n",
    "print(metrics.accuracy_score(Y_test,Y_predict))\n",
    "print(metrics.classification_report(Y_test, Y_predict))"
   ]
  },
  {
   "cell_type": "code",
   "execution_count": 87,
   "metadata": {},
   "outputs": [
    {
     "output_type": "stream",
     "name": "stderr",
     "text": [
      "C:\\Users\\sidha\\AppData\\Local\\Programs\\Python\\Python38\\lib\\site-packages\\sklearn\\linear_model\\_logistic.py:1322: UserWarning: Setting penalty='none' will ignore the C and l1_ratio parameters\n",
      "  warnings.warn(\n",
      "C:\\Users\\sidha\\AppData\\Local\\Programs\\Python\\Python38\\lib\\site-packages\\sklearn\\linear_model\\_logistic.py:1322: UserWarning: Setting penalty='none' will ignore the C and l1_ratio parameters\n",
      "  warnings.warn(\n",
      "C:\\Users\\sidha\\AppData\\Local\\Programs\\Python\\Python38\\lib\\site-packages\\sklearn\\linear_model\\_sag.py:328: ConvergenceWarning: The max_iter was reached which means the coef_ did not converge\n",
      "  warnings.warn(\"The max_iter was reached which means \"\n",
      "C:\\Users\\sidha\\AppData\\Local\\Programs\\Python\\Python38\\lib\\site-packages\\sklearn\\linear_model\\_logistic.py:1322: UserWarning: Setting penalty='none' will ignore the C and l1_ratio parameters\n",
      "  warnings.warn(\n",
      "C:\\Users\\sidha\\AppData\\Local\\Programs\\Python\\Python38\\lib\\site-packages\\sklearn\\linear_model\\_logistic.py:1322: UserWarning: Setting penalty='none' will ignore the C and l1_ratio parameters\n",
      "  warnings.warn(\n",
      "C:\\Users\\sidha\\AppData\\Local\\Programs\\Python\\Python38\\lib\\site-packages\\sklearn\\linear_model\\_logistic.py:1322: UserWarning: Setting penalty='none' will ignore the C and l1_ratio parameters\n",
      "  warnings.warn(\n",
      "C:\\Users\\sidha\\AppData\\Local\\Programs\\Python\\Python38\\lib\\site-packages\\sklearn\\linear_model\\_sag.py:328: ConvergenceWarning: The max_iter was reached which means the coef_ did not converge\n",
      "  warnings.warn(\"The max_iter was reached which means \"\n",
      "C:\\Users\\sidha\\AppData\\Local\\Programs\\Python\\Python38\\lib\\site-packages\\sklearn\\linear_model\\_sag.py:328: ConvergenceWarning: The max_iter was reached which means the coef_ did not converge\n",
      "  warnings.warn(\"The max_iter was reached which means \"\n",
      "C:\\Users\\sidha\\AppData\\Local\\Programs\\Python\\Python38\\lib\\site-packages\\sklearn\\linear_model\\_sag.py:328: ConvergenceWarning: The max_iter was reached which means the coef_ did not converge\n",
      "  warnings.warn(\"The max_iter was reached which means \"\n",
      "C:\\Users\\sidha\\AppData\\Local\\Programs\\Python\\Python38\\lib\\site-packages\\sklearn\\linear_model\\_sag.py:328: ConvergenceWarning: The max_iter was reached which means the coef_ did not converge\n",
      "  warnings.warn(\"The max_iter was reached which means \"\n",
      "C:\\Users\\sidha\\AppData\\Local\\Programs\\Python\\Python38\\lib\\site-packages\\sklearn\\linear_model\\_sag.py:328: ConvergenceWarning: The max_iter was reached which means the coef_ did not converge\n",
      "  warnings.warn(\"The max_iter was reached which means \"\n",
      "C:\\Users\\sidha\\AppData\\Local\\Programs\\Python\\Python38\\lib\\site-packages\\sklearn\\linear_model\\_logistic.py:1322: UserWarning: Setting penalty='none' will ignore the C and l1_ratio parameters\n",
      "  warnings.warn(\n",
      "C:\\Users\\sidha\\AppData\\Local\\Programs\\Python\\Python38\\lib\\site-packages\\sklearn\\linear_model\\_logistic.py:1322: UserWarning: Setting penalty='none' will ignore the C and l1_ratio parameters\n",
      "  warnings.warn(\n",
      "C:\\Users\\sidha\\AppData\\Local\\Programs\\Python\\Python38\\lib\\site-packages\\sklearn\\linear_model\\_sag.py:328: ConvergenceWarning: The max_iter was reached which means the coef_ did not converge\n",
      "  warnings.warn(\"The max_iter was reached which means \"\n",
      "C:\\Users\\sidha\\AppData\\Local\\Programs\\Python\\Python38\\lib\\site-packages\\sklearn\\linear_model\\_logistic.py:1322: UserWarning: Setting penalty='none' will ignore the C and l1_ratio parameters\n",
      "  warnings.warn(\n",
      "C:\\Users\\sidha\\AppData\\Local\\Programs\\Python\\Python38\\lib\\site-packages\\sklearn\\linear_model\\_logistic.py:1322: UserWarning: Setting penalty='none' will ignore the C and l1_ratio parameters\n",
      "  warnings.warn(\n",
      "C:\\Users\\sidha\\AppData\\Local\\Programs\\Python\\Python38\\lib\\site-packages\\sklearn\\linear_model\\_logistic.py:1322: UserWarning: Setting penalty='none' will ignore the C and l1_ratio parameters\n",
      "  warnings.warn(\n",
      "C:\\Users\\sidha\\AppData\\Local\\Programs\\Python\\Python38\\lib\\site-packages\\sklearn\\linear_model\\_sag.py:328: ConvergenceWarning: The max_iter was reached which means the coef_ did not converge\n",
      "  warnings.warn(\"The max_iter was reached which means \"\n",
      "C:\\Users\\sidha\\AppData\\Local\\Programs\\Python\\Python38\\lib\\site-packages\\sklearn\\linear_model\\_sag.py:328: ConvergenceWarning: The max_iter was reached which means the coef_ did not converge\n",
      "  warnings.warn(\"The max_iter was reached which means \"\n",
      "C:\\Users\\sidha\\AppData\\Local\\Programs\\Python\\Python38\\lib\\site-packages\\sklearn\\linear_model\\_sag.py:328: ConvergenceWarning: The max_iter was reached which means the coef_ did not converge\n",
      "  warnings.warn(\"The max_iter was reached which means \"\n",
      "C:\\Users\\sidha\\AppData\\Local\\Programs\\Python\\Python38\\lib\\site-packages\\sklearn\\linear_model\\_sag.py:328: ConvergenceWarning: The max_iter was reached which means the coef_ did not converge\n",
      "  warnings.warn(\"The max_iter was reached which means \"\n",
      "C:\\Users\\sidha\\AppData\\Local\\Programs\\Python\\Python38\\lib\\site-packages\\sklearn\\linear_model\\_sag.py:328: ConvergenceWarning: The max_iter was reached which means the coef_ did not converge\n",
      "  warnings.warn(\"The max_iter was reached which means \"\n",
      "C:\\Users\\sidha\\AppData\\Local\\Programs\\Python\\Python38\\lib\\site-packages\\sklearn\\linear_model\\_logistic.py:1322: UserWarning: Setting penalty='none' will ignore the C and l1_ratio parameters\n",
      "  warnings.warn(\n",
      "C:\\Users\\sidha\\AppData\\Local\\Programs\\Python\\Python38\\lib\\site-packages\\sklearn\\linear_model\\_logistic.py:1322: UserWarning: Setting penalty='none' will ignore the C and l1_ratio parameters\n",
      "  warnings.warn(\n",
      "C:\\Users\\sidha\\AppData\\Local\\Programs\\Python\\Python38\\lib\\site-packages\\sklearn\\linear_model\\_sag.py:328: ConvergenceWarning: The max_iter was reached which means the coef_ did not converge\n",
      "  warnings.warn(\"The max_iter was reached which means \"\n",
      "C:\\Users\\sidha\\AppData\\Local\\Programs\\Python\\Python38\\lib\\site-packages\\sklearn\\linear_model\\_logistic.py:1322: UserWarning: Setting penalty='none' will ignore the C and l1_ratio parameters\n",
      "  warnings.warn(\n",
      "C:\\Users\\sidha\\AppData\\Local\\Programs\\Python\\Python38\\lib\\site-packages\\sklearn\\linear_model\\_logistic.py:1322: UserWarning: Setting penalty='none' will ignore the C and l1_ratio parameters\n",
      "  warnings.warn(\n",
      "C:\\Users\\sidha\\AppData\\Local\\Programs\\Python\\Python38\\lib\\site-packages\\sklearn\\linear_model\\_logistic.py:1322: UserWarning: Setting penalty='none' will ignore the C and l1_ratio parameters\n",
      "  warnings.warn(\n",
      "C:\\Users\\sidha\\AppData\\Local\\Programs\\Python\\Python38\\lib\\site-packages\\sklearn\\linear_model\\_sag.py:328: ConvergenceWarning: The max_iter was reached which means the coef_ did not converge\n",
      "  warnings.warn(\"The max_iter was reached which means \"\n",
      "C:\\Users\\sidha\\AppData\\Local\\Programs\\Python\\Python38\\lib\\site-packages\\sklearn\\linear_model\\_sag.py:328: ConvergenceWarning: The max_iter was reached which means the coef_ did not converge\n",
      "  warnings.warn(\"The max_iter was reached which means \"\n",
      "C:\\Users\\sidha\\AppData\\Local\\Programs\\Python\\Python38\\lib\\site-packages\\sklearn\\linear_model\\_sag.py:328: ConvergenceWarning: The max_iter was reached which means the coef_ did not converge\n",
      "  warnings.warn(\"The max_iter was reached which means \"\n",
      "C:\\Users\\sidha\\AppData\\Local\\Programs\\Python\\Python38\\lib\\site-packages\\sklearn\\linear_model\\_sag.py:328: ConvergenceWarning: The max_iter was reached which means the coef_ did not converge\n",
      "  warnings.warn(\"The max_iter was reached which means \"\n",
      "C:\\Users\\sidha\\AppData\\Local\\Programs\\Python\\Python38\\lib\\site-packages\\sklearn\\linear_model\\_sag.py:328: ConvergenceWarning: The max_iter was reached which means the coef_ did not converge\n",
      "  warnings.warn(\"The max_iter was reached which means \"\n",
      "C:\\Users\\sidha\\AppData\\Local\\Programs\\Python\\Python38\\lib\\site-packages\\sklearn\\linear_model\\_sag.py:328: ConvergenceWarning: The max_iter was reached which means the coef_ did not converge\n",
      "  warnings.warn(\"The max_iter was reached which means \"\n",
      "C:\\Users\\sidha\\AppData\\Local\\Programs\\Python\\Python38\\lib\\site-packages\\sklearn\\linear_model\\_sag.py:328: ConvergenceWarning: The max_iter was reached which means the coef_ did not converge\n",
      "  warnings.warn(\"The max_iter was reached which means \"\n",
      "C:\\Users\\sidha\\AppData\\Local\\Programs\\Python\\Python38\\lib\\site-packages\\sklearn\\linear_model\\_sag.py:328: ConvergenceWarning: The max_iter was reached which means the coef_ did not converge\n",
      "  warnings.warn(\"The max_iter was reached which means \"\n",
      "C:\\Users\\sidha\\AppData\\Local\\Programs\\Python\\Python38\\lib\\site-packages\\sklearn\\linear_model\\_sag.py:328: ConvergenceWarning: The max_iter was reached which means the coef_ did not converge\n",
      "  warnings.warn(\"The max_iter was reached which means \"\n",
      "C:\\Users\\sidha\\AppData\\Local\\Programs\\Python\\Python38\\lib\\site-packages\\sklearn\\linear_model\\_sag.py:328: ConvergenceWarning: The max_iter was reached which means the coef_ did not converge\n",
      "  warnings.warn(\"The max_iter was reached which means \"\n",
      "C:\\Users\\sidha\\AppData\\Local\\Programs\\Python\\Python38\\lib\\site-packages\\sklearn\\linear_model\\_sag.py:328: ConvergenceWarning: The max_iter was reached which means the coef_ did not converge\n",
      "  warnings.warn(\"The max_iter was reached which means \"\n",
      "C:\\Users\\sidha\\AppData\\Local\\Programs\\Python\\Python38\\lib\\site-packages\\sklearn\\linear_model\\_logistic.py:1322: UserWarning: Setting penalty='none' will ignore the C and l1_ratio parameters\n",
      "  warnings.warn(\n",
      "C:\\Users\\sidha\\AppData\\Local\\Programs\\Python\\Python38\\lib\\site-packages\\sklearn\\linear_model\\_logistic.py:1322: UserWarning: Setting penalty='none' will ignore the C and l1_ratio parameters\n",
      "  warnings.warn(\n",
      "C:\\Users\\sidha\\AppData\\Local\\Programs\\Python\\Python38\\lib\\site-packages\\sklearn\\linear_model\\_sag.py:328: ConvergenceWarning: The max_iter was reached which means the coef_ did not converge\n",
      "  warnings.warn(\"The max_iter was reached which means \"\n",
      "C:\\Users\\sidha\\AppData\\Local\\Programs\\Python\\Python38\\lib\\site-packages\\sklearn\\linear_model\\_logistic.py:1322: UserWarning: Setting penalty='none' will ignore the C and l1_ratio parameters\n",
      "  warnings.warn(\n",
      "C:\\Users\\sidha\\AppData\\Local\\Programs\\Python\\Python38\\lib\\site-packages\\sklearn\\linear_model\\_logistic.py:1322: UserWarning: Setting penalty='none' will ignore the C and l1_ratio parameters\n",
      "  warnings.warn(\n",
      "C:\\Users\\sidha\\AppData\\Local\\Programs\\Python\\Python38\\lib\\site-packages\\sklearn\\linear_model\\_logistic.py:1322: UserWarning: Setting penalty='none' will ignore the C and l1_ratio parameters\n",
      "  warnings.warn(\n",
      "C:\\Users\\sidha\\AppData\\Local\\Programs\\Python\\Python38\\lib\\site-packages\\sklearn\\linear_model\\_sag.py:328: ConvergenceWarning: The max_iter was reached which means the coef_ did not converge\n",
      "  warnings.warn(\"The max_iter was reached which means \"\n",
      "C:\\Users\\sidha\\AppData\\Local\\Programs\\Python\\Python38\\lib\\site-packages\\sklearn\\linear_model\\_sag.py:328: ConvergenceWarning: The max_iter was reached which means the coef_ did not converge\n",
      "  warnings.warn(\"The max_iter was reached which means \"\n",
      "C:\\Users\\sidha\\AppData\\Local\\Programs\\Python\\Python38\\lib\\site-packages\\sklearn\\linear_model\\_sag.py:328: ConvergenceWarning: The max_iter was reached which means the coef_ did not converge\n",
      "  warnings.warn(\"The max_iter was reached which means \"\n",
      "C:\\Users\\sidha\\AppData\\Local\\Programs\\Python\\Python38\\lib\\site-packages\\sklearn\\linear_model\\_sag.py:328: ConvergenceWarning: The max_iter was reached which means the coef_ did not converge\n",
      "  warnings.warn(\"The max_iter was reached which means \"\n",
      "C:\\Users\\sidha\\AppData\\Local\\Programs\\Python\\Python38\\lib\\site-packages\\sklearn\\linear_model\\_sag.py:328: ConvergenceWarning: The max_iter was reached which means the coef_ did not converge\n",
      "  warnings.warn(\"The max_iter was reached which means \"\n",
      "C:\\Users\\sidha\\AppData\\Local\\Programs\\Python\\Python38\\lib\\site-packages\\sklearn\\linear_model\\_logistic.py:1322: UserWarning: Setting penalty='none' will ignore the C and l1_ratio parameters\n",
      "  warnings.warn(\n",
      "C:\\Users\\sidha\\AppData\\Local\\Programs\\Python\\Python38\\lib\\site-packages\\sklearn\\linear_model\\_sag.py:328: ConvergenceWarning: The max_iter was reached which means the coef_ did not converge\n",
      "  warnings.warn(\"The max_iter was reached which means \"\n"
     ]
    }
   ],
   "source": [
    "#Hyperparameter tuning\n",
    "clf = LogisticRegression(solver='saga', max_iter=800, random_state=0)\n",
    "param_grid = { 'penalty': ['none', 'l1', 'l2'], 'C': [0.05, 0.1, 0.5, 1, 5] }\n",
    "grid_search = GridSearchCV(clf, param_grid=param_grid)\n",
    "grid_search.fit(X, Y)\n",
    "result = grid_search.cv_results_\n"
   ]
  },
  {
   "cell_type": "code",
   "execution_count": 88,
   "metadata": {},
   "outputs": [
    {
     "output_type": "stream",
     "name": "stdout",
     "text": [
      "Tuned Logistic Regression Parameters: {'C': 0.05, 'penalty': 'none'}\nBest score is 0.5149105367793241\n"
     ]
    }
   ],
   "source": [
    "print(\"Tuned Logistic Regression Parameters: {}\".format(grid_search.best_params_)) \n",
    "print(\"Best score is {}\".format(grid_search.best_score_))"
   ]
  },
  {
   "cell_type": "code",
   "execution_count": null,
   "metadata": {},
   "outputs": [],
   "source": []
  }
 ]
}