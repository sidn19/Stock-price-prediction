{
 "metadata": {
  "language_info": {
   "codemirror_mode": {
    "name": "ipython",
    "version": 3
   },
   "file_extension": ".py",
   "mimetype": "text/x-python",
   "name": "python",
   "nbconvert_exporter": "python",
   "pygments_lexer": "ipython3",
   "version": "3.8.8"
  },
  "orig_nbformat": 4,
  "kernelspec": {
   "name": "python3",
   "display_name": "Python 3.8.8 64-bit"
  },
  "interpreter": {
   "hash": "38e0348de57a0fc1fbebb50b3594b5913e5291ce5479b817f728605ceeb4e713"
  }
 },
 "nbformat": 4,
 "nbformat_minor": 2,
 "cells": [
  {
   "cell_type": "code",
   "execution_count": 112,
   "metadata": {},
   "outputs": [],
   "source": [
    "import pandas as pd\n",
    "import numpy as np\n",
    "import seaborn as sns\n",
    "import matplotlib.pyplot as plt\n",
    "%matplotlib inline\n",
    "import talib as ta\n",
    "from sklearn.linear_model import LogisticRegression\n",
    "from sklearn import metrics"
   ]
  },
  {
   "cell_type": "code",
   "execution_count": 12,
   "metadata": {},
   "outputs": [
    {
     "output_type": "execute_result",
     "data": {
      "text/plain": [
       "           Close/Last     Volume      Open      High       Low\n",
       "Date                                                          \n",
       "2011-06-10   $11.6393  433801306  $11.8054   $11.845  $11.6254\n",
       "2011-06-13   $11.6643  329376468  $11.6857  $11.7254  $11.6096\n",
       "2011-06-14   $11.8729  333995906  $11.7857  $11.9018  $11.7611\n",
       "2011-06-15   $11.6696  395841722  $11.7768  $11.7964  $11.6029\n",
       "2011-06-16   $11.6129  507299317   $11.675  $11.7386  $11.3689"
      ],
      "text/html": "<div>\n<style scoped>\n    .dataframe tbody tr th:only-of-type {\n        vertical-align: middle;\n    }\n\n    .dataframe tbody tr th {\n        vertical-align: top;\n    }\n\n    .dataframe thead th {\n        text-align: right;\n    }\n</style>\n<table border=\"1\" class=\"dataframe\">\n  <thead>\n    <tr style=\"text-align: right;\">\n      <th></th>\n      <th>Close/Last</th>\n      <th>Volume</th>\n      <th>Open</th>\n      <th>High</th>\n      <th>Low</th>\n    </tr>\n    <tr>\n      <th>Date</th>\n      <th></th>\n      <th></th>\n      <th></th>\n      <th></th>\n      <th></th>\n    </tr>\n  </thead>\n  <tbody>\n    <tr>\n      <th>2011-06-10</th>\n      <td>$11.6393</td>\n      <td>433801306</td>\n      <td>$11.8054</td>\n      <td>$11.845</td>\n      <td>$11.6254</td>\n    </tr>\n    <tr>\n      <th>2011-06-13</th>\n      <td>$11.6643</td>\n      <td>329376468</td>\n      <td>$11.6857</td>\n      <td>$11.7254</td>\n      <td>$11.6096</td>\n    </tr>\n    <tr>\n      <th>2011-06-14</th>\n      <td>$11.8729</td>\n      <td>333995906</td>\n      <td>$11.7857</td>\n      <td>$11.9018</td>\n      <td>$11.7611</td>\n    </tr>\n    <tr>\n      <th>2011-06-15</th>\n      <td>$11.6696</td>\n      <td>395841722</td>\n      <td>$11.7768</td>\n      <td>$11.7964</td>\n      <td>$11.6029</td>\n    </tr>\n    <tr>\n      <th>2011-06-16</th>\n      <td>$11.6129</td>\n      <td>507299317</td>\n      <td>$11.675</td>\n      <td>$11.7386</td>\n      <td>$11.3689</td>\n    </tr>\n  </tbody>\n</table>\n</div>"
     },
     "metadata": {},
     "execution_count": 12
    }
   ],
   "source": [
    "apple_data = pd.read_csv(\"./Datasets/Historical/HistoricalData_APPLE.csv\", parse_dates=[\"Date\"], index_col=\"Date\")\n",
    "apple_data.index = pd.to_datetime(apple_data.index,format='%Y-%m-%d')\n",
    "apple_data = apple_data.sort_index(ascending=True, axis=0)\n",
    "apple_data.head()"
   ]
  },
  {
   "cell_type": "code",
   "execution_count": 13,
   "metadata": {},
   "outputs": [
    {
     "output_type": "execute_result",
     "data": {
      "text/plain": [
       "(2516, 5)"
      ]
     },
     "metadata": {},
     "execution_count": 13
    }
   ],
   "source": [
    "apple_data.shape"
   ]
  },
  {
   "cell_type": "code",
   "execution_count": 14,
   "metadata": {},
   "outputs": [],
   "source": [
    "apple_data['Open'] = apple_data['Open'].apply(lambda x: x.replace('$',''))\n",
    "apple_data['Open'] = apple_data['Open'].astype(float)\n",
    "\n",
    "apple_data['Close/Last'] = apple_data['Close/Last'].apply(lambda x: x.replace('$',''))\n",
    "apple_data['Close/Last'] = apple_data['Close/Last'].astype(float)\n",
    "\n",
    "apple_data['High'] = apple_data['High'].apply(lambda x: x.replace('$',''))\n",
    "apple_data['High'] = apple_data['High'].astype(float)\n",
    "\n",
    "apple_data['Low'] = apple_data['Low'].apply(lambda x: x.replace('$',''))\n",
    "apple_data['Low'] = apple_data['Low'].astype(float)"
   ]
  },
  {
   "cell_type": "code",
   "execution_count": 15,
   "metadata": {},
   "outputs": [
    {
     "output_type": "execute_result",
     "data": {
      "text/plain": [
       "        Close/Last        Volume         Open         High          Low\n",
       "count  2516.000000  2.516000e+03  2516.000000  2516.000000  2516.000000\n",
       "mean     41.277389  2.388826e+08    41.268871    41.698470    40.829849\n",
       "std      30.304841  1.914594e+08    30.319067    30.698585    29.893474\n",
       "min      11.261400  4.544820e+07    11.310000    11.346400    11.089300\n",
       "25%      21.215550  1.092658e+08    21.244100    21.423600    20.992800\n",
       "50%      29.592500  1.679334e+08    29.505000    29.810000    29.281250\n",
       "75%      47.733750  3.022477e+08    47.770625    47.996250    47.371250\n",
       "max     143.160000  1.498071e+09   143.600000   145.090000   141.370000"
      ],
      "text/html": "<div>\n<style scoped>\n    .dataframe tbody tr th:only-of-type {\n        vertical-align: middle;\n    }\n\n    .dataframe tbody tr th {\n        vertical-align: top;\n    }\n\n    .dataframe thead th {\n        text-align: right;\n    }\n</style>\n<table border=\"1\" class=\"dataframe\">\n  <thead>\n    <tr style=\"text-align: right;\">\n      <th></th>\n      <th>Close/Last</th>\n      <th>Volume</th>\n      <th>Open</th>\n      <th>High</th>\n      <th>Low</th>\n    </tr>\n  </thead>\n  <tbody>\n    <tr>\n      <th>count</th>\n      <td>2516.000000</td>\n      <td>2.516000e+03</td>\n      <td>2516.000000</td>\n      <td>2516.000000</td>\n      <td>2516.000000</td>\n    </tr>\n    <tr>\n      <th>mean</th>\n      <td>41.277389</td>\n      <td>2.388826e+08</td>\n      <td>41.268871</td>\n      <td>41.698470</td>\n      <td>40.829849</td>\n    </tr>\n    <tr>\n      <th>std</th>\n      <td>30.304841</td>\n      <td>1.914594e+08</td>\n      <td>30.319067</td>\n      <td>30.698585</td>\n      <td>29.893474</td>\n    </tr>\n    <tr>\n      <th>min</th>\n      <td>11.261400</td>\n      <td>4.544820e+07</td>\n      <td>11.310000</td>\n      <td>11.346400</td>\n      <td>11.089300</td>\n    </tr>\n    <tr>\n      <th>25%</th>\n      <td>21.215550</td>\n      <td>1.092658e+08</td>\n      <td>21.244100</td>\n      <td>21.423600</td>\n      <td>20.992800</td>\n    </tr>\n    <tr>\n      <th>50%</th>\n      <td>29.592500</td>\n      <td>1.679334e+08</td>\n      <td>29.505000</td>\n      <td>29.810000</td>\n      <td>29.281250</td>\n    </tr>\n    <tr>\n      <th>75%</th>\n      <td>47.733750</td>\n      <td>3.022477e+08</td>\n      <td>47.770625</td>\n      <td>47.996250</td>\n      <td>47.371250</td>\n    </tr>\n    <tr>\n      <th>max</th>\n      <td>143.160000</td>\n      <td>1.498071e+09</td>\n      <td>143.600000</td>\n      <td>145.090000</td>\n      <td>141.370000</td>\n    </tr>\n  </tbody>\n</table>\n</div>"
     },
     "metadata": {},
     "execution_count": 15
    }
   ],
   "source": [
    "apple_data.describe()"
   ]
  },
  {
   "cell_type": "code",
   "execution_count": 16,
   "metadata": {},
   "outputs": [],
   "source": [
    "apple_data['S_10'] = apple_data['Close/Last'].rolling(window=10).mean()\n",
    "apple_data['Corr'] = apple_data['Close/Last'].rolling(window=10).corr(apple_data['S_10'])\n",
    "apple_data['RSI'] = ta.RSI(np.array(apple_data['Close/Last']), timeperiod =10)\n",
    "apple_data['Open-Close'] = apple_data['Open'] - apple_data['Close/Last'].shift(1)\n",
    "apple_data['Open-Open'] = apple_data['Open'] - apple_data['Open'].shift(1)\n",
    "apple_data = apple_data.dropna()\n",
    "X = apple_data.iloc[:,:9]"
   ]
  },
  {
   "cell_type": "code",
   "execution_count": 17,
   "metadata": {},
   "outputs": [
    {
     "output_type": "execute_result",
     "data": {
      "text/plain": [
       "            Close/Last     Volume      Open      High       Low       S_10  \\\n",
       "Date                                                                         \n",
       "2011-07-07     12.7571  398385801   12.6668   12.7857   12.6429   12.12943   \n",
       "2011-07-08     12.8468  489331164   12.6193   12.8571   12.5786   12.23115   \n",
       "2011-07-11     12.6429  441465743   12.7264   12.8489   12.6007   12.32990   \n",
       "2011-07-12     12.6339  450866740   12.6261   12.7743   12.4507   12.40743   \n",
       "2011-07-13     12.7864  390229404   12.7975   12.8571   12.7279   12.48871   \n",
       "...                ...        ...       ...       ...       ...        ...   \n",
       "2021-06-03    123.5400   76229170  124.6800  124.8500  123.1300  125.63600   \n",
       "2021-06-04    125.8900   75169340  124.0700  126.1600  123.8500  125.49400   \n",
       "2021-06-07    125.9000   71057550  126.1700  126.3200  124.8321  125.54100   \n",
       "2021-06-08    126.7400   74403770  126.6000  128.4600  126.2101  125.50500   \n",
       "2021-06-09    127.1300   56877940  127.2100  127.7500  126.5200  125.52800   \n",
       "\n",
       "                Corr        RSI  Open-Close  \n",
       "Date                                         \n",
       "2011-07-07  0.975606  75.187594      0.1039  \n",
       "2011-07-08  0.975247  76.614376     -0.1378  \n",
       "2011-07-11  0.938690  66.898395     -0.1204  \n",
       "2011-07-12  0.890211  66.484888     -0.0168  \n",
       "2011-07-13  0.869988  69.978565      0.1636  \n",
       "...              ...        ...         ...  \n",
       "2021-06-03  0.372929  38.038837     -0.3800  \n",
       "2021-06-04  0.155174  48.941592      0.5300  \n",
       "2021-06-07  0.106117  48.984035      0.2800  \n",
       "2021-06-08  0.042342  52.657164      0.7000  \n",
       "2021-06-09 -0.096381  54.352629      0.4700  \n",
       "\n",
       "[2498 rows x 9 columns]"
      ],
      "text/html": "<div>\n<style scoped>\n    .dataframe tbody tr th:only-of-type {\n        vertical-align: middle;\n    }\n\n    .dataframe tbody tr th {\n        vertical-align: top;\n    }\n\n    .dataframe thead th {\n        text-align: right;\n    }\n</style>\n<table border=\"1\" class=\"dataframe\">\n  <thead>\n    <tr style=\"text-align: right;\">\n      <th></th>\n      <th>Close/Last</th>\n      <th>Volume</th>\n      <th>Open</th>\n      <th>High</th>\n      <th>Low</th>\n      <th>S_10</th>\n      <th>Corr</th>\n      <th>RSI</th>\n      <th>Open-Close</th>\n    </tr>\n    <tr>\n      <th>Date</th>\n      <th></th>\n      <th></th>\n      <th></th>\n      <th></th>\n      <th></th>\n      <th></th>\n      <th></th>\n      <th></th>\n      <th></th>\n    </tr>\n  </thead>\n  <tbody>\n    <tr>\n      <th>2011-07-07</th>\n      <td>12.7571</td>\n      <td>398385801</td>\n      <td>12.6668</td>\n      <td>12.7857</td>\n      <td>12.6429</td>\n      <td>12.12943</td>\n      <td>0.975606</td>\n      <td>75.187594</td>\n      <td>0.1039</td>\n    </tr>\n    <tr>\n      <th>2011-07-08</th>\n      <td>12.8468</td>\n      <td>489331164</td>\n      <td>12.6193</td>\n      <td>12.8571</td>\n      <td>12.5786</td>\n      <td>12.23115</td>\n      <td>0.975247</td>\n      <td>76.614376</td>\n      <td>-0.1378</td>\n    </tr>\n    <tr>\n      <th>2011-07-11</th>\n      <td>12.6429</td>\n      <td>441465743</td>\n      <td>12.7264</td>\n      <td>12.8489</td>\n      <td>12.6007</td>\n      <td>12.32990</td>\n      <td>0.938690</td>\n      <td>66.898395</td>\n      <td>-0.1204</td>\n    </tr>\n    <tr>\n      <th>2011-07-12</th>\n      <td>12.6339</td>\n      <td>450866740</td>\n      <td>12.6261</td>\n      <td>12.7743</td>\n      <td>12.4507</td>\n      <td>12.40743</td>\n      <td>0.890211</td>\n      <td>66.484888</td>\n      <td>-0.0168</td>\n    </tr>\n    <tr>\n      <th>2011-07-13</th>\n      <td>12.7864</td>\n      <td>390229404</td>\n      <td>12.7975</td>\n      <td>12.8571</td>\n      <td>12.7279</td>\n      <td>12.48871</td>\n      <td>0.869988</td>\n      <td>69.978565</td>\n      <td>0.1636</td>\n    </tr>\n    <tr>\n      <th>...</th>\n      <td>...</td>\n      <td>...</td>\n      <td>...</td>\n      <td>...</td>\n      <td>...</td>\n      <td>...</td>\n      <td>...</td>\n      <td>...</td>\n      <td>...</td>\n    </tr>\n    <tr>\n      <th>2021-06-03</th>\n      <td>123.5400</td>\n      <td>76229170</td>\n      <td>124.6800</td>\n      <td>124.8500</td>\n      <td>123.1300</td>\n      <td>125.63600</td>\n      <td>0.372929</td>\n      <td>38.038837</td>\n      <td>-0.3800</td>\n    </tr>\n    <tr>\n      <th>2021-06-04</th>\n      <td>125.8900</td>\n      <td>75169340</td>\n      <td>124.0700</td>\n      <td>126.1600</td>\n      <td>123.8500</td>\n      <td>125.49400</td>\n      <td>0.155174</td>\n      <td>48.941592</td>\n      <td>0.5300</td>\n    </tr>\n    <tr>\n      <th>2021-06-07</th>\n      <td>125.9000</td>\n      <td>71057550</td>\n      <td>126.1700</td>\n      <td>126.3200</td>\n      <td>124.8321</td>\n      <td>125.54100</td>\n      <td>0.106117</td>\n      <td>48.984035</td>\n      <td>0.2800</td>\n    </tr>\n    <tr>\n      <th>2021-06-08</th>\n      <td>126.7400</td>\n      <td>74403770</td>\n      <td>126.6000</td>\n      <td>128.4600</td>\n      <td>126.2101</td>\n      <td>125.50500</td>\n      <td>0.042342</td>\n      <td>52.657164</td>\n      <td>0.7000</td>\n    </tr>\n    <tr>\n      <th>2021-06-09</th>\n      <td>127.1300</td>\n      <td>56877940</td>\n      <td>127.2100</td>\n      <td>127.7500</td>\n      <td>126.5200</td>\n      <td>125.52800</td>\n      <td>-0.096381</td>\n      <td>54.352629</td>\n      <td>0.4700</td>\n    </tr>\n  </tbody>\n</table>\n<p>2498 rows × 9 columns</p>\n</div>"
     },
     "metadata": {},
     "execution_count": 17
    }
   ],
   "source": [
    "X"
   ]
  },
  {
   "cell_type": "code",
   "execution_count": 50,
   "metadata": {},
   "outputs": [
    {
     "output_type": "execute_result",
     "data": {
      "text/plain": [
       "array([1, 0, 0, ..., 1, 1, 0])"
      ]
     },
     "metadata": {},
     "execution_count": 50
    }
   ],
   "source": [
    "Y = np.where(apple_data['Close/Last'].shift(-1) > apple_data['Close/Last'],1,0)\n",
    "Y"
   ]
  },
  {
   "cell_type": "code",
   "execution_count": 78,
   "metadata": {},
   "outputs": [],
   "source": [
    "split = int(0.7*len(apple_data))\n",
    "X_train, X_test, Y_train, Y_test = X[:split], X[split:], Y[:split], Y[split:]"
   ]
  },
  {
   "cell_type": "code",
   "execution_count": 79,
   "metadata": {},
   "outputs": [],
   "source": [
    "log_model = LogisticRegression()\n",
    "log_model = log_model.fit(X_train,Y_train)"
   ]
  },
  {
   "cell_type": "code",
   "execution_count": 80,
   "metadata": {},
   "outputs": [
    {
     "output_type": "execute_result",
     "data": {
      "text/plain": [
       "            0                         1\n",
       "0  Close/Last  [2.1353967115329352e-17]\n",
       "1      Volume   [9.765555004474918e-11]\n",
       "2        Open  [2.1663012260688275e-17]\n",
       "3        High  [2.1731279882691568e-17]\n",
       "4         Low  [2.1370004857113262e-17]\n",
       "5        S_10  [2.0692004121819012e-17]\n",
       "6        Corr  [1.0343380419403885e-18]\n",
       "7         RSI   [7.919555985055324e-17]\n",
       "8  Open-Close  [1.0027875778830853e-19]"
      ],
      "text/html": "<div>\n<style scoped>\n    .dataframe tbody tr th:only-of-type {\n        vertical-align: middle;\n    }\n\n    .dataframe tbody tr th {\n        vertical-align: top;\n    }\n\n    .dataframe thead th {\n        text-align: right;\n    }\n</style>\n<table border=\"1\" class=\"dataframe\">\n  <thead>\n    <tr style=\"text-align: right;\">\n      <th></th>\n      <th>0</th>\n      <th>1</th>\n    </tr>\n  </thead>\n  <tbody>\n    <tr>\n      <th>0</th>\n      <td>Close/Last</td>\n      <td>[2.1353967115329352e-17]</td>\n    </tr>\n    <tr>\n      <th>1</th>\n      <td>Volume</td>\n      <td>[9.765555004474918e-11]</td>\n    </tr>\n    <tr>\n      <th>2</th>\n      <td>Open</td>\n      <td>[2.1663012260688275e-17]</td>\n    </tr>\n    <tr>\n      <th>3</th>\n      <td>High</td>\n      <td>[2.1731279882691568e-17]</td>\n    </tr>\n    <tr>\n      <th>4</th>\n      <td>Low</td>\n      <td>[2.1370004857113262e-17]</td>\n    </tr>\n    <tr>\n      <th>5</th>\n      <td>S_10</td>\n      <td>[2.0692004121819012e-17]</td>\n    </tr>\n    <tr>\n      <th>6</th>\n      <td>Corr</td>\n      <td>[1.0343380419403885e-18]</td>\n    </tr>\n    <tr>\n      <th>7</th>\n      <td>RSI</td>\n      <td>[7.919555985055324e-17]</td>\n    </tr>\n    <tr>\n      <th>8</th>\n      <td>Open-Close</td>\n      <td>[1.0027875778830853e-19]</td>\n    </tr>\n  </tbody>\n</table>\n</div>"
     },
     "metadata": {},
     "execution_count": 80
    }
   ],
   "source": [
    "pd.DataFrame(zip(X.columns, np.transpose(log_model.coef_)))"
   ]
  },
  {
   "cell_type": "code",
   "execution_count": 81,
   "metadata": {},
   "outputs": [
    {
     "output_type": "execute_result",
     "data": {
      "text/plain": [
       "array([[0.49819744, 0.50180256],\n",
       "       [0.49672482, 0.50327518],\n",
       "       [0.49799904, 0.50200096],\n",
       "       ...,\n",
       "       [0.49826522, 0.50173478],\n",
       "       [0.49818352, 0.50181648],\n",
       "       [0.49861139, 0.50138861]])"
      ]
     },
     "metadata": {},
     "execution_count": 81
    }
   ],
   "source": [
    "probability = log_model.predict_proba(X_test)\n",
    "probability"
   ]
  },
  {
   "cell_type": "code",
   "execution_count": 82,
   "metadata": {},
   "outputs": [],
   "source": [
    "Y_predicted = log_model.predict(X_test)"
   ]
  },
  {
   "cell_type": "code",
   "execution_count": 83,
   "metadata": {},
   "outputs": [
    {
     "output_type": "stream",
     "name": "stdout",
     "text": [
      "[[  0 343]\n [  0 407]]\n"
     ]
    }
   ],
   "source": [
    "print(metrics.confusion_matrix(Y_test,Y_predicted))"
   ]
  },
  {
   "cell_type": "code",
   "execution_count": 84,
   "metadata": {},
   "outputs": [
    {
     "output_type": "execute_result",
     "data": {
      "text/plain": [
       "0.5426666666666666"
      ]
     },
     "metadata": {},
     "execution_count": 84
    }
   ],
   "source": [
    "log_model.score(X_test,Y_test)"
   ]
  },
  {
   "cell_type": "code",
   "execution_count": 85,
   "metadata": {},
   "outputs": [
    {
     "output_type": "stream",
     "name": "stdout",
     "text": [
      "              precision    recall  f1-score   support\n",
      "\n",
      "           0       0.00      0.00      0.00       343\n",
      "           1       0.54      1.00      0.70       407\n",
      "\n",
      "    accuracy                           0.54       750\n",
      "   macro avg       0.27      0.50      0.35       750\n",
      "weighted avg       0.29      0.54      0.38       750\n",
      "\n",
      "C:\\Users\\sidha\\AppData\\Local\\Programs\\Python\\Python38\\lib\\site-packages\\sklearn\\metrics\\_classification.py:1248: UndefinedMetricWarning: Precision and F-score are ill-defined and being set to 0.0 in labels with no predicted samples. Use `zero_division` parameter to control this behavior.\n",
      "  _warn_prf(average, modifier, msg_start, len(result))\n",
      "C:\\Users\\sidha\\AppData\\Local\\Programs\\Python\\Python38\\lib\\site-packages\\sklearn\\metrics\\_classification.py:1248: UndefinedMetricWarning: Precision and F-score are ill-defined and being set to 0.0 in labels with no predicted samples. Use `zero_division` parameter to control this behavior.\n",
      "  _warn_prf(average, modifier, msg_start, len(result))\n",
      "C:\\Users\\sidha\\AppData\\Local\\Programs\\Python\\Python38\\lib\\site-packages\\sklearn\\metrics\\_classification.py:1248: UndefinedMetricWarning: Precision and F-score are ill-defined and being set to 0.0 in labels with no predicted samples. Use `zero_division` parameter to control this behavior.\n",
      "  _warn_prf(average, modifier, msg_start, len(result))\n"
     ]
    }
   ],
   "source": [
    "print(metrics.classification_report(Y_test, Y_predicted))"
   ]
  },
  {
   "cell_type": "code",
   "execution_count": 90,
   "metadata": {},
   "outputs": [
    {
     "output_type": "stream",
     "name": "stdout",
     "text": [
      "Tuned Logistic Regression Parameters: {'C': 100000.0}\nBest score is 0.5240192461415484\n"
     ]
    }
   ],
   "source": [
    "from sklearn.model_selection import GridSearchCV\n",
    "\n",
    "c_space = np.logspace(5, 20, 70)\n",
    "param_grid = {'C': c_space}\n",
    "\n",
    "logreg = LogisticRegression()\n",
    "\n",
    "logreg_cv = GridSearchCV(logreg, param_grid, cv = 6)\n",
    "  \n",
    "logreg_cv.fit(X, Y)\n",
    "\n",
    "print(\"Tuned Logistic Regression Parameters: {}\".format(logreg_cv.best_params_)) \n",
    "print(\"Best score is {}\".format(logreg_cv.best_score_))"
   ]
  },
  {
   "cell_type": "code",
   "execution_count": null,
   "metadata": {},
   "outputs": [],
   "source": []
  }
 ]
}