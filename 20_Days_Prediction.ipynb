{
  "nbformat": 4,
  "nbformat_minor": 0,
  "metadata": {
    "colab": {
      "name": "20 Days Prediction.ipynb",
      "provenance": [],
      "collapsed_sections": []
    },
    "kernelspec": {
      "name": "python3",
      "display_name": "Python 3"
    },
    "language_info": {
      "name": "python"
    }
  },
  "cells": [
    {
      "cell_type": "code",
      "metadata": {
        "id": "knvxUfmZXguE"
      },
      "source": [
        "import pandas as pd\n",
        "stock_data = pd.read_csv(\"/content/Stock_Data.csv\",parse_dates=[\"Date\"],index_col=\"Date\")"
      ],
      "execution_count": 380,
      "outputs": []
    },
    {
      "cell_type": "code",
      "metadata": {
        "colab": {
          "base_uri": "https://localhost:8080/",
          "height": 233
        },
        "id": "odk8yQxMZsCh",
        "outputId": "789fb001-70a5-4232-fa7d-2ba1eb7e606f"
      },
      "source": [
        "stock_data.head()"
      ],
      "execution_count": 381,
      "outputs": [
        {
          "output_type": "execute_result",
          "data": {
            "text/html": [
              "<div>\n",
              "<style scoped>\n",
              "    .dataframe tbody tr th:only-of-type {\n",
              "        vertical-align: middle;\n",
              "    }\n",
              "\n",
              "    .dataframe tbody tr th {\n",
              "        vertical-align: top;\n",
              "    }\n",
              "\n",
              "    .dataframe thead th {\n",
              "        text-align: right;\n",
              "    }\n",
              "</style>\n",
              "<table border=\"1\" class=\"dataframe\">\n",
              "  <thead>\n",
              "    <tr style=\"text-align: right;\">\n",
              "      <th></th>\n",
              "      <th>Close/Last</th>\n",
              "      <th>compound</th>\n",
              "      <th>negative</th>\n",
              "      <th>neutral</th>\n",
              "      <th>positive</th>\n",
              "      <th>Open</th>\n",
              "      <th>High</th>\n",
              "      <th>Low</th>\n",
              "      <th>Volume</th>\n",
              "    </tr>\n",
              "    <tr>\n",
              "      <th>Date</th>\n",
              "      <th></th>\n",
              "      <th></th>\n",
              "      <th></th>\n",
              "      <th></th>\n",
              "      <th></th>\n",
              "      <th></th>\n",
              "      <th></th>\n",
              "      <th></th>\n",
              "      <th></th>\n",
              "    </tr>\n",
              "  </thead>\n",
              "  <tbody>\n",
              "    <tr>\n",
              "      <th>2015-01-02</th>\n",
              "      <td>27.3325</td>\n",
              "      <td>0.1943</td>\n",
              "      <td>0.116</td>\n",
              "      <td>0.749</td>\n",
              "      <td>0.135</td>\n",
              "      <td>27.8475</td>\n",
              "      <td>27.8600</td>\n",
              "      <td>26.8375</td>\n",
              "      <td>212575080.0</td>\n",
              "    </tr>\n",
              "    <tr>\n",
              "      <th>2015-01-05</th>\n",
              "      <td>26.5625</td>\n",
              "      <td>0.9748</td>\n",
              "      <td>0.061</td>\n",
              "      <td>0.831</td>\n",
              "      <td>0.107</td>\n",
              "      <td>27.0725</td>\n",
              "      <td>27.1625</td>\n",
              "      <td>26.3525</td>\n",
              "      <td>256843520.0</td>\n",
              "    </tr>\n",
              "    <tr>\n",
              "      <th>2015-01-06</th>\n",
              "      <td>26.5650</td>\n",
              "      <td>0.9932</td>\n",
              "      <td>0.034</td>\n",
              "      <td>0.862</td>\n",
              "      <td>0.105</td>\n",
              "      <td>26.6350</td>\n",
              "      <td>26.8575</td>\n",
              "      <td>26.1575</td>\n",
              "      <td>262729000.0</td>\n",
              "    </tr>\n",
              "    <tr>\n",
              "      <th>2015-01-07</th>\n",
              "      <td>26.9375</td>\n",
              "      <td>0.9866</td>\n",
              "      <td>0.059</td>\n",
              "      <td>0.812</td>\n",
              "      <td>0.129</td>\n",
              "      <td>26.8000</td>\n",
              "      <td>27.0500</td>\n",
              "      <td>26.6737</td>\n",
              "      <td>159933400.0</td>\n",
              "    </tr>\n",
              "    <tr>\n",
              "      <th>2015-01-08</th>\n",
              "      <td>27.9725</td>\n",
              "      <td>0.4939</td>\n",
              "      <td>0.059</td>\n",
              "      <td>0.827</td>\n",
              "      <td>0.114</td>\n",
              "      <td>27.3075</td>\n",
              "      <td>28.0375</td>\n",
              "      <td>27.1750</td>\n",
              "      <td>236675040.0</td>\n",
              "    </tr>\n",
              "  </tbody>\n",
              "</table>\n",
              "</div>"
            ],
            "text/plain": [
              "            Close/Last  compound  negative  ...     High      Low       Volume\n",
              "Date                                        ...                               \n",
              "2015-01-02     27.3325    0.1943     0.116  ...  27.8600  26.8375  212575080.0\n",
              "2015-01-05     26.5625    0.9748     0.061  ...  27.1625  26.3525  256843520.0\n",
              "2015-01-06     26.5650    0.9932     0.034  ...  26.8575  26.1575  262729000.0\n",
              "2015-01-07     26.9375    0.9866     0.059  ...  27.0500  26.6737  159933400.0\n",
              "2015-01-08     27.9725    0.4939     0.059  ...  28.0375  27.1750  236675040.0\n",
              "\n",
              "[5 rows x 9 columns]"
            ]
          },
          "metadata": {
            "tags": []
          },
          "execution_count": 381
        }
      ]
    },
    {
      "cell_type": "code",
      "metadata": {
        "colab": {
          "base_uri": "https://localhost:8080/"
        },
        "id": "84AsW4B4ZvCe",
        "outputId": "62b30372-2938-420a-be4a-5a57f50502f6"
      },
      "source": [
        "stock_data.shape"
      ],
      "execution_count": 382,
      "outputs": [
        {
          "output_type": "execute_result",
          "data": {
            "text/plain": [
              "(1572, 9)"
            ]
          },
          "metadata": {
            "tags": []
          },
          "execution_count": 382
        }
      ]
    },
    {
      "cell_type": "code",
      "metadata": {
        "id": "TAfm2u1yZx0f"
      },
      "source": [
        "actual = stock_data[\"Close/Last\"]"
      ],
      "execution_count": 383,
      "outputs": []
    },
    {
      "cell_type": "code",
      "metadata": {
        "colab": {
          "base_uri": "https://localhost:8080/"
        },
        "id": "xnr9Owm6P9_3",
        "outputId": "6ab4cd0a-500a-4ff3-e618-48b5dfc48c91"
      },
      "source": [
        "actual"
      ],
      "execution_count": 384,
      "outputs": [
        {
          "output_type": "execute_result",
          "data": {
            "text/plain": [
              "Date\n",
              "2015-01-02     27.3325\n",
              "2015-01-05     26.5625\n",
              "2015-01-06     26.5650\n",
              "2015-01-07     26.9375\n",
              "2015-01-08     27.9725\n",
              "                ...   \n",
              "2021-06-17    131.7900\n",
              "2021-06-18    130.4600\n",
              "2021-06-21    132.3000\n",
              "2021-06-22    133.9800\n",
              "2021-06-23    133.7000\n",
              "Name: Close/Last, Length: 1572, dtype: float64"
            ]
          },
          "metadata": {
            "tags": []
          },
          "execution_count": 384
        }
      ]
    },
    {
      "cell_type": "code",
      "metadata": {
        "colab": {
          "base_uri": "https://localhost:8080/",
          "height": 281
        },
        "id": "FLSGxscvP_Wh",
        "outputId": "813a6f89-b319-42e5-91c9-1c7704109466"
      },
      "source": [
        "import matplotlib.pyplot as plt\n",
        "plt.plot(actual)"
      ],
      "execution_count": 385,
      "outputs": [
        {
          "output_type": "execute_result",
          "data": {
            "text/plain": [
              "[<matplotlib.lines.Line2D at 0x7f73e5707050>]"
            ]
          },
          "metadata": {
            "tags": []
          },
          "execution_count": 385
        },
        {
          "output_type": "display_data",
          "data": {
            "image/png": "[encoded data removed]",
            "text/plain": [
              "<Figure size 432x288 with 1 Axes>"
            ]
          },
          "metadata": {
            "tags": [],
            "needs_background": "light"
          }
        }
      ]
    },
    {
      "cell_type": "code",
      "metadata": {
        "id": "0oSo02egQFw3"
      },
      "source": [
        "import numpy as np\n",
        "from sklearn.preprocessing import MinMaxScaler\n",
        "scaler = MinMaxScaler(feature_range=(0,1))\n",
        "actual = scaler.fit_transform(np.array(actual).reshape(-1,1))"
      ],
      "execution_count": 386,
      "outputs": []
    },
    {
      "cell_type": "code",
      "metadata": {
        "colab": {
          "base_uri": "https://localhost:8080/"
        },
        "id": "hWxLYRINQR-m",
        "outputId": "ed408240-1885-479d-b3c8-4f77ce97e708"
      },
      "source": [
        "actual"
      ],
      "execution_count": 387,
      "outputs": [
        {
          "output_type": "execute_result",
          "data": {
            "text/plain": [
              "array([[0.03937383],\n",
              "       [0.03298777],\n",
              "       [0.0330085 ],\n",
              "       ...,\n",
              "       [0.90993158],\n",
              "       [0.92386481],\n",
              "       [0.92154261]])"
            ]
          },
          "metadata": {
            "tags": []
          },
          "execution_count": 387
        }
      ]
    },
    {
      "cell_type": "code",
      "metadata": {
        "colab": {
          "base_uri": "https://localhost:8080/"
        },
        "id": "x_5VJmcWQY3-",
        "outputId": "81b90325-4b28-40c3-bb0c-8b0e90bb0c96"
      },
      "source": [
        "training_size = int(len(actual)*0.8)\n",
        "train_data = actual[0:training_size , :]\n",
        "X_train = []\n",
        "Y_train = []\n",
        "past_days = 20\n",
        "for i in range(past_days, len(train_data)):\n",
        "    X_train.append(train_data[i-past_days:i, 0])\n",
        "    Y_train.append(train_data[i, 0])\n",
        "    if i<= past_days:\n",
        "        print(X_train)\n",
        "        print(Y_train)\n",
        "        print()"
      ],
      "execution_count": 388,
      "outputs": [
        {
          "output_type": "stream",
          "text": [
            "[array([0.03937383, 0.03298777, 0.0330085 , 0.03609786, 0.04468173,\n",
            "       0.04493054, 0.03920796, 0.04121916, 0.04034833, 0.0341696 ,\n",
            "       0.03244868, 0.03810906, 0.03982998, 0.04573917, 0.04694174,\n",
            "       0.04719055, 0.03897989, 0.05177276, 0.05921626, 0.05560854])]\n",
            "[0.0586564379017209]\n",
            "\n"
          ],
          "name": "stdout"
        }
      ]
    },
    {
      "cell_type": "code",
      "metadata": {
        "id": "UyXDU2qqRTIb"
      },
      "source": [
        "X_train, Y_train = np.array(X_train), np.array(Y_train)"
      ],
      "execution_count": 389,
      "outputs": []
    },
    {
      "cell_type": "code",
      "metadata": {
        "colab": {
          "base_uri": "https://localhost:8080/"
        },
        "id": "TfUHAhm0RZkW",
        "outputId": "1afe0bab-c1bd-4afe-c501-86977b3b48a8"
      },
      "source": [
        "X_train = np.reshape(X_train, (X_train.shape[0], X_train.shape[1], 1))\n",
        "X_train.shape"
      ],
      "execution_count": 390,
      "outputs": [
        {
          "output_type": "execute_result",
          "data": {
            "text/plain": [
              "(1237, 20, 1)"
            ]
          },
          "metadata": {
            "tags": []
          },
          "execution_count": 390
        }
      ]
    },
    {
      "cell_type": "code",
      "metadata": {
        "colab": {
          "base_uri": "https://localhost:8080/"
        },
        "id": "PJ9PKKiMRK2D",
        "outputId": "f34cb95a-d7fc-4ae7-f727-f3676d888578"
      },
      "source": [
        "print(X_train.shape)\n",
        "print(Y_train.shape)"
      ],
      "execution_count": 395,
      "outputs": [
        {
          "output_type": "stream",
          "text": [
            "(1237, 20, 1)\n",
            "(1237,)\n"
          ],
          "name": "stdout"
        }
      ]
    },
    {
      "cell_type": "code",
      "metadata": {
        "colab": {
          "base_uri": "https://localhost:8080/"
        },
        "id": "FB-WbuIcSL5f",
        "outputId": "fc8fec64-86ad-43d0-d280-e132c903e9a8"
      },
      "source": [
        "from tensorflow import keras\n",
        "model = keras.Sequential()\n",
        "model.add(keras.layers.LSTM(150, return_sequences=True,activation = \"tanh\",input_shape= (X_train.shape[1], 1)))\n",
        "model.add(keras.layers.Dropout(0.2))\n",
        "model.add(keras.layers.LSTM(80, return_sequences= False,activation = \"tanh\"))\n",
        "model.add(keras.layers.Dense(70))\n",
        "model.add(keras.layers.Dense(1))\n",
        "\n",
        "model.summary()"
      ],
      "execution_count": 398,
      "outputs": [
        {
          "output_type": "stream",
          "text": [
            "Model: \"sequential_8\"\n",
            "_________________________________________________________________\n",
            "Layer (type)                 Output Shape              Param #   \n",
            "=================================================================\n",
            "lstm_16 (LSTM)               (None, 20, 150)           91200     \n",
            "_________________________________________________________________\n",
            "dropout_5 (Dropout)          (None, 20, 150)           0         \n",
            "_________________________________________________________________\n",
            "lstm_17 (LSTM)               (None, 80)                73920     \n",
            "_________________________________________________________________\n",
            "dense_16 (Dense)             (None, 70)                5670      \n",
            "_________________________________________________________________\n",
            "dense_17 (Dense)             (None, 1)                 71        \n",
            "=================================================================\n",
            "Total params: 170,861\n",
            "Trainable params: 170,861\n",
            "Non-trainable params: 0\n",
            "_________________________________________________________________\n"
          ],
          "name": "stdout"
        }
      ]
    },
    {
      "cell_type": "code",
      "metadata": {
        "id": "bLpHHNODSgDS"
      },
      "source": [
        "model.compile(optimizer = 'adam',loss = 'mse')#,metrics = ['accuracy'])"
      ],
      "execution_count": 399,
      "outputs": []
    },
    {
      "cell_type": "code",
      "metadata": {
        "colab": {
          "base_uri": "https://localhost:8080/"
        },
        "id": "KjBr6SEtSoKt",
        "outputId": "d655a8b9-96fc-431f-9aa4-af4b33916317"
      },
      "source": [
        "from keras.callbacks import EarlyStopping\n",
        "early_stop = EarlyStopping(monitor = 'val_loss',mode = 'min',verbose = 1,patience = 5)\n",
        "\n",
        "history = model.fit(X_train,Y_train, epochs = 100,batch_size = 128, validation_split = 0.4,verbose=1,callbacks = [early_stop])"
      ],
      "execution_count": 400,
      "outputs": [
        {
          "output_type": "stream",
          "text": [
            "Epoch 1/100\n",
            "6/6 [==============================] - 6s 326ms/step - loss: 0.0030 - val_loss: 0.0113\n",
            "Epoch 2/100\n",
            "6/6 [==============================] - 1s 162ms/step - loss: 0.0010 - val_loss: 0.0031\n",
            "Epoch 3/100\n",
            "6/6 [==============================] - 1s 168ms/step - loss: 3.8953e-04 - val_loss: 9.1175e-04\n",
            "Epoch 4/100\n",
            "6/6 [==============================] - 1s 163ms/step - loss: 2.2739e-04 - val_loss: 0.0011\n",
            "Epoch 5/100\n",
            "6/6 [==============================] - 1s 161ms/step - loss: 1.4669e-04 - val_loss: 5.3258e-04\n",
            "Epoch 6/100\n",
            "6/6 [==============================] - 1s 157ms/step - loss: 1.1248e-04 - val_loss: 3.6641e-04\n",
            "Epoch 7/100\n",
            "6/6 [==============================] - 1s 161ms/step - loss: 9.5188e-05 - val_loss: 4.6005e-04\n",
            "Epoch 8/100\n",
            "6/6 [==============================] - 1s 159ms/step - loss: 7.8804e-05 - val_loss: 3.8850e-04\n",
            "Epoch 9/100\n",
            "6/6 [==============================] - 1s 166ms/step - loss: 7.3043e-05 - val_loss: 3.0116e-04\n",
            "Epoch 10/100\n",
            "6/6 [==============================] - 1s 162ms/step - loss: 6.6211e-05 - val_loss: 2.9765e-04\n",
            "Epoch 11/100\n",
            "6/6 [==============================] - 1s 161ms/step - loss: 6.4616e-05 - val_loss: 2.9483e-04\n",
            "Epoch 12/100\n",
            "6/6 [==============================] - 1s 158ms/step - loss: 6.4853e-05 - val_loss: 2.7506e-04\n",
            "Epoch 13/100\n",
            "6/6 [==============================] - 1s 162ms/step - loss: 6.3949e-05 - val_loss: 2.7639e-04\n",
            "Epoch 14/100\n",
            "6/6 [==============================] - 1s 165ms/step - loss: 6.2185e-05 - val_loss: 3.0523e-04\n",
            "Epoch 15/100\n",
            "6/6 [==============================] - 1s 162ms/step - loss: 6.2142e-05 - val_loss: 2.6616e-04\n",
            "Epoch 16/100\n",
            "6/6 [==============================] - 1s 163ms/step - loss: 6.0970e-05 - val_loss: 2.6066e-04\n",
            "Epoch 17/100\n",
            "6/6 [==============================] - 1s 162ms/step - loss: 5.9346e-05 - val_loss: 2.5914e-04\n",
            "Epoch 18/100\n",
            "6/6 [==============================] - 1s 164ms/step - loss: 5.6534e-05 - val_loss: 2.6408e-04\n",
            "Epoch 19/100\n",
            "6/6 [==============================] - 1s 168ms/step - loss: 5.7336e-05 - val_loss: 2.4708e-04\n",
            "Epoch 20/100\n",
            "6/6 [==============================] - 1s 167ms/step - loss: 5.6628e-05 - val_loss: 2.4347e-04\n",
            "Epoch 21/100\n",
            "6/6 [==============================] - 1s 160ms/step - loss: 5.4162e-05 - val_loss: 2.6395e-04\n",
            "Epoch 22/100\n",
            "6/6 [==============================] - 1s 157ms/step - loss: 5.6158e-05 - val_loss: 2.3484e-04\n",
            "Epoch 23/100\n",
            "6/6 [==============================] - 1s 159ms/step - loss: 5.8264e-05 - val_loss: 2.3143e-04\n",
            "Epoch 24/100\n",
            "6/6 [==============================] - 1s 159ms/step - loss: 5.3549e-05 - val_loss: 2.2975e-04\n",
            "Epoch 25/100\n",
            "6/6 [==============================] - 1s 167ms/step - loss: 5.2883e-05 - val_loss: 2.2491e-04\n",
            "Epoch 26/100\n",
            "6/6 [==============================] - 1s 165ms/step - loss: 5.2257e-05 - val_loss: 2.1796e-04\n",
            "Epoch 27/100\n",
            "6/6 [==============================] - 1s 162ms/step - loss: 5.3588e-05 - val_loss: 2.1504e-04\n",
            "Epoch 28/100\n",
            "6/6 [==============================] - 1s 165ms/step - loss: 5.2216e-05 - val_loss: 2.1417e-04\n",
            "Epoch 29/100\n",
            "6/6 [==============================] - 1s 164ms/step - loss: 5.4115e-05 - val_loss: 2.2475e-04\n",
            "Epoch 30/100\n",
            "6/6 [==============================] - 1s 162ms/step - loss: 5.1433e-05 - val_loss: 2.1594e-04\n",
            "Epoch 31/100\n",
            "6/6 [==============================] - 1s 165ms/step - loss: 4.7839e-05 - val_loss: 2.0128e-04\n",
            "Epoch 32/100\n",
            "6/6 [==============================] - 1s 158ms/step - loss: 5.0134e-05 - val_loss: 2.0300e-04\n",
            "Epoch 33/100\n",
            "6/6 [==============================] - 1s 166ms/step - loss: 4.8403e-05 - val_loss: 1.9739e-04\n",
            "Epoch 34/100\n",
            "6/6 [==============================] - 1s 160ms/step - loss: 5.0305e-05 - val_loss: 1.9647e-04\n",
            "Epoch 35/100\n",
            "6/6 [==============================] - 1s 161ms/step - loss: 4.8001e-05 - val_loss: 1.8712e-04\n",
            "Epoch 36/100\n",
            "6/6 [==============================] - 1s 181ms/step - loss: 4.6549e-05 - val_loss: 1.8471e-04\n",
            "Epoch 37/100\n",
            "6/6 [==============================] - 1s 161ms/step - loss: 4.7293e-05 - val_loss: 1.8503e-04\n",
            "Epoch 38/100\n",
            "6/6 [==============================] - 1s 156ms/step - loss: 4.3250e-05 - val_loss: 1.8109e-04\n",
            "Epoch 39/100\n",
            "6/6 [==============================] - 1s 167ms/step - loss: 4.4056e-05 - val_loss: 1.7725e-04\n",
            "Epoch 40/100\n",
            "6/6 [==============================] - 1s 167ms/step - loss: 4.3945e-05 - val_loss: 1.7913e-04\n",
            "Epoch 41/100\n",
            "6/6 [==============================] - 1s 164ms/step - loss: 4.1222e-05 - val_loss: 1.7469e-04\n",
            "Epoch 42/100\n",
            "6/6 [==============================] - 1s 164ms/step - loss: 4.4248e-05 - val_loss: 1.9155e-04\n",
            "Epoch 43/100\n",
            "6/6 [==============================] - 1s 161ms/step - loss: 4.3562e-05 - val_loss: 2.0440e-04\n",
            "Epoch 44/100\n",
            "6/6 [==============================] - 1s 160ms/step - loss: 4.3297e-05 - val_loss: 1.6997e-04\n",
            "Epoch 45/100\n",
            "6/6 [==============================] - 1s 160ms/step - loss: 4.2231e-05 - val_loss: 1.7750e-04\n",
            "Epoch 46/100\n",
            "6/6 [==============================] - 1s 165ms/step - loss: 4.0307e-05 - val_loss: 1.7257e-04\n",
            "Epoch 47/100\n",
            "6/6 [==============================] - 1s 158ms/step - loss: 4.0399e-05 - val_loss: 1.8751e-04\n",
            "Epoch 48/100\n",
            "6/6 [==============================] - 1s 162ms/step - loss: 4.3269e-05 - val_loss: 1.6766e-04\n",
            "Epoch 49/100\n",
            "6/6 [==============================] - 1s 165ms/step - loss: 4.1926e-05 - val_loss: 1.9751e-04\n",
            "Epoch 50/100\n",
            "6/6 [==============================] - 1s 163ms/step - loss: 4.1684e-05 - val_loss: 1.7174e-04\n",
            "Epoch 51/100\n",
            "6/6 [==============================] - 1s 172ms/step - loss: 4.1541e-05 - val_loss: 1.9810e-04\n",
            "Epoch 52/100\n",
            "6/6 [==============================] - 1s 170ms/step - loss: 4.2589e-05 - val_loss: 1.6179e-04\n",
            "Epoch 53/100\n",
            "6/6 [==============================] - 1s 156ms/step - loss: 3.9049e-05 - val_loss: 1.5858e-04\n",
            "Epoch 54/100\n",
            "6/6 [==============================] - 1s 161ms/step - loss: 3.9587e-05 - val_loss: 1.5824e-04\n",
            "Epoch 55/100\n",
            "6/6 [==============================] - 1s 163ms/step - loss: 4.0053e-05 - val_loss: 2.0196e-04\n",
            "Epoch 56/100\n",
            "6/6 [==============================] - 1s 170ms/step - loss: 4.1117e-05 - val_loss: 1.5678e-04\n",
            "Epoch 57/100\n",
            "6/6 [==============================] - 1s 161ms/step - loss: 4.2124e-05 - val_loss: 1.5872e-04\n",
            "Epoch 58/100\n",
            "6/6 [==============================] - 1s 167ms/step - loss: 4.2195e-05 - val_loss: 1.5818e-04\n",
            "Epoch 59/100\n",
            "6/6 [==============================] - 1s 162ms/step - loss: 4.3299e-05 - val_loss: 1.5288e-04\n",
            "Epoch 60/100\n",
            "6/6 [==============================] - 1s 167ms/step - loss: 4.1721e-05 - val_loss: 1.5693e-04\n",
            "Epoch 61/100\n",
            "6/6 [==============================] - 1s 161ms/step - loss: 3.7719e-05 - val_loss: 1.5966e-04\n",
            "Epoch 62/100\n",
            "6/6 [==============================] - 1s 167ms/step - loss: 3.7922e-05 - val_loss: 1.5288e-04\n",
            "Epoch 63/100\n",
            "6/6 [==============================] - 1s 159ms/step - loss: 3.8044e-05 - val_loss: 1.5170e-04\n",
            "Epoch 64/100\n",
            "6/6 [==============================] - 1s 167ms/step - loss: 3.9135e-05 - val_loss: 1.5227e-04\n",
            "Epoch 65/100\n",
            "6/6 [==============================] - 1s 158ms/step - loss: 3.9163e-05 - val_loss: 1.9005e-04\n",
            "Epoch 66/100\n",
            "6/6 [==============================] - 1s 167ms/step - loss: 4.2302e-05 - val_loss: 1.5249e-04\n",
            "Epoch 67/100\n",
            "6/6 [==============================] - 1s 162ms/step - loss: 3.7374e-05 - val_loss: 1.5829e-04\n",
            "Epoch 68/100\n",
            "6/6 [==============================] - 1s 156ms/step - loss: 3.7237e-05 - val_loss: 1.4570e-04\n",
            "Epoch 69/100\n",
            "6/6 [==============================] - 1s 155ms/step - loss: 3.8270e-05 - val_loss: 1.4619e-04\n",
            "Epoch 70/100\n",
            "6/6 [==============================] - 1s 158ms/step - loss: 4.0688e-05 - val_loss: 1.4292e-04\n",
            "Epoch 71/100\n",
            "6/6 [==============================] - 1s 160ms/step - loss: 3.8594e-05 - val_loss: 1.7099e-04\n",
            "Epoch 72/100\n",
            "6/6 [==============================] - 1s 161ms/step - loss: 3.8168e-05 - val_loss: 1.4199e-04\n",
            "Epoch 73/100\n",
            "6/6 [==============================] - 1s 162ms/step - loss: 3.7450e-05 - val_loss: 1.5089e-04\n",
            "Epoch 74/100\n",
            "6/6 [==============================] - 1s 165ms/step - loss: 3.5282e-05 - val_loss: 1.4001e-04\n",
            "Epoch 75/100\n",
            "6/6 [==============================] - 1s 162ms/step - loss: 3.6248e-05 - val_loss: 1.4108e-04\n",
            "Epoch 76/100\n",
            "6/6 [==============================] - 1s 163ms/step - loss: 3.5944e-05 - val_loss: 1.3675e-04\n",
            "Epoch 77/100\n",
            "6/6 [==============================] - 1s 167ms/step - loss: 3.5407e-05 - val_loss: 1.3680e-04\n",
            "Epoch 78/100\n",
            "6/6 [==============================] - 1s 166ms/step - loss: 3.4923e-05 - val_loss: 1.4076e-04\n",
            "Epoch 79/100\n",
            "6/6 [==============================] - 1s 164ms/step - loss: 3.2994e-05 - val_loss: 1.3783e-04\n",
            "Epoch 80/100\n",
            "6/6 [==============================] - 1s 165ms/step - loss: 3.4525e-05 - val_loss: 1.3543e-04\n",
            "Epoch 81/100\n",
            "6/6 [==============================] - 1s 161ms/step - loss: 3.4030e-05 - val_loss: 1.3324e-04\n",
            "Epoch 82/100\n",
            "6/6 [==============================] - 1s 162ms/step - loss: 3.3012e-05 - val_loss: 1.3230e-04\n",
            "Epoch 83/100\n",
            "6/6 [==============================] - 1s 163ms/step - loss: 3.3820e-05 - val_loss: 1.3255e-04\n",
            "Epoch 84/100\n",
            "6/6 [==============================] - 1s 165ms/step - loss: 3.6245e-05 - val_loss: 1.4402e-04\n",
            "Epoch 85/100\n",
            "6/6 [==============================] - 1s 157ms/step - loss: 4.0252e-05 - val_loss: 1.4323e-04\n",
            "Epoch 86/100\n",
            "6/6 [==============================] - 1s 163ms/step - loss: 3.5899e-05 - val_loss: 1.3337e-04\n",
            "Epoch 87/100\n",
            "6/6 [==============================] - 1s 161ms/step - loss: 3.5867e-05 - val_loss: 1.3458e-04\n",
            "Epoch 00087: early stopping\n"
          ],
          "name": "stdout"
        }
      ]
    },
    {
      "cell_type": "code",
      "metadata": {
        "colab": {
          "base_uri": "https://localhost:8080/",
          "height": 281
        },
        "id": "A0-Ka-dvSrVR",
        "outputId": "858c6262-72a5-4999-d0ab-ce2377021a27"
      },
      "source": [
        "loss = pd.DataFrame(model.history.history)\n",
        "loss.plot()"
      ],
      "execution_count": 401,
      "outputs": [
        {
          "output_type": "execute_result",
          "data": {
            "text/plain": [
              "<matplotlib.axes._subplots.AxesSubplot at 0x7f73e41544d0>"
            ]
          },
          "metadata": {
            "tags": []
          },
          "execution_count": 401
        },
        {
          "output_type": "display_data",
          "data": {
            "image/png": "[encoded data removed]",
            "text/plain": [
              "<Figure size 432x288 with 1 Axes>"
            ]
          },
          "metadata": {
            "tags": [],
            "needs_background": "light"
          }
        }
      ]
    },
    {
      "cell_type": "code",
      "metadata": {
        "id": "WpSn80rw7E-q"
      },
      "source": [
        "test_data = actual[training_size - past_days: , :]\n",
        "data = stock_data[\"Close/Last\"].values"
      ],
      "execution_count": 424,
      "outputs": []
    },
    {
      "cell_type": "code",
      "metadata": {
        "id": "DZ8VQqvW52fS"
      },
      "source": [
        "X_test = []\n",
        "Y_test = data[training_size:]\n",
        "for i in range(past_days, len(test_data)):\n",
        "    X_test.append(test_data[i-past_days:i, 0])"
      ],
      "execution_count": 403,
      "outputs": []
    },
    {
      "cell_type": "code",
      "metadata": {
        "id": "WSStAUUM8vyr"
      },
      "source": [
        "X_test = np.array(X_test)\n",
        "X_test = np.reshape(X_test, (X_test. shape[0], X_test. shape[1], 1))"
      ],
      "execution_count": 404,
      "outputs": []
    },
    {
      "cell_type": "code",
      "metadata": {
        "id": "RxGy1whj88np"
      },
      "source": [
        "predict = model.predict(X_test)\n",
        "predict = scaler.inverse_transform(predict)"
      ],
      "execution_count": 405,
      "outputs": []
    },
    {
      "cell_type": "code",
      "metadata": {
        "colab": {
          "base_uri": "https://localhost:8080/"
        },
        "id": "DBcJ1jzu9FI7",
        "outputId": "37253b5d-d803-4086-8c99-319a015e0a9f"
      },
      "source": [
        "rmse = np.sqrt(np.mean(predict - Y_test)**2)\n",
        "rmse"
      ],
      "execution_count": 406,
      "outputs": [
        {
          "output_type": "execute_result",
          "data": {
            "text/plain": [
              "1.7970849279978929"
            ]
          },
          "metadata": {
            "tags": []
          },
          "execution_count": 406
        }
      ]
    },
    {
      "cell_type": "code",
      "metadata": {
        "colab": {
          "base_uri": "https://localhost:8080/"
        },
        "id": "2OHNoSjdAAey",
        "outputId": "5df2f156-ce9e-4397-8fae-9792f93b2a19"
      },
      "source": [
        "ndata =stock_data[\"Close/Last\"]\n",
        "ndata"
      ],
      "execution_count": 425,
      "outputs": [
        {
          "output_type": "execute_result",
          "data": {
            "text/plain": [
              "Date\n",
              "2015-01-02     27.3325\n",
              "2015-01-05     26.5625\n",
              "2015-01-06     26.5650\n",
              "2015-01-07     26.9375\n",
              "2015-01-08     27.9725\n",
              "                ...   \n",
              "2021-06-17    131.7900\n",
              "2021-06-18    130.4600\n",
              "2021-06-21    132.3000\n",
              "2021-06-22    133.9800\n",
              "2021-06-23    133.7000\n",
              "Name: Close/Last, Length: 1572, dtype: float64"
            ]
          },
          "metadata": {
            "tags": []
          },
          "execution_count": 425
        }
      ]
    },
    {
      "cell_type": "code",
      "metadata": {
        "id": "YlAMp9qX_6_P"
      },
      "source": [
        "training = ndata[:training_size]"
      ],
      "execution_count": 408,
      "outputs": []
    },
    {
      "cell_type": "code",
      "metadata": {
        "id": "eUrLeNOE_9wj"
      },
      "source": [
        "prediction = pd.DataFrame({'Close_Price' : ndata[training_size:]})\n",
        "prediction['Predictions'] = predict"
      ],
      "execution_count": 409,
      "outputs": []
    },
    {
      "cell_type": "code",
      "metadata": {
        "colab": {
          "base_uri": "https://localhost:8080/",
          "height": 446
        },
        "id": "rQruoVU0TQNA",
        "outputId": "234bfb04-c45b-486b-c1f5-895f6bf2e64a"
      },
      "source": [
        "prediction"
      ],
      "execution_count": 410,
      "outputs": [
        {
          "output_type": "execute_result",
          "data": {
            "text/html": [
              "<div>\n",
              "<style scoped>\n",
              "    .dataframe tbody tr th:only-of-type {\n",
              "        vertical-align: middle;\n",
              "    }\n",
              "\n",
              "    .dataframe tbody tr th {\n",
              "        vertical-align: top;\n",
              "    }\n",
              "\n",
              "    .dataframe thead th {\n",
              "        text-align: right;\n",
              "    }\n",
              "</style>\n",
              "<table border=\"1\" class=\"dataframe\">\n",
              "  <thead>\n",
              "    <tr style=\"text-align: right;\">\n",
              "      <th></th>\n",
              "      <th>Close_Price</th>\n",
              "      <th>Predictions</th>\n",
              "    </tr>\n",
              "    <tr>\n",
              "      <th>Date</th>\n",
              "      <th></th>\n",
              "      <th></th>\n",
              "    </tr>\n",
              "  </thead>\n",
              "  <tbody>\n",
              "    <tr>\n",
              "      <th>2020-02-12</th>\n",
              "      <td>81.8000</td>\n",
              "      <td>81.312134</td>\n",
              "    </tr>\n",
              "    <tr>\n",
              "      <th>2020-02-13</th>\n",
              "      <td>81.2175</td>\n",
              "      <td>81.638901</td>\n",
              "    </tr>\n",
              "    <tr>\n",
              "      <th>2020-02-14</th>\n",
              "      <td>81.2375</td>\n",
              "      <td>81.947296</td>\n",
              "    </tr>\n",
              "    <tr>\n",
              "      <th>2020-02-18</th>\n",
              "      <td>79.7500</td>\n",
              "      <td>82.205521</td>\n",
              "    </tr>\n",
              "    <tr>\n",
              "      <th>2020-02-19</th>\n",
              "      <td>80.9050</td>\n",
              "      <td>82.189140</td>\n",
              "    </tr>\n",
              "    <tr>\n",
              "      <th>...</th>\n",
              "      <td>...</td>\n",
              "      <td>...</td>\n",
              "    </tr>\n",
              "    <tr>\n",
              "      <th>2021-06-17</th>\n",
              "      <td>131.7900</td>\n",
              "      <td>130.650726</td>\n",
              "    </tr>\n",
              "    <tr>\n",
              "      <th>2021-06-18</th>\n",
              "      <td>130.4600</td>\n",
              "      <td>131.947922</td>\n",
              "    </tr>\n",
              "    <tr>\n",
              "      <th>2021-06-21</th>\n",
              "      <td>132.3000</td>\n",
              "      <td>132.985657</td>\n",
              "    </tr>\n",
              "    <tr>\n",
              "      <th>2021-06-22</th>\n",
              "      <td>133.9800</td>\n",
              "      <td>133.985626</td>\n",
              "    </tr>\n",
              "    <tr>\n",
              "      <th>2021-06-23</th>\n",
              "      <td>133.7000</td>\n",
              "      <td>135.067154</td>\n",
              "    </tr>\n",
              "  </tbody>\n",
              "</table>\n",
              "<p>315 rows × 2 columns</p>\n",
              "</div>"
            ],
            "text/plain": [
              "            Close_Price  Predictions\n",
              "Date                                \n",
              "2020-02-12      81.8000    81.312134\n",
              "2020-02-13      81.2175    81.638901\n",
              "2020-02-14      81.2375    81.947296\n",
              "2020-02-18      79.7500    82.205521\n",
              "2020-02-19      80.9050    82.189140\n",
              "...                 ...          ...\n",
              "2021-06-17     131.7900   130.650726\n",
              "2021-06-18     130.4600   131.947922\n",
              "2021-06-21     132.3000   132.985657\n",
              "2021-06-22     133.9800   133.985626\n",
              "2021-06-23     133.7000   135.067154\n",
              "\n",
              "[315 rows x 2 columns]"
            ]
          },
          "metadata": {
            "tags": []
          },
          "execution_count": 410
        }
      ]
    },
    {
      "cell_type": "code",
      "metadata": {
        "colab": {
          "base_uri": "https://localhost:8080/",
          "height": 638
        },
        "id": "NhbtH54XeDlT",
        "outputId": "ab88fb7e-e204-4a53-ed77-738e753622ff"
      },
      "source": [
        "plt.figure(figsize=(15,10))\n",
        "plt.title('Actual V/S Predicted Close Prices')\n",
        "plt.xlabel('Date')\n",
        "plt.ylabel( 'Closeed Price($)')\n",
        "plt.plot(prediction['Close_Price'],  color = 'orange', label = 'Actual Closed Price')\n",
        "plt.plot(prediction['Predictions'],   color = 'blue' ,label = 'Predicted Closed Price')"
      ],
      "execution_count": 411,
      "outputs": [
        {
          "output_type": "execute_result",
          "data": {
            "text/plain": [
              "[<matplotlib.lines.Line2D at 0x7f73dc71fa10>]"
            ]
          },
          "metadata": {
            "tags": []
          },
          "execution_count": 411
        },
        {
          "output_type": "display_data",
          "data": {
            "image/png": "[encoded data removed]",
            "text/plain": [
              "<Figure size 1080x720 with 1 Axes>"
            ]
          },
          "metadata": {
            "tags": [],
            "needs_background": "light"
          }
        }
      ]
    },
    {
      "cell_type": "code",
      "metadata": {
        "colab": {
          "base_uri": "https://localhost:8080/"
        },
        "id": "7yAVtR48pUwj",
        "outputId": "cfa2d0f2-36d7-445a-996d-2595f0721bc0"
      },
      "source": [
        "import datetime\n",
        "\n",
        "lastday =stock_data.index[-1]\n",
        "nextday = lastday + datetime.timedelta(days = 1)\n",
        "print(nextday)"
      ],
      "execution_count": 422,
      "outputs": [
        {
          "output_type": "stream",
          "text": [
            "2021-06-24 00:00:00\n"
          ],
          "name": "stdout"
        }
      ]
    },
    {
      "cell_type": "code",
      "metadata": {
        "colab": {
          "base_uri": "https://localhost:8080/"
        },
        "id": "9zSVPOtuqCKy",
        "outputId": "eb1298a2-41b2-4026-d3a9-4d71eac0df44"
      },
      "source": [
        "ndata = stock_data.filter(['Close/Last']).values\n",
        "last20_days = ndata[-20:]\n",
        "scaled_last20_days = scaler.transform(last20_days)\n",
        "X_test = []\n",
        "X_test.append(scaled_last20_days)\n",
        "X_test = np.array(X_test)\n",
        "X_test = np.reshape(X_test, (X_test.shape[0], X_test.shape[1], 1))\n",
        "predicted_price = model.predict(X_test)\n",
        "predicted_price = scaler.inverse_transform(predicted_price)\n",
        "print('Predicted Close Price for {} '.format(nextday) + ' is ', predicted_price)"
      ],
      "execution_count": 433,
      "outputs": [
        {
          "output_type": "stream",
          "text": [
            "Predicted Close Price for 2021-06-24 00:00:00  is  [[136.01703]]\n"
          ],
          "name": "stdout"
        }
      ]
    }
  ]
}