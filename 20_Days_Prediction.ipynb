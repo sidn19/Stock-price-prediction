{
  "nbformat": 4,
  "nbformat_minor": 0,
  "metadata": {
    "colab": {
      "name": "20 Days Prediction.ipynb",
      "provenance": [],
      "collapsed_sections": []
    },
    "kernelspec": {
      "name": "python3",
      "display_name": "Python 3"
    },
    "language_info": {
      "name": "python"
    }
  },
  "cells": [
    {
      "cell_type": "code",
      "metadata": {
        "id": "knvxUfmZXguE"
      },
      "source": [
        "import pandas as pd\n",
        "stock_data = pd.read_csv(\"/content/Stock_Data_with_vader.csv\",parse_dates=[\"Date\"],index_col=\"Date\")"
      ],
      "execution_count": 490,
      "outputs": []
    },
    {
      "cell_type": "code",
      "metadata": {
        "colab": {
          "base_uri": "https://localhost:8080/",
          "height": 233
        },
        "id": "odk8yQxMZsCh",
        "outputId": "937cbdf0-3e6f-469f-db67-1d0458c29910"
      },
      "source": [
        "stock_data.head()"
      ],
      "execution_count": 491,
      "outputs": [
        {
          "output_type": "execute_result",
          "data": {
            "text/html": [
              "<div>\n",
              "<style scoped>\n",
              "    .dataframe tbody tr th:only-of-type {\n",
              "        vertical-align: middle;\n",
              "    }\n",
              "\n",
              "    .dataframe tbody tr th {\n",
              "        vertical-align: top;\n",
              "    }\n",
              "\n",
              "    .dataframe thead th {\n",
              "        text-align: right;\n",
              "    }\n",
              "</style>\n",
              "<table border=\"1\" class=\"dataframe\">\n",
              "  <thead>\n",
              "    <tr style=\"text-align: right;\">\n",
              "      <th></th>\n",
              "      <th>Close/Last</th>\n",
              "      <th>compound</th>\n",
              "      <th>negative</th>\n",
              "      <th>neutral</th>\n",
              "      <th>positive</th>\n",
              "      <th>Open</th>\n",
              "      <th>High</th>\n",
              "      <th>Low</th>\n",
              "      <th>Volume</th>\n",
              "    </tr>\n",
              "    <tr>\n",
              "      <th>Date</th>\n",
              "      <th></th>\n",
              "      <th></th>\n",
              "      <th></th>\n",
              "      <th></th>\n",
              "      <th></th>\n",
              "      <th></th>\n",
              "      <th></th>\n",
              "      <th></th>\n",
              "      <th></th>\n",
              "    </tr>\n",
              "  </thead>\n",
              "  <tbody>\n",
              "    <tr>\n",
              "      <th>2015-01-02</th>\n",
              "      <td>27.3325</td>\n",
              "      <td>0.1943</td>\n",
              "      <td>0.116</td>\n",
              "      <td>0.749</td>\n",
              "      <td>0.135</td>\n",
              "      <td>27.8475</td>\n",
              "      <td>27.8600</td>\n",
              "      <td>26.8375</td>\n",
              "      <td>212575080</td>\n",
              "    </tr>\n",
              "    <tr>\n",
              "      <th>2015-01-05</th>\n",
              "      <td>26.5625</td>\n",
              "      <td>0.9770</td>\n",
              "      <td>0.051</td>\n",
              "      <td>0.849</td>\n",
              "      <td>0.100</td>\n",
              "      <td>27.0725</td>\n",
              "      <td>27.1625</td>\n",
              "      <td>26.3525</td>\n",
              "      <td>256843520</td>\n",
              "    </tr>\n",
              "    <tr>\n",
              "      <th>2015-01-06</th>\n",
              "      <td>26.5650</td>\n",
              "      <td>0.9932</td>\n",
              "      <td>0.034</td>\n",
              "      <td>0.862</td>\n",
              "      <td>0.105</td>\n",
              "      <td>26.6350</td>\n",
              "      <td>26.8575</td>\n",
              "      <td>26.1575</td>\n",
              "      <td>262729000</td>\n",
              "    </tr>\n",
              "    <tr>\n",
              "      <th>2015-01-07</th>\n",
              "      <td>26.9375</td>\n",
              "      <td>0.9866</td>\n",
              "      <td>0.059</td>\n",
              "      <td>0.812</td>\n",
              "      <td>0.129</td>\n",
              "      <td>26.8000</td>\n",
              "      <td>27.0500</td>\n",
              "      <td>26.6737</td>\n",
              "      <td>159933400</td>\n",
              "    </tr>\n",
              "    <tr>\n",
              "      <th>2015-01-08</th>\n",
              "      <td>27.9725</td>\n",
              "      <td>0.7430</td>\n",
              "      <td>0.037</td>\n",
              "      <td>0.843</td>\n",
              "      <td>0.120</td>\n",
              "      <td>27.3075</td>\n",
              "      <td>28.0375</td>\n",
              "      <td>27.1750</td>\n",
              "      <td>236675040</td>\n",
              "    </tr>\n",
              "  </tbody>\n",
              "</table>\n",
              "</div>"
            ],
            "text/plain": [
              "            Close/Last  compound  negative  ...     High      Low     Volume\n",
              "Date                                        ...                             \n",
              "2015-01-02     27.3325    0.1943     0.116  ...  27.8600  26.8375  212575080\n",
              "2015-01-05     26.5625    0.9770     0.051  ...  27.1625  26.3525  256843520\n",
              "2015-01-06     26.5650    0.9932     0.034  ...  26.8575  26.1575  262729000\n",
              "2015-01-07     26.9375    0.9866     0.059  ...  27.0500  26.6737  159933400\n",
              "2015-01-08     27.9725    0.7430     0.037  ...  28.0375  27.1750  236675040\n",
              "\n",
              "[5 rows x 9 columns]"
            ]
          },
          "metadata": {
            "tags": []
          },
          "execution_count": 491
        }
      ]
    },
    {
      "cell_type": "code",
      "metadata": {
        "colab": {
          "base_uri": "https://localhost:8080/"
        },
        "id": "84AsW4B4ZvCe",
        "outputId": "11695e5f-7a6c-4e83-b5a4-3534d4f39e64"
      },
      "source": [
        "stock_data.shape"
      ],
      "execution_count": 492,
      "outputs": [
        {
          "output_type": "execute_result",
          "data": {
            "text/plain": [
              "(1595, 9)"
            ]
          },
          "metadata": {
            "tags": []
          },
          "execution_count": 492
        }
      ]
    },
    {
      "cell_type": "code",
      "metadata": {
        "id": "TAfm2u1yZx0f"
      },
      "source": [
        "actual = stock_data[\"Close/Last\"]"
      ],
      "execution_count": 493,
      "outputs": []
    },
    {
      "cell_type": "code",
      "metadata": {
        "colab": {
          "base_uri": "https://localhost:8080/"
        },
        "id": "xnr9Owm6P9_3",
        "outputId": "fa2d3015-947d-4ad0-b37e-0075f064062d"
      },
      "source": [
        "actual"
      ],
      "execution_count": 494,
      "outputs": [
        {
          "output_type": "execute_result",
          "data": {
            "text/plain": [
              "Date\n",
              "2015-01-02     27.3325\n",
              "2015-01-05     26.5625\n",
              "2015-01-06     26.5650\n",
              "2015-01-07     26.9375\n",
              "2015-01-08     27.9725\n",
              "                ...   \n",
              "2021-05-28    124.6100\n",
              "2021-06-01    124.2800\n",
              "2021-06-02    125.0600\n",
              "2021-06-03    123.5400\n",
              "2021-06-04    125.8900\n",
              "Name: Close/Last, Length: 1595, dtype: float64"
            ]
          },
          "metadata": {
            "tags": []
          },
          "execution_count": 494
        }
      ]
    },
    {
      "cell_type": "code",
      "metadata": {
        "colab": {
          "base_uri": "https://localhost:8080/",
          "height": 281
        },
        "id": "FLSGxscvP_Wh",
        "outputId": "c3480826-e5ad-4fcb-ade9-aac246fff793"
      },
      "source": [
        "import matplotlib.pyplot as plt\n",
        "plt.plot(actual)"
      ],
      "execution_count": 495,
      "outputs": [
        {
          "output_type": "execute_result",
          "data": {
            "text/plain": [
              "[<matplotlib.lines.Line2D at 0x7f73e584a950>]"
            ]
          },
          "metadata": {
            "tags": []
          },
          "execution_count": 495
        },
        {
          "output_type": "display_data",
          "data": {
            "image/png": "[encoded data removed]",
            "text/plain": [
              "<Figure size 432x288 with 1 Axes>"
            ]
          },
          "metadata": {
            "tags": [],
            "needs_background": "light"
          }
        }
      ]
    },
    {
      "cell_type": "code",
      "metadata": {
        "id": "0oSo02egQFw3"
      },
      "source": [
        "import numpy as np\n",
        "from sklearn.preprocessing import MinMaxScaler\n",
        "scaler = MinMaxScaler(feature_range=(0,1))\n",
        "actual = scaler.fit_transform(np.array(actual).reshape(-1,1))"
      ],
      "execution_count": 496,
      "outputs": []
    },
    {
      "cell_type": "code",
      "metadata": {
        "colab": {
          "base_uri": "https://localhost:8080/"
        },
        "id": "hWxLYRINQR-m",
        "outputId": "7c733da0-cbb8-48db-c3ce-b02c5a33ca71"
      },
      "source": [
        "actual"
      ],
      "execution_count": 497,
      "outputs": [
        {
          "output_type": "execute_result",
          "data": {
            "text/plain": [
              "array([[0.03937383],\n",
              "       [0.03298777],\n",
              "       [0.0330085 ],\n",
              "       ...,\n",
              "       [0.84988596],\n",
              "       [0.8372797 ],\n",
              "       [0.85676965]])"
            ]
          },
          "metadata": {
            "tags": []
          },
          "execution_count": 497
        }
      ]
    },
    {
      "cell_type": "code",
      "metadata": {
        "colab": {
          "base_uri": "https://localhost:8080/"
        },
        "id": "x_5VJmcWQY3-",
        "outputId": "72a36e07-014f-406e-ff5f-6db026f44c1e"
      },
      "source": [
        "training_size = int(len(actual)*0.8)\n",
        "train_data = actual[0:training_size , :]\n",
        "X_train = []\n",
        "Y_train = []\n",
        "past_days = 20\n",
        "for i in range(past_days, len(train_data)):\n",
        "    X_train.append(train_data[i-past_days:i, 0])\n",
        "    Y_train.append(train_data[i, 0])\n",
        "    if i<= past_days:\n",
        "        print(X_train)\n",
        "        print(Y_train)\n",
        "        print()"
      ],
      "execution_count": 498,
      "outputs": [
        {
          "output_type": "stream",
          "text": [
            "[array([0.03937383, 0.03298777, 0.0330085 , 0.03609786, 0.04468173,\n",
            "       0.04493054, 0.03920796, 0.04121916, 0.04034833, 0.0341696 ,\n",
            "       0.03244868, 0.03810906, 0.03982998, 0.04573917, 0.04694174,\n",
            "       0.04719055, 0.03897989, 0.05177276, 0.05921626, 0.05560854])]\n",
            "[0.0586564379017209]\n",
            "\n"
          ],
          "name": "stdout"
        }
      ]
    },
    {
      "cell_type": "code",
      "metadata": {
        "id": "UyXDU2qqRTIb"
      },
      "source": [
        "X_train, Y_train = np.array(X_train), np.array(Y_train)"
      ],
      "execution_count": 499,
      "outputs": []
    },
    {
      "cell_type": "code",
      "metadata": {
        "colab": {
          "base_uri": "https://localhost:8080/"
        },
        "id": "TfUHAhm0RZkW",
        "outputId": "2ed3762d-9f13-486e-dd49-aacd3a3a0c46"
      },
      "source": [
        "X_train = np.reshape(X_train, (X_train.shape[0], X_train.shape[1], 1))\n",
        "X_train.shape"
      ],
      "execution_count": 500,
      "outputs": [
        {
          "output_type": "execute_result",
          "data": {
            "text/plain": [
              "(1256, 20, 1)"
            ]
          },
          "metadata": {
            "tags": []
          },
          "execution_count": 500
        }
      ]
    },
    {
      "cell_type": "code",
      "metadata": {
        "colab": {
          "base_uri": "https://localhost:8080/"
        },
        "id": "PJ9PKKiMRK2D",
        "outputId": "1311c458-2cde-494b-86af-7d4b6547cf1f"
      },
      "source": [
        "print(X_train.shape)\n",
        "print(Y_train.shape)"
      ],
      "execution_count": 501,
      "outputs": [
        {
          "output_type": "stream",
          "text": [
            "(1256, 20, 1)\n",
            "(1256,)\n"
          ],
          "name": "stdout"
        }
      ]
    },
    {
      "cell_type": "code",
      "metadata": {
        "colab": {
          "base_uri": "https://localhost:8080/"
        },
        "id": "FB-WbuIcSL5f",
        "outputId": "e97e0db0-2b9d-4c82-f2ce-c6eb6f3a686a"
      },
      "source": [
        "from tensorflow import keras\n",
        "model = keras.Sequential()\n",
        "model.add(keras.layers.LSTM(200, return_sequences=True,activation = \"tanh\",input_shape= (X_train.shape[1], 1)))\n",
        "model.add(keras.layers.Dropout(0.2))\n",
        "model.add(keras.layers.LSTM(80, return_sequences= False,activation = \"tanh\"))\n",
        "model.add(keras.layers.Dense(80))\n",
        "model.add(keras.layers.Dense(1))\n",
        "\n",
        "model.summary()"
      ],
      "execution_count": 502,
      "outputs": [
        {
          "output_type": "stream",
          "text": [
            "Model: \"sequential_11\"\n",
            "_________________________________________________________________\n",
            "Layer (type)                 Output Shape              Param #   \n",
            "=================================================================\n",
            "lstm_22 (LSTM)               (None, 20, 200)           161600    \n",
            "_________________________________________________________________\n",
            "dropout_8 (Dropout)          (None, 20, 200)           0         \n",
            "_________________________________________________________________\n",
            "lstm_23 (LSTM)               (None, 80)                89920     \n",
            "_________________________________________________________________\n",
            "dense_22 (Dense)             (None, 80)                6480      \n",
            "_________________________________________________________________\n",
            "dense_23 (Dense)             (None, 1)                 81        \n",
            "=================================================================\n",
            "Total params: 258,081\n",
            "Trainable params: 258,081\n",
            "Non-trainable params: 0\n",
            "_________________________________________________________________\n"
          ],
          "name": "stdout"
        }
      ]
    },
    {
      "cell_type": "code",
      "metadata": {
        "id": "bLpHHNODSgDS"
      },
      "source": [
        "model.compile(optimizer = 'adam',loss = 'mse')"
      ],
      "execution_count": 503,
      "outputs": []
    },
    {
      "cell_type": "code",
      "metadata": {
        "colab": {
          "base_uri": "https://localhost:8080/"
        },
        "id": "KjBr6SEtSoKt",
        "outputId": "237a877d-dec3-417f-c611-cf35debb3798"
      },
      "source": [
        "from keras.callbacks import EarlyStopping\n",
        "early_stop = EarlyStopping(monitor = 'val_loss',mode = 'min',verbose = 1,patience = 5)\n",
        "\n",
        "history = model.fit(X_train,Y_train, epochs = 100,batch_size = 128, validation_split = 0.4,verbose=1,callbacks = [early_stop])"
      ],
      "execution_count": 504,
      "outputs": [
        {
          "output_type": "stream",
          "text": [
            "Epoch 1/100\n",
            "6/6 [==============================] - 6s 369ms/step - loss: 0.0025 - val_loss: 0.0128\n",
            "Epoch 2/100\n",
            "6/6 [==============================] - 1s 205ms/step - loss: 8.2327e-04 - val_loss: 7.9337e-04\n",
            "Epoch 3/100\n",
            "6/6 [==============================] - 1s 206ms/step - loss: 3.0792e-04 - val_loss: 9.0275e-04\n",
            "Epoch 4/100\n",
            "6/6 [==============================] - 1s 211ms/step - loss: 2.0504e-04 - val_loss: 0.0013\n",
            "Epoch 5/100\n",
            "6/6 [==============================] - 1s 207ms/step - loss: 1.3520e-04 - val_loss: 6.5181e-04\n",
            "Epoch 6/100\n",
            "6/6 [==============================] - 1s 205ms/step - loss: 9.2681e-05 - val_loss: 2.9384e-04\n",
            "Epoch 7/100\n",
            "6/6 [==============================] - 1s 213ms/step - loss: 8.4000e-05 - val_loss: 3.2031e-04\n",
            "Epoch 8/100\n",
            "6/6 [==============================] - 1s 218ms/step - loss: 6.8696e-05 - val_loss: 2.6327e-04\n",
            "Epoch 9/100\n",
            "6/6 [==============================] - 1s 205ms/step - loss: 6.4799e-05 - val_loss: 2.5497e-04\n",
            "Epoch 10/100\n",
            "6/6 [==============================] - 1s 207ms/step - loss: 6.1634e-05 - val_loss: 2.9017e-04\n",
            "Epoch 11/100\n",
            "6/6 [==============================] - 1s 204ms/step - loss: 6.0586e-05 - val_loss: 2.4727e-04\n",
            "Epoch 12/100\n",
            "6/6 [==============================] - 1s 207ms/step - loss: 5.7342e-05 - val_loss: 2.4711e-04\n",
            "Epoch 13/100\n",
            "6/6 [==============================] - 1s 204ms/step - loss: 5.5646e-05 - val_loss: 2.4792e-04\n",
            "Epoch 14/100\n",
            "6/6 [==============================] - 1s 208ms/step - loss: 5.6174e-05 - val_loss: 2.4810e-04\n",
            "Epoch 15/100\n",
            "6/6 [==============================] - 1s 209ms/step - loss: 5.5473e-05 - val_loss: 2.2951e-04\n",
            "Epoch 16/100\n",
            "6/6 [==============================] - 1s 210ms/step - loss: 5.4683e-05 - val_loss: 2.3090e-04\n",
            "Epoch 17/100\n",
            "6/6 [==============================] - 1s 210ms/step - loss: 5.5189e-05 - val_loss: 2.5947e-04\n",
            "Epoch 18/100\n",
            "6/6 [==============================] - 1s 210ms/step - loss: 5.5503e-05 - val_loss: 2.2555e-04\n",
            "Epoch 19/100\n",
            "6/6 [==============================] - 1s 211ms/step - loss: 5.3538e-05 - val_loss: 2.1603e-04\n",
            "Epoch 20/100\n",
            "6/6 [==============================] - 1s 225ms/step - loss: 5.2091e-05 - val_loss: 2.2442e-04\n",
            "Epoch 21/100\n",
            "6/6 [==============================] - 1s 215ms/step - loss: 5.1537e-05 - val_loss: 2.0619e-04\n",
            "Epoch 22/100\n",
            "6/6 [==============================] - 1s 206ms/step - loss: 5.0660e-05 - val_loss: 2.0661e-04\n",
            "Epoch 23/100\n",
            "6/6 [==============================] - 1s 207ms/step - loss: 4.8935e-05 - val_loss: 2.0006e-04\n",
            "Epoch 24/100\n",
            "6/6 [==============================] - 1s 213ms/step - loss: 5.0316e-05 - val_loss: 1.9615e-04\n",
            "Epoch 25/100\n",
            "6/6 [==============================] - 1s 215ms/step - loss: 4.9745e-05 - val_loss: 2.2557e-04\n",
            "Epoch 26/100\n",
            "6/6 [==============================] - 1s 210ms/step - loss: 4.6852e-05 - val_loss: 1.9051e-04\n",
            "Epoch 27/100\n",
            "6/6 [==============================] - 1s 212ms/step - loss: 4.5293e-05 - val_loss: 1.9447e-04\n",
            "Epoch 28/100\n",
            "6/6 [==============================] - 1s 211ms/step - loss: 4.6133e-05 - val_loss: 1.8280e-04\n",
            "Epoch 29/100\n",
            "6/6 [==============================] - 1s 209ms/step - loss: 4.4272e-05 - val_loss: 1.8429e-04\n",
            "Epoch 30/100\n",
            "6/6 [==============================] - 1s 217ms/step - loss: 4.5458e-05 - val_loss: 1.8050e-04\n",
            "Epoch 31/100\n",
            "6/6 [==============================] - 1s 209ms/step - loss: 4.5657e-05 - val_loss: 2.1083e-04\n",
            "Epoch 32/100\n",
            "6/6 [==============================] - 1s 210ms/step - loss: 4.6023e-05 - val_loss: 2.0423e-04\n",
            "Epoch 33/100\n",
            "6/6 [==============================] - 1s 211ms/step - loss: 4.4340e-05 - val_loss: 1.7360e-04\n",
            "Epoch 34/100\n",
            "6/6 [==============================] - 1s 203ms/step - loss: 4.3111e-05 - val_loss: 1.6860e-04\n",
            "Epoch 35/100\n",
            "6/6 [==============================] - 1s 205ms/step - loss: 4.3332e-05 - val_loss: 2.0858e-04\n",
            "Epoch 36/100\n",
            "6/6 [==============================] - 1s 208ms/step - loss: 4.5918e-05 - val_loss: 1.8254e-04\n",
            "Epoch 37/100\n",
            "6/6 [==============================] - 1s 209ms/step - loss: 4.5723e-05 - val_loss: 2.5361e-04\n",
            "Epoch 38/100\n",
            "6/6 [==============================] - 1s 206ms/step - loss: 4.4640e-05 - val_loss: 1.6750e-04\n",
            "Epoch 39/100\n",
            "6/6 [==============================] - 1s 205ms/step - loss: 4.3496e-05 - val_loss: 1.6649e-04\n",
            "Epoch 40/100\n",
            "6/6 [==============================] - 1s 205ms/step - loss: 4.6029e-05 - val_loss: 1.5633e-04\n",
            "Epoch 41/100\n",
            "6/6 [==============================] - 1s 209ms/step - loss: 4.5410e-05 - val_loss: 1.5534e-04\n",
            "Epoch 42/100\n",
            "6/6 [==============================] - 1s 207ms/step - loss: 4.4952e-05 - val_loss: 1.6941e-04\n",
            "Epoch 43/100\n",
            "6/6 [==============================] - 1s 208ms/step - loss: 4.0598e-05 - val_loss: 1.7519e-04\n",
            "Epoch 44/100\n",
            "6/6 [==============================] - 1s 208ms/step - loss: 3.9150e-05 - val_loss: 1.5280e-04\n",
            "Epoch 45/100\n",
            "6/6 [==============================] - 1s 212ms/step - loss: 3.9862e-05 - val_loss: 1.5208e-04\n",
            "Epoch 46/100\n",
            "6/6 [==============================] - 1s 209ms/step - loss: 3.8563e-05 - val_loss: 1.5189e-04\n",
            "Epoch 47/100\n",
            "6/6 [==============================] - 1s 206ms/step - loss: 3.8399e-05 - val_loss: 1.4954e-04\n",
            "Epoch 48/100\n",
            "6/6 [==============================] - 1s 207ms/step - loss: 3.9128e-05 - val_loss: 1.4772e-04\n",
            "Epoch 49/100\n",
            "6/6 [==============================] - 1s 210ms/step - loss: 3.9560e-05 - val_loss: 1.5127e-04\n",
            "Epoch 50/100\n",
            "6/6 [==============================] - 1s 215ms/step - loss: 3.9226e-05 - val_loss: 1.4897e-04\n",
            "Epoch 51/100\n",
            "6/6 [==============================] - 1s 210ms/step - loss: 3.8810e-05 - val_loss: 1.4326e-04\n",
            "Epoch 52/100\n",
            "6/6 [==============================] - 1s 205ms/step - loss: 3.6335e-05 - val_loss: 1.5346e-04\n",
            "Epoch 53/100\n",
            "6/6 [==============================] - 1s 210ms/step - loss: 3.7937e-05 - val_loss: 1.4095e-04\n",
            "Epoch 54/100\n",
            "6/6 [==============================] - 1s 209ms/step - loss: 3.7386e-05 - val_loss: 1.5284e-04\n",
            "Epoch 55/100\n",
            "6/6 [==============================] - 1s 210ms/step - loss: 3.7899e-05 - val_loss: 1.3908e-04\n",
            "Epoch 56/100\n",
            "6/6 [==============================] - 1s 208ms/step - loss: 3.8481e-05 - val_loss: 1.4603e-04\n",
            "Epoch 57/100\n",
            "6/6 [==============================] - 1s 205ms/step - loss: 3.7413e-05 - val_loss: 1.4215e-04\n",
            "Epoch 58/100\n",
            "6/6 [==============================] - 1s 211ms/step - loss: 3.6915e-05 - val_loss: 1.4016e-04\n",
            "Epoch 59/100\n",
            "6/6 [==============================] - 1s 203ms/step - loss: 3.5843e-05 - val_loss: 1.3478e-04\n",
            "Epoch 60/100\n",
            "6/6 [==============================] - 1s 206ms/step - loss: 3.8118e-05 - val_loss: 1.9830e-04\n",
            "Epoch 61/100\n",
            "6/6 [==============================] - 1s 201ms/step - loss: 4.0244e-05 - val_loss: 1.3490e-04\n",
            "Epoch 62/100\n",
            "6/6 [==============================] - 1s 210ms/step - loss: 3.8042e-05 - val_loss: 1.3947e-04\n",
            "Epoch 63/100\n",
            "6/6 [==============================] - 1s 203ms/step - loss: 3.5279e-05 - val_loss: 1.3134e-04\n",
            "Epoch 64/100\n",
            "6/6 [==============================] - 1s 210ms/step - loss: 3.6740e-05 - val_loss: 1.3546e-04\n",
            "Epoch 65/100\n",
            "6/6 [==============================] - 1s 208ms/step - loss: 3.9258e-05 - val_loss: 1.2969e-04\n",
            "Epoch 66/100\n",
            "6/6 [==============================] - 1s 208ms/step - loss: 3.7621e-05 - val_loss: 1.3834e-04\n",
            "Epoch 67/100\n",
            "6/6 [==============================] - 1s 209ms/step - loss: 3.2914e-05 - val_loss: 1.2864e-04\n",
            "Epoch 68/100\n",
            "6/6 [==============================] - 1s 205ms/step - loss: 3.4165e-05 - val_loss: 1.3922e-04\n",
            "Epoch 69/100\n",
            "6/6 [==============================] - 1s 210ms/step - loss: 3.6312e-05 - val_loss: 1.3724e-04\n",
            "Epoch 70/100\n",
            "6/6 [==============================] - 1s 213ms/step - loss: 3.5917e-05 - val_loss: 1.2585e-04\n",
            "Epoch 71/100\n",
            "6/6 [==============================] - 1s 205ms/step - loss: 3.3516e-05 - val_loss: 1.3265e-04\n",
            "Epoch 72/100\n",
            "6/6 [==============================] - 1s 204ms/step - loss: 3.3998e-05 - val_loss: 1.2328e-04\n",
            "Epoch 73/100\n",
            "6/6 [==============================] - 1s 208ms/step - loss: 3.6432e-05 - val_loss: 1.3737e-04\n",
            "Epoch 74/100\n",
            "6/6 [==============================] - 1s 206ms/step - loss: 4.1614e-05 - val_loss: 1.2241e-04\n",
            "Epoch 75/100\n",
            "6/6 [==============================] - 1s 204ms/step - loss: 4.0476e-05 - val_loss: 1.6760e-04\n",
            "Epoch 76/100\n",
            "6/6 [==============================] - 1s 213ms/step - loss: 3.9960e-05 - val_loss: 1.4569e-04\n",
            "Epoch 77/100\n",
            "6/6 [==============================] - 1s 205ms/step - loss: 3.6074e-05 - val_loss: 1.2164e-04\n",
            "Epoch 78/100\n",
            "6/6 [==============================] - 1s 211ms/step - loss: 3.5776e-05 - val_loss: 1.1975e-04\n",
            "Epoch 79/100\n",
            "6/6 [==============================] - 1s 203ms/step - loss: 3.2973e-05 - val_loss: 1.2094e-04\n",
            "Epoch 80/100\n",
            "6/6 [==============================] - 1s 213ms/step - loss: 3.3552e-05 - val_loss: 1.1907e-04\n",
            "Epoch 81/100\n",
            "6/6 [==============================] - 1s 206ms/step - loss: 3.3277e-05 - val_loss: 1.2025e-04\n",
            "Epoch 82/100\n",
            "6/6 [==============================] - 1s 210ms/step - loss: 3.1706e-05 - val_loss: 1.1891e-04\n",
            "Epoch 83/100\n",
            "6/6 [==============================] - 1s 208ms/step - loss: 3.4268e-05 - val_loss: 1.1777e-04\n",
            "Epoch 84/100\n",
            "6/6 [==============================] - 1s 203ms/step - loss: 3.2697e-05 - val_loss: 1.1481e-04\n",
            "Epoch 85/100\n",
            "6/6 [==============================] - 1s 210ms/step - loss: 3.2619e-05 - val_loss: 1.1443e-04\n",
            "Epoch 86/100\n",
            "6/6 [==============================] - 1s 207ms/step - loss: 3.2807e-05 - val_loss: 1.1662e-04\n",
            "Epoch 87/100\n",
            "6/6 [==============================] - 1s 212ms/step - loss: 3.5539e-05 - val_loss: 1.5374e-04\n",
            "Epoch 88/100\n",
            "6/6 [==============================] - 1s 212ms/step - loss: 3.2887e-05 - val_loss: 1.2880e-04\n",
            "Epoch 89/100\n",
            "6/6 [==============================] - 1s 219ms/step - loss: 3.4072e-05 - val_loss: 1.1428e-04\n",
            "Epoch 90/100\n",
            "6/6 [==============================] - 1s 215ms/step - loss: 3.2848e-05 - val_loss: 1.1276e-04\n",
            "Epoch 91/100\n",
            "6/6 [==============================] - 1s 221ms/step - loss: 3.0868e-05 - val_loss: 1.2356e-04\n",
            "Epoch 92/100\n",
            "6/6 [==============================] - 1s 211ms/step - loss: 3.1905e-05 - val_loss: 1.1600e-04\n",
            "Epoch 93/100\n",
            "6/6 [==============================] - 1s 215ms/step - loss: 3.2506e-05 - val_loss: 1.3969e-04\n",
            "Epoch 94/100\n",
            "6/6 [==============================] - 1s 214ms/step - loss: 3.1431e-05 - val_loss: 1.1894e-04\n",
            "Epoch 95/100\n",
            "6/6 [==============================] - 1s 213ms/step - loss: 3.0764e-05 - val_loss: 1.1692e-04\n",
            "Epoch 00095: early stopping\n"
          ],
          "name": "stdout"
        }
      ]
    },
    {
      "cell_type": "code",
      "metadata": {
        "colab": {
          "base_uri": "https://localhost:8080/",
          "height": 281
        },
        "id": "A0-Ka-dvSrVR",
        "outputId": "b2317f51-d69d-4564-eba3-4158691f0d30"
      },
      "source": [
        "loss = pd.DataFrame(model.history.history)\n",
        "loss.plot()"
      ],
      "execution_count": 505,
      "outputs": [
        {
          "output_type": "execute_result",
          "data": {
            "text/plain": [
              "<matplotlib.axes._subplots.AxesSubplot at 0x7f73db91f150>"
            ]
          },
          "metadata": {
            "tags": []
          },
          "execution_count": 505
        },
        {
          "output_type": "display_data",
          "data": {
            "image/png": "[encoded data removed]",
            "text/plain": [
              "<Figure size 432x288 with 1 Axes>"
            ]
          },
          "metadata": {
            "tags": [],
            "needs_background": "light"
          }
        }
      ]
    },
    {
      "cell_type": "code",
      "metadata": {
        "id": "WpSn80rw7E-q"
      },
      "source": [
        "test_data = actual[training_size - past_days: , :]\n",
        "data = stock_data[\"Close/Last\"].values"
      ],
      "execution_count": 506,
      "outputs": []
    },
    {
      "cell_type": "code",
      "metadata": {
        "id": "DZ8VQqvW52fS"
      },
      "source": [
        "X_test = []\n",
        "Y_test = data[training_size:]\n",
        "for i in range(past_days, len(test_data)):\n",
        "    X_test.append(test_data[i-past_days:i, 0])"
      ],
      "execution_count": 507,
      "outputs": []
    },
    {
      "cell_type": "code",
      "metadata": {
        "id": "WSStAUUM8vyr"
      },
      "source": [
        "X_test = np.array(X_test)\n",
        "X_test = np.reshape(X_test, (X_test. shape[0], X_test. shape[1], 1))"
      ],
      "execution_count": 508,
      "outputs": []
    },
    {
      "cell_type": "code",
      "metadata": {
        "id": "RxGy1whj88np"
      },
      "source": [
        "predict = model.predict(X_test)\n",
        "predict = scaler.inverse_transform(predict)"
      ],
      "execution_count": 509,
      "outputs": []
    },
    {
      "cell_type": "code",
      "metadata": {
        "colab": {
          "base_uri": "https://localhost:8080/"
        },
        "id": "DBcJ1jzu9FI7",
        "outputId": "b347c462-1799-40e0-efee-158c8cf266b0"
      },
      "source": [
        "rmse = np.sqrt(np.mean(predict - Y_test)**2)\n",
        "rmse"
      ],
      "execution_count": 510,
      "outputs": [
        {
          "output_type": "execute_result",
          "data": {
            "text/plain": [
              "0.7196396084489514"
            ]
          },
          "metadata": {
            "tags": []
          },
          "execution_count": 510
        }
      ]
    },
    {
      "cell_type": "code",
      "metadata": {
        "colab": {
          "base_uri": "https://localhost:8080/"
        },
        "id": "2OHNoSjdAAey",
        "outputId": "e2259b68-e1e8-467e-b658-5b39959836a3"
      },
      "source": [
        "ndata =stock_data[\"Close/Last\"]\n",
        "ndata"
      ],
      "execution_count": 511,
      "outputs": [
        {
          "output_type": "execute_result",
          "data": {
            "text/plain": [
              "Date\n",
              "2015-01-02     27.3325\n",
              "2015-01-05     26.5625\n",
              "2015-01-06     26.5650\n",
              "2015-01-07     26.9375\n",
              "2015-01-08     27.9725\n",
              "                ...   \n",
              "2021-05-28    124.6100\n",
              "2021-06-01    124.2800\n",
              "2021-06-02    125.0600\n",
              "2021-06-03    123.5400\n",
              "2021-06-04    125.8900\n",
              "Name: Close/Last, Length: 1595, dtype: float64"
            ]
          },
          "metadata": {
            "tags": []
          },
          "execution_count": 511
        }
      ]
    },
    {
      "cell_type": "code",
      "metadata": {
        "id": "YlAMp9qX_6_P"
      },
      "source": [
        "training = ndata[:training_size]"
      ],
      "execution_count": 512,
      "outputs": []
    },
    {
      "cell_type": "code",
      "metadata": {
        "id": "eUrLeNOE_9wj"
      },
      "source": [
        "prediction = pd.DataFrame({'Close_Price' : ndata[training_size:]})\n",
        "prediction['Predictions'] = predict"
      ],
      "execution_count": 513,
      "outputs": []
    },
    {
      "cell_type": "code",
      "metadata": {
        "colab": {
          "base_uri": "https://localhost:8080/",
          "height": 446
        },
        "id": "rQruoVU0TQNA",
        "outputId": "036f77d4-086d-4866-c171-b1ebef71121c"
      },
      "source": [
        "prediction"
      ],
      "execution_count": 514,
      "outputs": [
        {
          "output_type": "execute_result",
          "data": {
            "text/html": [
              "<div>\n",
              "<style scoped>\n",
              "    .dataframe tbody tr th:only-of-type {\n",
              "        vertical-align: middle;\n",
              "    }\n",
              "\n",
              "    .dataframe tbody tr th {\n",
              "        vertical-align: top;\n",
              "    }\n",
              "\n",
              "    .dataframe thead th {\n",
              "        text-align: right;\n",
              "    }\n",
              "</style>\n",
              "<table border=\"1\" class=\"dataframe\">\n",
              "  <thead>\n",
              "    <tr style=\"text-align: right;\">\n",
              "      <th></th>\n",
              "      <th>Close_Price</th>\n",
              "      <th>Predictions</th>\n",
              "    </tr>\n",
              "    <tr>\n",
              "      <th>Date</th>\n",
              "      <th></th>\n",
              "      <th></th>\n",
              "    </tr>\n",
              "  </thead>\n",
              "  <tbody>\n",
              "    <tr>\n",
              "      <th>2020-01-29</th>\n",
              "      <td>81.0850</td>\n",
              "      <td>78.863701</td>\n",
              "    </tr>\n",
              "    <tr>\n",
              "      <th>2020-01-30</th>\n",
              "      <td>80.9675</td>\n",
              "      <td>79.096542</td>\n",
              "    </tr>\n",
              "    <tr>\n",
              "      <th>2020-01-31</th>\n",
              "      <td>77.3775</td>\n",
              "      <td>79.502968</td>\n",
              "    </tr>\n",
              "    <tr>\n",
              "      <th>2020-02-03</th>\n",
              "      <td>77.1650</td>\n",
              "      <td>79.314140</td>\n",
              "    </tr>\n",
              "    <tr>\n",
              "      <th>2020-02-04</th>\n",
              "      <td>79.7125</td>\n",
              "      <td>78.798340</td>\n",
              "    </tr>\n",
              "    <tr>\n",
              "      <th>...</th>\n",
              "      <td>...</td>\n",
              "      <td>...</td>\n",
              "    </tr>\n",
              "    <tr>\n",
              "      <th>2021-05-28</th>\n",
              "      <td>124.6100</td>\n",
              "      <td>125.956741</td>\n",
              "    </tr>\n",
              "    <tr>\n",
              "      <th>2021-06-01</th>\n",
              "      <td>124.2800</td>\n",
              "      <td>125.666969</td>\n",
              "    </tr>\n",
              "    <tr>\n",
              "      <th>2021-06-02</th>\n",
              "      <td>125.0600</td>\n",
              "      <td>125.190971</td>\n",
              "    </tr>\n",
              "    <tr>\n",
              "      <th>2021-06-03</th>\n",
              "      <td>123.5400</td>\n",
              "      <td>124.824142</td>\n",
              "    </tr>\n",
              "    <tr>\n",
              "      <th>2021-06-04</th>\n",
              "      <td>125.8900</td>\n",
              "      <td>124.309319</td>\n",
              "    </tr>\n",
              "  </tbody>\n",
              "</table>\n",
              "<p>319 rows × 2 columns</p>\n",
              "</div>"
            ],
            "text/plain": [
              "            Close_Price  Predictions\n",
              "Date                                \n",
              "2020-01-29      81.0850    78.863701\n",
              "2020-01-30      80.9675    79.096542\n",
              "2020-01-31      77.3775    79.502968\n",
              "2020-02-03      77.1650    79.314140\n",
              "2020-02-04      79.7125    78.798340\n",
              "...                 ...          ...\n",
              "2021-05-28     124.6100   125.956741\n",
              "2021-06-01     124.2800   125.666969\n",
              "2021-06-02     125.0600   125.190971\n",
              "2021-06-03     123.5400   124.824142\n",
              "2021-06-04     125.8900   124.309319\n",
              "\n",
              "[319 rows x 2 columns]"
            ]
          },
          "metadata": {
            "tags": []
          },
          "execution_count": 514
        }
      ]
    },
    {
      "cell_type": "code",
      "metadata": {
        "colab": {
          "base_uri": "https://localhost:8080/",
          "height": 638
        },
        "id": "NhbtH54XeDlT",
        "outputId": "cee260c9-362e-4e53-ccab-3f559c0efd95"
      },
      "source": [
        "plt.figure(figsize=(15,10))\n",
        "plt.title('Actual V/S Predicted Close Prices')\n",
        "plt.xlabel('Date')\n",
        "plt.ylabel( 'Closeed Price($)')\n",
        "plt.plot(prediction['Close_Price'],  color = 'orange', label = 'Actual Closed Price')\n",
        "plt.plot(prediction['Predictions'],   color = 'blue' ,label = 'Predicted Closed Price')"
      ],
      "execution_count": 515,
      "outputs": [
        {
          "output_type": "execute_result",
          "data": {
            "text/plain": [
              "[<matplotlib.lines.Line2D at 0x7f73e554bf10>]"
            ]
          },
          "metadata": {
            "tags": []
          },
          "execution_count": 515
        },
        {
          "output_type": "display_data",
          "data": {
            "image/png": "[encoded data removed]",
            "text/plain": [
              "<Figure size 1080x720 with 1 Axes>"
            ]
          },
          "metadata": {
            "tags": [],
            "needs_background": "light"
          }
        }
      ]
    },
    {
      "cell_type": "code",
      "metadata": {
        "colab": {
          "base_uri": "https://localhost:8080/"
        },
        "id": "7yAVtR48pUwj",
        "outputId": "114280f8-2643-49df-e72e-531c7dab930a"
      },
      "source": [
        "import datetime\n",
        "\n",
        "lastday =stock_data.index[-1]\n",
        "nextday = lastday + datetime.timedelta(days = 1)\n",
        "print(nextday)"
      ],
      "execution_count": 516,
      "outputs": [
        {
          "output_type": "stream",
          "text": [
            "2021-06-05 00:00:00\n"
          ],
          "name": "stdout"
        }
      ]
    },
    {
      "cell_type": "code",
      "metadata": {
        "colab": {
          "base_uri": "https://localhost:8080/"
        },
        "id": "9zSVPOtuqCKy",
        "outputId": "83bbf0fb-2003-4b5d-dde2-d7bb8801bb0f"
      },
      "source": [
        "ndata = stock_data.filter(['Close/Last']).values\n",
        "last20_days = ndata[-20:]\n",
        "scaled_last20_days = scaler.transform(last20_days)\n",
        "X_test = []\n",
        "X_test.append(scaled_last20_days)\n",
        "X_test = np.array(X_test)\n",
        "X_test = np.reshape(X_test, (X_test.shape[0], X_test.shape[1], 1))\n",
        "predicted_price = model.predict(X_test)\n",
        "predicted_price = scaler.inverse_transform(predicted_price)\n",
        "print('Predicted Close Price for {} '.format(nextday) + ' is ', predicted_price)"
      ],
      "execution_count": 517,
      "outputs": [
        {
          "output_type": "stream",
          "text": [
            "Predicted Close Price for 2021-06-05 00:00:00  is  [[124.215805]]\n"
          ],
          "name": "stdout"
        }
      ]
    }
  ]
}