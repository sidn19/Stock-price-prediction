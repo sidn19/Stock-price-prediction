{
  "nbformat": 4,
  "nbformat_minor": 0,
  "metadata": {
    "colab": {
      "name": "20 Days Prediction.ipynb",
      "provenance": [],
      "collapsed_sections": []
    },
    "kernelspec": {
      "name": "python3",
      "display_name": "Python 3"
    },
    "language_info": {
      "name": "python"
    }
  },
  "cells": [
    {
      "cell_type": "code",
      "metadata": {
        "id": "knvxUfmZXguE"
      },
      "source": [
        "import pandas as pd\n",
        "stock_data = pd.read_csv(\"/content/Stock_Data_with_vader.csv\",parse_dates=[\"Date\"],index_col=\"Date\")"
      ],
      "execution_count": 3,
      "outputs": []
    },
    {
      "cell_type": "code",
      "metadata": {
        "colab": {
          "base_uri": "https://localhost:8080/",
          "height": 233
        },
        "id": "odk8yQxMZsCh",
        "outputId": "ae04de2b-2a75-4732-e310-154ea7ec3b77"
      },
      "source": [
        "stock_data.head()"
      ],
      "execution_count": 4,
      "outputs": [
        {
          "output_type": "execute_result",
          "data": {
            "text/html": [
              "<div>\n",
              "<style scoped>\n",
              "    .dataframe tbody tr th:only-of-type {\n",
              "        vertical-align: middle;\n",
              "    }\n",
              "\n",
              "    .dataframe tbody tr th {\n",
              "        vertical-align: top;\n",
              "    }\n",
              "\n",
              "    .dataframe thead th {\n",
              "        text-align: right;\n",
              "    }\n",
              "</style>\n",
              "<table border=\"1\" class=\"dataframe\">\n",
              "  <thead>\n",
              "    <tr style=\"text-align: right;\">\n",
              "      <th></th>\n",
              "      <th>Close/Last</th>\n",
              "      <th>compound</th>\n",
              "      <th>negative</th>\n",
              "      <th>neutral</th>\n",
              "      <th>positive</th>\n",
              "      <th>Open</th>\n",
              "      <th>High</th>\n",
              "      <th>Low</th>\n",
              "      <th>Volume</th>\n",
              "    </tr>\n",
              "    <tr>\n",
              "      <th>Date</th>\n",
              "      <th></th>\n",
              "      <th></th>\n",
              "      <th></th>\n",
              "      <th></th>\n",
              "      <th></th>\n",
              "      <th></th>\n",
              "      <th></th>\n",
              "      <th></th>\n",
              "      <th></th>\n",
              "    </tr>\n",
              "  </thead>\n",
              "  <tbody>\n",
              "    <tr>\n",
              "      <th>2015-01-02</th>\n",
              "      <td>27.3325</td>\n",
              "      <td>0.1943</td>\n",
              "      <td>0.116</td>\n",
              "      <td>0.749</td>\n",
              "      <td>0.135</td>\n",
              "      <td>27.8475</td>\n",
              "      <td>27.8600</td>\n",
              "      <td>26.8375</td>\n",
              "      <td>212575080</td>\n",
              "    </tr>\n",
              "    <tr>\n",
              "      <th>2015-01-05</th>\n",
              "      <td>26.5625</td>\n",
              "      <td>0.9770</td>\n",
              "      <td>0.051</td>\n",
              "      <td>0.849</td>\n",
              "      <td>0.100</td>\n",
              "      <td>27.0725</td>\n",
              "      <td>27.1625</td>\n",
              "      <td>26.3525</td>\n",
              "      <td>256843520</td>\n",
              "    </tr>\n",
              "    <tr>\n",
              "      <th>2015-01-06</th>\n",
              "      <td>26.5650</td>\n",
              "      <td>0.9932</td>\n",
              "      <td>0.034</td>\n",
              "      <td>0.862</td>\n",
              "      <td>0.105</td>\n",
              "      <td>26.6350</td>\n",
              "      <td>26.8575</td>\n",
              "      <td>26.1575</td>\n",
              "      <td>262729000</td>\n",
              "    </tr>\n",
              "    <tr>\n",
              "      <th>2015-01-07</th>\n",
              "      <td>26.9375</td>\n",
              "      <td>0.9866</td>\n",
              "      <td>0.059</td>\n",
              "      <td>0.812</td>\n",
              "      <td>0.129</td>\n",
              "      <td>26.8000</td>\n",
              "      <td>27.0500</td>\n",
              "      <td>26.6737</td>\n",
              "      <td>159933400</td>\n",
              "    </tr>\n",
              "    <tr>\n",
              "      <th>2015-01-08</th>\n",
              "      <td>27.9725</td>\n",
              "      <td>0.7430</td>\n",
              "      <td>0.037</td>\n",
              "      <td>0.843</td>\n",
              "      <td>0.120</td>\n",
              "      <td>27.3075</td>\n",
              "      <td>28.0375</td>\n",
              "      <td>27.1750</td>\n",
              "      <td>236675040</td>\n",
              "    </tr>\n",
              "  </tbody>\n",
              "</table>\n",
              "</div>"
            ],
            "text/plain": [
              "            Close/Last  compound  negative  ...     High      Low     Volume\n",
              "Date                                        ...                             \n",
              "2015-01-02     27.3325    0.1943     0.116  ...  27.8600  26.8375  212575080\n",
              "2015-01-05     26.5625    0.9770     0.051  ...  27.1625  26.3525  256843520\n",
              "2015-01-06     26.5650    0.9932     0.034  ...  26.8575  26.1575  262729000\n",
              "2015-01-07     26.9375    0.9866     0.059  ...  27.0500  26.6737  159933400\n",
              "2015-01-08     27.9725    0.7430     0.037  ...  28.0375  27.1750  236675040\n",
              "\n",
              "[5 rows x 9 columns]"
            ]
          },
          "metadata": {
            "tags": []
          },
          "execution_count": 4
        }
      ]
    },
    {
      "cell_type": "code",
      "metadata": {
        "colab": {
          "base_uri": "https://localhost:8080/"
        },
        "id": "84AsW4B4ZvCe",
        "outputId": "6a34a74d-ce55-488a-dc93-1091c0481532"
      },
      "source": [
        "stock_data.shape"
      ],
      "execution_count": 5,
      "outputs": [
        {
          "output_type": "execute_result",
          "data": {
            "text/plain": [
              "(1595, 9)"
            ]
          },
          "metadata": {
            "tags": []
          },
          "execution_count": 5
        }
      ]
    },
    {
      "cell_type": "code",
      "metadata": {
        "id": "TAfm2u1yZx0f"
      },
      "source": [
        "actual = stock_data[\"Close/Last\"]"
      ],
      "execution_count": 6,
      "outputs": []
    },
    {
      "cell_type": "code",
      "metadata": {
        "colab": {
          "base_uri": "https://localhost:8080/"
        },
        "id": "xnr9Owm6P9_3",
        "outputId": "ce3220ca-1c13-4a67-b2e3-734a690ddc01"
      },
      "source": [
        "actual"
      ],
      "execution_count": 7,
      "outputs": [
        {
          "output_type": "execute_result",
          "data": {
            "text/plain": [
              "Date\n",
              "2015-01-02     27.3325\n",
              "2015-01-05     26.5625\n",
              "2015-01-06     26.5650\n",
              "2015-01-07     26.9375\n",
              "2015-01-08     27.9725\n",
              "                ...   \n",
              "2021-05-28    124.6100\n",
              "2021-06-01    124.2800\n",
              "2021-06-02    125.0600\n",
              "2021-06-03    123.5400\n",
              "2021-06-04    125.8900\n",
              "Name: Close/Last, Length: 1595, dtype: float64"
            ]
          },
          "metadata": {
            "tags": []
          },
          "execution_count": 7
        }
      ]
    },
    {
      "cell_type": "code",
      "metadata": {
        "colab": {
          "base_uri": "https://localhost:8080/",
          "height": 281
        },
        "id": "FLSGxscvP_Wh",
        "outputId": "d7def505-a89f-47d8-f987-760f0b3d6f5f"
      },
      "source": [
        "import matplotlib.pyplot as plt\n",
        "plt.plot(actual)"
      ],
      "execution_count": 8,
      "outputs": [
        {
          "output_type": "execute_result",
          "data": {
            "text/plain": [
              "[<matplotlib.lines.Line2D at 0x7f7fc98f6d50>]"
            ]
          },
          "metadata": {
            "tags": []
          },
          "execution_count": 8
        },
        {
          "output_type": "display_data",
          "data": {
            "image/png": "[encoded data removed]",
            "text/plain": [
              "<Figure size 432x288 with 1 Axes>"
            ]
          },
          "metadata": {
            "tags": [],
            "needs_background": "light"
          }
        }
      ]
    },
    {
      "cell_type": "code",
      "metadata": {
        "id": "0oSo02egQFw3"
      },
      "source": [
        "import numpy as np\n",
        "from sklearn.preprocessing import MinMaxScaler\n",
        "scaler = MinMaxScaler(feature_range=(0,1))\n",
        "actual = scaler.fit_transform(np.array(actual).reshape(-1,1))"
      ],
      "execution_count": 9,
      "outputs": []
    },
    {
      "cell_type": "code",
      "metadata": {
        "colab": {
          "base_uri": "https://localhost:8080/"
        },
        "id": "hWxLYRINQR-m",
        "outputId": "120af0f7-0bcc-41da-a30a-86d5828a4971"
      },
      "source": [
        "actual"
      ],
      "execution_count": 10,
      "outputs": [
        {
          "output_type": "execute_result",
          "data": {
            "text/plain": [
              "array([[0.03937383],\n",
              "       [0.03298777],\n",
              "       [0.0330085 ],\n",
              "       ...,\n",
              "       [0.84988596],\n",
              "       [0.8372797 ],\n",
              "       [0.85676965]])"
            ]
          },
          "metadata": {
            "tags": []
          },
          "execution_count": 10
        }
      ]
    },
    {
      "cell_type": "code",
      "metadata": {
        "colab": {
          "base_uri": "https://localhost:8080/"
        },
        "id": "x_5VJmcWQY3-",
        "outputId": "834f562d-6ba1-4e0c-d44f-0b8be8b23462"
      },
      "source": [
        "training_size = int(len(actual)*0.8)\n",
        "train_data = actual[0:training_size , :]\n",
        "X_train = []\n",
        "Y_train = []\n",
        "past_days = 20\n",
        "for i in range(past_days, len(train_data)):\n",
        "    X_train.append(train_data[i-past_days:i, 0])\n",
        "    Y_train.append(train_data[i, 0])\n",
        "    if i<= past_days:\n",
        "        print(X_train)\n",
        "        print(Y_train)\n",
        "        print()"
      ],
      "execution_count": 11,
      "outputs": [
        {
          "output_type": "stream",
          "text": [
            "[array([0.03937383, 0.03298777, 0.0330085 , 0.03609786, 0.04468173,\n",
            "       0.04493054, 0.03920796, 0.04121916, 0.04034833, 0.0341696 ,\n",
            "       0.03244868, 0.03810906, 0.03982998, 0.04573917, 0.04694174,\n",
            "       0.04719055, 0.03897989, 0.05177276, 0.05921626, 0.05560854])]\n",
            "[0.0586564379017209]\n",
            "\n"
          ],
          "name": "stdout"
        }
      ]
    },
    {
      "cell_type": "code",
      "metadata": {
        "id": "UyXDU2qqRTIb"
      },
      "source": [
        "X_train, Y_train = np.array(X_train), np.array(Y_train)"
      ],
      "execution_count": 12,
      "outputs": []
    },
    {
      "cell_type": "code",
      "metadata": {
        "colab": {
          "base_uri": "https://localhost:8080/"
        },
        "id": "TfUHAhm0RZkW",
        "outputId": "f6ad5050-559a-43f5-a068-cf4067f4b33c"
      },
      "source": [
        "X_train = np.reshape(X_train, (X_train.shape[0], X_train.shape[1], 1))\n",
        "X_train.shape"
      ],
      "execution_count": 13,
      "outputs": [
        {
          "output_type": "execute_result",
          "data": {
            "text/plain": [
              "(1256, 20, 1)"
            ]
          },
          "metadata": {
            "tags": []
          },
          "execution_count": 13
        }
      ]
    },
    {
      "cell_type": "code",
      "metadata": {
        "colab": {
          "base_uri": "https://localhost:8080/"
        },
        "id": "PJ9PKKiMRK2D",
        "outputId": "a91e050e-7538-46e2-a8dc-12d8bcec435f"
      },
      "source": [
        "print(X_train.shape)\n",
        "print(Y_train.shape)"
      ],
      "execution_count": 14,
      "outputs": [
        {
          "output_type": "stream",
          "text": [
            "(1256, 20, 1)\n",
            "(1256,)\n"
          ],
          "name": "stdout"
        }
      ]
    },
    {
      "cell_type": "code",
      "metadata": {
        "colab": {
          "base_uri": "https://localhost:8080/"
        },
        "id": "FB-WbuIcSL5f",
        "outputId": "722e9bb7-b471-4214-89bc-7249c496b664"
      },
      "source": [
        "from tensorflow import keras\n",
        "model = keras.Sequential()\n",
        "model.add(keras.layers.LSTM(200, return_sequences=True,activation = \"tanh\",input_shape= (X_train.shape[1], 1)))\n",
        "model.add(keras.layers.Dropout(0.2))\n",
        "model.add(keras.layers.LSTM(80, return_sequences= False,activation = \"tanh\"))\n",
        "model.add(keras.layers.Dense(80))\n",
        "model.add(keras.layers.Dense(1))\n",
        "\n",
        "model.summary()"
      ],
      "execution_count": 15,
      "outputs": [
        {
          "output_type": "stream",
          "text": [
            "Model: \"sequential\"\n",
            "_________________________________________________________________\n",
            "Layer (type)                 Output Shape              Param #   \n",
            "=================================================================\n",
            "lstm (LSTM)                  (None, 20, 200)           161600    \n",
            "_________________________________________________________________\n",
            "dropout (Dropout)            (None, 20, 200)           0         \n",
            "_________________________________________________________________\n",
            "lstm_1 (LSTM)                (None, 80)                89920     \n",
            "_________________________________________________________________\n",
            "dense (Dense)                (None, 80)                6480      \n",
            "_________________________________________________________________\n",
            "dense_1 (Dense)              (None, 1)                 81        \n",
            "=================================================================\n",
            "Total params: 258,081\n",
            "Trainable params: 258,081\n",
            "Non-trainable params: 0\n",
            "_________________________________________________________________\n"
          ],
          "name": "stdout"
        }
      ]
    },
    {
      "cell_type": "code",
      "metadata": {
        "id": "bLpHHNODSgDS"
      },
      "source": [
        "model.compile(optimizer = 'adam',loss = 'mse')"
      ],
      "execution_count": 16,
      "outputs": []
    },
    {
      "cell_type": "code",
      "metadata": {
        "colab": {
          "base_uri": "https://localhost:8080/"
        },
        "id": "KjBr6SEtSoKt",
        "outputId": "32cae352-b2ec-4947-9d1f-9e6aca407144"
      },
      "source": [
        "from keras.callbacks import EarlyStopping\n",
        "early_stop = EarlyStopping(monitor = 'val_loss',mode = 'min',verbose = 1,patience = 5)\n",
        "\n",
        "history = model.fit(X_train,Y_train, epochs = 100,batch_size = 128, validation_split = 0.4,verbose=1,callbacks = [early_stop])"
      ],
      "execution_count": 17,
      "outputs": [
        {
          "output_type": "stream",
          "text": [
            "Epoch 1/100\n",
            "6/6 [==============================] - 4s 280ms/step - loss: 0.0024 - val_loss: 0.0155\n",
            "Epoch 2/100\n",
            "6/6 [==============================] - 1s 151ms/step - loss: 0.0011 - val_loss: 0.0017\n",
            "Epoch 3/100\n",
            "6/6 [==============================] - 1s 151ms/step - loss: 5.0055e-04 - val_loss: 0.0025\n",
            "Epoch 4/100\n",
            "6/6 [==============================] - 1s 154ms/step - loss: 2.5961e-04 - val_loss: 9.4143e-04\n",
            "Epoch 5/100\n",
            "6/6 [==============================] - 1s 155ms/step - loss: 1.6605e-04 - val_loss: 3.2605e-04\n",
            "Epoch 6/100\n",
            "6/6 [==============================] - 1s 159ms/step - loss: 1.2831e-04 - val_loss: 2.9298e-04\n",
            "Epoch 7/100\n",
            "6/6 [==============================] - 1s 152ms/step - loss: 1.0261e-04 - val_loss: 6.6385e-04\n",
            "Epoch 8/100\n",
            "6/6 [==============================] - 1s 153ms/step - loss: 8.2948e-05 - val_loss: 2.9103e-04\n",
            "Epoch 9/100\n",
            "6/6 [==============================] - 1s 158ms/step - loss: 6.7983e-05 - val_loss: 2.6839e-04\n",
            "Epoch 10/100\n",
            "6/6 [==============================] - 1s 151ms/step - loss: 6.6131e-05 - val_loss: 2.6349e-04\n",
            "Epoch 11/100\n",
            "6/6 [==============================] - 1s 152ms/step - loss: 6.3631e-05 - val_loss: 3.2081e-04\n",
            "Epoch 12/100\n",
            "6/6 [==============================] - 1s 155ms/step - loss: 6.1539e-05 - val_loss: 2.6299e-04\n",
            "Epoch 13/100\n",
            "6/6 [==============================] - 1s 152ms/step - loss: 5.9337e-05 - val_loss: 2.5607e-04\n",
            "Epoch 14/100\n",
            "6/6 [==============================] - 1s 151ms/step - loss: 6.0318e-05 - val_loss: 2.6975e-04\n",
            "Epoch 15/100\n",
            "6/6 [==============================] - 1s 154ms/step - loss: 5.7822e-05 - val_loss: 2.3969e-04\n",
            "Epoch 16/100\n",
            "6/6 [==============================] - 1s 149ms/step - loss: 5.6303e-05 - val_loss: 2.3554e-04\n",
            "Epoch 17/100\n",
            "6/6 [==============================] - 1s 150ms/step - loss: 5.6137e-05 - val_loss: 2.3865e-04\n",
            "Epoch 18/100\n",
            "6/6 [==============================] - 1s 152ms/step - loss: 5.3370e-05 - val_loss: 2.4227e-04\n",
            "Epoch 19/100\n",
            "6/6 [==============================] - 1s 151ms/step - loss: 5.4362e-05 - val_loss: 2.2402e-04\n",
            "Epoch 20/100\n",
            "6/6 [==============================] - 1s 147ms/step - loss: 5.2790e-05 - val_loss: 2.1970e-04\n",
            "Epoch 21/100\n",
            "6/6 [==============================] - 1s 149ms/step - loss: 5.3975e-05 - val_loss: 2.5042e-04\n",
            "Epoch 22/100\n",
            "6/6 [==============================] - 1s 148ms/step - loss: 5.2402e-05 - val_loss: 2.1186e-04\n",
            "Epoch 23/100\n",
            "6/6 [==============================] - 1s 150ms/step - loss: 5.1759e-05 - val_loss: 2.1008e-04\n",
            "Epoch 24/100\n",
            "6/6 [==============================] - 1s 153ms/step - loss: 5.2238e-05 - val_loss: 2.1937e-04\n",
            "Epoch 25/100\n",
            "6/6 [==============================] - 1s 152ms/step - loss: 5.0748e-05 - val_loss: 2.2550e-04\n",
            "Epoch 26/100\n",
            "6/6 [==============================] - 1s 155ms/step - loss: 5.0927e-05 - val_loss: 2.0540e-04\n",
            "Epoch 27/100\n",
            "6/6 [==============================] - 1s 158ms/step - loss: 4.7941e-05 - val_loss: 1.9452e-04\n",
            "Epoch 28/100\n",
            "6/6 [==============================] - 1s 160ms/step - loss: 4.9448e-05 - val_loss: 1.9085e-04\n",
            "Epoch 29/100\n",
            "6/6 [==============================] - 1s 168ms/step - loss: 4.7363e-05 - val_loss: 2.0310e-04\n",
            "Epoch 30/100\n",
            "6/6 [==============================] - 1s 165ms/step - loss: 4.6399e-05 - val_loss: 1.8567e-04\n",
            "Epoch 31/100\n",
            "6/6 [==============================] - 1s 165ms/step - loss: 4.5201e-05 - val_loss: 1.8328e-04\n",
            "Epoch 32/100\n",
            "6/6 [==============================] - 1s 160ms/step - loss: 4.3328e-05 - val_loss: 1.7693e-04\n",
            "Epoch 33/100\n",
            "6/6 [==============================] - 1s 163ms/step - loss: 4.3931e-05 - val_loss: 1.8753e-04\n",
            "Epoch 34/100\n",
            "6/6 [==============================] - 1s 165ms/step - loss: 4.3199e-05 - val_loss: 1.7230e-04\n",
            "Epoch 35/100\n",
            "6/6 [==============================] - 1s 164ms/step - loss: 4.3055e-05 - val_loss: 1.6974e-04\n",
            "Epoch 36/100\n",
            "6/6 [==============================] - 1s 161ms/step - loss: 4.2293e-05 - val_loss: 1.7886e-04\n",
            "Epoch 37/100\n",
            "6/6 [==============================] - 1s 167ms/step - loss: 4.4750e-05 - val_loss: 1.7813e-04\n",
            "Epoch 38/100\n",
            "6/6 [==============================] - 1s 163ms/step - loss: 4.2941e-05 - val_loss: 1.6503e-04\n",
            "Epoch 39/100\n",
            "6/6 [==============================] - 1s 160ms/step - loss: 4.2385e-05 - val_loss: 1.8952e-04\n",
            "Epoch 40/100\n",
            "6/6 [==============================] - 1s 165ms/step - loss: 4.1219e-05 - val_loss: 1.8543e-04\n",
            "Epoch 41/100\n",
            "6/6 [==============================] - 1s 161ms/step - loss: 4.5387e-05 - val_loss: 2.1239e-04\n",
            "Epoch 42/100\n",
            "6/6 [==============================] - 1s 160ms/step - loss: 4.3155e-05 - val_loss: 1.5704e-04\n",
            "Epoch 43/100\n",
            "6/6 [==============================] - 1s 164ms/step - loss: 4.1408e-05 - val_loss: 1.6073e-04\n",
            "Epoch 44/100\n",
            "6/6 [==============================] - 1s 162ms/step - loss: 4.1581e-05 - val_loss: 1.5471e-04\n",
            "Epoch 45/100\n",
            "6/6 [==============================] - 1s 159ms/step - loss: 4.0645e-05 - val_loss: 1.8370e-04\n",
            "Epoch 46/100\n",
            "6/6 [==============================] - 1s 163ms/step - loss: 4.4911e-05 - val_loss: 1.5530e-04\n",
            "Epoch 47/100\n",
            "6/6 [==============================] - 1s 163ms/step - loss: 4.1733e-05 - val_loss: 1.7359e-04\n",
            "Epoch 48/100\n",
            "6/6 [==============================] - 1s 160ms/step - loss: 4.3022e-05 - val_loss: 1.5037e-04\n",
            "Epoch 49/100\n",
            "6/6 [==============================] - 1s 161ms/step - loss: 3.9251e-05 - val_loss: 1.5069e-04\n",
            "Epoch 50/100\n",
            "6/6 [==============================] - 1s 161ms/step - loss: 3.8732e-05 - val_loss: 1.5384e-04\n",
            "Epoch 51/100\n",
            "6/6 [==============================] - 1s 160ms/step - loss: 3.9983e-05 - val_loss: 1.4986e-04\n",
            "Epoch 52/100\n",
            "6/6 [==============================] - 1s 154ms/step - loss: 3.9567e-05 - val_loss: 1.5218e-04\n",
            "Epoch 53/100\n",
            "6/6 [==============================] - 1s 152ms/step - loss: 4.4304e-05 - val_loss: 1.5463e-04\n",
            "Epoch 54/100\n",
            "6/6 [==============================] - 1s 155ms/step - loss: 4.2678e-05 - val_loss: 1.7012e-04\n",
            "Epoch 55/100\n",
            "6/6 [==============================] - 1s 151ms/step - loss: 4.1280e-05 - val_loss: 1.4787e-04\n",
            "Epoch 56/100\n",
            "6/6 [==============================] - 1s 155ms/step - loss: 4.3170e-05 - val_loss: 1.5821e-04\n",
            "Epoch 57/100\n",
            "6/6 [==============================] - 1s 149ms/step - loss: 3.8921e-05 - val_loss: 1.5740e-04\n",
            "Epoch 58/100\n",
            "6/6 [==============================] - 1s 151ms/step - loss: 3.9813e-05 - val_loss: 1.5518e-04\n",
            "Epoch 59/100\n",
            "6/6 [==============================] - 1s 153ms/step - loss: 3.8314e-05 - val_loss: 1.4186e-04\n",
            "Epoch 60/100\n",
            "6/6 [==============================] - 1s 153ms/step - loss: 3.8007e-05 - val_loss: 1.4051e-04\n",
            "Epoch 61/100\n",
            "6/6 [==============================] - 1s 151ms/step - loss: 3.9128e-05 - val_loss: 1.3785e-04\n",
            "Epoch 62/100\n",
            "6/6 [==============================] - 1s 154ms/step - loss: 3.9417e-05 - val_loss: 1.3974e-04\n",
            "Epoch 63/100\n",
            "6/6 [==============================] - 1s 149ms/step - loss: 3.7181e-05 - val_loss: 1.3671e-04\n",
            "Epoch 64/100\n",
            "6/6 [==============================] - 1s 150ms/step - loss: 4.0093e-05 - val_loss: 1.4933e-04\n",
            "Epoch 65/100\n",
            "6/6 [==============================] - 1s 154ms/step - loss: 3.8426e-05 - val_loss: 1.3413e-04\n",
            "Epoch 66/100\n",
            "6/6 [==============================] - 1s 150ms/step - loss: 3.5903e-05 - val_loss: 1.4039e-04\n",
            "Epoch 67/100\n",
            "6/6 [==============================] - 1s 152ms/step - loss: 3.5811e-05 - val_loss: 1.3211e-04\n",
            "Epoch 68/100\n",
            "6/6 [==============================] - 1s 153ms/step - loss: 3.8088e-05 - val_loss: 1.3492e-04\n",
            "Epoch 69/100\n",
            "6/6 [==============================] - 1s 154ms/step - loss: 3.6763e-05 - val_loss: 1.3084e-04\n",
            "Epoch 70/100\n",
            "6/6 [==============================] - 1s 147ms/step - loss: 3.6928e-05 - val_loss: 1.2946e-04\n",
            "Epoch 71/100\n",
            "6/6 [==============================] - 1s 151ms/step - loss: 3.5943e-05 - val_loss: 1.3692e-04\n",
            "Epoch 72/100\n",
            "6/6 [==============================] - 1s 150ms/step - loss: 3.3869e-05 - val_loss: 1.2784e-04\n",
            "Epoch 73/100\n",
            "6/6 [==============================] - 1s 151ms/step - loss: 3.4624e-05 - val_loss: 1.2744e-04\n",
            "Epoch 74/100\n",
            "6/6 [==============================] - 1s 152ms/step - loss: 3.4810e-05 - val_loss: 1.2904e-04\n",
            "Epoch 75/100\n",
            "6/6 [==============================] - 1s 154ms/step - loss: 3.4416e-05 - val_loss: 1.3118e-04\n",
            "Epoch 76/100\n",
            "6/6 [==============================] - 1s 150ms/step - loss: 3.3802e-05 - val_loss: 1.2607e-04\n",
            "Epoch 77/100\n",
            "6/6 [==============================] - 1s 148ms/step - loss: 3.5615e-05 - val_loss: 1.5130e-04\n",
            "Epoch 78/100\n",
            "6/6 [==============================] - 1s 154ms/step - loss: 3.6742e-05 - val_loss: 1.3139e-04\n",
            "Epoch 79/100\n",
            "6/6 [==============================] - 1s 157ms/step - loss: 3.6550e-05 - val_loss: 1.3563e-04\n",
            "Epoch 80/100\n",
            "6/6 [==============================] - 1s 153ms/step - loss: 3.4724e-05 - val_loss: 1.2189e-04\n",
            "Epoch 81/100\n",
            "6/6 [==============================] - 1s 151ms/step - loss: 3.4719e-05 - val_loss: 1.2067e-04\n",
            "Epoch 82/100\n",
            "6/6 [==============================] - 1s 151ms/step - loss: 3.6680e-05 - val_loss: 1.3284e-04\n",
            "Epoch 83/100\n",
            "6/6 [==============================] - 1s 152ms/step - loss: 3.6571e-05 - val_loss: 1.2337e-04\n",
            "Epoch 84/100\n",
            "6/6 [==============================] - 1s 150ms/step - loss: 3.3390e-05 - val_loss: 1.2238e-04\n",
            "Epoch 85/100\n",
            "6/6 [==============================] - 1s 155ms/step - loss: 3.3176e-05 - val_loss: 1.6173e-04\n",
            "Epoch 86/100\n",
            "6/6 [==============================] - 1s 151ms/step - loss: 3.3947e-05 - val_loss: 1.2167e-04\n",
            "Epoch 00086: early stopping\n"
          ],
          "name": "stdout"
        }
      ]
    },
    {
      "cell_type": "code",
      "metadata": {
        "colab": {
          "base_uri": "https://localhost:8080/",
          "height": 281
        },
        "id": "A0-Ka-dvSrVR",
        "outputId": "0bb81f32-96ce-4095-ad18-9ade0366b1f1"
      },
      "source": [
        "loss = pd.DataFrame(model.history.history)\n",
        "loss.plot()"
      ],
      "execution_count": 18,
      "outputs": [
        {
          "output_type": "execute_result",
          "data": {
            "text/plain": [
              "<matplotlib.axes._subplots.AxesSubplot at 0x7f7f7264c550>"
            ]
          },
          "metadata": {
            "tags": []
          },
          "execution_count": 18
        },
        {
          "output_type": "display_data",
          "data": {
            "image/png": "[encoded data removed]",
            "text/plain": [
              "<Figure size 432x288 with 1 Axes>"
            ]
          },
          "metadata": {
            "tags": [],
            "needs_background": "light"
          }
        }
      ]
    },
    {
      "cell_type": "code",
      "metadata": {
        "id": "WpSn80rw7E-q"
      },
      "source": [
        "test_data = actual[training_size - past_days: , :]\n",
        "data = stock_data[\"Close/Last\"].values"
      ],
      "execution_count": 19,
      "outputs": []
    },
    {
      "cell_type": "code",
      "metadata": {
        "id": "DZ8VQqvW52fS"
      },
      "source": [
        "X_test = []\n",
        "Y_test = data[training_size:]\n",
        "for i in range(past_days, len(test_data)):\n",
        "    X_test.append(test_data[i-past_days:i, 0])"
      ],
      "execution_count": 20,
      "outputs": []
    },
    {
      "cell_type": "code",
      "metadata": {
        "id": "WSStAUUM8vyr"
      },
      "source": [
        "X_test = np.array(X_test)\n",
        "X_test = np.reshape(X_test, (X_test. shape[0], X_test. shape[1], 1))"
      ],
      "execution_count": 21,
      "outputs": []
    },
    {
      "cell_type": "code",
      "metadata": {
        "id": "RxGy1whj88np"
      },
      "source": [
        "predict = model.predict(X_test)\n",
        "predict = scaler.inverse_transform(predict)"
      ],
      "execution_count": 22,
      "outputs": []
    },
    {
      "cell_type": "code",
      "metadata": {
        "colab": {
          "base_uri": "https://localhost:8080/"
        },
        "id": "DBcJ1jzu9FI7",
        "outputId": "7ed37b25-1895-44fb-b332-1abcd148a52d"
      },
      "source": [
        "rmse = np.sqrt(np.mean(predict - Y_test)**2)\n",
        "rmse"
      ],
      "execution_count": 23,
      "outputs": [
        {
          "output_type": "execute_result",
          "data": {
            "text/plain": [
              "0.26719517770605633"
            ]
          },
          "metadata": {
            "tags": []
          },
          "execution_count": 23
        }
      ]
    },
    {
      "cell_type": "code",
      "metadata": {
        "colab": {
          "base_uri": "https://localhost:8080/"
        },
        "id": "2OHNoSjdAAey",
        "outputId": "6c042395-55ed-4e65-fca5-78104f81c4d4"
      },
      "source": [
        "ndata =stock_data[\"Close/Last\"]\n",
        "ndata"
      ],
      "execution_count": 24,
      "outputs": [
        {
          "output_type": "execute_result",
          "data": {
            "text/plain": [
              "Date\n",
              "2015-01-02     27.3325\n",
              "2015-01-05     26.5625\n",
              "2015-01-06     26.5650\n",
              "2015-01-07     26.9375\n",
              "2015-01-08     27.9725\n",
              "                ...   \n",
              "2021-05-28    124.6100\n",
              "2021-06-01    124.2800\n",
              "2021-06-02    125.0600\n",
              "2021-06-03    123.5400\n",
              "2021-06-04    125.8900\n",
              "Name: Close/Last, Length: 1595, dtype: float64"
            ]
          },
          "metadata": {
            "tags": []
          },
          "execution_count": 24
        }
      ]
    },
    {
      "cell_type": "code",
      "metadata": {
        "id": "YlAMp9qX_6_P"
      },
      "source": [
        "training = ndata[:training_size]"
      ],
      "execution_count": 25,
      "outputs": []
    },
    {
      "cell_type": "code",
      "metadata": {
        "id": "eUrLeNOE_9wj"
      },
      "source": [
        "prediction = pd.DataFrame({'Close_Price' : ndata[training_size:]})\n",
        "prediction['Predictions'] = predict"
      ],
      "execution_count": 26,
      "outputs": []
    },
    {
      "cell_type": "code",
      "metadata": {
        "colab": {
          "base_uri": "https://localhost:8080/",
          "height": 446
        },
        "id": "rQruoVU0TQNA",
        "outputId": "ec7e79c4-569f-4358-debd-c2dc7bc57d9c"
      },
      "source": [
        "prediction"
      ],
      "execution_count": 27,
      "outputs": [
        {
          "output_type": "execute_result",
          "data": {
            "text/html": [
              "<div>\n",
              "<style scoped>\n",
              "    .dataframe tbody tr th:only-of-type {\n",
              "        vertical-align: middle;\n",
              "    }\n",
              "\n",
              "    .dataframe tbody tr th {\n",
              "        vertical-align: top;\n",
              "    }\n",
              "\n",
              "    .dataframe thead th {\n",
              "        text-align: right;\n",
              "    }\n",
              "</style>\n",
              "<table border=\"1\" class=\"dataframe\">\n",
              "  <thead>\n",
              "    <tr style=\"text-align: right;\">\n",
              "      <th></th>\n",
              "      <th>Close_Price</th>\n",
              "      <th>Predictions</th>\n",
              "    </tr>\n",
              "    <tr>\n",
              "      <th>Date</th>\n",
              "      <th></th>\n",
              "      <th></th>\n",
              "    </tr>\n",
              "  </thead>\n",
              "  <tbody>\n",
              "    <tr>\n",
              "      <th>2020-01-29</th>\n",
              "      <td>81.0850</td>\n",
              "      <td>79.525703</td>\n",
              "    </tr>\n",
              "    <tr>\n",
              "      <th>2020-01-30</th>\n",
              "      <td>80.9675</td>\n",
              "      <td>79.691811</td>\n",
              "    </tr>\n",
              "    <tr>\n",
              "      <th>2020-01-31</th>\n",
              "      <td>77.3775</td>\n",
              "      <td>80.018753</td>\n",
              "    </tr>\n",
              "    <tr>\n",
              "      <th>2020-02-03</th>\n",
              "      <td>77.1650</td>\n",
              "      <td>79.875374</td>\n",
              "    </tr>\n",
              "    <tr>\n",
              "      <th>2020-02-04</th>\n",
              "      <td>79.7125</td>\n",
              "      <td>79.443703</td>\n",
              "    </tr>\n",
              "    <tr>\n",
              "      <th>...</th>\n",
              "      <td>...</td>\n",
              "      <td>...</td>\n",
              "    </tr>\n",
              "    <tr>\n",
              "      <th>2021-05-28</th>\n",
              "      <td>124.6100</td>\n",
              "      <td>127.213028</td>\n",
              "    </tr>\n",
              "    <tr>\n",
              "      <th>2021-06-01</th>\n",
              "      <td>124.2800</td>\n",
              "      <td>127.027512</td>\n",
              "    </tr>\n",
              "    <tr>\n",
              "      <th>2021-06-02</th>\n",
              "      <td>125.0600</td>\n",
              "      <td>126.659714</td>\n",
              "    </tr>\n",
              "    <tr>\n",
              "      <th>2021-06-03</th>\n",
              "      <td>123.5400</td>\n",
              "      <td>126.344933</td>\n",
              "    </tr>\n",
              "    <tr>\n",
              "      <th>2021-06-04</th>\n",
              "      <td>125.8900</td>\n",
              "      <td>125.884720</td>\n",
              "    </tr>\n",
              "  </tbody>\n",
              "</table>\n",
              "<p>319 rows × 2 columns</p>\n",
              "</div>"
            ],
            "text/plain": [
              "            Close_Price  Predictions\n",
              "Date                                \n",
              "2020-01-29      81.0850    79.525703\n",
              "2020-01-30      80.9675    79.691811\n",
              "2020-01-31      77.3775    80.018753\n",
              "2020-02-03      77.1650    79.875374\n",
              "2020-02-04      79.7125    79.443703\n",
              "...                 ...          ...\n",
              "2021-05-28     124.6100   127.213028\n",
              "2021-06-01     124.2800   127.027512\n",
              "2021-06-02     125.0600   126.659714\n",
              "2021-06-03     123.5400   126.344933\n",
              "2021-06-04     125.8900   125.884720\n",
              "\n",
              "[319 rows x 2 columns]"
            ]
          },
          "metadata": {
            "tags": []
          },
          "execution_count": 27
        }
      ]
    },
    {
      "cell_type": "code",
      "metadata": {
        "colab": {
          "base_uri": "https://localhost:8080/",
          "height": 638
        },
        "id": "NhbtH54XeDlT",
        "outputId": "8da63bbb-3162-4797-9be1-125d95ac0e3d"
      },
      "source": [
        "plt.figure(figsize=(15,10))\n",
        "plt.title('Actual V/S Predicted Close Prices')\n",
        "plt.xlabel('Date')\n",
        "plt.ylabel( 'Closeed Price($)')\n",
        "plt.plot(prediction['Close_Price'],  color = 'orange', label = 'Actual Closed Price')\n",
        "plt.plot(prediction['Predictions'],   color = 'blue' ,label = 'Predicted Closed Price')"
      ],
      "execution_count": 28,
      "outputs": [
        {
          "output_type": "execute_result",
          "data": {
            "text/plain": [
              "[<matplotlib.lines.Line2D at 0x7f7f733b7710>]"
            ]
          },
          "metadata": {
            "tags": []
          },
          "execution_count": 28
        },
        {
          "output_type": "display_data",
          "data": {
            "image/png": "[encoded data removed]",
            "text/plain": [
              "<Figure size 1080x720 with 1 Axes>"
            ]
          },
          "metadata": {
            "tags": [],
            "needs_background": "light"
          }
        }
      ]
    },
    {
      "cell_type": "code",
      "metadata": {
        "colab": {
          "base_uri": "https://localhost:8080/"
        },
        "id": "7yAVtR48pUwj",
        "outputId": "3c054b70-68a3-4304-ac94-0eb0e91d4fac"
      },
      "source": [
        "import datetime\n",
        "\n",
        "lastday =stock_data.index[-1]\n",
        "nextday = lastday + datetime.timedelta(days = 1)\n",
        "print(nextday)"
      ],
      "execution_count": 29,
      "outputs": [
        {
          "output_type": "stream",
          "text": [
            "2021-06-05 00:00:00\n"
          ],
          "name": "stdout"
        }
      ]
    },
    {
      "cell_type": "code",
      "metadata": {
        "colab": {
          "base_uri": "https://localhost:8080/"
        },
        "id": "9zSVPOtuqCKy",
        "outputId": "66a20fb9-03e8-40c5-d70b-d5633ecc8dfa"
      },
      "source": [
        "ndata = stock_data.filter(['Close/Last']).values\n",
        "last20_days = ndata[-20:]\n",
        "scaled_last20_days = scaler.transform(last20_days)\n",
        "X_test = []\n",
        "X_test.append(scaled_last20_days)\n",
        "X_test = np.array(X_test)\n",
        "X_test = np.reshape(X_test, (X_test.shape[0], X_test.shape[1], 1))\n",
        "predicted_price = model.predict(X_test)\n",
        "predicted_price = scaler.inverse_transform(predicted_price)\n",
        "print('Predicted Close Price for {} '.format(nextday) + ' is ', predicted_price)"
      ],
      "execution_count": 30,
      "outputs": [
        {
          "output_type": "stream",
          "text": [
            "Predicted Close Price for 2021-06-05 00:00:00  is  [[125.74614]]\n"
          ],
          "name": "stdout"
        }
      ]
    },
    {
      "cell_type": "code",
      "metadata": {
        "id": "5VhnBfZvtorH"
      },
      "source": [
        "model.save(\"20_days_prediction.h5\")"
      ],
      "execution_count": 75,
      "outputs": []
    }
  ]
}