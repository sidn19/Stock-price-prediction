{
 "cells": [
  {
   "cell_type": "code",
   "execution_count": 131,
   "id": "b36b50d7",
   "metadata": {},
   "outputs": [],
   "source": [
    "import pandas as pd"
   ]
  },
  {
   "cell_type": "code",
   "execution_count": 132,
   "id": "f62541b6",
   "metadata": {},
   "outputs": [
    {
     "data": {
      "text/html": [
       "<div>\n",
       "<style scoped>\n",
       "    .dataframe tbody tr th:only-of-type {\n",
       "        vertical-align: middle;\n",
       "    }\n",
       "\n",
       "    .dataframe tbody tr th {\n",
       "        vertical-align: top;\n",
       "    }\n",
       "\n",
       "    .dataframe thead th {\n",
       "        text-align: right;\n",
       "    }\n",
       "</style>\n",
       "<table border=\"1\" class=\"dataframe\">\n",
       "  <thead>\n",
       "    <tr style=\"text-align: right;\">\n",
       "      <th></th>\n",
       "      <th>Date</th>\n",
       "      <th>Headlines</th>\n",
       "    </tr>\n",
       "  </thead>\n",
       "  <tbody>\n",
       "    <tr>\n",
       "      <th>0</th>\n",
       "      <td>01-01-2015</td>\n",
       "      <td>What Can We Expect From Apple Inc. In 2015? 1 ...</td>\n",
       "    </tr>\n",
       "    <tr>\n",
       "      <th>1</th>\n",
       "      <td>02-01-2015</td>\n",
       "      <td>What to expect from Apple in 2015 beyond its s...</td>\n",
       "    </tr>\n",
       "    <tr>\n",
       "      <th>2</th>\n",
       "      <td>03-01-2015</td>\n",
       "      <td>Mountie: An inexpensive and innovative way to ...</td>\n",
       "    </tr>\n",
       "    <tr>\n",
       "      <th>3</th>\n",
       "      <td>04-01-2015</td>\n",
       "      <td>Donald Yacktman on the Sources of Moats, His C...</td>\n",
       "    </tr>\n",
       "    <tr>\n",
       "      <th>4</th>\n",
       "      <td>05-01-2015</td>\n",
       "      <td>SIM-free iPhone 6, 6 Plus reportedly debuting ...</td>\n",
       "    </tr>\n",
       "    <tr>\n",
       "      <th>...</th>\n",
       "      <td>...</td>\n",
       "      <td>...</td>\n",
       "    </tr>\n",
       "    <tr>\n",
       "      <th>2360</th>\n",
       "      <td>19-06-2021</td>\n",
       "      <td>Best pre-Prime Day smartwatch deals on Apple W...</td>\n",
       "    </tr>\n",
       "    <tr>\n",
       "      <th>2361</th>\n",
       "      <td>20-06-2021</td>\n",
       "      <td>iPhone 13 rumors: As Apple's fall event gets c...</td>\n",
       "    </tr>\n",
       "    <tr>\n",
       "      <th>2362</th>\n",
       "      <td>21-06-2021</td>\n",
       "      <td>Apple is shortening new free TV Plus trials fr...</td>\n",
       "    </tr>\n",
       "    <tr>\n",
       "      <th>2363</th>\n",
       "      <td>22-06-2021</td>\n",
       "      <td>Google likely to soon face antitrust claims ov...</td>\n",
       "    </tr>\n",
       "    <tr>\n",
       "      <th>2364</th>\n",
       "      <td>23-06-2021</td>\n",
       "      <td>French court sets date in Apple case over App ...</td>\n",
       "    </tr>\n",
       "  </tbody>\n",
       "</table>\n",
       "<p>2365 rows × 2 columns</p>\n",
       "</div>"
      ],
      "text/plain": [
       "            Date                                          Headlines\n",
       "0     01-01-2015  What Can We Expect From Apple Inc. In 2015? 1 ...\n",
       "1     02-01-2015  What to expect from Apple in 2015 beyond its s...\n",
       "2     03-01-2015  Mountie: An inexpensive and innovative way to ...\n",
       "3     04-01-2015  Donald Yacktman on the Sources of Moats, His C...\n",
       "4     05-01-2015  SIM-free iPhone 6, 6 Plus reportedly debuting ...\n",
       "...          ...                                                ...\n",
       "2360  19-06-2021  Best pre-Prime Day smartwatch deals on Apple W...\n",
       "2361  20-06-2021  iPhone 13 rumors: As Apple's fall event gets c...\n",
       "2362  21-06-2021  Apple is shortening new free TV Plus trials fr...\n",
       "2363  22-06-2021  Google likely to soon face antitrust claims ov...\n",
       "2364  23-06-2021  French court sets date in Apple case over App ...\n",
       "\n",
       "[2365 rows x 2 columns]"
      ]
     },
     "execution_count": 132,
     "metadata": {},
     "output_type": "execute_result"
    }
   ],
   "source": [
    "df=pd.read_csv(\"./Datasets/Headlines/News_headlines.csv\")\n",
    "df"
   ]
  },
  {
   "cell_type": "code",
   "execution_count": 133,
   "id": "58df8880",
   "metadata": {},
   "outputs": [],
   "source": [
    "train = df[df['Date'] < '20180623']\n",
    "test = df[df['Date'] > '20180622']"
   ]
  },
  {
   "cell_type": "code",
   "execution_count": 136,
   "id": "bfdf2650",
   "metadata": {},
   "outputs": [],
   "source": [
    "headlines=train.Headlines\n",
    "headlines.replace(\"[^a-zA-Z]\",\" \",regex=True, inplace=True)"
   ]
  },
  {
   "cell_type": "code",
   "execution_count": 137,
   "id": "6cc725dd",
   "metadata": {
    "scrolled": true
   },
   "outputs": [
    {
     "data": {
      "text/plain": [
       "0       What Can We Expect From Apple Inc  In         ...\n",
       "1       What to expect from Apple in      beyond its s...\n",
       "2       Mountie  An inexpensive and innovative way to ...\n",
       "3       Donald Yacktman on the Sources of Moats  His C...\n",
       "4       SIM free iPhone      Plus reportedly debuting ...\n",
       "                              ...                        \n",
       "2357    Apple s Tim Cook  Sideloading is  not in the b...\n",
       "2358    Apple awards grants for computer chip courses ...\n",
       "2359    Wells Fargo updates on its best ideas  Signatu...\n",
       "2360    Best pre Prime Day smartwatch deals on Apple W...\n",
       "2361    iPhone    rumors  As Apple s fall event gets c...\n",
       "Name: Headlines, Length: 1560, dtype: object"
      ]
     },
     "execution_count": 137,
     "metadata": {},
     "output_type": "execute_result"
    }
   ],
   "source": [
    "headlines"
   ]
  },
  {
   "cell_type": "code",
   "execution_count": 138,
   "id": "33cd23e6",
   "metadata": {},
   "outputs": [
    {
     "data": {
      "text/plain": [
       "0       what can we expect from apple inc  in         ...\n",
       "1       what to expect from apple in      beyond its s...\n",
       "2       mountie  an inexpensive and innovative way to ...\n",
       "3       donald yacktman on the sources of moats  his c...\n",
       "4       sim free iphone      plus reportedly debuting ...\n",
       "                              ...                        \n",
       "2357    apple s tim cook  sideloading is  not in the b...\n",
       "2358    apple awards grants for computer chip courses ...\n",
       "2359    wells fargo updates on its best ideas  signatu...\n",
       "2360    best pre prime day smartwatch deals on apple w...\n",
       "2361    iphone    rumors  as apple s fall event gets c...\n",
       "Name: Headlines, Length: 1560, dtype: object"
      ]
     },
     "execution_count": 138,
     "metadata": {},
     "output_type": "execute_result"
    }
   ],
   "source": [
    "headlines = headlines.str.lower()\n",
    "headlines"
   ]
  },
  {
   "cell_type": "code",
   "execution_count": 128,
   "id": "dc1937f9",
   "metadata": {},
   "outputs": [],
   "source": []
  },
  {
   "cell_type": "code",
   "execution_count": null,
   "id": "1ec4ea06",
   "metadata": {},
   "outputs": [],
   "source": []
  }
 ],
 "metadata": {
  "kernelspec": {
   "display_name": "Python 3",
   "language": "python",
   "name": "python3"
  },
  "language_info": {
   "codemirror_mode": {
    "name": "ipython",
    "version": 3
   },
   "file_extension": ".py",
   "mimetype": "text/x-python",
   "name": "python",
   "nbconvert_exporter": "python",
   "pygments_lexer": "ipython3",
   "version": "3.8.8"
  }
 },
 "nbformat": 4,
 "nbformat_minor": 5
}
