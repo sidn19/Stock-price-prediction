{
 "cells": [
  {
   "cell_type": "code",
   "execution_count": 12,
   "id": "b36b50d7",
   "metadata": {},
   "outputs": [],
   "source": [
    "import pandas as pd\n",
    "from nltk.sentiment.vader import SentimentIntensityAnalyzer"
   ]
  },
  {
   "cell_type": "code",
   "execution_count": 13,
   "id": "f62541b6",
   "metadata": {},
   "outputs": [
    {
     "output_type": "execute_result",
     "data": {
      "text/plain": [
       "           Date                                          Headlines\n",
       "0    2015-01-01  What Can We Expect From Apple Inc. In 2015? 1 ...\n",
       "1    2015-02-01  What to expect from Apple in 2015 beyond its s...\n",
       "2    2015-03-01  Mountie: An inexpensive and innovative way to ...\n",
       "3    2015-04-01  Donald Yacktman on the Sources of Moats, His C...\n",
       "4    2015-05-01  SIM-free iPhone 6, 6 Plus reportedly debuting ...\n",
       "...         ...                                                ...\n",
       "2360 2021-06-19  Best pre-Prime Day smartwatch deals on Apple W...\n",
       "2361 2021-06-20  iPhone 13 rumors: As Apple's fall event gets c...\n",
       "2362 2021-06-21  Apple is shortening new free TV Plus trials fr...\n",
       "2363 2021-06-22  Google likely to soon face antitrust claims ov...\n",
       "2364 2021-06-23  French court sets date in Apple case over App ...\n",
       "\n",
       "[2365 rows x 2 columns]"
      ],
      "text/html": "<div>\n<style scoped>\n    .dataframe tbody tr th:only-of-type {\n        vertical-align: middle;\n    }\n\n    .dataframe tbody tr th {\n        vertical-align: top;\n    }\n\n    .dataframe thead th {\n        text-align: right;\n    }\n</style>\n<table border=\"1\" class=\"dataframe\">\n  <thead>\n    <tr style=\"text-align: right;\">\n      <th></th>\n      <th>Date</th>\n      <th>Headlines</th>\n    </tr>\n  </thead>\n  <tbody>\n    <tr>\n      <th>0</th>\n      <td>2015-01-01</td>\n      <td>What Can We Expect From Apple Inc. In 2015? 1 ...</td>\n    </tr>\n    <tr>\n      <th>1</th>\n      <td>2015-02-01</td>\n      <td>What to expect from Apple in 2015 beyond its s...</td>\n    </tr>\n    <tr>\n      <th>2</th>\n      <td>2015-03-01</td>\n      <td>Mountie: An inexpensive and innovative way to ...</td>\n    </tr>\n    <tr>\n      <th>3</th>\n      <td>2015-04-01</td>\n      <td>Donald Yacktman on the Sources of Moats, His C...</td>\n    </tr>\n    <tr>\n      <th>4</th>\n      <td>2015-05-01</td>\n      <td>SIM-free iPhone 6, 6 Plus reportedly debuting ...</td>\n    </tr>\n    <tr>\n      <th>...</th>\n      <td>...</td>\n      <td>...</td>\n    </tr>\n    <tr>\n      <th>2360</th>\n      <td>2021-06-19</td>\n      <td>Best pre-Prime Day smartwatch deals on Apple W...</td>\n    </tr>\n    <tr>\n      <th>2361</th>\n      <td>2021-06-20</td>\n      <td>iPhone 13 rumors: As Apple's fall event gets c...</td>\n    </tr>\n    <tr>\n      <th>2362</th>\n      <td>2021-06-21</td>\n      <td>Apple is shortening new free TV Plus trials fr...</td>\n    </tr>\n    <tr>\n      <th>2363</th>\n      <td>2021-06-22</td>\n      <td>Google likely to soon face antitrust claims ov...</td>\n    </tr>\n    <tr>\n      <th>2364</th>\n      <td>2021-06-23</td>\n      <td>French court sets date in Apple case over App ...</td>\n    </tr>\n  </tbody>\n</table>\n<p>2365 rows × 2 columns</p>\n</div>"
     },
     "metadata": {},
     "execution_count": 13
    }
   ],
   "source": [
    "df=pd.read_csv(\"./Datasets/Headlines/News_headlines.csv\", parse_dates=[\"Date\"])\n",
    "df"
   ]
  },
  {
   "cell_type": "code",
   "execution_count": 14,
   "metadata": {},
   "outputs": [
    {
     "output_type": "stream",
     "name": "stdout",
     "text": [
      "<class 'pandas.core.frame.DataFrame'>\nRangeIndex: 2365 entries, 0 to 2364\nData columns (total 2 columns):\n #   Column     Non-Null Count  Dtype         \n---  ------     --------------  -----         \n 0   Date       2365 non-null   datetime64[ns]\n 1   Headlines  2365 non-null   object        \ndtypes: datetime64[ns](1), object(1)\nmemory usage: 37.1+ KB\n"
     ]
    }
   ],
   "source": [
    "df.info()"
   ]
  },
  {
   "cell_type": "code",
   "execution_count": 15,
   "id": "dc1937f9",
   "metadata": {},
   "outputs": [
    {
     "output_type": "execute_result",
     "data": {
      "text/plain": [
       "        Date                                          Headlines    neg    neu  \\\n",
       "0 2015-01-01  What Can We Expect From Apple Inc. In 2015? 1 ...  0.069  0.820   \n",
       "1 2015-02-01  What to expect from Apple in 2015 beyond its s...  0.041  0.849   \n",
       "2 2015-03-01  Mountie: An inexpensive and innovative way to ...  0.124  0.763   \n",
       "3 2015-04-01  Donald Yacktman on the Sources of Moats, His C...  0.074  0.874   \n",
       "4 2015-05-01  SIM-free iPhone 6, 6 Plus reportedly debuting ...  0.022  0.843   \n",
       "\n",
       "     pos  compound  \n",
       "0  0.111    0.2263  \n",
       "1  0.110    0.9881  \n",
       "2  0.112    0.1381  \n",
       "3  0.052   -0.5330  \n",
       "4  0.134    0.9973  "
      ],
      "text/html": "<div>\n<style scoped>\n    .dataframe tbody tr th:only-of-type {\n        vertical-align: middle;\n    }\n\n    .dataframe tbody tr th {\n        vertical-align: top;\n    }\n\n    .dataframe thead th {\n        text-align: right;\n    }\n</style>\n<table border=\"1\" class=\"dataframe\">\n  <thead>\n    <tr style=\"text-align: right;\">\n      <th></th>\n      <th>Date</th>\n      <th>Headlines</th>\n      <th>neg</th>\n      <th>neu</th>\n      <th>pos</th>\n      <th>compound</th>\n    </tr>\n  </thead>\n  <tbody>\n    <tr>\n      <th>0</th>\n      <td>2015-01-01</td>\n      <td>What Can We Expect From Apple Inc. In 2015? 1 ...</td>\n      <td>0.069</td>\n      <td>0.820</td>\n      <td>0.111</td>\n      <td>0.2263</td>\n    </tr>\n    <tr>\n      <th>1</th>\n      <td>2015-02-01</td>\n      <td>What to expect from Apple in 2015 beyond its s...</td>\n      <td>0.041</td>\n      <td>0.849</td>\n      <td>0.110</td>\n      <td>0.9881</td>\n    </tr>\n    <tr>\n      <th>2</th>\n      <td>2015-03-01</td>\n      <td>Mountie: An inexpensive and innovative way to ...</td>\n      <td>0.124</td>\n      <td>0.763</td>\n      <td>0.112</td>\n      <td>0.1381</td>\n    </tr>\n    <tr>\n      <th>3</th>\n      <td>2015-04-01</td>\n      <td>Donald Yacktman on the Sources of Moats, His C...</td>\n      <td>0.074</td>\n      <td>0.874</td>\n      <td>0.052</td>\n      <td>-0.5330</td>\n    </tr>\n    <tr>\n      <th>4</th>\n      <td>2015-05-01</td>\n      <td>SIM-free iPhone 6, 6 Plus reportedly debuting ...</td>\n      <td>0.022</td>\n      <td>0.843</td>\n      <td>0.134</td>\n      <td>0.9973</td>\n    </tr>\n  </tbody>\n</table>\n</div>"
     },
     "metadata": {},
     "execution_count": 15
    }
   ],
   "source": [
    "vader = SentimentIntensityAnalyzer()\n",
    "\n",
    "scores = df['Headlines'].apply(vader.polarity_scores).tolist()\n",
    "\n",
    "scores_df = pd.DataFrame(scores)\n",
    "\n",
    "df = df.join(scores_df, rsuffix='_right')\n",
    "\n",
    "df.head()"
   ]
  },
  {
   "cell_type": "code",
   "execution_count": 16,
   "metadata": {},
   "outputs": [],
   "source": [
    "def get_vader_score(compound):\n",
    "    if compound > 0:\n",
    "        return 1\n",
    "    else:\n",
    "        return 0\n",
    "df['Vader_label']=df.apply(lambda x: get_vader_score(x['compound']), axis=1)"
   ]
  },
  {
   "cell_type": "code",
   "execution_count": 17,
   "id": "1ec4ea06",
   "metadata": {},
   "outputs": [
    {
     "output_type": "execute_result",
     "data": {
      "text/plain": [
       "        Date                                          Headlines    neg    neu  \\\n",
       "0 2015-01-01  What Can We Expect From Apple Inc. In 2015? 1 ...  0.069  0.820   \n",
       "1 2015-02-01  What to expect from Apple in 2015 beyond its s...  0.041  0.849   \n",
       "2 2015-03-01  Mountie: An inexpensive and innovative way to ...  0.124  0.763   \n",
       "3 2015-04-01  Donald Yacktman on the Sources of Moats, His C...  0.074  0.874   \n",
       "4 2015-05-01  SIM-free iPhone 6, 6 Plus reportedly debuting ...  0.022  0.843   \n",
       "\n",
       "     pos  compound  Vader_label  \n",
       "0  0.111    0.2263            1  \n",
       "1  0.110    0.9881            1  \n",
       "2  0.112    0.1381            1  \n",
       "3  0.052   -0.5330            0  \n",
       "4  0.134    0.9973            1  "
      ],
      "text/html": "<div>\n<style scoped>\n    .dataframe tbody tr th:only-of-type {\n        vertical-align: middle;\n    }\n\n    .dataframe tbody tr th {\n        vertical-align: top;\n    }\n\n    .dataframe thead th {\n        text-align: right;\n    }\n</style>\n<table border=\"1\" class=\"dataframe\">\n  <thead>\n    <tr style=\"text-align: right;\">\n      <th></th>\n      <th>Date</th>\n      <th>Headlines</th>\n      <th>neg</th>\n      <th>neu</th>\n      <th>pos</th>\n      <th>compound</th>\n      <th>Vader_label</th>\n    </tr>\n  </thead>\n  <tbody>\n    <tr>\n      <th>0</th>\n      <td>2015-01-01</td>\n      <td>What Can We Expect From Apple Inc. In 2015? 1 ...</td>\n      <td>0.069</td>\n      <td>0.820</td>\n      <td>0.111</td>\n      <td>0.2263</td>\n      <td>1</td>\n    </tr>\n    <tr>\n      <th>1</th>\n      <td>2015-02-01</td>\n      <td>What to expect from Apple in 2015 beyond its s...</td>\n      <td>0.041</td>\n      <td>0.849</td>\n      <td>0.110</td>\n      <td>0.9881</td>\n      <td>1</td>\n    </tr>\n    <tr>\n      <th>2</th>\n      <td>2015-03-01</td>\n      <td>Mountie: An inexpensive and innovative way to ...</td>\n      <td>0.124</td>\n      <td>0.763</td>\n      <td>0.112</td>\n      <td>0.1381</td>\n      <td>1</td>\n    </tr>\n    <tr>\n      <th>3</th>\n      <td>2015-04-01</td>\n      <td>Donald Yacktman on the Sources of Moats, His C...</td>\n      <td>0.074</td>\n      <td>0.874</td>\n      <td>0.052</td>\n      <td>-0.5330</td>\n      <td>0</td>\n    </tr>\n    <tr>\n      <th>4</th>\n      <td>2015-05-01</td>\n      <td>SIM-free iPhone 6, 6 Plus reportedly debuting ...</td>\n      <td>0.022</td>\n      <td>0.843</td>\n      <td>0.134</td>\n      <td>0.9973</td>\n      <td>1</td>\n    </tr>\n  </tbody>\n</table>\n</div>"
     },
     "metadata": {},
     "execution_count": 17
    }
   ],
   "source": [
    "df.head()"
   ]
  },
  {
   "cell_type": "code",
   "execution_count": 18,
   "metadata": {},
   "outputs": [],
   "source": [
    "df['Vader_label'] = df['Vader_label'].astype(int)"
   ]
  },
  {
   "cell_type": "code",
   "execution_count": 19,
   "metadata": {},
   "outputs": [
    {
     "output_type": "execute_result",
     "data": {
      "text/plain": [
       "           Date                                          Headlines    neg  \\\n",
       "0    2015-01-01  What Can We Expect From Apple Inc. In 2015? 1 ...  0.069   \n",
       "1    2015-02-01  What to expect from Apple in 2015 beyond its s...  0.041   \n",
       "2    2015-03-01  Mountie: An inexpensive and innovative way to ...  0.124   \n",
       "3    2015-04-01  Donald Yacktman on the Sources of Moats, His C...  0.074   \n",
       "4    2015-05-01  SIM-free iPhone 6, 6 Plus reportedly debuting ...  0.022   \n",
       "...         ...                                                ...    ...   \n",
       "2360 2021-06-19  Best pre-Prime Day smartwatch deals on Apple W...  0.030   \n",
       "2361 2021-06-20  iPhone 13 rumors: As Apple's fall event gets c...  0.019   \n",
       "2362 2021-06-21  Apple is shortening new free TV Plus trials fr...  0.040   \n",
       "2363 2021-06-22  Google likely to soon face antitrust claims ov...  0.028   \n",
       "2364 2021-06-23  French court sets date in Apple case over App ...  0.052   \n",
       "\n",
       "        neu    pos  compound  Vader_label  \n",
       "0     0.820  0.111    0.2263            1  \n",
       "1     0.849  0.110    0.9881            1  \n",
       "2     0.763  0.112    0.1381            1  \n",
       "3     0.874  0.052   -0.5330            0  \n",
       "4     0.843  0.134    0.9973            1  \n",
       "...     ...    ...       ...          ...  \n",
       "2360  0.804  0.167    0.9949            1  \n",
       "2361  0.841  0.140    0.9951            1  \n",
       "2362  0.789  0.172    0.9994            1  \n",
       "2363  0.837  0.135    0.9979            1  \n",
       "2364  0.822  0.125    0.9975            1  \n",
       "\n",
       "[2365 rows x 7 columns]"
      ],
      "text/html": "<div>\n<style scoped>\n    .dataframe tbody tr th:only-of-type {\n        vertical-align: middle;\n    }\n\n    .dataframe tbody tr th {\n        vertical-align: top;\n    }\n\n    .dataframe thead th {\n        text-align: right;\n    }\n</style>\n<table border=\"1\" class=\"dataframe\">\n  <thead>\n    <tr style=\"text-align: right;\">\n      <th></th>\n      <th>Date</th>\n      <th>Headlines</th>\n      <th>neg</th>\n      <th>neu</th>\n      <th>pos</th>\n      <th>compound</th>\n      <th>Vader_label</th>\n    </tr>\n  </thead>\n  <tbody>\n    <tr>\n      <th>0</th>\n      <td>2015-01-01</td>\n      <td>What Can We Expect From Apple Inc. In 2015? 1 ...</td>\n      <td>0.069</td>\n      <td>0.820</td>\n      <td>0.111</td>\n      <td>0.2263</td>\n      <td>1</td>\n    </tr>\n    <tr>\n      <th>1</th>\n      <td>2015-02-01</td>\n      <td>What to expect from Apple in 2015 beyond its s...</td>\n      <td>0.041</td>\n      <td>0.849</td>\n      <td>0.110</td>\n      <td>0.9881</td>\n      <td>1</td>\n    </tr>\n    <tr>\n      <th>2</th>\n      <td>2015-03-01</td>\n      <td>Mountie: An inexpensive and innovative way to ...</td>\n      <td>0.124</td>\n      <td>0.763</td>\n      <td>0.112</td>\n      <td>0.1381</td>\n      <td>1</td>\n    </tr>\n    <tr>\n      <th>3</th>\n      <td>2015-04-01</td>\n      <td>Donald Yacktman on the Sources of Moats, His C...</td>\n      <td>0.074</td>\n      <td>0.874</td>\n      <td>0.052</td>\n      <td>-0.5330</td>\n      <td>0</td>\n    </tr>\n    <tr>\n      <th>4</th>\n      <td>2015-05-01</td>\n      <td>SIM-free iPhone 6, 6 Plus reportedly debuting ...</td>\n      <td>0.022</td>\n      <td>0.843</td>\n      <td>0.134</td>\n      <td>0.9973</td>\n      <td>1</td>\n    </tr>\n    <tr>\n      <th>...</th>\n      <td>...</td>\n      <td>...</td>\n      <td>...</td>\n      <td>...</td>\n      <td>...</td>\n      <td>...</td>\n      <td>...</td>\n    </tr>\n    <tr>\n      <th>2360</th>\n      <td>2021-06-19</td>\n      <td>Best pre-Prime Day smartwatch deals on Apple W...</td>\n      <td>0.030</td>\n      <td>0.804</td>\n      <td>0.167</td>\n      <td>0.9949</td>\n      <td>1</td>\n    </tr>\n    <tr>\n      <th>2361</th>\n      <td>2021-06-20</td>\n      <td>iPhone 13 rumors: As Apple's fall event gets c...</td>\n      <td>0.019</td>\n      <td>0.841</td>\n      <td>0.140</td>\n      <td>0.9951</td>\n      <td>1</td>\n    </tr>\n    <tr>\n      <th>2362</th>\n      <td>2021-06-21</td>\n      <td>Apple is shortening new free TV Plus trials fr...</td>\n      <td>0.040</td>\n      <td>0.789</td>\n      <td>0.172</td>\n      <td>0.9994</td>\n      <td>1</td>\n    </tr>\n    <tr>\n      <th>2363</th>\n      <td>2021-06-22</td>\n      <td>Google likely to soon face antitrust claims ov...</td>\n      <td>0.028</td>\n      <td>0.837</td>\n      <td>0.135</td>\n      <td>0.9979</td>\n      <td>1</td>\n    </tr>\n    <tr>\n      <th>2364</th>\n      <td>2021-06-23</td>\n      <td>French court sets date in Apple case over App ...</td>\n      <td>0.052</td>\n      <td>0.822</td>\n      <td>0.125</td>\n      <td>0.9975</td>\n      <td>1</td>\n    </tr>\n  </tbody>\n</table>\n<p>2365 rows × 7 columns</p>\n</div>"
     },
     "metadata": {},
     "execution_count": 19
    }
   ],
   "source": [
    "df"
   ]
  },
  {
   "cell_type": "code",
   "execution_count": 20,
   "metadata": {},
   "outputs": [
    {
     "output_type": "execute_result",
     "data": {
      "text/plain": [
       "1    2008\n",
       "0     357\n",
       "Name: Vader_label, dtype: int64"
      ]
     },
     "metadata": {},
     "execution_count": 20
    }
   ],
   "source": [
    "df.Vader_label.value_counts()"
   ]
  },
  {
   "cell_type": "code",
   "execution_count": 22,
   "metadata": {},
   "outputs": [],
   "source": [
    "# df1 = df[['Date', 'Vader_label', 'Headlines']].copy()"
   ]
  },
  {
   "cell_type": "code",
   "execution_count": 23,
   "metadata": {},
   "outputs": [],
   "source": [
    "# df1.to_csv(\"Labeled_headlines.csv\")"
   ]
  }
 ],
 "metadata": {
  "kernelspec": {
   "name": "python3",
   "display_name": "Python 3.8.8 64-bit"
  },
  "language_info": {
   "codemirror_mode": {
    "name": "ipython",
    "version": 3
   },
   "file_extension": ".py",
   "mimetype": "text/x-python",
   "name": "python",
   "nbconvert_exporter": "python",
   "pygments_lexer": "ipython3",
   "version": "3.8.8"
  },
  "interpreter": {
   "hash": "38e0348de57a0fc1fbebb50b3594b5913e5291ce5479b817f728605ceeb4e713"
  }
 },
 "nbformat": 4,
 "nbformat_minor": 5
}