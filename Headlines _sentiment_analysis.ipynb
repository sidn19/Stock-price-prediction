{
 "cells": [
  {
   "cell_type": "code",
   "execution_count": 1,
   "id": "b36b50d7",
   "metadata": {},
   "outputs": [],
   "source": [
    "import pandas as pd\n",
    "from nltk.sentiment.vader import SentimentIntensityAnalyzer"
   ]
  },
  {
   "cell_type": "code",
   "execution_count": 2,
   "id": "f62541b6",
   "metadata": {},
   "outputs": [
    {
     "output_type": "execute_result",
     "data": {
      "text/plain": [
       "           Date                                          Headlines\n",
       "0    2015-01-01  What Can We Expect From Apple Inc. In 2015? 1 ...\n",
       "1    2015-02-01  What to expect from Apple in 2015 beyond its s...\n",
       "2    2015-03-01  Mountie: An inexpensive and innovative way to ...\n",
       "3    2015-04-01  Donald Yacktman on the Sources of Moats, His C...\n",
       "4    2015-05-01  SIM-free iPhone 6, 6 Plus reportedly debuting ...\n",
       "...         ...                                                ...\n",
       "2360 2021-06-19  Best pre-Prime Day smartwatch deals on Apple W...\n",
       "2361 2021-06-20  iPhone 13 rumors: As Apple's fall event gets c...\n",
       "2362 2021-06-21  Apple is shortening new free TV Plus trials fr...\n",
       "2363 2021-06-22  Google likely to soon face antitrust claims ov...\n",
       "2364 2021-06-23  French court sets date in Apple case over App ...\n",
       "\n",
       "[2365 rows x 2 columns]"
      ],
      "text/html": "<div>\n<style scoped>\n    .dataframe tbody tr th:only-of-type {\n        vertical-align: middle;\n    }\n\n    .dataframe tbody tr th {\n        vertical-align: top;\n    }\n\n    .dataframe thead th {\n        text-align: right;\n    }\n</style>\n<table border=\"1\" class=\"dataframe\">\n  <thead>\n    <tr style=\"text-align: right;\">\n      <th></th>\n      <th>Date</th>\n      <th>Headlines</th>\n    </tr>\n  </thead>\n  <tbody>\n    <tr>\n      <th>0</th>\n      <td>2015-01-01</td>\n      <td>What Can We Expect From Apple Inc. In 2015? 1 ...</td>\n    </tr>\n    <tr>\n      <th>1</th>\n      <td>2015-02-01</td>\n      <td>What to expect from Apple in 2015 beyond its s...</td>\n    </tr>\n    <tr>\n      <th>2</th>\n      <td>2015-03-01</td>\n      <td>Mountie: An inexpensive and innovative way to ...</td>\n    </tr>\n    <tr>\n      <th>3</th>\n      <td>2015-04-01</td>\n      <td>Donald Yacktman on the Sources of Moats, His C...</td>\n    </tr>\n    <tr>\n      <th>4</th>\n      <td>2015-05-01</td>\n      <td>SIM-free iPhone 6, 6 Plus reportedly debuting ...</td>\n    </tr>\n    <tr>\n      <th>...</th>\n      <td>...</td>\n      <td>...</td>\n    </tr>\n    <tr>\n      <th>2360</th>\n      <td>2021-06-19</td>\n      <td>Best pre-Prime Day smartwatch deals on Apple W...</td>\n    </tr>\n    <tr>\n      <th>2361</th>\n      <td>2021-06-20</td>\n      <td>iPhone 13 rumors: As Apple's fall event gets c...</td>\n    </tr>\n    <tr>\n      <th>2362</th>\n      <td>2021-06-21</td>\n      <td>Apple is shortening new free TV Plus trials fr...</td>\n    </tr>\n    <tr>\n      <th>2363</th>\n      <td>2021-06-22</td>\n      <td>Google likely to soon face antitrust claims ov...</td>\n    </tr>\n    <tr>\n      <th>2364</th>\n      <td>2021-06-23</td>\n      <td>French court sets date in Apple case over App ...</td>\n    </tr>\n  </tbody>\n</table>\n<p>2365 rows × 2 columns</p>\n</div>"
     },
     "metadata": {},
     "execution_count": 2
    }
   ],
   "source": [
    "df=pd.read_csv(\"./Datasets/Headlines/News_headlines.csv\", parse_dates=[\"Date\"])\n",
    "df"
   ]
  },
  {
   "cell_type": "code",
   "execution_count": 3,
   "metadata": {},
   "outputs": [
    {
     "output_type": "stream",
     "name": "stdout",
     "text": [
      "<class 'pandas.core.frame.DataFrame'>\nRangeIndex: 2365 entries, 0 to 2364\nData columns (total 2 columns):\n #   Column     Non-Null Count  Dtype         \n---  ------     --------------  -----         \n 0   Date       2365 non-null   datetime64[ns]\n 1   Headlines  2365 non-null   object        \ndtypes: datetime64[ns](1), object(1)\nmemory usage: 37.1+ KB\n"
     ]
    }
   ],
   "source": [
    "df.info()"
   ]
  },
  {
   "cell_type": "code",
   "execution_count": 4,
   "id": "dc1937f9",
   "metadata": {},
   "outputs": [
    {
     "output_type": "execute_result",
     "data": {
      "text/plain": [
       "        Date                                          Headlines    neg    neu  \\\n",
       "0 2015-01-01  What Can We Expect From Apple Inc. In 2015? 1 ...  0.069  0.820   \n",
       "1 2015-02-01  What to expect from Apple in 2015 beyond its s...  0.041  0.849   \n",
       "2 2015-03-01  Mountie: An inexpensive and innovative way to ...  0.124  0.763   \n",
       "3 2015-04-01  Donald Yacktman on the Sources of Moats, His C...  0.074  0.874   \n",
       "4 2015-05-01  SIM-free iPhone 6, 6 Plus reportedly debuting ...  0.022  0.843   \n",
       "\n",
       "     pos  compound  \n",
       "0  0.111    0.2263  \n",
       "1  0.110    0.9881  \n",
       "2  0.112    0.1381  \n",
       "3  0.052   -0.5330  \n",
       "4  0.134    0.9973  "
      ],
      "text/html": "<div>\n<style scoped>\n    .dataframe tbody tr th:only-of-type {\n        vertical-align: middle;\n    }\n\n    .dataframe tbody tr th {\n        vertical-align: top;\n    }\n\n    .dataframe thead th {\n        text-align: right;\n    }\n</style>\n<table border=\"1\" class=\"dataframe\">\n  <thead>\n    <tr style=\"text-align: right;\">\n      <th></th>\n      <th>Date</th>\n      <th>Headlines</th>\n      <th>neg</th>\n      <th>neu</th>\n      <th>pos</th>\n      <th>compound</th>\n    </tr>\n  </thead>\n  <tbody>\n    <tr>\n      <th>0</th>\n      <td>2015-01-01</td>\n      <td>What Can We Expect From Apple Inc. In 2015? 1 ...</td>\n      <td>0.069</td>\n      <td>0.820</td>\n      <td>0.111</td>\n      <td>0.2263</td>\n    </tr>\n    <tr>\n      <th>1</th>\n      <td>2015-02-01</td>\n      <td>What to expect from Apple in 2015 beyond its s...</td>\n      <td>0.041</td>\n      <td>0.849</td>\n      <td>0.110</td>\n      <td>0.9881</td>\n    </tr>\n    <tr>\n      <th>2</th>\n      <td>2015-03-01</td>\n      <td>Mountie: An inexpensive and innovative way to ...</td>\n      <td>0.124</td>\n      <td>0.763</td>\n      <td>0.112</td>\n      <td>0.1381</td>\n    </tr>\n    <tr>\n      <th>3</th>\n      <td>2015-04-01</td>\n      <td>Donald Yacktman on the Sources of Moats, His C...</td>\n      <td>0.074</td>\n      <td>0.874</td>\n      <td>0.052</td>\n      <td>-0.5330</td>\n    </tr>\n    <tr>\n      <th>4</th>\n      <td>2015-05-01</td>\n      <td>SIM-free iPhone 6, 6 Plus reportedly debuting ...</td>\n      <td>0.022</td>\n      <td>0.843</td>\n      <td>0.134</td>\n      <td>0.9973</td>\n    </tr>\n  </tbody>\n</table>\n</div>"
     },
     "metadata": {},
     "execution_count": 4
    }
   ],
   "source": [
    "vader = SentimentIntensityAnalyzer()\n",
    "\n",
    "scores = df['Headlines'].apply(vader.polarity_scores).tolist()\n",
    "\n",
    "scores_df = pd.DataFrame(scores)\n",
    "\n",
    "df = df.join(scores_df, rsuffix='_right')\n",
    "\n",
    "df.head()"
   ]
  },
  {
   "cell_type": "code",
   "execution_count": 5,
   "metadata": {},
   "outputs": [],
   "source": [
    "def get_vader_score(sentence): \r\n",
    "    compound=vader.polarity_scores(sentence)['compound']\r\n",
    "    if compound > 0.05: \r\n",
    "        return 1\r\n",
    "    elif (compound >= -0.05) and (compound <=0.05): \r\n",
    "        return None\r\n",
    "    else: \r\n",
    "        return 0\r\n",
    "df['Vader_label']=df.apply(lambda x: get_vader_score(x['Headlines']), axis=1)"
   ]
  },
  {
   "cell_type": "code",
   "execution_count": 6,
   "id": "1ec4ea06",
   "metadata": {},
   "outputs": [
    {
     "output_type": "execute_result",
     "data": {
      "text/plain": [
       "          Date                                          Headlines    neg  \\\n",
       "600 2016-08-23  Halliburton Silently Drops With Oil Will Apple...  0.058   \n",
       "601 2016-08-24  How iPhone Can Make or Break Apple Stock Forme...  0.053   \n",
       "602 2016-08-25  UPDATE 1-Apple fixes security flaw after UAE d...  0.060   \n",
       "603 2016-08-26  Apple CEO Tim Cook Sells $36 Million From Bloc...  0.108   \n",
       "604 2016-08-27  Report: Apple Inc. May Tap Intel Corporation f...  0.035   \n",
       "605 2016-08-28  Apple&quot;s MacBook offers great battery life...  0.124   \n",
       "606 2016-08-29  A Sneak Peek at the Apple Inc. iPhone 7 and 7 ...  0.056   \n",
       "607 2016-08-30  Here&quot;s How Apple, Inc. Pays Taxes Oversea...  0.087   \n",
       "608 2016-08-31  Did Apple Reveal iPhone 7 Plus Camera Secret? ...  0.065   \n",
       "609 2016-01-09  Apple&quot;s VR Ambitions Revealed Ahead Of Ri...  0.074   \n",
       "610 2016-02-09  Has Apple Cancelled the iPhone 7 Pro? (AAPL) W...  0.071   \n",
       "611 2016-03-09  Apple Watch 2 Will Probably Launch on Wednesda...  0.089   \n",
       "612 2016-04-09  What Will Apple Announce On September 7th? Pre...  0.040   \n",
       "613 2016-05-09  Apple Inc. (AAPL) iPhone 7 Preview: What You&q...  0.024   \n",
       "614 2016-06-09  1 Big Question for Apple Investors Ahead of iP...  0.033   \n",
       "615 2016-07-09  Small tweaks are the big takeaways from the iP...  0.048   \n",
       "616 2016-08-09  Apple, Inc. Quietly Kills the Golden Apple Wat...  0.121   \n",
       "617 2016-09-09  Will Apple Inc. Integrate Intel Corporation&qu...  0.072   \n",
       "618 2016-10-09  Digging Into This Massive Apple Inc. iPhone 7 ...  0.079   \n",
       "619 2016-11-09  Apple Inc&quot;s $15 Billion Tax Bill Could Sh...  0.070   \n",
       "\n",
       "       neu    pos  compound  Vader_label  \n",
       "600  0.833  0.109    0.9890          1.0  \n",
       "601  0.842  0.105    0.9927          1.0  \n",
       "602  0.815  0.125    0.9954          1.0  \n",
       "603  0.813  0.080   -0.9508          0.0  \n",
       "604  0.867  0.097    0.9042          1.0  \n",
       "605  0.732  0.144    0.4871          1.0  \n",
       "606  0.884  0.060    0.0770          1.0  \n",
       "607  0.832  0.081    0.9481          1.0  \n",
       "608  0.875  0.061   -0.6631          0.0  \n",
       "609  0.860  0.066   -0.9456          0.0  \n",
       "610  0.842  0.087    0.9470          1.0  \n",
       "611  0.851  0.060   -0.8387          0.0  \n",
       "612  0.843  0.117    0.9599          1.0  \n",
       "613  0.870  0.106    0.9531          1.0  \n",
       "614  0.856  0.111    0.9975          1.0  \n",
       "615  0.898  0.055    0.8935          1.0  \n",
       "616  0.736  0.144    0.9781          1.0  \n",
       "617  0.823  0.105    0.9906          1.0  \n",
       "618  0.846  0.074   -0.4329          0.0  \n",
       "619  0.839  0.092    0.6966          1.0  "
      ],
      "text/html": "<div>\n<style scoped>\n    .dataframe tbody tr th:only-of-type {\n        vertical-align: middle;\n    }\n\n    .dataframe tbody tr th {\n        vertical-align: top;\n    }\n\n    .dataframe thead th {\n        text-align: right;\n    }\n</style>\n<table border=\"1\" class=\"dataframe\">\n  <thead>\n    <tr style=\"text-align: right;\">\n      <th></th>\n      <th>Date</th>\n      <th>Headlines</th>\n      <th>neg</th>\n      <th>neu</th>\n      <th>pos</th>\n      <th>compound</th>\n      <th>Vader_label</th>\n    </tr>\n  </thead>\n  <tbody>\n    <tr>\n      <th>600</th>\n      <td>2016-08-23</td>\n      <td>Halliburton Silently Drops With Oil Will Apple...</td>\n      <td>0.058</td>\n      <td>0.833</td>\n      <td>0.109</td>\n      <td>0.9890</td>\n      <td>1.0</td>\n    </tr>\n    <tr>\n      <th>601</th>\n      <td>2016-08-24</td>\n      <td>How iPhone Can Make or Break Apple Stock Forme...</td>\n      <td>0.053</td>\n      <td>0.842</td>\n      <td>0.105</td>\n      <td>0.9927</td>\n      <td>1.0</td>\n    </tr>\n    <tr>\n      <th>602</th>\n      <td>2016-08-25</td>\n      <td>UPDATE 1-Apple fixes security flaw after UAE d...</td>\n      <td>0.060</td>\n      <td>0.815</td>\n      <td>0.125</td>\n      <td>0.9954</td>\n      <td>1.0</td>\n    </tr>\n    <tr>\n      <th>603</th>\n      <td>2016-08-26</td>\n      <td>Apple CEO Tim Cook Sells $36 Million From Bloc...</td>\n      <td>0.108</td>\n      <td>0.813</td>\n      <td>0.080</td>\n      <td>-0.9508</td>\n      <td>0.0</td>\n    </tr>\n    <tr>\n      <th>604</th>\n      <td>2016-08-27</td>\n      <td>Report: Apple Inc. May Tap Intel Corporation f...</td>\n      <td>0.035</td>\n      <td>0.867</td>\n      <td>0.097</td>\n      <td>0.9042</td>\n      <td>1.0</td>\n    </tr>\n    <tr>\n      <th>605</th>\n      <td>2016-08-28</td>\n      <td>Apple&amp;quot;s MacBook offers great battery life...</td>\n      <td>0.124</td>\n      <td>0.732</td>\n      <td>0.144</td>\n      <td>0.4871</td>\n      <td>1.0</td>\n    </tr>\n    <tr>\n      <th>606</th>\n      <td>2016-08-29</td>\n      <td>A Sneak Peek at the Apple Inc. iPhone 7 and 7 ...</td>\n      <td>0.056</td>\n      <td>0.884</td>\n      <td>0.060</td>\n      <td>0.0770</td>\n      <td>1.0</td>\n    </tr>\n    <tr>\n      <th>607</th>\n      <td>2016-08-30</td>\n      <td>Here&amp;quot;s How Apple, Inc. Pays Taxes Oversea...</td>\n      <td>0.087</td>\n      <td>0.832</td>\n      <td>0.081</td>\n      <td>0.9481</td>\n      <td>1.0</td>\n    </tr>\n    <tr>\n      <th>608</th>\n      <td>2016-08-31</td>\n      <td>Did Apple Reveal iPhone 7 Plus Camera Secret? ...</td>\n      <td>0.065</td>\n      <td>0.875</td>\n      <td>0.061</td>\n      <td>-0.6631</td>\n      <td>0.0</td>\n    </tr>\n    <tr>\n      <th>609</th>\n      <td>2016-01-09</td>\n      <td>Apple&amp;quot;s VR Ambitions Revealed Ahead Of Ri...</td>\n      <td>0.074</td>\n      <td>0.860</td>\n      <td>0.066</td>\n      <td>-0.9456</td>\n      <td>0.0</td>\n    </tr>\n    <tr>\n      <th>610</th>\n      <td>2016-02-09</td>\n      <td>Has Apple Cancelled the iPhone 7 Pro? (AAPL) W...</td>\n      <td>0.071</td>\n      <td>0.842</td>\n      <td>0.087</td>\n      <td>0.9470</td>\n      <td>1.0</td>\n    </tr>\n    <tr>\n      <th>611</th>\n      <td>2016-03-09</td>\n      <td>Apple Watch 2 Will Probably Launch on Wednesda...</td>\n      <td>0.089</td>\n      <td>0.851</td>\n      <td>0.060</td>\n      <td>-0.8387</td>\n      <td>0.0</td>\n    </tr>\n    <tr>\n      <th>612</th>\n      <td>2016-04-09</td>\n      <td>What Will Apple Announce On September 7th? Pre...</td>\n      <td>0.040</td>\n      <td>0.843</td>\n      <td>0.117</td>\n      <td>0.9599</td>\n      <td>1.0</td>\n    </tr>\n    <tr>\n      <th>613</th>\n      <td>2016-05-09</td>\n      <td>Apple Inc. (AAPL) iPhone 7 Preview: What You&amp;q...</td>\n      <td>0.024</td>\n      <td>0.870</td>\n      <td>0.106</td>\n      <td>0.9531</td>\n      <td>1.0</td>\n    </tr>\n    <tr>\n      <th>614</th>\n      <td>2016-06-09</td>\n      <td>1 Big Question for Apple Investors Ahead of iP...</td>\n      <td>0.033</td>\n      <td>0.856</td>\n      <td>0.111</td>\n      <td>0.9975</td>\n      <td>1.0</td>\n    </tr>\n    <tr>\n      <th>615</th>\n      <td>2016-07-09</td>\n      <td>Small tweaks are the big takeaways from the iP...</td>\n      <td>0.048</td>\n      <td>0.898</td>\n      <td>0.055</td>\n      <td>0.8935</td>\n      <td>1.0</td>\n    </tr>\n    <tr>\n      <th>616</th>\n      <td>2016-08-09</td>\n      <td>Apple, Inc. Quietly Kills the Golden Apple Wat...</td>\n      <td>0.121</td>\n      <td>0.736</td>\n      <td>0.144</td>\n      <td>0.9781</td>\n      <td>1.0</td>\n    </tr>\n    <tr>\n      <th>617</th>\n      <td>2016-09-09</td>\n      <td>Will Apple Inc. Integrate Intel Corporation&amp;qu...</td>\n      <td>0.072</td>\n      <td>0.823</td>\n      <td>0.105</td>\n      <td>0.9906</td>\n      <td>1.0</td>\n    </tr>\n    <tr>\n      <th>618</th>\n      <td>2016-10-09</td>\n      <td>Digging Into This Massive Apple Inc. iPhone 7 ...</td>\n      <td>0.079</td>\n      <td>0.846</td>\n      <td>0.074</td>\n      <td>-0.4329</td>\n      <td>0.0</td>\n    </tr>\n    <tr>\n      <th>619</th>\n      <td>2016-11-09</td>\n      <td>Apple Inc&amp;quot;s $15 Billion Tax Bill Could Sh...</td>\n      <td>0.070</td>\n      <td>0.839</td>\n      <td>0.092</td>\n      <td>0.6966</td>\n      <td>1.0</td>\n    </tr>\n  </tbody>\n</table>\n</div>"
     },
     "metadata": {},
     "execution_count": 6
    }
   ],
   "source": [
    "df.iloc[600:620]"
   ]
  },
  {
   "cell_type": "code",
   "execution_count": 7,
   "metadata": {},
   "outputs": [
    {
     "output_type": "execute_result",
     "data": {
      "text/plain": [
       "Date            0\n",
       "Headlines       0\n",
       "neg             0\n",
       "neu             0\n",
       "pos             0\n",
       "compound        0\n",
       "Vader_label    14\n",
       "dtype: int64"
      ]
     },
     "metadata": {},
     "execution_count": 7
    }
   ],
   "source": [
    "df.isna().sum()"
   ]
  },
  {
   "cell_type": "code",
   "execution_count": 8,
   "metadata": {},
   "outputs": [],
   "source": [
    "df = df.dropna()"
   ]
  },
  {
   "cell_type": "code",
   "execution_count": 9,
   "metadata": {},
   "outputs": [
    {
     "output_type": "execute_result",
     "data": {
      "text/plain": [
       "Date           0\n",
       "Headlines      0\n",
       "neg            0\n",
       "neu            0\n",
       "pos            0\n",
       "compound       0\n",
       "Vader_label    0\n",
       "dtype: int64"
      ]
     },
     "metadata": {},
     "execution_count": 9
    }
   ],
   "source": [
    "df.isna().sum()"
   ]
  },
  {
   "cell_type": "code",
   "execution_count": 10,
   "metadata": {},
   "outputs": [],
   "source": [
    "df['Vader_label'] = df['Vader_label'].astype(int)"
   ]
  },
  {
   "cell_type": "code",
   "execution_count": 11,
   "metadata": {},
   "outputs": [
    {
     "output_type": "execute_result",
     "data": {
      "text/plain": [
       "           Date                                          Headlines    neg  \\\n",
       "0    2015-01-01  What Can We Expect From Apple Inc. In 2015? 1 ...  0.069   \n",
       "1    2015-02-01  What to expect from Apple in 2015 beyond its s...  0.041   \n",
       "2    2015-03-01  Mountie: An inexpensive and innovative way to ...  0.124   \n",
       "3    2015-04-01  Donald Yacktman on the Sources of Moats, His C...  0.074   \n",
       "4    2015-05-01  SIM-free iPhone 6, 6 Plus reportedly debuting ...  0.022   \n",
       "...         ...                                                ...    ...   \n",
       "2360 2021-06-19  Best pre-Prime Day smartwatch deals on Apple W...  0.030   \n",
       "2361 2021-06-20  iPhone 13 rumors: As Apple's fall event gets c...  0.019   \n",
       "2362 2021-06-21  Apple is shortening new free TV Plus trials fr...  0.040   \n",
       "2363 2021-06-22  Google likely to soon face antitrust claims ov...  0.028   \n",
       "2364 2021-06-23  French court sets date in Apple case over App ...  0.052   \n",
       "\n",
       "        neu    pos  compound  Vader_label  \n",
       "0     0.820  0.111    0.2263            1  \n",
       "1     0.849  0.110    0.9881            1  \n",
       "2     0.763  0.112    0.1381            1  \n",
       "3     0.874  0.052   -0.5330            0  \n",
       "4     0.843  0.134    0.9973            1  \n",
       "...     ...    ...       ...          ...  \n",
       "2360  0.804  0.167    0.9949            1  \n",
       "2361  0.841  0.140    0.9951            1  \n",
       "2362  0.789  0.172    0.9994            1  \n",
       "2363  0.837  0.135    0.9979            1  \n",
       "2364  0.822  0.125    0.9975            1  \n",
       "\n",
       "[2351 rows x 7 columns]"
      ],
      "text/html": "<div>\n<style scoped>\n    .dataframe tbody tr th:only-of-type {\n        vertical-align: middle;\n    }\n\n    .dataframe tbody tr th {\n        vertical-align: top;\n    }\n\n    .dataframe thead th {\n        text-align: right;\n    }\n</style>\n<table border=\"1\" class=\"dataframe\">\n  <thead>\n    <tr style=\"text-align: right;\">\n      <th></th>\n      <th>Date</th>\n      <th>Headlines</th>\n      <th>neg</th>\n      <th>neu</th>\n      <th>pos</th>\n      <th>compound</th>\n      <th>Vader_label</th>\n    </tr>\n  </thead>\n  <tbody>\n    <tr>\n      <th>0</th>\n      <td>2015-01-01</td>\n      <td>What Can We Expect From Apple Inc. In 2015? 1 ...</td>\n      <td>0.069</td>\n      <td>0.820</td>\n      <td>0.111</td>\n      <td>0.2263</td>\n      <td>1</td>\n    </tr>\n    <tr>\n      <th>1</th>\n      <td>2015-02-01</td>\n      <td>What to expect from Apple in 2015 beyond its s...</td>\n      <td>0.041</td>\n      <td>0.849</td>\n      <td>0.110</td>\n      <td>0.9881</td>\n      <td>1</td>\n    </tr>\n    <tr>\n      <th>2</th>\n      <td>2015-03-01</td>\n      <td>Mountie: An inexpensive and innovative way to ...</td>\n      <td>0.124</td>\n      <td>0.763</td>\n      <td>0.112</td>\n      <td>0.1381</td>\n      <td>1</td>\n    </tr>\n    <tr>\n      <th>3</th>\n      <td>2015-04-01</td>\n      <td>Donald Yacktman on the Sources of Moats, His C...</td>\n      <td>0.074</td>\n      <td>0.874</td>\n      <td>0.052</td>\n      <td>-0.5330</td>\n      <td>0</td>\n    </tr>\n    <tr>\n      <th>4</th>\n      <td>2015-05-01</td>\n      <td>SIM-free iPhone 6, 6 Plus reportedly debuting ...</td>\n      <td>0.022</td>\n      <td>0.843</td>\n      <td>0.134</td>\n      <td>0.9973</td>\n      <td>1</td>\n    </tr>\n    <tr>\n      <th>...</th>\n      <td>...</td>\n      <td>...</td>\n      <td>...</td>\n      <td>...</td>\n      <td>...</td>\n      <td>...</td>\n      <td>...</td>\n    </tr>\n    <tr>\n      <th>2360</th>\n      <td>2021-06-19</td>\n      <td>Best pre-Prime Day smartwatch deals on Apple W...</td>\n      <td>0.030</td>\n      <td>0.804</td>\n      <td>0.167</td>\n      <td>0.9949</td>\n      <td>1</td>\n    </tr>\n    <tr>\n      <th>2361</th>\n      <td>2021-06-20</td>\n      <td>iPhone 13 rumors: As Apple's fall event gets c...</td>\n      <td>0.019</td>\n      <td>0.841</td>\n      <td>0.140</td>\n      <td>0.9951</td>\n      <td>1</td>\n    </tr>\n    <tr>\n      <th>2362</th>\n      <td>2021-06-21</td>\n      <td>Apple is shortening new free TV Plus trials fr...</td>\n      <td>0.040</td>\n      <td>0.789</td>\n      <td>0.172</td>\n      <td>0.9994</td>\n      <td>1</td>\n    </tr>\n    <tr>\n      <th>2363</th>\n      <td>2021-06-22</td>\n      <td>Google likely to soon face antitrust claims ov...</td>\n      <td>0.028</td>\n      <td>0.837</td>\n      <td>0.135</td>\n      <td>0.9979</td>\n      <td>1</td>\n    </tr>\n    <tr>\n      <th>2364</th>\n      <td>2021-06-23</td>\n      <td>French court sets date in Apple case over App ...</td>\n      <td>0.052</td>\n      <td>0.822</td>\n      <td>0.125</td>\n      <td>0.9975</td>\n      <td>1</td>\n    </tr>\n  </tbody>\n</table>\n<p>2351 rows × 7 columns</p>\n</div>"
     },
     "metadata": {},
     "execution_count": 11
    }
   ],
   "source": [
    "df"
   ]
  },
  {
   "cell_type": "code",
   "execution_count": null,
   "metadata": {},
   "outputs": [],
   "source": [
    "# df1 = df[['Date', 'Vader_label', 'Headlines']].copy()"
   ]
  }
 ],
 "metadata": {
  "kernelspec": {
   "name": "python3",
   "display_name": "Python 3.8.8 64-bit"
  },
  "language_info": {
   "codemirror_mode": {
    "name": "ipython",
    "version": 3
   },
   "file_extension": ".py",
   "mimetype": "text/x-python",
   "name": "python",
   "nbconvert_exporter": "python",
   "pygments_lexer": "ipython3",
   "version": "3.8.8"
  },
  "interpreter": {
   "hash": "38e0348de57a0fc1fbebb50b3594b5913e5291ce5479b817f728605ceeb4e713"
  }
 },
 "nbformat": 4,
 "nbformat_minor": 5
}