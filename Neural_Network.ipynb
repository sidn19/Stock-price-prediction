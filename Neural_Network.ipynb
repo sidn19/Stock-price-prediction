{
 "metadata": {
  "language_info": {
   "codemirror_mode": {
    "name": "ipython",
    "version": 3
   },
   "file_extension": ".py",
   "mimetype": "text/x-python",
   "name": "python",
   "nbconvert_exporter": "python",
   "pygments_lexer": "ipython3",
   "version": "3.8.8"
  },
  "orig_nbformat": 4,
  "kernelspec": {
   "name": "python3",
   "display_name": "Python 3.8.8 64-bit"
  },
  "interpreter": {
   "hash": "38e0348de57a0fc1fbebb50b3594b5913e5291ce5479b817f728605ceeb4e713"
  }
 },
 "nbformat": 4,
 "nbformat_minor": 2,
 "cells": [
  {
   "cell_type": "code",
   "execution_count": 30,
   "metadata": {},
   "outputs": [],
   "source": [
    "import numpy as np\n",
    "import matplotlib.pyplot as plt\n",
    "import pandas as pd"
   ]
  },
  {
   "cell_type": "code",
   "execution_count": 31,
   "metadata": {},
   "outputs": [
    {
     "output_type": "execute_result",
     "data": {
      "text/plain": [
       "        Date                                          Headlines\n",
       "0 2015-01-01  What Can We Expect From Apple Inc. In 2015? 1 ...\n",
       "1 2015-02-01  What to expect from Apple in 2015 beyond its s...\n",
       "2 2015-03-01  Mountie: An inexpensive and innovative way to ...\n",
       "3 2015-04-01  Donald Yacktman on the Sources of Moats, His C...\n",
       "4 2015-05-01  SIM-free iPhone 6, 6 Plus reportedly debuting ..."
      ],
      "text/html": "<div>\n<style scoped>\n    .dataframe tbody tr th:only-of-type {\n        vertical-align: middle;\n    }\n\n    .dataframe tbody tr th {\n        vertical-align: top;\n    }\n\n    .dataframe thead th {\n        text-align: right;\n    }\n</style>\n<table border=\"1\" class=\"dataframe\">\n  <thead>\n    <tr style=\"text-align: right;\">\n      <th></th>\n      <th>Date</th>\n      <th>Headlines</th>\n    </tr>\n  </thead>\n  <tbody>\n    <tr>\n      <th>0</th>\n      <td>2015-01-01</td>\n      <td>What Can We Expect From Apple Inc. In 2015? 1 ...</td>\n    </tr>\n    <tr>\n      <th>1</th>\n      <td>2015-02-01</td>\n      <td>What to expect from Apple in 2015 beyond its s...</td>\n    </tr>\n    <tr>\n      <th>2</th>\n      <td>2015-03-01</td>\n      <td>Mountie: An inexpensive and innovative way to ...</td>\n    </tr>\n    <tr>\n      <th>3</th>\n      <td>2015-04-01</td>\n      <td>Donald Yacktman on the Sources of Moats, His C...</td>\n    </tr>\n    <tr>\n      <th>4</th>\n      <td>2015-05-01</td>\n      <td>SIM-free iPhone 6, 6 Plus reportedly debuting ...</td>\n    </tr>\n  </tbody>\n</table>\n</div>"
     },
     "metadata": {},
     "execution_count": 31
    }
   ],
   "source": [
    "headlines = pd.read_csv('./Datasets/Headlines/News_headlines.csv', parse_dates=['Date'])\n",
    "headlines.head()"
   ]
  },
  {
   "cell_type": "code",
   "execution_count": 32,
   "metadata": {},
   "outputs": [
    {
     "output_type": "execute_result",
     "data": {
      "text/plain": [
       "        Date Close/Last    Volume     Open     High        Low\n",
       "0 2021-06-09    $127.13  56877940  $127.21  $127.75    $126.52\n",
       "1 2021-06-08    $126.74  74403770   $126.6  $128.46  $126.2101\n",
       "2 2021-06-07     $125.9  71057550  $126.17  $126.32  $124.8321\n",
       "3 2021-06-04    $125.89  75169340  $124.07  $126.16    $123.85\n",
       "4 2021-06-03    $123.54  76229170  $124.68  $124.85    $123.13"
      ],
      "text/html": "<div>\n<style scoped>\n    .dataframe tbody tr th:only-of-type {\n        vertical-align: middle;\n    }\n\n    .dataframe tbody tr th {\n        vertical-align: top;\n    }\n\n    .dataframe thead th {\n        text-align: right;\n    }\n</style>\n<table border=\"1\" class=\"dataframe\">\n  <thead>\n    <tr style=\"text-align: right;\">\n      <th></th>\n      <th>Date</th>\n      <th>Close/Last</th>\n      <th>Volume</th>\n      <th>Open</th>\n      <th>High</th>\n      <th>Low</th>\n    </tr>\n  </thead>\n  <tbody>\n    <tr>\n      <th>0</th>\n      <td>2021-06-09</td>\n      <td>$127.13</td>\n      <td>56877940</td>\n      <td>$127.21</td>\n      <td>$127.75</td>\n      <td>$126.52</td>\n    </tr>\n    <tr>\n      <th>1</th>\n      <td>2021-06-08</td>\n      <td>$126.74</td>\n      <td>74403770</td>\n      <td>$126.6</td>\n      <td>$128.46</td>\n      <td>$126.2101</td>\n    </tr>\n    <tr>\n      <th>2</th>\n      <td>2021-06-07</td>\n      <td>$125.9</td>\n      <td>71057550</td>\n      <td>$126.17</td>\n      <td>$126.32</td>\n      <td>$124.8321</td>\n    </tr>\n    <tr>\n      <th>3</th>\n      <td>2021-06-04</td>\n      <td>$125.89</td>\n      <td>75169340</td>\n      <td>$124.07</td>\n      <td>$126.16</td>\n      <td>$123.85</td>\n    </tr>\n    <tr>\n      <th>4</th>\n      <td>2021-06-03</td>\n      <td>$123.54</td>\n      <td>76229170</td>\n      <td>$124.68</td>\n      <td>$124.85</td>\n      <td>$123.13</td>\n    </tr>\n  </tbody>\n</table>\n</div>"
     },
     "metadata": {},
     "execution_count": 32
    }
   ],
   "source": [
    "apple_data = pd.read_csv('./Datasets/Historical/HistoricalData_APPLE.csv', parse_dates=['Date'])\n",
    "apple_data.head()"
   ]
  },
  {
   "cell_type": "code",
   "execution_count": 33,
   "metadata": {},
   "outputs": [
    {
     "output_type": "execute_result",
     "data": {
      "text/plain": [
       "           Date Close/Last     Volume      Open      High       Low\n",
       "2515 2011-06-10   $11.6393  433801306  $11.8054   $11.845  $11.6254\n",
       "2514 2011-06-13   $11.6643  329376468  $11.6857  $11.7254  $11.6096\n",
       "2513 2011-06-14   $11.8729  333995906  $11.7857  $11.9018  $11.7611\n",
       "2512 2011-06-15   $11.6696  395841722  $11.7768  $11.7964  $11.6029\n",
       "2511 2011-06-16   $11.6129  507299317   $11.675  $11.7386  $11.3689"
      ],
      "text/html": "<div>\n<style scoped>\n    .dataframe tbody tr th:only-of-type {\n        vertical-align: middle;\n    }\n\n    .dataframe tbody tr th {\n        vertical-align: top;\n    }\n\n    .dataframe thead th {\n        text-align: right;\n    }\n</style>\n<table border=\"1\" class=\"dataframe\">\n  <thead>\n    <tr style=\"text-align: right;\">\n      <th></th>\n      <th>Date</th>\n      <th>Close/Last</th>\n      <th>Volume</th>\n      <th>Open</th>\n      <th>High</th>\n      <th>Low</th>\n    </tr>\n  </thead>\n  <tbody>\n    <tr>\n      <th>2515</th>\n      <td>2011-06-10</td>\n      <td>$11.6393</td>\n      <td>433801306</td>\n      <td>$11.8054</td>\n      <td>$11.845</td>\n      <td>$11.6254</td>\n    </tr>\n    <tr>\n      <th>2514</th>\n      <td>2011-06-13</td>\n      <td>$11.6643</td>\n      <td>329376468</td>\n      <td>$11.6857</td>\n      <td>$11.7254</td>\n      <td>$11.6096</td>\n    </tr>\n    <tr>\n      <th>2513</th>\n      <td>2011-06-14</td>\n      <td>$11.8729</td>\n      <td>333995906</td>\n      <td>$11.7857</td>\n      <td>$11.9018</td>\n      <td>$11.7611</td>\n    </tr>\n    <tr>\n      <th>2512</th>\n      <td>2011-06-15</td>\n      <td>$11.6696</td>\n      <td>395841722</td>\n      <td>$11.7768</td>\n      <td>$11.7964</td>\n      <td>$11.6029</td>\n    </tr>\n    <tr>\n      <th>2511</th>\n      <td>2011-06-16</td>\n      <td>$11.6129</td>\n      <td>507299317</td>\n      <td>$11.675</td>\n      <td>$11.7386</td>\n      <td>$11.3689</td>\n    </tr>\n  </tbody>\n</table>\n</div>"
     },
     "metadata": {},
     "execution_count": 33
    }
   ],
   "source": [
    "apple_data.sort_values('Date',inplace=True)\n",
    "apple_data.head()"
   ]
  },
  {
   "cell_type": "code",
   "execution_count": 34,
   "metadata": {},
   "outputs": [
    {
     "output_type": "execute_result",
     "data": {
      "text/plain": [
       "      index       Date Close/Last     Volume      Open      High        Low\n",
       "0      2515 2011-06-10   $11.6393  433801306  $11.8054   $11.845   $11.6254\n",
       "1      2514 2011-06-13   $11.6643  329376468  $11.6857  $11.7254   $11.6096\n",
       "2      2513 2011-06-14   $11.8729  333995906  $11.7857  $11.9018   $11.7611\n",
       "3      2512 2011-06-15   $11.6696  395841722  $11.7768  $11.7964   $11.6029\n",
       "4      2511 2011-06-16   $11.6129  507299317   $11.675  $11.7386   $11.3689\n",
       "...     ...        ...        ...        ...       ...       ...        ...\n",
       "2511      4 2021-06-03    $123.54   76229170   $124.68   $124.85    $123.13\n",
       "2512      3 2021-06-04    $125.89   75169340   $124.07   $126.16    $123.85\n",
       "2513      2 2021-06-07     $125.9   71057550   $126.17   $126.32  $124.8321\n",
       "2514      1 2021-06-08    $126.74   74403770    $126.6   $128.46  $126.2101\n",
       "2515      0 2021-06-09    $127.13   56877940   $127.21   $127.75    $126.52\n",
       "\n",
       "[2516 rows x 7 columns]"
      ],
      "text/html": "<div>\n<style scoped>\n    .dataframe tbody tr th:only-of-type {\n        vertical-align: middle;\n    }\n\n    .dataframe tbody tr th {\n        vertical-align: top;\n    }\n\n    .dataframe thead th {\n        text-align: right;\n    }\n</style>\n<table border=\"1\" class=\"dataframe\">\n  <thead>\n    <tr style=\"text-align: right;\">\n      <th></th>\n      <th>index</th>\n      <th>Date</th>\n      <th>Close/Last</th>\n      <th>Volume</th>\n      <th>Open</th>\n      <th>High</th>\n      <th>Low</th>\n    </tr>\n  </thead>\n  <tbody>\n    <tr>\n      <th>0</th>\n      <td>2515</td>\n      <td>2011-06-10</td>\n      <td>$11.6393</td>\n      <td>433801306</td>\n      <td>$11.8054</td>\n      <td>$11.845</td>\n      <td>$11.6254</td>\n    </tr>\n    <tr>\n      <th>1</th>\n      <td>2514</td>\n      <td>2011-06-13</td>\n      <td>$11.6643</td>\n      <td>329376468</td>\n      <td>$11.6857</td>\n      <td>$11.7254</td>\n      <td>$11.6096</td>\n    </tr>\n    <tr>\n      <th>2</th>\n      <td>2513</td>\n      <td>2011-06-14</td>\n      <td>$11.8729</td>\n      <td>333995906</td>\n      <td>$11.7857</td>\n      <td>$11.9018</td>\n      <td>$11.7611</td>\n    </tr>\n    <tr>\n      <th>3</th>\n      <td>2512</td>\n      <td>2011-06-15</td>\n      <td>$11.6696</td>\n      <td>395841722</td>\n      <td>$11.7768</td>\n      <td>$11.7964</td>\n      <td>$11.6029</td>\n    </tr>\n    <tr>\n      <th>4</th>\n      <td>2511</td>\n      <td>2011-06-16</td>\n      <td>$11.6129</td>\n      <td>507299317</td>\n      <td>$11.675</td>\n      <td>$11.7386</td>\n      <td>$11.3689</td>\n    </tr>\n    <tr>\n      <th>...</th>\n      <td>...</td>\n      <td>...</td>\n      <td>...</td>\n      <td>...</td>\n      <td>...</td>\n      <td>...</td>\n      <td>...</td>\n    </tr>\n    <tr>\n      <th>2511</th>\n      <td>4</td>\n      <td>2021-06-03</td>\n      <td>$123.54</td>\n      <td>76229170</td>\n      <td>$124.68</td>\n      <td>$124.85</td>\n      <td>$123.13</td>\n    </tr>\n    <tr>\n      <th>2512</th>\n      <td>3</td>\n      <td>2021-06-04</td>\n      <td>$125.89</td>\n      <td>75169340</td>\n      <td>$124.07</td>\n      <td>$126.16</td>\n      <td>$123.85</td>\n    </tr>\n    <tr>\n      <th>2513</th>\n      <td>2</td>\n      <td>2021-06-07</td>\n      <td>$125.9</td>\n      <td>71057550</td>\n      <td>$126.17</td>\n      <td>$126.32</td>\n      <td>$124.8321</td>\n    </tr>\n    <tr>\n      <th>2514</th>\n      <td>1</td>\n      <td>2021-06-08</td>\n      <td>$126.74</td>\n      <td>74403770</td>\n      <td>$126.6</td>\n      <td>$128.46</td>\n      <td>$126.2101</td>\n    </tr>\n    <tr>\n      <th>2515</th>\n      <td>0</td>\n      <td>2021-06-09</td>\n      <td>$127.13</td>\n      <td>56877940</td>\n      <td>$127.21</td>\n      <td>$127.75</td>\n      <td>$126.52</td>\n    </tr>\n  </tbody>\n</table>\n<p>2516 rows × 7 columns</p>\n</div>"
     },
     "metadata": {},
     "execution_count": 34
    }
   ],
   "source": [
    "apple_data.reset_index()"
   ]
  },
  {
   "cell_type": "code",
   "execution_count": 35,
   "metadata": {},
   "outputs": [],
   "source": [
    "apple_data['Open'] = apple_data['Open'].apply(lambda x: x.replace('$',''))\n",
    "apple_data['Open'] = apple_data['Open'].astype(float)\n",
    "\n",
    "apple_data['Close/Last'] = apple_data['Close/Last'].apply(lambda x: x.replace('$',''))\n",
    "apple_data['Close/Last'] = apple_data['Close/Last'].astype(float)\n",
    "\n",
    "apple_data['High'] = apple_data['High'].apply(lambda x: x.replace('$',''))\n",
    "apple_data['High'] = apple_data['High'].astype(float)\n",
    "\n",
    "apple_data['Low'] = apple_data['Low'].apply(lambda x: x.replace('$',''))\n",
    "apple_data['Low'] = apple_data['Low'].astype(float)"
   ]
  },
  {
   "cell_type": "code",
   "execution_count": 36,
   "metadata": {},
   "outputs": [
    {
     "output_type": "execute_result",
     "data": {
      "text/plain": [
       "           Date                                          Headlines  \\\n",
       "0    2015-04-01  Donald Yacktman on the Sources of Moats, His C...   \n",
       "1    2015-05-01  SIM-free iPhone 6, 6 Plus reportedly debuting ...   \n",
       "2    2015-06-01  Technology Transforming Cars Into \"Phones On W...   \n",
       "3    2015-07-01  Apple issues fourth developer beta of OS X 10....   \n",
       "4    2015-09-01  Samsung is reportedly making a secret new chip...   \n",
       "...         ...                                                ...   \n",
       "1590 2021-05-27  &quot;Friends: The Reunion&quot;: The Best Non...   \n",
       "1591 2021-05-28  Apple pushes back launch of podcast subscripti...   \n",
       "1592 2021-01-06  Judge dismisses charges against Apple security...   \n",
       "1593 2021-04-06  Global equities nearly grasp all-time record, ...   \n",
       "1594 2021-05-06  Apple employees want more remote-work flexibil...   \n",
       "\n",
       "      Close/Last     Volume      Open      High       Low  \n",
       "0        31.0625  161852560   31.2050   31.2800   30.7750  \n",
       "1        32.2375  229396000   31.5250   32.5325   31.3250  \n",
       "2        32.6337  128064080   32.8000   32.8475   32.5125  \n",
       "3        31.6500  120827560   31.7250   31.7350   31.4975  \n",
       "4        26.9300  306248680   27.5375   27.9700   26.8400  \n",
       "...          ...        ...       ...       ...       ...  \n",
       "1590    125.2800   94625600  126.4400  127.6400  125.0800  \n",
       "1591    124.6100   71311110  125.5700  125.8000  124.5500  \n",
       "1592    126.6000  155088000  127.7200  131.0499  126.3820  \n",
       "1593    126.2100   80171250  126.5000  127.1300  125.6500  \n",
       "1594    129.7400   78128330  127.8900  129.7500  127.1300  \n",
       "\n",
       "[1595 rows x 7 columns]"
      ],
      "text/html": "<div>\n<style scoped>\n    .dataframe tbody tr th:only-of-type {\n        vertical-align: middle;\n    }\n\n    .dataframe tbody tr th {\n        vertical-align: top;\n    }\n\n    .dataframe thead th {\n        text-align: right;\n    }\n</style>\n<table border=\"1\" class=\"dataframe\">\n  <thead>\n    <tr style=\"text-align: right;\">\n      <th></th>\n      <th>Date</th>\n      <th>Headlines</th>\n      <th>Close/Last</th>\n      <th>Volume</th>\n      <th>Open</th>\n      <th>High</th>\n      <th>Low</th>\n    </tr>\n  </thead>\n  <tbody>\n    <tr>\n      <th>0</th>\n      <td>2015-04-01</td>\n      <td>Donald Yacktman on the Sources of Moats, His C...</td>\n      <td>31.0625</td>\n      <td>161852560</td>\n      <td>31.2050</td>\n      <td>31.2800</td>\n      <td>30.7750</td>\n    </tr>\n    <tr>\n      <th>1</th>\n      <td>2015-05-01</td>\n      <td>SIM-free iPhone 6, 6 Plus reportedly debuting ...</td>\n      <td>32.2375</td>\n      <td>229396000</td>\n      <td>31.5250</td>\n      <td>32.5325</td>\n      <td>31.3250</td>\n    </tr>\n    <tr>\n      <th>2</th>\n      <td>2015-06-01</td>\n      <td>Technology Transforming Cars Into \"Phones On W...</td>\n      <td>32.6337</td>\n      <td>128064080</td>\n      <td>32.8000</td>\n      <td>32.8475</td>\n      <td>32.5125</td>\n    </tr>\n    <tr>\n      <th>3</th>\n      <td>2015-07-01</td>\n      <td>Apple issues fourth developer beta of OS X 10....</td>\n      <td>31.6500</td>\n      <td>120827560</td>\n      <td>31.7250</td>\n      <td>31.7350</td>\n      <td>31.4975</td>\n    </tr>\n    <tr>\n      <th>4</th>\n      <td>2015-09-01</td>\n      <td>Samsung is reportedly making a secret new chip...</td>\n      <td>26.9300</td>\n      <td>306248680</td>\n      <td>27.5375</td>\n      <td>27.9700</td>\n      <td>26.8400</td>\n    </tr>\n    <tr>\n      <th>...</th>\n      <td>...</td>\n      <td>...</td>\n      <td>...</td>\n      <td>...</td>\n      <td>...</td>\n      <td>...</td>\n      <td>...</td>\n    </tr>\n    <tr>\n      <th>1590</th>\n      <td>2021-05-27</td>\n      <td>&amp;quot;Friends: The Reunion&amp;quot;: The Best Non...</td>\n      <td>125.2800</td>\n      <td>94625600</td>\n      <td>126.4400</td>\n      <td>127.6400</td>\n      <td>125.0800</td>\n    </tr>\n    <tr>\n      <th>1591</th>\n      <td>2021-05-28</td>\n      <td>Apple pushes back launch of podcast subscripti...</td>\n      <td>124.6100</td>\n      <td>71311110</td>\n      <td>125.5700</td>\n      <td>125.8000</td>\n      <td>124.5500</td>\n    </tr>\n    <tr>\n      <th>1592</th>\n      <td>2021-01-06</td>\n      <td>Judge dismisses charges against Apple security...</td>\n      <td>126.6000</td>\n      <td>155088000</td>\n      <td>127.7200</td>\n      <td>131.0499</td>\n      <td>126.3820</td>\n    </tr>\n    <tr>\n      <th>1593</th>\n      <td>2021-04-06</td>\n      <td>Global equities nearly grasp all-time record, ...</td>\n      <td>126.2100</td>\n      <td>80171250</td>\n      <td>126.5000</td>\n      <td>127.1300</td>\n      <td>125.6500</td>\n    </tr>\n    <tr>\n      <th>1594</th>\n      <td>2021-05-06</td>\n      <td>Apple employees want more remote-work flexibil...</td>\n      <td>129.7400</td>\n      <td>78128330</td>\n      <td>127.8900</td>\n      <td>129.7500</td>\n      <td>127.1300</td>\n    </tr>\n  </tbody>\n</table>\n<p>1595 rows × 7 columns</p>\n</div>"
     },
     "metadata": {},
     "execution_count": 36
    }
   ],
   "source": [
    "df = pd.merge(headlines, apple_data, how='inner', on=['Date'])\n",
    "df"
   ]
  },
  {
   "cell_type": "code",
   "execution_count": 37,
   "metadata": {},
   "outputs": [
    {
     "output_type": "execute_result",
     "data": {
      "text/plain": [
       "                                                    Headlines  Close/Last  \\\n",
       "Date                                                                        \n",
       "2015-01-02  Apple Loop: iOS 8.1.3 Angers Users, Outlook Ar...     27.3325   \n",
       "2015-01-05  Apple Watch interest described as &quot;tepid,...     26.5625   \n",
       "2015-01-06  Apple&quot;s TV Service Delayed: Getting Local...     26.5650   \n",
       "2015-01-07  Apple Inc. leaks new iPod colors in iTunes 12....     26.9375   \n",
       "2015-01-08  Nomura Begins Coverage on Apple (AAPL) IBM cou...     27.9725   \n",
       "...                                                       ...         ...   \n",
       "2021-05-28  Apple pushes back launch of podcast subscripti...    124.6100   \n",
       "2021-06-01  TSX nears record high as cannabis, renewables ...    124.2800   \n",
       "2021-06-02  Exclusive Social Media App Clubhouse Rises In ...    125.0600   \n",
       "2021-06-03  Two Patents were fulfilled last week as the Ma...    123.5400   \n",
       "2021-06-04  This Simple Stock Market Strategy Is Winning s...    125.8900   \n",
       "\n",
       "               Volume      Open      High       Low  \n",
       "Date                                                 \n",
       "2015-01-02  212575080   27.8475   27.8600   26.8375  \n",
       "2015-01-05  256843520   27.0725   27.1625   26.3525  \n",
       "2015-01-06  262729000   26.6350   26.8575   26.1575  \n",
       "2015-01-07  159933400   26.8000   27.0500   26.6737  \n",
       "2015-01-08  236675040   27.3075   28.0375   27.1750  \n",
       "...               ...       ...       ...       ...  \n",
       "2021-05-28   71311110  125.5700  125.8000  124.5500  \n",
       "2021-06-01   67637120  125.0800  125.3500  123.9400  \n",
       "2021-06-02   59278860  124.2800  125.2400  124.0500  \n",
       "2021-06-03   76229170  124.6800  124.8500  123.1300  \n",
       "2021-06-04   75169340  124.0700  126.1600  123.8500  \n",
       "\n",
       "[1595 rows x 6 columns]"
      ],
      "text/html": "<div>\n<style scoped>\n    .dataframe tbody tr th:only-of-type {\n        vertical-align: middle;\n    }\n\n    .dataframe tbody tr th {\n        vertical-align: top;\n    }\n\n    .dataframe thead th {\n        text-align: right;\n    }\n</style>\n<table border=\"1\" class=\"dataframe\">\n  <thead>\n    <tr style=\"text-align: right;\">\n      <th></th>\n      <th>Headlines</th>\n      <th>Close/Last</th>\n      <th>Volume</th>\n      <th>Open</th>\n      <th>High</th>\n      <th>Low</th>\n    </tr>\n    <tr>\n      <th>Date</th>\n      <th></th>\n      <th></th>\n      <th></th>\n      <th></th>\n      <th></th>\n      <th></th>\n    </tr>\n  </thead>\n  <tbody>\n    <tr>\n      <th>2015-01-02</th>\n      <td>Apple Loop: iOS 8.1.3 Angers Users, Outlook Ar...</td>\n      <td>27.3325</td>\n      <td>212575080</td>\n      <td>27.8475</td>\n      <td>27.8600</td>\n      <td>26.8375</td>\n    </tr>\n    <tr>\n      <th>2015-01-05</th>\n      <td>Apple Watch interest described as &amp;quot;tepid,...</td>\n      <td>26.5625</td>\n      <td>256843520</td>\n      <td>27.0725</td>\n      <td>27.1625</td>\n      <td>26.3525</td>\n    </tr>\n    <tr>\n      <th>2015-01-06</th>\n      <td>Apple&amp;quot;s TV Service Delayed: Getting Local...</td>\n      <td>26.5650</td>\n      <td>262729000</td>\n      <td>26.6350</td>\n      <td>26.8575</td>\n      <td>26.1575</td>\n    </tr>\n    <tr>\n      <th>2015-01-07</th>\n      <td>Apple Inc. leaks new iPod colors in iTunes 12....</td>\n      <td>26.9375</td>\n      <td>159933400</td>\n      <td>26.8000</td>\n      <td>27.0500</td>\n      <td>26.6737</td>\n    </tr>\n    <tr>\n      <th>2015-01-08</th>\n      <td>Nomura Begins Coverage on Apple (AAPL) IBM cou...</td>\n      <td>27.9725</td>\n      <td>236675040</td>\n      <td>27.3075</td>\n      <td>28.0375</td>\n      <td>27.1750</td>\n    </tr>\n    <tr>\n      <th>...</th>\n      <td>...</td>\n      <td>...</td>\n      <td>...</td>\n      <td>...</td>\n      <td>...</td>\n      <td>...</td>\n    </tr>\n    <tr>\n      <th>2021-05-28</th>\n      <td>Apple pushes back launch of podcast subscripti...</td>\n      <td>124.6100</td>\n      <td>71311110</td>\n      <td>125.5700</td>\n      <td>125.8000</td>\n      <td>124.5500</td>\n    </tr>\n    <tr>\n      <th>2021-06-01</th>\n      <td>TSX nears record high as cannabis, renewables ...</td>\n      <td>124.2800</td>\n      <td>67637120</td>\n      <td>125.0800</td>\n      <td>125.3500</td>\n      <td>123.9400</td>\n    </tr>\n    <tr>\n      <th>2021-06-02</th>\n      <td>Exclusive Social Media App Clubhouse Rises In ...</td>\n      <td>125.0600</td>\n      <td>59278860</td>\n      <td>124.2800</td>\n      <td>125.2400</td>\n      <td>124.0500</td>\n    </tr>\n    <tr>\n      <th>2021-06-03</th>\n      <td>Two Patents were fulfilled last week as the Ma...</td>\n      <td>123.5400</td>\n      <td>76229170</td>\n      <td>124.6800</td>\n      <td>124.8500</td>\n      <td>123.1300</td>\n    </tr>\n    <tr>\n      <th>2021-06-04</th>\n      <td>This Simple Stock Market Strategy Is Winning s...</td>\n      <td>125.8900</td>\n      <td>75169340</td>\n      <td>124.0700</td>\n      <td>126.1600</td>\n      <td>123.8500</td>\n    </tr>\n  </tbody>\n</table>\n<p>1595 rows × 6 columns</p>\n</div>"
     },
     "metadata": {},
     "execution_count": 37
    }
   ],
   "source": [
    "df.set_index('Date', inplace = True)\r\n",
    "df = df.sort_index(ascending=True, axis=0)\r\n",
    "df"
   ]
  },
  {
   "cell_type": "code",
   "execution_count": null,
   "metadata": {},
   "outputs": [],
   "source": []
  }
 ]
}