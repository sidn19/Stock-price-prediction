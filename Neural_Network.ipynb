{
  "nbformat": 4,
  "nbformat_minor": 0,
  "metadata": {
    "colab": {
      "name": "Neural_Network.ipynb",
      "provenance": [],
      "collapsed_sections": []
    },
    "kernelspec": {
      "name": "python3",
      "display_name": "Python 3"
    },
    "language_info": {
      "name": "python"
    }
  },
  "cells": [
    {
      "cell_type": "code",
      "metadata": {
        "id": "ZoR1BO0lE9U4"
      },
      "source": [
        "import pandas as pd\n",
        "stockprice_data = pd.read_csv(\"/content/HistoricalData_1624843559994.csv\",parse_dates=[\"Date\"],index_col=\"Date\")\n",
        "headlines_data = pd.read_csv(\"/content/Labeled_headlines.csv\")"
      ],
      "execution_count": null,
      "outputs": []
    },
    {
      "cell_type": "code",
      "metadata": {
        "colab": {
          "base_uri": "https://localhost:8080/",
          "height": 234
        },
        "id": "61e-X425Frna",
        "outputId": "97fb141e-2d27-41b0-b6a8-b082f8ffc198"
      },
      "source": [
        "stockprice_data.head()"
      ],
      "execution_count": null,
      "outputs": [
        {
          "output_type": "execute_result",
          "data": {
            "text/html": [
              "<div>\n",
              "<style scoped>\n",
              "    .dataframe tbody tr th:only-of-type {\n",
              "        vertical-align: middle;\n",
              "    }\n",
              "\n",
              "    .dataframe tbody tr th {\n",
              "        vertical-align: top;\n",
              "    }\n",
              "\n",
              "    .dataframe thead th {\n",
              "        text-align: right;\n",
              "    }\n",
              "</style>\n",
              "<table border=\"1\" class=\"dataframe\">\n",
              "  <thead>\n",
              "    <tr style=\"text-align: right;\">\n",
              "      <th></th>\n",
              "      <th>Close/Last</th>\n",
              "      <th>Volume</th>\n",
              "      <th>Open</th>\n",
              "      <th>High</th>\n",
              "      <th>Low</th>\n",
              "    </tr>\n",
              "    <tr>\n",
              "      <th>Date</th>\n",
              "      <th></th>\n",
              "      <th></th>\n",
              "      <th></th>\n",
              "      <th></th>\n",
              "      <th></th>\n",
              "    </tr>\n",
              "  </thead>\n",
              "  <tbody>\n",
              "    <tr>\n",
              "      <th>2021-06-25</th>\n",
              "      <td>$133.11</td>\n",
              "      <td>70783750</td>\n",
              "      <td>$133.46</td>\n",
              "      <td>$133.89</td>\n",
              "      <td>$132.81</td>\n",
              "    </tr>\n",
              "    <tr>\n",
              "      <th>2021-06-24</th>\n",
              "      <td>$133.41</td>\n",
              "      <td>68711000</td>\n",
              "      <td>$134.45</td>\n",
              "      <td>$134.64</td>\n",
              "      <td>$132.93</td>\n",
              "    </tr>\n",
              "    <tr>\n",
              "      <th>2021-06-23</th>\n",
              "      <td>$133.7</td>\n",
              "      <td>60214200</td>\n",
              "      <td>$133.77</td>\n",
              "      <td>$134.32</td>\n",
              "      <td>$133.23</td>\n",
              "    </tr>\n",
              "    <tr>\n",
              "      <th>2021-06-22</th>\n",
              "      <td>$133.98</td>\n",
              "      <td>74783620</td>\n",
              "      <td>$132.13</td>\n",
              "      <td>$134.08</td>\n",
              "      <td>$131.62</td>\n",
              "    </tr>\n",
              "    <tr>\n",
              "      <th>2021-06-21</th>\n",
              "      <td>$132.3</td>\n",
              "      <td>79663320</td>\n",
              "      <td>$130.3</td>\n",
              "      <td>$132.41</td>\n",
              "      <td>$129.21</td>\n",
              "    </tr>\n",
              "  </tbody>\n",
              "</table>\n",
              "</div>"
            ],
            "text/plain": [
              "           Close/Last    Volume     Open     High      Low\n",
              "Date                                                      \n",
              "2021-06-25    $133.11  70783750  $133.46  $133.89  $132.81\n",
              "2021-06-24    $133.41  68711000  $134.45  $134.64  $132.93\n",
              "2021-06-23     $133.7  60214200  $133.77  $134.32  $133.23\n",
              "2021-06-22    $133.98  74783620  $132.13  $134.08  $131.62\n",
              "2021-06-21     $132.3  79663320   $130.3  $132.41  $129.21"
            ]
          },
          "metadata": {
            "tags": []
          },
          "execution_count": 1494
        }
      ]
    },
    {
      "cell_type": "code",
      "metadata": {
        "colab": {
          "base_uri": "https://localhost:8080/",
          "height": 203
        },
        "id": "YEpMeFZUFw7k",
        "outputId": "41dbca6b-6f39-4d2e-abde-6ee00a472136"
      },
      "source": [
        "headlines_data.head()"
      ],
      "execution_count": null,
      "outputs": [
        {
          "output_type": "execute_result",
          "data": {
            "text/html": [
              "<div>\n",
              "<style scoped>\n",
              "    .dataframe tbody tr th:only-of-type {\n",
              "        vertical-align: middle;\n",
              "    }\n",
              "\n",
              "    .dataframe tbody tr th {\n",
              "        vertical-align: top;\n",
              "    }\n",
              "\n",
              "    .dataframe thead th {\n",
              "        text-align: right;\n",
              "    }\n",
              "</style>\n",
              "<table border=\"1\" class=\"dataframe\">\n",
              "  <thead>\n",
              "    <tr style=\"text-align: right;\">\n",
              "      <th></th>\n",
              "      <th>Unnamed: 0</th>\n",
              "      <th>Date</th>\n",
              "      <th>Vader_label</th>\n",
              "      <th>Headlines</th>\n",
              "    </tr>\n",
              "  </thead>\n",
              "  <tbody>\n",
              "    <tr>\n",
              "      <th>0</th>\n",
              "      <td>0</td>\n",
              "      <td>2015-01-01</td>\n",
              "      <td>1</td>\n",
              "      <td>What Can We Expect From Apple Inc. In 2015? 1 ...</td>\n",
              "    </tr>\n",
              "    <tr>\n",
              "      <th>1</th>\n",
              "      <td>1</td>\n",
              "      <td>2015-02-01</td>\n",
              "      <td>1</td>\n",
              "      <td>What to expect from Apple in 2015 beyond its s...</td>\n",
              "    </tr>\n",
              "    <tr>\n",
              "      <th>2</th>\n",
              "      <td>2</td>\n",
              "      <td>2015-03-01</td>\n",
              "      <td>1</td>\n",
              "      <td>Mountie: An inexpensive and innovative way to ...</td>\n",
              "    </tr>\n",
              "    <tr>\n",
              "      <th>3</th>\n",
              "      <td>3</td>\n",
              "      <td>2015-04-01</td>\n",
              "      <td>0</td>\n",
              "      <td>Donald Yacktman on the Sources of Moats, His C...</td>\n",
              "    </tr>\n",
              "    <tr>\n",
              "      <th>4</th>\n",
              "      <td>4</td>\n",
              "      <td>2015-05-01</td>\n",
              "      <td>1</td>\n",
              "      <td>SIM-free iPhone 6, 6 Plus reportedly debuting ...</td>\n",
              "    </tr>\n",
              "  </tbody>\n",
              "</table>\n",
              "</div>"
            ],
            "text/plain": [
              "   Unnamed: 0  ...                                          Headlines\n",
              "0           0  ...  What Can We Expect From Apple Inc. In 2015? 1 ...\n",
              "1           1  ...  What to expect from Apple in 2015 beyond its s...\n",
              "2           2  ...  Mountie: An inexpensive and innovative way to ...\n",
              "3           3  ...  Donald Yacktman on the Sources of Moats, His C...\n",
              "4           4  ...  SIM-free iPhone 6, 6 Plus reportedly debuting ...\n",
              "\n",
              "[5 rows x 4 columns]"
            ]
          },
          "metadata": {
            "tags": []
          },
          "execution_count": 1495
        }
      ]
    },
    {
      "cell_type": "markdown",
      "metadata": {
        "id": "wb6-xtcjJDfp"
      },
      "source": [
        "# **Length of each dataset:**"
      ]
    },
    {
      "cell_type": "code",
      "metadata": {
        "colab": {
          "base_uri": "https://localhost:8080/"
        },
        "id": "vjITBBZpGKce",
        "outputId": "606e12d5-4c55-40b4-c417-e71c33ab388f"
      },
      "source": [
        "print(\"(\",len(stockprice_data),\",\",len(headlines_data),\")\")"
      ],
      "execution_count": null,
      "outputs": [
        {
          "output_type": "stream",
          "text": [
            "( 2516 , 2351 )\n"
          ],
          "name": "stdout"
        }
      ]
    },
    {
      "cell_type": "markdown",
      "metadata": {
        "id": "xngIj2wJJI_3"
      },
      "source": [
        "# **Checking any Missing values:**"
      ]
    },
    {
      "cell_type": "code",
      "metadata": {
        "colab": {
          "base_uri": "https://localhost:8080/"
        },
        "id": "5eWG4lrrIrjg",
        "outputId": "0eb70db2-383c-4c7d-9a09-a892470adcc8"
      },
      "source": [
        "stockprice_data.isna().any()"
      ],
      "execution_count": null,
      "outputs": [
        {
          "output_type": "execute_result",
          "data": {
            "text/plain": [
              "Close/Last    False\n",
              "Volume        False\n",
              "Open          False\n",
              "High          False\n",
              "Low           False\n",
              "dtype: bool"
            ]
          },
          "metadata": {
            "tags": []
          },
          "execution_count": 1497
        }
      ]
    },
    {
      "cell_type": "code",
      "metadata": {
        "colab": {
          "base_uri": "https://localhost:8080/"
        },
        "id": "qBDH4ErCJBcY",
        "outputId": "6899d431-646f-4618-b13e-a0ee81dfafce"
      },
      "source": [
        "headlines_data.isna().any()"
      ],
      "execution_count": null,
      "outputs": [
        {
          "output_type": "execute_result",
          "data": {
            "text/plain": [
              "Unnamed: 0     False\n",
              "Date           False\n",
              "Vader_label    False\n",
              "Headlines      False\n",
              "dtype: bool"
            ]
          },
          "metadata": {
            "tags": []
          },
          "execution_count": 1498
        }
      ]
    },
    {
      "cell_type": "markdown",
      "metadata": {
        "id": "8soymxE_JoKX"
      },
      "source": [
        "# **Stock Price Data**"
      ]
    },
    {
      "cell_type": "code",
      "metadata": {
        "colab": {
          "base_uri": "https://localhost:8080/",
          "height": 447
        },
        "id": "RzEbpodbJUzO",
        "outputId": "44efcc45-2a73-4cc5-a10a-429648a62e73"
      },
      "source": [
        "stockprice_data = stockprice_data.drop_duplicates()\n",
        "stockprice_data = stockprice_data.filter([\"Date\",\"Close/Last\",\"Open\",\"High\",\"Low\",\"Volume\"])\n",
        "stockprice_data['Close/Last']= stockprice_data['Close/Last'].str.replace('$',\"\")\n",
        "stockprice_data['Open']= stockprice_data['Open'].str.replace('$',\"\")\n",
        "stockprice_data['Open']= stockprice_data['Open'].str.replace('$',\"\")\n",
        "stockprice_data['High']= stockprice_data['High'].str.replace('$',\"\")\n",
        "stockprice_data['Low']= stockprice_data['Low'].str.replace('$',\"\")\n",
        "stockprice_data['Close/Last'] = stockprice_data['Close/Last'].astype(float)\n",
        "stockprice_data['Open'] = stockprice_data['Open'].astype(float)\n",
        "stockprice_data['High'] = stockprice_data['High'].astype(float)\n",
        "stockprice_data['Low'] = stockprice_data['Low'].astype(float)\n",
        "stockprice_data = stockprice_data.sort_index(ascending = True,axis = 0)\n",
        "stockprice_data"
      ],
      "execution_count": null,
      "outputs": [
        {
          "output_type": "execute_result",
          "data": {
            "text/html": [
              "<div>\n",
              "<style scoped>\n",
              "    .dataframe tbody tr th:only-of-type {\n",
              "        vertical-align: middle;\n",
              "    }\n",
              "\n",
              "    .dataframe tbody tr th {\n",
              "        vertical-align: top;\n",
              "    }\n",
              "\n",
              "    .dataframe thead th {\n",
              "        text-align: right;\n",
              "    }\n",
              "</style>\n",
              "<table border=\"1\" class=\"dataframe\">\n",
              "  <thead>\n",
              "    <tr style=\"text-align: right;\">\n",
              "      <th></th>\n",
              "      <th>Close/Last</th>\n",
              "      <th>Open</th>\n",
              "      <th>High</th>\n",
              "      <th>Low</th>\n",
              "      <th>Volume</th>\n",
              "    </tr>\n",
              "    <tr>\n",
              "      <th>Date</th>\n",
              "      <th></th>\n",
              "      <th></th>\n",
              "      <th></th>\n",
              "      <th></th>\n",
              "      <th></th>\n",
              "    </tr>\n",
              "  </thead>\n",
              "  <tbody>\n",
              "    <tr>\n",
              "      <th>2011-06-28</th>\n",
              "      <td>11.9736</td>\n",
              "      <td>11.9161</td>\n",
              "      <td>12.0250</td>\n",
              "      <td>11.9086</td>\n",
              "      <td>293471803</td>\n",
              "    </tr>\n",
              "    <tr>\n",
              "      <th>2011-06-29</th>\n",
              "      <td>11.9300</td>\n",
              "      <td>12.0014</td>\n",
              "      <td>12.0132</td>\n",
              "      <td>11.8529</td>\n",
              "      <td>352493819</td>\n",
              "    </tr>\n",
              "    <tr>\n",
              "      <th>2011-06-30</th>\n",
              "      <td>11.9882</td>\n",
              "      <td>11.9536</td>\n",
              "      <td>12.0046</td>\n",
              "      <td>11.8871</td>\n",
              "      <td>322746911</td>\n",
              "    </tr>\n",
              "    <tr>\n",
              "      <th>2011-07-01</th>\n",
              "      <td>12.2593</td>\n",
              "      <td>11.9982</td>\n",
              "      <td>12.2679</td>\n",
              "      <td>11.9357</td>\n",
              "      <td>439705664</td>\n",
              "    </tr>\n",
              "    <tr>\n",
              "      <th>2011-07-05</th>\n",
              "      <td>12.4796</td>\n",
              "      <td>12.2500</td>\n",
              "      <td>12.4939</td>\n",
              "      <td>12.2321</td>\n",
              "      <td>354701618</td>\n",
              "    </tr>\n",
              "    <tr>\n",
              "      <th>...</th>\n",
              "      <td>...</td>\n",
              "      <td>...</td>\n",
              "      <td>...</td>\n",
              "      <td>...</td>\n",
              "      <td>...</td>\n",
              "    </tr>\n",
              "    <tr>\n",
              "      <th>2021-06-21</th>\n",
              "      <td>132.3000</td>\n",
              "      <td>130.3000</td>\n",
              "      <td>132.4100</td>\n",
              "      <td>129.2100</td>\n",
              "      <td>79663320</td>\n",
              "    </tr>\n",
              "    <tr>\n",
              "      <th>2021-06-22</th>\n",
              "      <td>133.9800</td>\n",
              "      <td>132.1300</td>\n",
              "      <td>134.0800</td>\n",
              "      <td>131.6200</td>\n",
              "      <td>74783620</td>\n",
              "    </tr>\n",
              "    <tr>\n",
              "      <th>2021-06-23</th>\n",
              "      <td>133.7000</td>\n",
              "      <td>133.7700</td>\n",
              "      <td>134.3200</td>\n",
              "      <td>133.2300</td>\n",
              "      <td>60214200</td>\n",
              "    </tr>\n",
              "    <tr>\n",
              "      <th>2021-06-24</th>\n",
              "      <td>133.4100</td>\n",
              "      <td>134.4500</td>\n",
              "      <td>134.6400</td>\n",
              "      <td>132.9300</td>\n",
              "      <td>68711000</td>\n",
              "    </tr>\n",
              "    <tr>\n",
              "      <th>2021-06-25</th>\n",
              "      <td>133.1100</td>\n",
              "      <td>133.4600</td>\n",
              "      <td>133.8900</td>\n",
              "      <td>132.8100</td>\n",
              "      <td>70783750</td>\n",
              "    </tr>\n",
              "  </tbody>\n",
              "</table>\n",
              "<p>2516 rows × 5 columns</p>\n",
              "</div>"
            ],
            "text/plain": [
              "            Close/Last      Open      High       Low     Volume\n",
              "Date                                                           \n",
              "2011-06-28     11.9736   11.9161   12.0250   11.9086  293471803\n",
              "2011-06-29     11.9300   12.0014   12.0132   11.8529  352493819\n",
              "2011-06-30     11.9882   11.9536   12.0046   11.8871  322746911\n",
              "2011-07-01     12.2593   11.9982   12.2679   11.9357  439705664\n",
              "2011-07-05     12.4796   12.2500   12.4939   12.2321  354701618\n",
              "...                ...       ...       ...       ...        ...\n",
              "2021-06-21    132.3000  130.3000  132.4100  129.2100   79663320\n",
              "2021-06-22    133.9800  132.1300  134.0800  131.6200   74783620\n",
              "2021-06-23    133.7000  133.7700  134.3200  133.2300   60214200\n",
              "2021-06-24    133.4100  134.4500  134.6400  132.9300   68711000\n",
              "2021-06-25    133.1100  133.4600  133.8900  132.8100   70783750\n",
              "\n",
              "[2516 rows x 5 columns]"
            ]
          },
          "metadata": {
            "tags": []
          },
          "execution_count": 1499
        }
      ]
    },
    {
      "cell_type": "markdown",
      "metadata": {
        "id": "EgBke3cPNIRJ"
      },
      "source": [
        "# **Headlines Data**"
      ]
    },
    {
      "cell_type": "code",
      "metadata": {
        "colab": {
          "base_uri": "https://localhost:8080/",
          "height": 447
        },
        "id": "6wclArXkMupC",
        "outputId": "01fe6bac-609a-47e9-94de-ffc70bfd52a3"
      },
      "source": [
        "headlines_data = headlines_data.drop_duplicates()\n",
        "headlines_data[\"Date\"] = pd.to_datetime(headlines_data[\"Date\"]).dt.normalize()\n",
        "headlines_data[\"Date\"] = headlines_data.filter([\"Date\",\"Vader_label\",\"Headlines\"])\n",
        "headlines_data = headlines_data.groupby([\"Date\"])[\"Headlines\"].apply(lambda x : ','.join(x)).reset_index()\n",
        "headlines_data.set_index(\"Date\",inplace = True)\n",
        "headlines_data = headlines_data.sort_index(ascending = True,axis = 0)\n",
        "headlines_data"
      ],
      "execution_count": null,
      "outputs": [
        {
          "output_type": "execute_result",
          "data": {
            "text/html": [
              "<div>\n",
              "<style scoped>\n",
              "    .dataframe tbody tr th:only-of-type {\n",
              "        vertical-align: middle;\n",
              "    }\n",
              "\n",
              "    .dataframe tbody tr th {\n",
              "        vertical-align: top;\n",
              "    }\n",
              "\n",
              "    .dataframe thead th {\n",
              "        text-align: right;\n",
              "    }\n",
              "</style>\n",
              "<table border=\"1\" class=\"dataframe\">\n",
              "  <thead>\n",
              "    <tr style=\"text-align: right;\">\n",
              "      <th></th>\n",
              "      <th>Headlines</th>\n",
              "    </tr>\n",
              "    <tr>\n",
              "      <th>Date</th>\n",
              "      <th></th>\n",
              "    </tr>\n",
              "  </thead>\n",
              "  <tbody>\n",
              "    <tr>\n",
              "      <th>2015-01-01</th>\n",
              "      <td>What Can We Expect From Apple Inc. In 2015? 1 ...</td>\n",
              "    </tr>\n",
              "    <tr>\n",
              "      <th>2015-01-02</th>\n",
              "      <td>Apple Loop: iOS 8.1.3 Angers Users, Outlook Ar...</td>\n",
              "    </tr>\n",
              "    <tr>\n",
              "      <th>2015-01-03</th>\n",
              "      <td>Samsung Launches Two New Smartphones, Mobile W...</td>\n",
              "    </tr>\n",
              "    <tr>\n",
              "      <th>2015-01-04</th>\n",
              "      <td>Apple Daily: Retina MacBook Unboxing Video; Ap...</td>\n",
              "    </tr>\n",
              "    <tr>\n",
              "      <th>2015-01-05</th>\n",
              "      <td>Apple Watch interest described as &amp;quot;tepid,...</td>\n",
              "    </tr>\n",
              "    <tr>\n",
              "      <th>...</th>\n",
              "      <td>...</td>\n",
              "    </tr>\n",
              "    <tr>\n",
              "      <th>2021-12-02</th>\n",
              "      <td>Facebook is building a smartwatch and wants to...</td>\n",
              "    </tr>\n",
              "    <tr>\n",
              "      <th>2021-12-03</th>\n",
              "      <td>How to cancel an Apple One subscription once y...</td>\n",
              "    </tr>\n",
              "    <tr>\n",
              "      <th>2021-12-04</th>\n",
              "      <td>Microsoft Boosts Conversational AI with $19.7 ...</td>\n",
              "    </tr>\n",
              "    <tr>\n",
              "      <th>2021-12-05</th>\n",
              "      <td>Judge in Epic Games v. Apple Trial appears to ...</td>\n",
              "    </tr>\n",
              "    <tr>\n",
              "      <th>2021-12-06</th>\n",
              "      <td>Japan to start antitrust probe on Apple, Googl...</td>\n",
              "    </tr>\n",
              "  </tbody>\n",
              "</table>\n",
              "<p>2321 rows × 1 columns</p>\n",
              "</div>"
            ],
            "text/plain": [
              "                                                    Headlines\n",
              "Date                                                         \n",
              "2015-01-01  What Can We Expect From Apple Inc. In 2015? 1 ...\n",
              "2015-01-02  Apple Loop: iOS 8.1.3 Angers Users, Outlook Ar...\n",
              "2015-01-03  Samsung Launches Two New Smartphones, Mobile W...\n",
              "2015-01-04  Apple Daily: Retina MacBook Unboxing Video; Ap...\n",
              "2015-01-05  Apple Watch interest described as &quot;tepid,...\n",
              "...                                                       ...\n",
              "2021-12-02  Facebook is building a smartwatch and wants to...\n",
              "2021-12-03  How to cancel an Apple One subscription once y...\n",
              "2021-12-04  Microsoft Boosts Conversational AI with $19.7 ...\n",
              "2021-12-05  Judge in Epic Games v. Apple Trial appears to ...\n",
              "2021-12-06  Japan to start antitrust probe on Apple, Googl...\n",
              "\n",
              "[2321 rows x 1 columns]"
            ]
          },
          "metadata": {
            "tags": []
          },
          "execution_count": 1500
        }
      ]
    },
    {
      "cell_type": "markdown",
      "metadata": {
        "id": "LN_6uWa4Qyp9"
      },
      "source": [
        "# **Combining Both Price and Headlines data**"
      ]
    },
    {
      "cell_type": "code",
      "metadata": {
        "colab": {
          "base_uri": "https://localhost:8080/",
          "height": 447
        },
        "id": "iKflr76SNzhl",
        "outputId": "d80b3450-145b-43c7-ad59-00d9c4ed4eb3"
      },
      "source": [
        "stock_data = pd.concat([stockprice_data,headlines_data],axis = 1)\n",
        "stock_data.dropna(axis = 0,inplace = True)\n",
        "stock_data"
      ],
      "execution_count": null,
      "outputs": [
        {
          "output_type": "execute_result",
          "data": {
            "text/html": [
              "<div>\n",
              "<style scoped>\n",
              "    .dataframe tbody tr th:only-of-type {\n",
              "        vertical-align: middle;\n",
              "    }\n",
              "\n",
              "    .dataframe tbody tr th {\n",
              "        vertical-align: top;\n",
              "    }\n",
              "\n",
              "    .dataframe thead th {\n",
              "        text-align: right;\n",
              "    }\n",
              "</style>\n",
              "<table border=\"1\" class=\"dataframe\">\n",
              "  <thead>\n",
              "    <tr style=\"text-align: right;\">\n",
              "      <th></th>\n",
              "      <th>Close/Last</th>\n",
              "      <th>Open</th>\n",
              "      <th>High</th>\n",
              "      <th>Low</th>\n",
              "      <th>Volume</th>\n",
              "      <th>Headlines</th>\n",
              "    </tr>\n",
              "    <tr>\n",
              "      <th>Date</th>\n",
              "      <th></th>\n",
              "      <th></th>\n",
              "      <th></th>\n",
              "      <th></th>\n",
              "      <th></th>\n",
              "      <th></th>\n",
              "    </tr>\n",
              "  </thead>\n",
              "  <tbody>\n",
              "    <tr>\n",
              "      <th>2015-01-02</th>\n",
              "      <td>27.3325</td>\n",
              "      <td>27.8475</td>\n",
              "      <td>27.8600</td>\n",
              "      <td>26.8375</td>\n",
              "      <td>212575080.0</td>\n",
              "      <td>Apple Loop: iOS 8.1.3 Angers Users, Outlook Ar...</td>\n",
              "    </tr>\n",
              "    <tr>\n",
              "      <th>2015-01-05</th>\n",
              "      <td>26.5625</td>\n",
              "      <td>27.0725</td>\n",
              "      <td>27.1625</td>\n",
              "      <td>26.3525</td>\n",
              "      <td>256843520.0</td>\n",
              "      <td>Apple Watch interest described as &amp;quot;tepid,...</td>\n",
              "    </tr>\n",
              "    <tr>\n",
              "      <th>2015-01-06</th>\n",
              "      <td>26.5650</td>\n",
              "      <td>26.6350</td>\n",
              "      <td>26.8575</td>\n",
              "      <td>26.1575</td>\n",
              "      <td>262729000.0</td>\n",
              "      <td>Apple&amp;quot;s TV Service Delayed: Getting Local...</td>\n",
              "    </tr>\n",
              "    <tr>\n",
              "      <th>2015-01-07</th>\n",
              "      <td>26.9375</td>\n",
              "      <td>26.8000</td>\n",
              "      <td>27.0500</td>\n",
              "      <td>26.6737</td>\n",
              "      <td>159933400.0</td>\n",
              "      <td>Apple Inc. leaks new iPod colors in iTunes 12....</td>\n",
              "    </tr>\n",
              "    <tr>\n",
              "      <th>2015-01-08</th>\n",
              "      <td>27.9725</td>\n",
              "      <td>27.3075</td>\n",
              "      <td>28.0375</td>\n",
              "      <td>27.1750</td>\n",
              "      <td>236675040.0</td>\n",
              "      <td>Nomura Begins Coverage on Apple (AAPL) IBM cou...</td>\n",
              "    </tr>\n",
              "    <tr>\n",
              "      <th>...</th>\n",
              "      <td>...</td>\n",
              "      <td>...</td>\n",
              "      <td>...</td>\n",
              "      <td>...</td>\n",
              "      <td>...</td>\n",
              "      <td>...</td>\n",
              "    </tr>\n",
              "    <tr>\n",
              "      <th>2021-06-17</th>\n",
              "      <td>131.7900</td>\n",
              "      <td>129.8000</td>\n",
              "      <td>132.5500</td>\n",
              "      <td>129.6500</td>\n",
              "      <td>96721670.0</td>\n",
              "      <td>Apple awards grants for computer chip courses ...</td>\n",
              "    </tr>\n",
              "    <tr>\n",
              "      <th>2021-06-18</th>\n",
              "      <td>130.4600</td>\n",
              "      <td>130.7100</td>\n",
              "      <td>131.5100</td>\n",
              "      <td>130.2400</td>\n",
              "      <td>108953300.0</td>\n",
              "      <td>Wells Fargo updates on its best-ideas 'Signatu...</td>\n",
              "    </tr>\n",
              "    <tr>\n",
              "      <th>2021-06-21</th>\n",
              "      <td>132.3000</td>\n",
              "      <td>130.3000</td>\n",
              "      <td>132.4100</td>\n",
              "      <td>129.2100</td>\n",
              "      <td>79663320.0</td>\n",
              "      <td>Apple is shortening new free TV Plus trials fr...</td>\n",
              "    </tr>\n",
              "    <tr>\n",
              "      <th>2021-06-22</th>\n",
              "      <td>133.9800</td>\n",
              "      <td>132.1300</td>\n",
              "      <td>134.0800</td>\n",
              "      <td>131.6200</td>\n",
              "      <td>74783620.0</td>\n",
              "      <td>Google likely to soon face antitrust claims ov...</td>\n",
              "    </tr>\n",
              "    <tr>\n",
              "      <th>2021-06-23</th>\n",
              "      <td>133.7000</td>\n",
              "      <td>133.7700</td>\n",
              "      <td>134.3200</td>\n",
              "      <td>133.2300</td>\n",
              "      <td>60214200.0</td>\n",
              "      <td>French court sets date in Apple case over App ...</td>\n",
              "    </tr>\n",
              "  </tbody>\n",
              "</table>\n",
              "<p>1572 rows × 6 columns</p>\n",
              "</div>"
            ],
            "text/plain": [
              "            Close/Last  ...                                          Headlines\n",
              "Date                    ...                                                   \n",
              "2015-01-02     27.3325  ...  Apple Loop: iOS 8.1.3 Angers Users, Outlook Ar...\n",
              "2015-01-05     26.5625  ...  Apple Watch interest described as &quot;tepid,...\n",
              "2015-01-06     26.5650  ...  Apple&quot;s TV Service Delayed: Getting Local...\n",
              "2015-01-07     26.9375  ...  Apple Inc. leaks new iPod colors in iTunes 12....\n",
              "2015-01-08     27.9725  ...  Nomura Begins Coverage on Apple (AAPL) IBM cou...\n",
              "...                ...  ...                                                ...\n",
              "2021-06-17    131.7900  ...  Apple awards grants for computer chip courses ...\n",
              "2021-06-18    130.4600  ...  Wells Fargo updates on its best-ideas 'Signatu...\n",
              "2021-06-21    132.3000  ...  Apple is shortening new free TV Plus trials fr...\n",
              "2021-06-22    133.9800  ...  Google likely to soon face antitrust claims ov...\n",
              "2021-06-23    133.7000  ...  French court sets date in Apple case over App ...\n",
              "\n",
              "[1572 rows x 6 columns]"
            ]
          },
          "metadata": {
            "tags": []
          },
          "execution_count": 1501
        }
      ]
    },
    {
      "cell_type": "markdown",
      "metadata": {
        "id": "AoIlcyPDTidA"
      },
      "source": [
        "# **Calculating Sentiment Scores**"
      ]
    },
    {
      "cell_type": "code",
      "metadata": {
        "colab": {
          "base_uri": "https://localhost:8080/",
          "height": 234
        },
        "id": "rI6fLJl5RMw1",
        "outputId": "07d54801-ef35-4a7d-e494-ee95522d2158"
      },
      "source": [
        "stock_data[\"compound\"] = ' '\n",
        "stock_data[\"negative\"] = ' '\n",
        "stock_data[\"neutral\"] = ' '\n",
        "stock_data[\"positive\"] = ' '\n",
        "stock_data.head()"
      ],
      "execution_count": null,
      "outputs": [
        {
          "output_type": "execute_result",
          "data": {
            "text/html": [
              "<div>\n",
              "<style scoped>\n",
              "    .dataframe tbody tr th:only-of-type {\n",
              "        vertical-align: middle;\n",
              "    }\n",
              "\n",
              "    .dataframe tbody tr th {\n",
              "        vertical-align: top;\n",
              "    }\n",
              "\n",
              "    .dataframe thead th {\n",
              "        text-align: right;\n",
              "    }\n",
              "</style>\n",
              "<table border=\"1\" class=\"dataframe\">\n",
              "  <thead>\n",
              "    <tr style=\"text-align: right;\">\n",
              "      <th></th>\n",
              "      <th>Close/Last</th>\n",
              "      <th>Open</th>\n",
              "      <th>High</th>\n",
              "      <th>Low</th>\n",
              "      <th>Volume</th>\n",
              "      <th>Headlines</th>\n",
              "      <th>compound</th>\n",
              "      <th>negative</th>\n",
              "      <th>neutral</th>\n",
              "      <th>positive</th>\n",
              "    </tr>\n",
              "    <tr>\n",
              "      <th>Date</th>\n",
              "      <th></th>\n",
              "      <th></th>\n",
              "      <th></th>\n",
              "      <th></th>\n",
              "      <th></th>\n",
              "      <th></th>\n",
              "      <th></th>\n",
              "      <th></th>\n",
              "      <th></th>\n",
              "      <th></th>\n",
              "    </tr>\n",
              "  </thead>\n",
              "  <tbody>\n",
              "    <tr>\n",
              "      <th>2015-01-02</th>\n",
              "      <td>27.3325</td>\n",
              "      <td>27.8475</td>\n",
              "      <td>27.8600</td>\n",
              "      <td>26.8375</td>\n",
              "      <td>212575080.0</td>\n",
              "      <td>Apple Loop: iOS 8.1.3 Angers Users, Outlook Ar...</td>\n",
              "      <td></td>\n",
              "      <td></td>\n",
              "      <td></td>\n",
              "      <td></td>\n",
              "    </tr>\n",
              "    <tr>\n",
              "      <th>2015-01-05</th>\n",
              "      <td>26.5625</td>\n",
              "      <td>27.0725</td>\n",
              "      <td>27.1625</td>\n",
              "      <td>26.3525</td>\n",
              "      <td>256843520.0</td>\n",
              "      <td>Apple Watch interest described as &amp;quot;tepid,...</td>\n",
              "      <td></td>\n",
              "      <td></td>\n",
              "      <td></td>\n",
              "      <td></td>\n",
              "    </tr>\n",
              "    <tr>\n",
              "      <th>2015-01-06</th>\n",
              "      <td>26.5650</td>\n",
              "      <td>26.6350</td>\n",
              "      <td>26.8575</td>\n",
              "      <td>26.1575</td>\n",
              "      <td>262729000.0</td>\n",
              "      <td>Apple&amp;quot;s TV Service Delayed: Getting Local...</td>\n",
              "      <td></td>\n",
              "      <td></td>\n",
              "      <td></td>\n",
              "      <td></td>\n",
              "    </tr>\n",
              "    <tr>\n",
              "      <th>2015-01-07</th>\n",
              "      <td>26.9375</td>\n",
              "      <td>26.8000</td>\n",
              "      <td>27.0500</td>\n",
              "      <td>26.6737</td>\n",
              "      <td>159933400.0</td>\n",
              "      <td>Apple Inc. leaks new iPod colors in iTunes 12....</td>\n",
              "      <td></td>\n",
              "      <td></td>\n",
              "      <td></td>\n",
              "      <td></td>\n",
              "    </tr>\n",
              "    <tr>\n",
              "      <th>2015-01-08</th>\n",
              "      <td>27.9725</td>\n",
              "      <td>27.3075</td>\n",
              "      <td>28.0375</td>\n",
              "      <td>27.1750</td>\n",
              "      <td>236675040.0</td>\n",
              "      <td>Nomura Begins Coverage on Apple (AAPL) IBM cou...</td>\n",
              "      <td></td>\n",
              "      <td></td>\n",
              "      <td></td>\n",
              "      <td></td>\n",
              "    </tr>\n",
              "  </tbody>\n",
              "</table>\n",
              "</div>"
            ],
            "text/plain": [
              "            Close/Last     Open     High  ...  negative  neutral positive\n",
              "Date                                      ...                            \n",
              "2015-01-02     27.3325  27.8475  27.8600  ...                            \n",
              "2015-01-05     26.5625  27.0725  27.1625  ...                            \n",
              "2015-01-06     26.5650  26.6350  26.8575  ...                            \n",
              "2015-01-07     26.9375  26.8000  27.0500  ...                            \n",
              "2015-01-08     27.9725  27.3075  28.0375  ...                            \n",
              "\n",
              "[5 rows x 10 columns]"
            ]
          },
          "metadata": {
            "tags": []
          },
          "execution_count": 1502
        }
      ]
    },
    {
      "cell_type": "code",
      "metadata": {
        "colab": {
          "base_uri": "https://localhost:8080/",
          "height": 234
        },
        "id": "5G4MAFx2RQ5e",
        "outputId": "986d9671-04fe-477b-f1a5-6568d539ff81"
      },
      "source": [
        "import nltk\n",
        "from nltk.sentiment import SentimentAnalyzer\n",
        "from nltk.sentiment.util import *\n",
        "from nltk.sentiment.vader import SentimentIntensityAnalyzer\n",
        "import unicodedata\n",
        "#nltk.download('vader_lexicon')\n",
        "\n",
        "sid = SentimentIntensityAnalyzer()\n",
        "stock_data[\"compound\"] = stock_data[\"Headlines\"].apply(lambda x : sid.polarity_scores(x)['compound'])\n",
        "stock_data[\"negative\"] = stock_data[\"Headlines\"].apply(lambda x : sid.polarity_scores(x)['neg'])\n",
        "stock_data[\"neutral\"] = stock_data[\"Headlines\"].apply(lambda x : sid.polarity_scores(x)['neu'])\n",
        "stock_data[\"positive\"] = stock_data[\"Headlines\"].apply(lambda x : sid.polarity_scores(x)['pos'])\n",
        "stock_data.head()"
      ],
      "execution_count": null,
      "outputs": [
        {
          "output_type": "execute_result",
          "data": {
            "text/html": [
              "<div>\n",
              "<style scoped>\n",
              "    .dataframe tbody tr th:only-of-type {\n",
              "        vertical-align: middle;\n",
              "    }\n",
              "\n",
              "    .dataframe tbody tr th {\n",
              "        vertical-align: top;\n",
              "    }\n",
              "\n",
              "    .dataframe thead th {\n",
              "        text-align: right;\n",
              "    }\n",
              "</style>\n",
              "<table border=\"1\" class=\"dataframe\">\n",
              "  <thead>\n",
              "    <tr style=\"text-align: right;\">\n",
              "      <th></th>\n",
              "      <th>Close/Last</th>\n",
              "      <th>Open</th>\n",
              "      <th>High</th>\n",
              "      <th>Low</th>\n",
              "      <th>Volume</th>\n",
              "      <th>Headlines</th>\n",
              "      <th>compound</th>\n",
              "      <th>negative</th>\n",
              "      <th>neutral</th>\n",
              "      <th>positive</th>\n",
              "    </tr>\n",
              "    <tr>\n",
              "      <th>Date</th>\n",
              "      <th></th>\n",
              "      <th></th>\n",
              "      <th></th>\n",
              "      <th></th>\n",
              "      <th></th>\n",
              "      <th></th>\n",
              "      <th></th>\n",
              "      <th></th>\n",
              "      <th></th>\n",
              "      <th></th>\n",
              "    </tr>\n",
              "  </thead>\n",
              "  <tbody>\n",
              "    <tr>\n",
              "      <th>2015-01-02</th>\n",
              "      <td>27.3325</td>\n",
              "      <td>27.8475</td>\n",
              "      <td>27.8600</td>\n",
              "      <td>26.8375</td>\n",
              "      <td>212575080.0</td>\n",
              "      <td>Apple Loop: iOS 8.1.3 Angers Users, Outlook Ar...</td>\n",
              "      <td>0.1943</td>\n",
              "      <td>0.116</td>\n",
              "      <td>0.749</td>\n",
              "      <td>0.135</td>\n",
              "    </tr>\n",
              "    <tr>\n",
              "      <th>2015-01-05</th>\n",
              "      <td>26.5625</td>\n",
              "      <td>27.0725</td>\n",
              "      <td>27.1625</td>\n",
              "      <td>26.3525</td>\n",
              "      <td>256843520.0</td>\n",
              "      <td>Apple Watch interest described as &amp;quot;tepid,...</td>\n",
              "      <td>0.9748</td>\n",
              "      <td>0.061</td>\n",
              "      <td>0.831</td>\n",
              "      <td>0.107</td>\n",
              "    </tr>\n",
              "    <tr>\n",
              "      <th>2015-01-06</th>\n",
              "      <td>26.5650</td>\n",
              "      <td>26.6350</td>\n",
              "      <td>26.8575</td>\n",
              "      <td>26.1575</td>\n",
              "      <td>262729000.0</td>\n",
              "      <td>Apple&amp;quot;s TV Service Delayed: Getting Local...</td>\n",
              "      <td>0.9932</td>\n",
              "      <td>0.034</td>\n",
              "      <td>0.862</td>\n",
              "      <td>0.105</td>\n",
              "    </tr>\n",
              "    <tr>\n",
              "      <th>2015-01-07</th>\n",
              "      <td>26.9375</td>\n",
              "      <td>26.8000</td>\n",
              "      <td>27.0500</td>\n",
              "      <td>26.6737</td>\n",
              "      <td>159933400.0</td>\n",
              "      <td>Apple Inc. leaks new iPod colors in iTunes 12....</td>\n",
              "      <td>0.9866</td>\n",
              "      <td>0.059</td>\n",
              "      <td>0.812</td>\n",
              "      <td>0.129</td>\n",
              "    </tr>\n",
              "    <tr>\n",
              "      <th>2015-01-08</th>\n",
              "      <td>27.9725</td>\n",
              "      <td>27.3075</td>\n",
              "      <td>28.0375</td>\n",
              "      <td>27.1750</td>\n",
              "      <td>236675040.0</td>\n",
              "      <td>Nomura Begins Coverage on Apple (AAPL) IBM cou...</td>\n",
              "      <td>0.4939</td>\n",
              "      <td>0.059</td>\n",
              "      <td>0.827</td>\n",
              "      <td>0.114</td>\n",
              "    </tr>\n",
              "  </tbody>\n",
              "</table>\n",
              "</div>"
            ],
            "text/plain": [
              "            Close/Last     Open     High  ...  negative  neutral positive\n",
              "Date                                      ...                            \n",
              "2015-01-02     27.3325  27.8475  27.8600  ...     0.116    0.749    0.135\n",
              "2015-01-05     26.5625  27.0725  27.1625  ...     0.061    0.831    0.107\n",
              "2015-01-06     26.5650  26.6350  26.8575  ...     0.034    0.862    0.105\n",
              "2015-01-07     26.9375  26.8000  27.0500  ...     0.059    0.812    0.129\n",
              "2015-01-08     27.9725  27.3075  28.0375  ...     0.059    0.827    0.114\n",
              "\n",
              "[5 rows x 10 columns]"
            ]
          },
          "metadata": {
            "tags": []
          },
          "execution_count": 1503
        }
      ]
    },
    {
      "cell_type": "markdown",
      "metadata": {
        "id": "w9eNs03CXhmv"
      },
      "source": [
        "# **Rearranging the combined data**"
      ]
    },
    {
      "cell_type": "code",
      "metadata": {
        "colab": {
          "base_uri": "https://localhost:8080/",
          "height": 234
        },
        "id": "CbvvrBymSF1a",
        "outputId": "685b0abb-cad9-4d68-8b95-10471eddc61c"
      },
      "source": [
        "stock_data.drop([\"Headlines\"],inplace = True,axis = 1)\n",
        "stock_data = stock_data[[\"Close/Last\",\"compound\",\"negative\",\"neutral\",\"positive\",\"Open\",\"High\",\"Low\",\"Volume\"]]\n",
        "stock_data.head()"
      ],
      "execution_count": null,
      "outputs": [
        {
          "output_type": "execute_result",
          "data": {
            "text/html": [
              "<div>\n",
              "<style scoped>\n",
              "    .dataframe tbody tr th:only-of-type {\n",
              "        vertical-align: middle;\n",
              "    }\n",
              "\n",
              "    .dataframe tbody tr th {\n",
              "        vertical-align: top;\n",
              "    }\n",
              "\n",
              "    .dataframe thead th {\n",
              "        text-align: right;\n",
              "    }\n",
              "</style>\n",
              "<table border=\"1\" class=\"dataframe\">\n",
              "  <thead>\n",
              "    <tr style=\"text-align: right;\">\n",
              "      <th></th>\n",
              "      <th>Close/Last</th>\n",
              "      <th>compound</th>\n",
              "      <th>negative</th>\n",
              "      <th>neutral</th>\n",
              "      <th>positive</th>\n",
              "      <th>Open</th>\n",
              "      <th>High</th>\n",
              "      <th>Low</th>\n",
              "      <th>Volume</th>\n",
              "    </tr>\n",
              "    <tr>\n",
              "      <th>Date</th>\n",
              "      <th></th>\n",
              "      <th></th>\n",
              "      <th></th>\n",
              "      <th></th>\n",
              "      <th></th>\n",
              "      <th></th>\n",
              "      <th></th>\n",
              "      <th></th>\n",
              "      <th></th>\n",
              "    </tr>\n",
              "  </thead>\n",
              "  <tbody>\n",
              "    <tr>\n",
              "      <th>2015-01-02</th>\n",
              "      <td>27.3325</td>\n",
              "      <td>0.1943</td>\n",
              "      <td>0.116</td>\n",
              "      <td>0.749</td>\n",
              "      <td>0.135</td>\n",
              "      <td>27.8475</td>\n",
              "      <td>27.8600</td>\n",
              "      <td>26.8375</td>\n",
              "      <td>212575080.0</td>\n",
              "    </tr>\n",
              "    <tr>\n",
              "      <th>2015-01-05</th>\n",
              "      <td>26.5625</td>\n",
              "      <td>0.9748</td>\n",
              "      <td>0.061</td>\n",
              "      <td>0.831</td>\n",
              "      <td>0.107</td>\n",
              "      <td>27.0725</td>\n",
              "      <td>27.1625</td>\n",
              "      <td>26.3525</td>\n",
              "      <td>256843520.0</td>\n",
              "    </tr>\n",
              "    <tr>\n",
              "      <th>2015-01-06</th>\n",
              "      <td>26.5650</td>\n",
              "      <td>0.9932</td>\n",
              "      <td>0.034</td>\n",
              "      <td>0.862</td>\n",
              "      <td>0.105</td>\n",
              "      <td>26.6350</td>\n",
              "      <td>26.8575</td>\n",
              "      <td>26.1575</td>\n",
              "      <td>262729000.0</td>\n",
              "    </tr>\n",
              "    <tr>\n",
              "      <th>2015-01-07</th>\n",
              "      <td>26.9375</td>\n",
              "      <td>0.9866</td>\n",
              "      <td>0.059</td>\n",
              "      <td>0.812</td>\n",
              "      <td>0.129</td>\n",
              "      <td>26.8000</td>\n",
              "      <td>27.0500</td>\n",
              "      <td>26.6737</td>\n",
              "      <td>159933400.0</td>\n",
              "    </tr>\n",
              "    <tr>\n",
              "      <th>2015-01-08</th>\n",
              "      <td>27.9725</td>\n",
              "      <td>0.4939</td>\n",
              "      <td>0.059</td>\n",
              "      <td>0.827</td>\n",
              "      <td>0.114</td>\n",
              "      <td>27.3075</td>\n",
              "      <td>28.0375</td>\n",
              "      <td>27.1750</td>\n",
              "      <td>236675040.0</td>\n",
              "    </tr>\n",
              "  </tbody>\n",
              "</table>\n",
              "</div>"
            ],
            "text/plain": [
              "            Close/Last  compound  negative  ...     High      Low       Volume\n",
              "Date                                        ...                               \n",
              "2015-01-02     27.3325    0.1943     0.116  ...  27.8600  26.8375  212575080.0\n",
              "2015-01-05     26.5625    0.9748     0.061  ...  27.1625  26.3525  256843520.0\n",
              "2015-01-06     26.5650    0.9932     0.034  ...  26.8575  26.1575  262729000.0\n",
              "2015-01-07     26.9375    0.9866     0.059  ...  27.0500  26.6737  159933400.0\n",
              "2015-01-08     27.9725    0.4939     0.059  ...  28.0375  27.1750  236675040.0\n",
              "\n",
              "[5 rows x 9 columns]"
            ]
          },
          "metadata": {
            "tags": []
          },
          "execution_count": 1504
        }
      ]
    },
    {
      "cell_type": "code",
      "metadata": {
        "id": "2elH_Xg7Y2o2"
      },
      "source": [
        "stock_data.to_csv(\"Stock_Data.csv\")"
      ],
      "execution_count": null,
      "outputs": []
    },
    {
      "cell_type": "markdown",
      "metadata": {
        "id": "sg6JRX66ftuv"
      },
      "source": [
        "# **Reading Stock_Data.csv file**"
      ]
    },
    {
      "cell_type": "code",
      "metadata": {
        "colab": {
          "base_uri": "https://localhost:8080/",
          "height": 234
        },
        "id": "WI1Co9lvauoS",
        "outputId": "a3cff9ac-62d9-4f9d-f363-1c6e3c7121be"
      },
      "source": [
        "stock_data = pd.read_csv(\"Stock_Data.csv\",index_col = False)\n",
        "stock_data.set_index(\"Date\",inplace = True)\n",
        "stock_data.head()"
      ],
      "execution_count": null,
      "outputs": [
        {
          "output_type": "execute_result",
          "data": {
            "text/html": [
              "<div>\n",
              "<style scoped>\n",
              "    .dataframe tbody tr th:only-of-type {\n",
              "        vertical-align: middle;\n",
              "    }\n",
              "\n",
              "    .dataframe tbody tr th {\n",
              "        vertical-align: top;\n",
              "    }\n",
              "\n",
              "    .dataframe thead th {\n",
              "        text-align: right;\n",
              "    }\n",
              "</style>\n",
              "<table border=\"1\" class=\"dataframe\">\n",
              "  <thead>\n",
              "    <tr style=\"text-align: right;\">\n",
              "      <th></th>\n",
              "      <th>Close/Last</th>\n",
              "      <th>compound</th>\n",
              "      <th>negative</th>\n",
              "      <th>neutral</th>\n",
              "      <th>positive</th>\n",
              "      <th>Open</th>\n",
              "      <th>High</th>\n",
              "      <th>Low</th>\n",
              "      <th>Volume</th>\n",
              "    </tr>\n",
              "    <tr>\n",
              "      <th>Date</th>\n",
              "      <th></th>\n",
              "      <th></th>\n",
              "      <th></th>\n",
              "      <th></th>\n",
              "      <th></th>\n",
              "      <th></th>\n",
              "      <th></th>\n",
              "      <th></th>\n",
              "      <th></th>\n",
              "    </tr>\n",
              "  </thead>\n",
              "  <tbody>\n",
              "    <tr>\n",
              "      <th>2015-01-02</th>\n",
              "      <td>27.3325</td>\n",
              "      <td>0.1943</td>\n",
              "      <td>0.116</td>\n",
              "      <td>0.749</td>\n",
              "      <td>0.135</td>\n",
              "      <td>27.8475</td>\n",
              "      <td>27.8600</td>\n",
              "      <td>26.8375</td>\n",
              "      <td>212575080.0</td>\n",
              "    </tr>\n",
              "    <tr>\n",
              "      <th>2015-01-05</th>\n",
              "      <td>26.5625</td>\n",
              "      <td>0.9748</td>\n",
              "      <td>0.061</td>\n",
              "      <td>0.831</td>\n",
              "      <td>0.107</td>\n",
              "      <td>27.0725</td>\n",
              "      <td>27.1625</td>\n",
              "      <td>26.3525</td>\n",
              "      <td>256843520.0</td>\n",
              "    </tr>\n",
              "    <tr>\n",
              "      <th>2015-01-06</th>\n",
              "      <td>26.5650</td>\n",
              "      <td>0.9932</td>\n",
              "      <td>0.034</td>\n",
              "      <td>0.862</td>\n",
              "      <td>0.105</td>\n",
              "      <td>26.6350</td>\n",
              "      <td>26.8575</td>\n",
              "      <td>26.1575</td>\n",
              "      <td>262729000.0</td>\n",
              "    </tr>\n",
              "    <tr>\n",
              "      <th>2015-01-07</th>\n",
              "      <td>26.9375</td>\n",
              "      <td>0.9866</td>\n",
              "      <td>0.059</td>\n",
              "      <td>0.812</td>\n",
              "      <td>0.129</td>\n",
              "      <td>26.8000</td>\n",
              "      <td>27.0500</td>\n",
              "      <td>26.6737</td>\n",
              "      <td>159933400.0</td>\n",
              "    </tr>\n",
              "    <tr>\n",
              "      <th>2015-01-08</th>\n",
              "      <td>27.9725</td>\n",
              "      <td>0.4939</td>\n",
              "      <td>0.059</td>\n",
              "      <td>0.827</td>\n",
              "      <td>0.114</td>\n",
              "      <td>27.3075</td>\n",
              "      <td>28.0375</td>\n",
              "      <td>27.1750</td>\n",
              "      <td>236675040.0</td>\n",
              "    </tr>\n",
              "  </tbody>\n",
              "</table>\n",
              "</div>"
            ],
            "text/plain": [
              "            Close/Last  compound  negative  ...     High      Low       Volume\n",
              "Date                                        ...                               \n",
              "2015-01-02     27.3325    0.1943     0.116  ...  27.8600  26.8375  212575080.0\n",
              "2015-01-05     26.5625    0.9748     0.061  ...  27.1625  26.3525  256843520.0\n",
              "2015-01-06     26.5650    0.9932     0.034  ...  26.8575  26.1575  262729000.0\n",
              "2015-01-07     26.9375    0.9866     0.059  ...  27.0500  26.6737  159933400.0\n",
              "2015-01-08     27.9725    0.4939     0.059  ...  28.0375  27.1750  236675040.0\n",
              "\n",
              "[5 rows x 9 columns]"
            ]
          },
          "metadata": {
            "tags": []
          },
          "execution_count": 1506
        }
      ]
    },
    {
      "cell_type": "code",
      "metadata": {
        "colab": {
          "base_uri": "https://localhost:8080/"
        },
        "id": "DA0BqIN8f8uS",
        "outputId": "c2374d24-1003-47c1-d7e4-5c776ea39df8"
      },
      "source": [
        "stock_data.shape"
      ],
      "execution_count": null,
      "outputs": [
        {
          "output_type": "execute_result",
          "data": {
            "text/plain": [
              "(1572, 9)"
            ]
          },
          "metadata": {
            "tags": []
          },
          "execution_count": 1507
        }
      ]
    },
    {
      "cell_type": "code",
      "metadata": {
        "colab": {
          "base_uri": "https://localhost:8080/"
        },
        "id": "e2stGwywgP66",
        "outputId": "5187a4a5-77de-46b1-e768-914a549a6ee0"
      },
      "source": [
        "stock_data.isna().any()"
      ],
      "execution_count": null,
      "outputs": [
        {
          "output_type": "execute_result",
          "data": {
            "text/plain": [
              "Close/Last    False\n",
              "compound      False\n",
              "negative      False\n",
              "neutral       False\n",
              "positive      False\n",
              "Open          False\n",
              "High          False\n",
              "Low           False\n",
              "Volume        False\n",
              "dtype: bool"
            ]
          },
          "metadata": {
            "tags": []
          },
          "execution_count": 1508
        }
      ]
    },
    {
      "cell_type": "code",
      "metadata": {
        "colab": {
          "base_uri": "https://localhost:8080/",
          "height": 295
        },
        "id": "PEx978RghAIu",
        "outputId": "c91c032b-3972-4fd1-eb22-a48fac81c006"
      },
      "source": [
        "stock_data.describe(include = 'all')"
      ],
      "execution_count": null,
      "outputs": [
        {
          "output_type": "execute_result",
          "data": {
            "text/html": [
              "<div>\n",
              "<style scoped>\n",
              "    .dataframe tbody tr th:only-of-type {\n",
              "        vertical-align: middle;\n",
              "    }\n",
              "\n",
              "    .dataframe tbody tr th {\n",
              "        vertical-align: top;\n",
              "    }\n",
              "\n",
              "    .dataframe thead th {\n",
              "        text-align: right;\n",
              "    }\n",
              "</style>\n",
              "<table border=\"1\" class=\"dataframe\">\n",
              "  <thead>\n",
              "    <tr style=\"text-align: right;\">\n",
              "      <th></th>\n",
              "      <th>Close/Last</th>\n",
              "      <th>compound</th>\n",
              "      <th>negative</th>\n",
              "      <th>neutral</th>\n",
              "      <th>positive</th>\n",
              "      <th>Open</th>\n",
              "      <th>High</th>\n",
              "      <th>Low</th>\n",
              "      <th>Volume</th>\n",
              "    </tr>\n",
              "  </thead>\n",
              "  <tbody>\n",
              "    <tr>\n",
              "      <th>count</th>\n",
              "      <td>1572.000000</td>\n",
              "      <td>1572.000000</td>\n",
              "      <td>1572.000000</td>\n",
              "      <td>1572.000000</td>\n",
              "      <td>1572.000000</td>\n",
              "      <td>1572.000000</td>\n",
              "      <td>1572.000000</td>\n",
              "      <td>1572.000000</td>\n",
              "      <td>1.572000e+03</td>\n",
              "    </tr>\n",
              "    <tr>\n",
              "      <th>mean</th>\n",
              "      <td>52.757512</td>\n",
              "      <td>0.687622</td>\n",
              "      <td>0.056559</td>\n",
              "      <td>0.840871</td>\n",
              "      <td>0.102578</td>\n",
              "      <td>52.736527</td>\n",
              "      <td>53.303948</td>\n",
              "      <td>52.170137</td>\n",
              "      <td>1.434821e+08</td>\n",
              "    </tr>\n",
              "    <tr>\n",
              "      <th>std</th>\n",
              "      <td>31.046798</td>\n",
              "      <td>0.613453</td>\n",
              "      <td>0.029974</td>\n",
              "      <td>0.038343</td>\n",
              "      <td>0.031456</td>\n",
              "      <td>31.067818</td>\n",
              "      <td>31.486742</td>\n",
              "      <td>30.589117</td>\n",
              "      <td>7.060129e+07</td>\n",
              "    </tr>\n",
              "    <tr>\n",
              "      <th>min</th>\n",
              "      <td>22.585000</td>\n",
              "      <td>-0.999500</td>\n",
              "      <td>0.000000</td>\n",
              "      <td>0.666000</td>\n",
              "      <td>0.000000</td>\n",
              "      <td>22.500000</td>\n",
              "      <td>22.917500</td>\n",
              "      <td>22.367500</td>\n",
              "      <td>4.544820e+07</td>\n",
              "    </tr>\n",
              "    <tr>\n",
              "      <th>25%</th>\n",
              "      <td>30.256250</td>\n",
              "      <td>0.840150</td>\n",
              "      <td>0.037000</td>\n",
              "      <td>0.819000</td>\n",
              "      <td>0.081000</td>\n",
              "      <td>30.238125</td>\n",
              "      <td>30.452500</td>\n",
              "      <td>30.033125</td>\n",
              "      <td>9.499015e+07</td>\n",
              "    </tr>\n",
              "    <tr>\n",
              "      <th>50%</th>\n",
              "      <td>42.525000</td>\n",
              "      <td>0.979650</td>\n",
              "      <td>0.051500</td>\n",
              "      <td>0.845000</td>\n",
              "      <td>0.101000</td>\n",
              "      <td>42.556250</td>\n",
              "      <td>42.931250</td>\n",
              "      <td>42.216250</td>\n",
              "      <td>1.257883e+08</td>\n",
              "    </tr>\n",
              "    <tr>\n",
              "      <th>75%</th>\n",
              "      <td>56.717500</td>\n",
              "      <td>0.994225</td>\n",
              "      <td>0.070000</td>\n",
              "      <td>0.866000</td>\n",
              "      <td>0.121000</td>\n",
              "      <td>56.582500</td>\n",
              "      <td>57.091250</td>\n",
              "      <td>56.058125</td>\n",
              "      <td>1.705695e+08</td>\n",
              "    </tr>\n",
              "    <tr>\n",
              "      <th>max</th>\n",
              "      <td>143.160000</td>\n",
              "      <td>0.999800</td>\n",
              "      <td>0.241000</td>\n",
              "      <td>0.954000</td>\n",
              "      <td>0.242000</td>\n",
              "      <td>143.600000</td>\n",
              "      <td>145.090000</td>\n",
              "      <td>141.370000</td>\n",
              "      <td>6.475300e+08</td>\n",
              "    </tr>\n",
              "  </tbody>\n",
              "</table>\n",
              "</div>"
            ],
            "text/plain": [
              "        Close/Last     compound  ...          Low        Volume\n",
              "count  1572.000000  1572.000000  ...  1572.000000  1.572000e+03\n",
              "mean     52.757512     0.687622  ...    52.170137  1.434821e+08\n",
              "std      31.046798     0.613453  ...    30.589117  7.060129e+07\n",
              "min      22.585000    -0.999500  ...    22.367500  4.544820e+07\n",
              "25%      30.256250     0.840150  ...    30.033125  9.499015e+07\n",
              "50%      42.525000     0.979650  ...    42.216250  1.257883e+08\n",
              "75%      56.717500     0.994225  ...    56.058125  1.705695e+08\n",
              "max     143.160000     0.999800  ...   141.370000  6.475300e+08\n",
              "\n",
              "[8 rows x 9 columns]"
            ]
          },
          "metadata": {
            "tags": []
          },
          "execution_count": 1509
        }
      ]
    },
    {
      "cell_type": "code",
      "metadata": {
        "colab": {
          "base_uri": "https://localhost:8080/"
        },
        "id": "jVLEoivThJjI",
        "outputId": "f0efa7e2-da0a-40d2-b127-20aea90cb130"
      },
      "source": [
        "stock_data.info()"
      ],
      "execution_count": null,
      "outputs": [
        {
          "output_type": "stream",
          "text": [
            "<class 'pandas.core.frame.DataFrame'>\n",
            "Index: 1572 entries, 2015-01-02 to 2021-06-23\n",
            "Data columns (total 9 columns):\n",
            " #   Column      Non-Null Count  Dtype  \n",
            "---  ------      --------------  -----  \n",
            " 0   Close/Last  1572 non-null   float64\n",
            " 1   compound    1572 non-null   float64\n",
            " 2   negative    1572 non-null   float64\n",
            " 3   neutral     1572 non-null   float64\n",
            " 4   positive    1572 non-null   float64\n",
            " 5   Open        1572 non-null   float64\n",
            " 6   High        1572 non-null   float64\n",
            " 7   Low         1572 non-null   float64\n",
            " 8   Volume      1572 non-null   float64\n",
            "dtypes: float64(9)\n",
            "memory usage: 122.8+ KB\n"
          ],
          "name": "stdout"
        }
      ]
    },
    {
      "cell_type": "markdown",
      "metadata": {
        "id": "K4cHJisehefX"
      },
      "source": [
        "# **Applying EDA to Stock Data**"
      ]
    },
    {
      "cell_type": "code",
      "metadata": {
        "colab": {
          "base_uri": "https://localhost:8080/",
          "height": 910
        },
        "id": "NDibs_fGhNUH",
        "outputId": "6d4dca62-af9a-4b38-8a56-16b181ce68cc"
      },
      "source": [
        "import matplotlib.pyplot as plt\n",
        "plt.figure(figsize = (17,15))\n",
        "stock_data[\"Close/Last\"].plot()\n",
        "plt.title(\"Closing Price\")\n",
        "plt.xlabel(\"Date\")\n",
        "plt.ylabel(\"Close Price (in $)\")"
      ],
      "execution_count": null,
      "outputs": [
        {
          "output_type": "execute_result",
          "data": {
            "text/plain": [
              "Text(0, 0.5, 'Close Price (in $)')"
            ]
          },
          "metadata": {
            "tags": []
          },
          "execution_count": 1511
        },
        {
          "output_type": "display_data",
          "data": {
            "image/png": "[encoded data removed]",
            "text/plain": [
              "<Figure size 1224x1080 with 1 Axes>"
            ]
          },
          "metadata": {
            "tags": [],
            "needs_background": "light"
          }
        }
      ]
    },
    {
      "cell_type": "code",
      "metadata": {
        "colab": {
          "base_uri": "https://localhost:8080/",
          "height": 850
        },
        "id": "iwNvlsNQh-7J",
        "outputId": "193deb8e-0b33-4d09-84c0-7b3f35866ed2"
      },
      "source": [
        "stock_data.rolling(10).mean().head(25)"
      ],
      "execution_count": null,
      "outputs": [
        {
          "output_type": "execute_result",
          "data": {
            "text/html": [
              "<div>\n",
              "<style scoped>\n",
              "    .dataframe tbody tr th:only-of-type {\n",
              "        vertical-align: middle;\n",
              "    }\n",
              "\n",
              "    .dataframe tbody tr th {\n",
              "        vertical-align: top;\n",
              "    }\n",
              "\n",
              "    .dataframe thead th {\n",
              "        text-align: right;\n",
              "    }\n",
              "</style>\n",
              "<table border=\"1\" class=\"dataframe\">\n",
              "  <thead>\n",
              "    <tr style=\"text-align: right;\">\n",
              "      <th></th>\n",
              "      <th>Close/Last</th>\n",
              "      <th>compound</th>\n",
              "      <th>negative</th>\n",
              "      <th>neutral</th>\n",
              "      <th>positive</th>\n",
              "      <th>Open</th>\n",
              "      <th>High</th>\n",
              "      <th>Low</th>\n",
              "      <th>Volume</th>\n",
              "    </tr>\n",
              "    <tr>\n",
              "      <th>Date</th>\n",
              "      <th></th>\n",
              "      <th></th>\n",
              "      <th></th>\n",
              "      <th></th>\n",
              "      <th></th>\n",
              "      <th></th>\n",
              "      <th></th>\n",
              "      <th></th>\n",
              "      <th></th>\n",
              "    </tr>\n",
              "  </thead>\n",
              "  <tbody>\n",
              "    <tr>\n",
              "      <th>2015-01-02</th>\n",
              "      <td>NaN</td>\n",
              "      <td>NaN</td>\n",
              "      <td>NaN</td>\n",
              "      <td>NaN</td>\n",
              "      <td>NaN</td>\n",
              "      <td>NaN</td>\n",
              "      <td>NaN</td>\n",
              "      <td>NaN</td>\n",
              "      <td>NaN</td>\n",
              "    </tr>\n",
              "    <tr>\n",
              "      <th>2015-01-05</th>\n",
              "      <td>NaN</td>\n",
              "      <td>NaN</td>\n",
              "      <td>NaN</td>\n",
              "      <td>NaN</td>\n",
              "      <td>NaN</td>\n",
              "      <td>NaN</td>\n",
              "      <td>NaN</td>\n",
              "      <td>NaN</td>\n",
              "      <td>NaN</td>\n",
              "    </tr>\n",
              "    <tr>\n",
              "      <th>2015-01-06</th>\n",
              "      <td>NaN</td>\n",
              "      <td>NaN</td>\n",
              "      <td>NaN</td>\n",
              "      <td>NaN</td>\n",
              "      <td>NaN</td>\n",
              "      <td>NaN</td>\n",
              "      <td>NaN</td>\n",
              "      <td>NaN</td>\n",
              "      <td>NaN</td>\n",
              "    </tr>\n",
              "    <tr>\n",
              "      <th>2015-01-07</th>\n",
              "      <td>NaN</td>\n",
              "      <td>NaN</td>\n",
              "      <td>NaN</td>\n",
              "      <td>NaN</td>\n",
              "      <td>NaN</td>\n",
              "      <td>NaN</td>\n",
              "      <td>NaN</td>\n",
              "      <td>NaN</td>\n",
              "      <td>NaN</td>\n",
              "    </tr>\n",
              "    <tr>\n",
              "      <th>2015-01-08</th>\n",
              "      <td>NaN</td>\n",
              "      <td>NaN</td>\n",
              "      <td>NaN</td>\n",
              "      <td>NaN</td>\n",
              "      <td>NaN</td>\n",
              "      <td>NaN</td>\n",
              "      <td>NaN</td>\n",
              "      <td>NaN</td>\n",
              "      <td>NaN</td>\n",
              "    </tr>\n",
              "    <tr>\n",
              "      <th>2015-01-09</th>\n",
              "      <td>NaN</td>\n",
              "      <td>NaN</td>\n",
              "      <td>NaN</td>\n",
              "      <td>NaN</td>\n",
              "      <td>NaN</td>\n",
              "      <td>NaN</td>\n",
              "      <td>NaN</td>\n",
              "      <td>NaN</td>\n",
              "      <td>NaN</td>\n",
              "    </tr>\n",
              "    <tr>\n",
              "      <th>2015-01-12</th>\n",
              "      <td>NaN</td>\n",
              "      <td>NaN</td>\n",
              "      <td>NaN</td>\n",
              "      <td>NaN</td>\n",
              "      <td>NaN</td>\n",
              "      <td>NaN</td>\n",
              "      <td>NaN</td>\n",
              "      <td>NaN</td>\n",
              "      <td>NaN</td>\n",
              "    </tr>\n",
              "    <tr>\n",
              "      <th>2015-01-13</th>\n",
              "      <td>NaN</td>\n",
              "      <td>NaN</td>\n",
              "      <td>NaN</td>\n",
              "      <td>NaN</td>\n",
              "      <td>NaN</td>\n",
              "      <td>NaN</td>\n",
              "      <td>NaN</td>\n",
              "      <td>NaN</td>\n",
              "      <td>NaN</td>\n",
              "    </tr>\n",
              "    <tr>\n",
              "      <th>2015-01-14</th>\n",
              "      <td>NaN</td>\n",
              "      <td>NaN</td>\n",
              "      <td>NaN</td>\n",
              "      <td>NaN</td>\n",
              "      <td>NaN</td>\n",
              "      <td>NaN</td>\n",
              "      <td>NaN</td>\n",
              "      <td>NaN</td>\n",
              "      <td>NaN</td>\n",
              "    </tr>\n",
              "    <tr>\n",
              "      <th>2015-01-15</th>\n",
              "      <td>27.23950</td>\n",
              "      <td>0.83377</td>\n",
              "      <td>0.0692</td>\n",
              "      <td>0.8142</td>\n",
              "      <td>0.1166</td>\n",
              "      <td>27.45975</td>\n",
              "      <td>27.67750</td>\n",
              "      <td>26.89662</td>\n",
              "      <td>224365020.0</td>\n",
              "    </tr>\n",
              "    <tr>\n",
              "      <th>2015-01-16</th>\n",
              "      <td>27.15600</td>\n",
              "      <td>0.91329</td>\n",
              "      <td>0.0623</td>\n",
              "      <td>0.8235</td>\n",
              "      <td>0.1142</td>\n",
              "      <td>27.35075</td>\n",
              "      <td>27.58100</td>\n",
              "      <td>26.84287</td>\n",
              "      <td>234488844.0</td>\n",
              "    </tr>\n",
              "    <tr>\n",
              "      <th>2015-01-20</th>\n",
              "      <td>27.21775</td>\n",
              "      <td>0.90560</td>\n",
              "      <td>0.0629</td>\n",
              "      <td>0.8255</td>\n",
              "      <td>0.1117</td>\n",
              "      <td>27.33950</td>\n",
              "      <td>27.58892</td>\n",
              "      <td>26.87012</td>\n",
              "      <td>228701420.0</td>\n",
              "    </tr>\n",
              "    <tr>\n",
              "      <th>2015-01-21</th>\n",
              "      <td>27.30000</td>\n",
              "      <td>0.90533</td>\n",
              "      <td>0.0626</td>\n",
              "      <td>0.8264</td>\n",
              "      <td>0.1110</td>\n",
              "      <td>27.39975</td>\n",
              "      <td>27.67967</td>\n",
              "      <td>26.96112</td>\n",
              "      <td>221821664.0</td>\n",
              "    </tr>\n",
              "    <tr>\n",
              "      <th>2015-01-22</th>\n",
              "      <td>27.41625</td>\n",
              "      <td>0.89963</td>\n",
              "      <td>0.0629</td>\n",
              "      <td>0.8301</td>\n",
              "      <td>0.1070</td>\n",
              "      <td>27.47625</td>\n",
              "      <td>27.78642</td>\n",
              "      <td>27.03675</td>\n",
              "      <td>227315300.0</td>\n",
              "    </tr>\n",
              "    <tr>\n",
              "      <th>2015-01-23</th>\n",
              "      <td>27.44350</td>\n",
              "      <td>0.94981</td>\n",
              "      <td>0.0620</td>\n",
              "      <td>0.8311</td>\n",
              "      <td>0.1070</td>\n",
              "      <td>27.55300</td>\n",
              "      <td>27.82642</td>\n",
              "      <td>27.10750</td>\n",
              "      <td>222215804.0</td>\n",
              "    </tr>\n",
              "    <tr>\n",
              "      <th>2015-01-26</th>\n",
              "      <td>27.47075</td>\n",
              "      <td>0.95862</td>\n",
              "      <td>0.0569</td>\n",
              "      <td>0.8342</td>\n",
              "      <td>0.1090</td>\n",
              "      <td>27.57975</td>\n",
              "      <td>27.85424</td>\n",
              "      <td>27.17225</td>\n",
              "      <td>222940480.0</td>\n",
              "    </tr>\n",
              "    <tr>\n",
              "      <th>2015-01-27</th>\n",
              "      <td>27.46800</td>\n",
              "      <td>0.96164</td>\n",
              "      <td>0.0517</td>\n",
              "      <td>0.8429</td>\n",
              "      <td>0.1055</td>\n",
              "      <td>27.57525</td>\n",
              "      <td>27.85049</td>\n",
              "      <td>27.17800</td>\n",
              "      <td>240042668.0</td>\n",
              "    </tr>\n",
              "    <tr>\n",
              "      <th>2015-01-28</th>\n",
              "      <td>27.59525</td>\n",
              "      <td>0.96164</td>\n",
              "      <td>0.0521</td>\n",
              "      <td>0.8439</td>\n",
              "      <td>0.1041</td>\n",
              "      <td>27.73013</td>\n",
              "      <td>27.98349</td>\n",
              "      <td>27.33800</td>\n",
              "      <td>271728396.0</td>\n",
              "    </tr>\n",
              "    <tr>\n",
              "      <th>2015-01-29</th>\n",
              "      <td>27.82275</td>\n",
              "      <td>0.96381</td>\n",
              "      <td>0.0496</td>\n",
              "      <td>0.8455</td>\n",
              "      <td>0.1051</td>\n",
              "      <td>27.91213</td>\n",
              "      <td>28.20099</td>\n",
              "      <td>27.51450</td>\n",
              "      <td>285889972.0</td>\n",
              "    </tr>\n",
              "    <tr>\n",
              "      <th>2015-01-30</th>\n",
              "      <td>28.08125</td>\n",
              "      <td>0.97822</td>\n",
              "      <td>0.0468</td>\n",
              "      <td>0.8427</td>\n",
              "      <td>0.1107</td>\n",
              "      <td>28.12213</td>\n",
              "      <td>28.44949</td>\n",
              "      <td>27.76925</td>\n",
              "      <td>295425304.0</td>\n",
              "    </tr>\n",
              "    <tr>\n",
              "      <th>2015-02-02</th>\n",
              "      <td>28.39725</td>\n",
              "      <td>0.97717</td>\n",
              "      <td>0.0460</td>\n",
              "      <td>0.8465</td>\n",
              "      <td>0.1077</td>\n",
              "      <td>28.39763</td>\n",
              "      <td>28.73924</td>\n",
              "      <td>28.04125</td>\n",
              "      <td>289060948.0</td>\n",
              "    </tr>\n",
              "    <tr>\n",
              "      <th>2015-02-03</th>\n",
              "      <td>28.64550</td>\n",
              "      <td>0.98710</td>\n",
              "      <td>0.0413</td>\n",
              "      <td>0.8497</td>\n",
              "      <td>0.1092</td>\n",
              "      <td>28.66413</td>\n",
              "      <td>28.99232</td>\n",
              "      <td>28.31900</td>\n",
              "      <td>289900852.0</td>\n",
              "    </tr>\n",
              "    <tr>\n",
              "      <th>2015-02-04</th>\n",
              "      <td>28.89575</td>\n",
              "      <td>0.98759</td>\n",
              "      <td>0.0422</td>\n",
              "      <td>0.8481</td>\n",
              "      <td>0.1099</td>\n",
              "      <td>28.90288</td>\n",
              "      <td>29.22857</td>\n",
              "      <td>28.56997</td>\n",
              "      <td>298497780.0</td>\n",
              "    </tr>\n",
              "    <tr>\n",
              "      <th>2015-02-05</th>\n",
              "      <td>29.08425</td>\n",
              "      <td>0.86063</td>\n",
              "      <td>0.0487</td>\n",
              "      <td>0.8437</td>\n",
              "      <td>0.1078</td>\n",
              "      <td>29.14688</td>\n",
              "      <td>29.42257</td>\n",
              "      <td>28.80822</td>\n",
              "      <td>293889648.0</td>\n",
              "    </tr>\n",
              "    <tr>\n",
              "      <th>2015-02-06</th>\n",
              "      <td>29.23300</td>\n",
              "      <td>0.85964</td>\n",
              "      <td>0.0466</td>\n",
              "      <td>0.8485</td>\n",
              "      <td>0.1050</td>\n",
              "      <td>29.33988</td>\n",
              "      <td>29.58507</td>\n",
              "      <td>28.98122</td>\n",
              "      <td>292775104.0</td>\n",
              "    </tr>\n",
              "  </tbody>\n",
              "</table>\n",
              "</div>"
            ],
            "text/plain": [
              "            Close/Last  compound  negative  ...      High       Low       Volume\n",
              "Date                                        ...                                 \n",
              "2015-01-02         NaN       NaN       NaN  ...       NaN       NaN          NaN\n",
              "2015-01-05         NaN       NaN       NaN  ...       NaN       NaN          NaN\n",
              "2015-01-06         NaN       NaN       NaN  ...       NaN       NaN          NaN\n",
              "2015-01-07         NaN       NaN       NaN  ...       NaN       NaN          NaN\n",
              "2015-01-08         NaN       NaN       NaN  ...       NaN       NaN          NaN\n",
              "2015-01-09         NaN       NaN       NaN  ...       NaN       NaN          NaN\n",
              "2015-01-12         NaN       NaN       NaN  ...       NaN       NaN          NaN\n",
              "2015-01-13         NaN       NaN       NaN  ...       NaN       NaN          NaN\n",
              "2015-01-14         NaN       NaN       NaN  ...       NaN       NaN          NaN\n",
              "2015-01-15    27.23950   0.83377    0.0692  ...  27.67750  26.89662  224365020.0\n",
              "2015-01-16    27.15600   0.91329    0.0623  ...  27.58100  26.84287  234488844.0\n",
              "2015-01-20    27.21775   0.90560    0.0629  ...  27.58892  26.87012  228701420.0\n",
              "2015-01-21    27.30000   0.90533    0.0626  ...  27.67967  26.96112  221821664.0\n",
              "2015-01-22    27.41625   0.89963    0.0629  ...  27.78642  27.03675  227315300.0\n",
              "2015-01-23    27.44350   0.94981    0.0620  ...  27.82642  27.10750  222215804.0\n",
              "2015-01-26    27.47075   0.95862    0.0569  ...  27.85424  27.17225  222940480.0\n",
              "2015-01-27    27.46800   0.96164    0.0517  ...  27.85049  27.17800  240042668.0\n",
              "2015-01-28    27.59525   0.96164    0.0521  ...  27.98349  27.33800  271728396.0\n",
              "2015-01-29    27.82275   0.96381    0.0496  ...  28.20099  27.51450  285889972.0\n",
              "2015-01-30    28.08125   0.97822    0.0468  ...  28.44949  27.76925  295425304.0\n",
              "2015-02-02    28.39725   0.97717    0.0460  ...  28.73924  28.04125  289060948.0\n",
              "2015-02-03    28.64550   0.98710    0.0413  ...  28.99232  28.31900  289900852.0\n",
              "2015-02-04    28.89575   0.98759    0.0422  ...  29.22857  28.56997  298497780.0\n",
              "2015-02-05    29.08425   0.86063    0.0487  ...  29.42257  28.80822  293889648.0\n",
              "2015-02-06    29.23300   0.85964    0.0466  ...  29.58507  28.98122  292775104.0\n",
              "\n",
              "[25 rows x 9 columns]"
            ]
          },
          "metadata": {
            "tags": []
          },
          "execution_count": 1512
        }
      ]
    },
    {
      "cell_type": "code",
      "metadata": {
        "colab": {
          "base_uri": "https://localhost:8080/",
          "height": 894
        },
        "id": "bzDJDmwNiVO6",
        "outputId": "db357f65-c5e6-4109-899e-57c4322a9e85"
      },
      "source": [
        "plt.figure(figsize = (17,15))\n",
        "stock_data[\"Close/Last\"].plot()\n",
        "stock_data.rolling(window = 30).mean()[\"Close/Last\"].plot()"
      ],
      "execution_count": null,
      "outputs": [
        {
          "output_type": "execute_result",
          "data": {
            "text/plain": [
              "<matplotlib.axes._subplots.AxesSubplot at 0x7fe8efa9d2d0>"
            ]
          },
          "metadata": {
            "tags": []
          },
          "execution_count": 1513
        },
        {
          "output_type": "display_data",
          "data": {
            "image/png": "[encoded data removed]",
            "text/plain": [
              "<Figure size 1224x1080 with 1 Axes>"
            ]
          },
          "metadata": {
            "tags": [],
            "needs_background": "light"
          }
        }
      ]
    },
    {
      "cell_type": "code",
      "metadata": {
        "colab": {
          "base_uri": "https://localhost:8080/",
          "height": 447
        },
        "id": "5osRRncbiaGO",
        "outputId": "9ab13f88-d028-40af-edb5-a1d0531bd644"
      },
      "source": [
        "stock_data"
      ],
      "execution_count": null,
      "outputs": [
        {
          "output_type": "execute_result",
          "data": {
            "text/html": [
              "<div>\n",
              "<style scoped>\n",
              "    .dataframe tbody tr th:only-of-type {\n",
              "        vertical-align: middle;\n",
              "    }\n",
              "\n",
              "    .dataframe tbody tr th {\n",
              "        vertical-align: top;\n",
              "    }\n",
              "\n",
              "    .dataframe thead th {\n",
              "        text-align: right;\n",
              "    }\n",
              "</style>\n",
              "<table border=\"1\" class=\"dataframe\">\n",
              "  <thead>\n",
              "    <tr style=\"text-align: right;\">\n",
              "      <th></th>\n",
              "      <th>Close/Last</th>\n",
              "      <th>compound</th>\n",
              "      <th>negative</th>\n",
              "      <th>neutral</th>\n",
              "      <th>positive</th>\n",
              "      <th>Open</th>\n",
              "      <th>High</th>\n",
              "      <th>Low</th>\n",
              "      <th>Volume</th>\n",
              "    </tr>\n",
              "    <tr>\n",
              "      <th>Date</th>\n",
              "      <th></th>\n",
              "      <th></th>\n",
              "      <th></th>\n",
              "      <th></th>\n",
              "      <th></th>\n",
              "      <th></th>\n",
              "      <th></th>\n",
              "      <th></th>\n",
              "      <th></th>\n",
              "    </tr>\n",
              "  </thead>\n",
              "  <tbody>\n",
              "    <tr>\n",
              "      <th>2015-01-02</th>\n",
              "      <td>27.3325</td>\n",
              "      <td>0.1943</td>\n",
              "      <td>0.116</td>\n",
              "      <td>0.749</td>\n",
              "      <td>0.135</td>\n",
              "      <td>27.8475</td>\n",
              "      <td>27.8600</td>\n",
              "      <td>26.8375</td>\n",
              "      <td>212575080.0</td>\n",
              "    </tr>\n",
              "    <tr>\n",
              "      <th>2015-01-05</th>\n",
              "      <td>26.5625</td>\n",
              "      <td>0.9748</td>\n",
              "      <td>0.061</td>\n",
              "      <td>0.831</td>\n",
              "      <td>0.107</td>\n",
              "      <td>27.0725</td>\n",
              "      <td>27.1625</td>\n",
              "      <td>26.3525</td>\n",
              "      <td>256843520.0</td>\n",
              "    </tr>\n",
              "    <tr>\n",
              "      <th>2015-01-06</th>\n",
              "      <td>26.5650</td>\n",
              "      <td>0.9932</td>\n",
              "      <td>0.034</td>\n",
              "      <td>0.862</td>\n",
              "      <td>0.105</td>\n",
              "      <td>26.6350</td>\n",
              "      <td>26.8575</td>\n",
              "      <td>26.1575</td>\n",
              "      <td>262729000.0</td>\n",
              "    </tr>\n",
              "    <tr>\n",
              "      <th>2015-01-07</th>\n",
              "      <td>26.9375</td>\n",
              "      <td>0.9866</td>\n",
              "      <td>0.059</td>\n",
              "      <td>0.812</td>\n",
              "      <td>0.129</td>\n",
              "      <td>26.8000</td>\n",
              "      <td>27.0500</td>\n",
              "      <td>26.6737</td>\n",
              "      <td>159933400.0</td>\n",
              "    </tr>\n",
              "    <tr>\n",
              "      <th>2015-01-08</th>\n",
              "      <td>27.9725</td>\n",
              "      <td>0.4939</td>\n",
              "      <td>0.059</td>\n",
              "      <td>0.827</td>\n",
              "      <td>0.114</td>\n",
              "      <td>27.3075</td>\n",
              "      <td>28.0375</td>\n",
              "      <td>27.1750</td>\n",
              "      <td>236675040.0</td>\n",
              "    </tr>\n",
              "    <tr>\n",
              "      <th>...</th>\n",
              "      <td>...</td>\n",
              "      <td>...</td>\n",
              "      <td>...</td>\n",
              "      <td>...</td>\n",
              "      <td>...</td>\n",
              "      <td>...</td>\n",
              "      <td>...</td>\n",
              "      <td>...</td>\n",
              "      <td>...</td>\n",
              "    </tr>\n",
              "    <tr>\n",
              "      <th>2021-06-17</th>\n",
              "      <td>131.7900</td>\n",
              "      <td>0.9899</td>\n",
              "      <td>0.067</td>\n",
              "      <td>0.816</td>\n",
              "      <td>0.117</td>\n",
              "      <td>129.8000</td>\n",
              "      <td>132.5500</td>\n",
              "      <td>129.6500</td>\n",
              "      <td>96721670.0</td>\n",
              "    </tr>\n",
              "    <tr>\n",
              "      <th>2021-06-18</th>\n",
              "      <td>130.4600</td>\n",
              "      <td>0.9825</td>\n",
              "      <td>0.038</td>\n",
              "      <td>0.869</td>\n",
              "      <td>0.093</td>\n",
              "      <td>130.7100</td>\n",
              "      <td>131.5100</td>\n",
              "      <td>130.2400</td>\n",
              "      <td>108953300.0</td>\n",
              "    </tr>\n",
              "    <tr>\n",
              "      <th>2021-06-21</th>\n",
              "      <td>132.3000</td>\n",
              "      <td>0.9972</td>\n",
              "      <td>0.029</td>\n",
              "      <td>0.856</td>\n",
              "      <td>0.115</td>\n",
              "      <td>130.3000</td>\n",
              "      <td>132.4100</td>\n",
              "      <td>129.2100</td>\n",
              "      <td>79663320.0</td>\n",
              "    </tr>\n",
              "    <tr>\n",
              "      <th>2021-06-22</th>\n",
              "      <td>133.9800</td>\n",
              "      <td>0.9994</td>\n",
              "      <td>0.032</td>\n",
              "      <td>0.793</td>\n",
              "      <td>0.175</td>\n",
              "      <td>132.1300</td>\n",
              "      <td>134.0800</td>\n",
              "      <td>131.6200</td>\n",
              "      <td>74783620.0</td>\n",
              "    </tr>\n",
              "    <tr>\n",
              "      <th>2021-06-23</th>\n",
              "      <td>133.7000</td>\n",
              "      <td>0.9945</td>\n",
              "      <td>0.038</td>\n",
              "      <td>0.864</td>\n",
              "      <td>0.099</td>\n",
              "      <td>133.7700</td>\n",
              "      <td>134.3200</td>\n",
              "      <td>133.2300</td>\n",
              "      <td>60214200.0</td>\n",
              "    </tr>\n",
              "  </tbody>\n",
              "</table>\n",
              "<p>1572 rows × 9 columns</p>\n",
              "</div>"
            ],
            "text/plain": [
              "            Close/Last  compound  negative  ...      High       Low       Volume\n",
              "Date                                        ...                                 \n",
              "2015-01-02     27.3325    0.1943     0.116  ...   27.8600   26.8375  212575080.0\n",
              "2015-01-05     26.5625    0.9748     0.061  ...   27.1625   26.3525  256843520.0\n",
              "2015-01-06     26.5650    0.9932     0.034  ...   26.8575   26.1575  262729000.0\n",
              "2015-01-07     26.9375    0.9866     0.059  ...   27.0500   26.6737  159933400.0\n",
              "2015-01-08     27.9725    0.4939     0.059  ...   28.0375   27.1750  236675040.0\n",
              "...                ...       ...       ...  ...       ...       ...          ...\n",
              "2021-06-17    131.7900    0.9899     0.067  ...  132.5500  129.6500   96721670.0\n",
              "2021-06-18    130.4600    0.9825     0.038  ...  131.5100  130.2400  108953300.0\n",
              "2021-06-21    132.3000    0.9972     0.029  ...  132.4100  129.2100   79663320.0\n",
              "2021-06-22    133.9800    0.9994     0.032  ...  134.0800  131.6200   74783620.0\n",
              "2021-06-23    133.7000    0.9945     0.038  ...  134.3200  133.2300   60214200.0\n",
              "\n",
              "[1572 rows x 9 columns]"
            ]
          },
          "metadata": {
            "tags": []
          },
          "execution_count": 1514
        }
      ]
    },
    {
      "cell_type": "markdown",
      "metadata": {
        "id": "vKzn4YOHpTrv"
      },
      "source": [
        "# **Data Modelling**"
      ]
    },
    {
      "cell_type": "code",
      "metadata": {
        "colab": {
          "base_uri": "https://localhost:8080/"
        },
        "id": "EOPB8WT4jMa2",
        "outputId": "14000c4a-29df-4138-e8ca-ceabf7e3bee8"
      },
      "source": [
        "data = int(1.0*(len(stock_data)-1))\n",
        "split = int(data*0.8)\n",
        "total_data = len(stock_data)\n",
        "start = total_data - data\n",
        "print(\"Number of records in training data : \",split)\n",
        "print(\"Number of records in testing data : \",total_data - split)"
      ],
      "execution_count": null,
      "outputs": [
        {
          "output_type": "stream",
          "text": [
            "Number of records in training data :  1256\n",
            "Number of records in testing data :  316\n"
          ],
          "name": "stdout"
        }
      ]
    },
    {
      "cell_type": "code",
      "metadata": {
        "colab": {
          "base_uri": "https://localhost:8080/"
        },
        "id": "BVuZSO9EqGpa",
        "outputId": "3c88a6d0-b205-4cfe-9df1-5c5730c5fe1b"
      },
      "source": [
        "close_price = stock_data.iloc[start:total_data,0]\n",
        "compound = stock_data.iloc[start:total_data,1]\n",
        "negative = stock_data.iloc[start:total_data,2]\n",
        "neutral = stock_data.iloc[start:total_data,3]\n",
        "positive = stock_data.iloc[start:total_data,4]\n",
        "open_price = stock_data.iloc[start:total_data,5]\n",
        "high = stock_data.iloc[start:total_data,6]\n",
        "low = stock_data.iloc[start:total_data,7]\n",
        "volume = stock_data.iloc[start:total_data,8]\n",
        "\n",
        "close_price"
      ],
      "execution_count": null,
      "outputs": [
        {
          "output_type": "execute_result",
          "data": {
            "text/plain": [
              "Date\n",
              "2015-01-05     26.5625\n",
              "2015-01-06     26.5650\n",
              "2015-01-07     26.9375\n",
              "2015-01-08     27.9725\n",
              "2015-01-09     28.0025\n",
              "                ...   \n",
              "2021-06-17    131.7900\n",
              "2021-06-18    130.4600\n",
              "2021-06-21    132.3000\n",
              "2021-06-22    133.9800\n",
              "2021-06-23    133.7000\n",
              "Name: Close/Last, Length: 1571, dtype: float64"
            ]
          },
          "metadata": {
            "tags": []
          },
          "execution_count": 1516
        }
      ]
    },
    {
      "cell_type": "code",
      "metadata": {
        "colab": {
          "base_uri": "https://localhost:8080/",
          "height": 542
        },
        "id": "_U4df88drLTZ",
        "outputId": "b0d9dd8a-73b4-4e8f-a3b3-19c16f33d12a"
      },
      "source": [
        "shifted_close_price = close_price.shift(-1)\n",
        "compound_shift = compound.shift(-1)\n",
        "new_data = pd.concat([close_price,shifted_close_price,compound,compound_shift,volume,open_price,high,low],axis = 1)\n",
        "new_data.columns = ['close_price','shifted_close_price','compound','compound_shift','volume','open_price','high','low']\n",
        "new_data = new_data.dropna()\n",
        "new_data.head(15)"
      ],
      "execution_count": null,
      "outputs": [
        {
          "output_type": "execute_result",
          "data": {
            "text/html": [
              "<div>\n",
              "<style scoped>\n",
              "    .dataframe tbody tr th:only-of-type {\n",
              "        vertical-align: middle;\n",
              "    }\n",
              "\n",
              "    .dataframe tbody tr th {\n",
              "        vertical-align: top;\n",
              "    }\n",
              "\n",
              "    .dataframe thead th {\n",
              "        text-align: right;\n",
              "    }\n",
              "</style>\n",
              "<table border=\"1\" class=\"dataframe\">\n",
              "  <thead>\n",
              "    <tr style=\"text-align: right;\">\n",
              "      <th></th>\n",
              "      <th>close_price</th>\n",
              "      <th>shifted_close_price</th>\n",
              "      <th>compound</th>\n",
              "      <th>compound_shift</th>\n",
              "      <th>volume</th>\n",
              "      <th>open_price</th>\n",
              "      <th>high</th>\n",
              "      <th>low</th>\n",
              "    </tr>\n",
              "    <tr>\n",
              "      <th>Date</th>\n",
              "      <th></th>\n",
              "      <th></th>\n",
              "      <th></th>\n",
              "      <th></th>\n",
              "      <th></th>\n",
              "      <th></th>\n",
              "      <th></th>\n",
              "      <th></th>\n",
              "    </tr>\n",
              "  </thead>\n",
              "  <tbody>\n",
              "    <tr>\n",
              "      <th>2015-01-05</th>\n",
              "      <td>26.5625</td>\n",
              "      <td>26.5650</td>\n",
              "      <td>0.9748</td>\n",
              "      <td>0.9932</td>\n",
              "      <td>256843520.0</td>\n",
              "      <td>27.0725</td>\n",
              "      <td>27.1625</td>\n",
              "      <td>26.3525</td>\n",
              "    </tr>\n",
              "    <tr>\n",
              "      <th>2015-01-06</th>\n",
              "      <td>26.5650</td>\n",
              "      <td>26.9375</td>\n",
              "      <td>0.9932</td>\n",
              "      <td>0.9866</td>\n",
              "      <td>262729000.0</td>\n",
              "      <td>26.6350</td>\n",
              "      <td>26.8575</td>\n",
              "      <td>26.1575</td>\n",
              "    </tr>\n",
              "    <tr>\n",
              "      <th>2015-01-07</th>\n",
              "      <td>26.9375</td>\n",
              "      <td>27.9725</td>\n",
              "      <td>0.9866</td>\n",
              "      <td>0.4939</td>\n",
              "      <td>159933400.0</td>\n",
              "      <td>26.8000</td>\n",
              "      <td>27.0500</td>\n",
              "      <td>26.6737</td>\n",
              "    </tr>\n",
              "    <tr>\n",
              "      <th>2015-01-08</th>\n",
              "      <td>27.9725</td>\n",
              "      <td>28.0025</td>\n",
              "      <td>0.4939</td>\n",
              "      <td>0.9107</td>\n",
              "      <td>236675040.0</td>\n",
              "      <td>27.3075</td>\n",
              "      <td>28.0375</td>\n",
              "      <td>27.1750</td>\n",
              "    </tr>\n",
              "    <tr>\n",
              "      <th>2015-01-09</th>\n",
              "      <td>28.0025</td>\n",
              "      <td>27.3125</td>\n",
              "      <td>0.9107</td>\n",
              "      <td>0.9609</td>\n",
              "      <td>214582920.0</td>\n",
              "      <td>28.1675</td>\n",
              "      <td>28.3125</td>\n",
              "      <td>27.5525</td>\n",
              "    </tr>\n",
              "    <tr>\n",
              "      <th>2015-01-12</th>\n",
              "      <td>27.3125</td>\n",
              "      <td>27.5550</td>\n",
              "      <td>0.9609</td>\n",
              "      <td>0.9984</td>\n",
              "      <td>198284680.0</td>\n",
              "      <td>28.1500</td>\n",
              "      <td>28.1575</td>\n",
              "      <td>27.2000</td>\n",
              "    </tr>\n",
              "    <tr>\n",
              "      <th>2015-01-13</th>\n",
              "      <td>27.5550</td>\n",
              "      <td>27.4500</td>\n",
              "      <td>0.9984</td>\n",
              "      <td>0.9728</td>\n",
              "      <td>267879920.0</td>\n",
              "      <td>27.8575</td>\n",
              "      <td>28.2000</td>\n",
              "      <td>27.2275</td>\n",
              "    </tr>\n",
              "    <tr>\n",
              "      <th>2015-01-14</th>\n",
              "      <td>27.4500</td>\n",
              "      <td>26.7050</td>\n",
              "      <td>0.9728</td>\n",
              "      <td>0.8521</td>\n",
              "      <td>194912760.0</td>\n",
              "      <td>27.2600</td>\n",
              "      <td>27.6225</td>\n",
              "      <td>27.1250</td>\n",
              "    </tr>\n",
              "    <tr>\n",
              "      <th>2015-01-15</th>\n",
              "      <td>26.7050</td>\n",
              "      <td>26.4975</td>\n",
              "      <td>0.8521</td>\n",
              "      <td>0.9895</td>\n",
              "      <td>239233880.0</td>\n",
              "      <td>27.5000</td>\n",
              "      <td>27.5150</td>\n",
              "      <td>26.6650</td>\n",
              "    </tr>\n",
              "    <tr>\n",
              "      <th>2015-01-16</th>\n",
              "      <td>26.4975</td>\n",
              "      <td>27.1800</td>\n",
              "      <td>0.9895</td>\n",
              "      <td>0.8979</td>\n",
              "      <td>313813320.0</td>\n",
              "      <td>26.7575</td>\n",
              "      <td>26.8950</td>\n",
              "      <td>26.3000</td>\n",
              "    </tr>\n",
              "    <tr>\n",
              "      <th>2015-01-20</th>\n",
              "      <td>27.1800</td>\n",
              "      <td>27.3875</td>\n",
              "      <td>0.8979</td>\n",
              "      <td>0.9905</td>\n",
              "      <td>198969280.0</td>\n",
              "      <td>26.9600</td>\n",
              "      <td>27.2417</td>\n",
              "      <td>26.6250</td>\n",
              "    </tr>\n",
              "    <tr>\n",
              "      <th>2015-01-21</th>\n",
              "      <td>27.3875</td>\n",
              "      <td>28.1000</td>\n",
              "      <td>0.9905</td>\n",
              "      <td>0.9296</td>\n",
              "      <td>193931440.0</td>\n",
              "      <td>27.2375</td>\n",
              "      <td>27.7650</td>\n",
              "      <td>27.0675</td>\n",
              "    </tr>\n",
              "    <tr>\n",
              "      <th>2015-01-22</th>\n",
              "      <td>28.1000</td>\n",
              "      <td>28.2450</td>\n",
              "      <td>0.9296</td>\n",
              "      <td>0.9957</td>\n",
              "      <td>214869760.0</td>\n",
              "      <td>27.5650</td>\n",
              "      <td>28.1175</td>\n",
              "      <td>27.4300</td>\n",
              "    </tr>\n",
              "    <tr>\n",
              "      <th>2015-01-23</th>\n",
              "      <td>28.2450</td>\n",
              "      <td>28.2750</td>\n",
              "      <td>0.9957</td>\n",
              "      <td>0.9988</td>\n",
              "      <td>185680080.0</td>\n",
              "      <td>28.0750</td>\n",
              "      <td>28.4375</td>\n",
              "      <td>27.8825</td>\n",
              "    </tr>\n",
              "    <tr>\n",
              "      <th>2015-01-26</th>\n",
              "      <td>28.2750</td>\n",
              "      <td>27.2850</td>\n",
              "      <td>0.9988</td>\n",
              "      <td>0.9911</td>\n",
              "      <td>221829680.0</td>\n",
              "      <td>28.4350</td>\n",
              "      <td>28.5907</td>\n",
              "      <td>28.2000</td>\n",
              "    </tr>\n",
              "  </tbody>\n",
              "</table>\n",
              "</div>"
            ],
            "text/plain": [
              "            close_price  shifted_close_price  ...     high      low\n",
              "Date                                          ...                  \n",
              "2015-01-05      26.5625              26.5650  ...  27.1625  26.3525\n",
              "2015-01-06      26.5650              26.9375  ...  26.8575  26.1575\n",
              "2015-01-07      26.9375              27.9725  ...  27.0500  26.6737\n",
              "2015-01-08      27.9725              28.0025  ...  28.0375  27.1750\n",
              "2015-01-09      28.0025              27.3125  ...  28.3125  27.5525\n",
              "2015-01-12      27.3125              27.5550  ...  28.1575  27.2000\n",
              "2015-01-13      27.5550              27.4500  ...  28.2000  27.2275\n",
              "2015-01-14      27.4500              26.7050  ...  27.6225  27.1250\n",
              "2015-01-15      26.7050              26.4975  ...  27.5150  26.6650\n",
              "2015-01-16      26.4975              27.1800  ...  26.8950  26.3000\n",
              "2015-01-20      27.1800              27.3875  ...  27.2417  26.6250\n",
              "2015-01-21      27.3875              28.1000  ...  27.7650  27.0675\n",
              "2015-01-22      28.1000              28.2450  ...  28.1175  27.4300\n",
              "2015-01-23      28.2450              28.2750  ...  28.4375  27.8825\n",
              "2015-01-26      28.2750              27.2850  ...  28.5907  28.2000\n",
              "\n",
              "[15 rows x 8 columns]"
            ]
          },
          "metadata": {
            "tags": []
          },
          "execution_count": 1517
        }
      ]
    },
    {
      "cell_type": "markdown",
      "metadata": {
        "id": "T3HaAr6Fs1E9"
      },
      "source": [
        "# **Setting the target variable and Feature dataset**"
      ]
    },
    {
      "cell_type": "code",
      "metadata": {
        "colab": {
          "base_uri": "https://localhost:8080/"
        },
        "id": "T4PKMh9isbuL",
        "outputId": "cb17dcd6-64c5-4d9e-b098-34952646aa42"
      },
      "source": [
        "Y = new_data[\"shifted_close_price\"]\n",
        "Y"
      ],
      "execution_count": null,
      "outputs": [
        {
          "output_type": "execute_result",
          "data": {
            "text/plain": [
              "Date\n",
              "2015-01-05     26.5650\n",
              "2015-01-06     26.9375\n",
              "2015-01-07     27.9725\n",
              "2015-01-08     28.0025\n",
              "2015-01-09     27.3125\n",
              "                ...   \n",
              "2021-06-16    131.7900\n",
              "2021-06-17    130.4600\n",
              "2021-06-18    132.3000\n",
              "2021-06-21    133.9800\n",
              "2021-06-22    133.7000\n",
              "Name: shifted_close_price, Length: 1570, dtype: float64"
            ]
          },
          "metadata": {
            "tags": []
          },
          "execution_count": 1518
        }
      ]
    },
    {
      "cell_type": "code",
      "metadata": {
        "colab": {
          "base_uri": "https://localhost:8080/",
          "height": 447
        },
        "id": "a4SlEmIvsnFO",
        "outputId": "1bf19336-7e70-4fde-8ddb-975655f85dad"
      },
      "source": [
        "columns = [\"close_price\",\"compound\",\"compound_shift\",\"volume\",\"open_price\",\"high\",\"low\"]\n",
        "X = new_data[columns]\n",
        "X"
      ],
      "execution_count": null,
      "outputs": [
        {
          "output_type": "execute_result",
          "data": {
            "text/html": [
              "<div>\n",
              "<style scoped>\n",
              "    .dataframe tbody tr th:only-of-type {\n",
              "        vertical-align: middle;\n",
              "    }\n",
              "\n",
              "    .dataframe tbody tr th {\n",
              "        vertical-align: top;\n",
              "    }\n",
              "\n",
              "    .dataframe thead th {\n",
              "        text-align: right;\n",
              "    }\n",
              "</style>\n",
              "<table border=\"1\" class=\"dataframe\">\n",
              "  <thead>\n",
              "    <tr style=\"text-align: right;\">\n",
              "      <th></th>\n",
              "      <th>close_price</th>\n",
              "      <th>compound</th>\n",
              "      <th>compound_shift</th>\n",
              "      <th>volume</th>\n",
              "      <th>open_price</th>\n",
              "      <th>high</th>\n",
              "      <th>low</th>\n",
              "    </tr>\n",
              "    <tr>\n",
              "      <th>Date</th>\n",
              "      <th></th>\n",
              "      <th></th>\n",
              "      <th></th>\n",
              "      <th></th>\n",
              "      <th></th>\n",
              "      <th></th>\n",
              "      <th></th>\n",
              "    </tr>\n",
              "  </thead>\n",
              "  <tbody>\n",
              "    <tr>\n",
              "      <th>2015-01-05</th>\n",
              "      <td>26.5625</td>\n",
              "      <td>0.9748</td>\n",
              "      <td>0.9932</td>\n",
              "      <td>256843520.0</td>\n",
              "      <td>27.0725</td>\n",
              "      <td>27.1625</td>\n",
              "      <td>26.3525</td>\n",
              "    </tr>\n",
              "    <tr>\n",
              "      <th>2015-01-06</th>\n",
              "      <td>26.5650</td>\n",
              "      <td>0.9932</td>\n",
              "      <td>0.9866</td>\n",
              "      <td>262729000.0</td>\n",
              "      <td>26.6350</td>\n",
              "      <td>26.8575</td>\n",
              "      <td>26.1575</td>\n",
              "    </tr>\n",
              "    <tr>\n",
              "      <th>2015-01-07</th>\n",
              "      <td>26.9375</td>\n",
              "      <td>0.9866</td>\n",
              "      <td>0.4939</td>\n",
              "      <td>159933400.0</td>\n",
              "      <td>26.8000</td>\n",
              "      <td>27.0500</td>\n",
              "      <td>26.6737</td>\n",
              "    </tr>\n",
              "    <tr>\n",
              "      <th>2015-01-08</th>\n",
              "      <td>27.9725</td>\n",
              "      <td>0.4939</td>\n",
              "      <td>0.9107</td>\n",
              "      <td>236675040.0</td>\n",
              "      <td>27.3075</td>\n",
              "      <td>28.0375</td>\n",
              "      <td>27.1750</td>\n",
              "    </tr>\n",
              "    <tr>\n",
              "      <th>2015-01-09</th>\n",
              "      <td>28.0025</td>\n",
              "      <td>0.9107</td>\n",
              "      <td>0.9609</td>\n",
              "      <td>214582920.0</td>\n",
              "      <td>28.1675</td>\n",
              "      <td>28.3125</td>\n",
              "      <td>27.5525</td>\n",
              "    </tr>\n",
              "    <tr>\n",
              "      <th>...</th>\n",
              "      <td>...</td>\n",
              "      <td>...</td>\n",
              "      <td>...</td>\n",
              "      <td>...</td>\n",
              "      <td>...</td>\n",
              "      <td>...</td>\n",
              "      <td>...</td>\n",
              "    </tr>\n",
              "    <tr>\n",
              "      <th>2021-06-16</th>\n",
              "      <td>130.1500</td>\n",
              "      <td>0.7950</td>\n",
              "      <td>0.9899</td>\n",
              "      <td>91815030.0</td>\n",
              "      <td>130.3700</td>\n",
              "      <td>130.8900</td>\n",
              "      <td>128.4610</td>\n",
              "    </tr>\n",
              "    <tr>\n",
              "      <th>2021-06-17</th>\n",
              "      <td>131.7900</td>\n",
              "      <td>0.9899</td>\n",
              "      <td>0.9825</td>\n",
              "      <td>96721670.0</td>\n",
              "      <td>129.8000</td>\n",
              "      <td>132.5500</td>\n",
              "      <td>129.6500</td>\n",
              "    </tr>\n",
              "    <tr>\n",
              "      <th>2021-06-18</th>\n",
              "      <td>130.4600</td>\n",
              "      <td>0.9825</td>\n",
              "      <td>0.9972</td>\n",
              "      <td>108953300.0</td>\n",
              "      <td>130.7100</td>\n",
              "      <td>131.5100</td>\n",
              "      <td>130.2400</td>\n",
              "    </tr>\n",
              "    <tr>\n",
              "      <th>2021-06-21</th>\n",
              "      <td>132.3000</td>\n",
              "      <td>0.9972</td>\n",
              "      <td>0.9994</td>\n",
              "      <td>79663320.0</td>\n",
              "      <td>130.3000</td>\n",
              "      <td>132.4100</td>\n",
              "      <td>129.2100</td>\n",
              "    </tr>\n",
              "    <tr>\n",
              "      <th>2021-06-22</th>\n",
              "      <td>133.9800</td>\n",
              "      <td>0.9994</td>\n",
              "      <td>0.9945</td>\n",
              "      <td>74783620.0</td>\n",
              "      <td>132.1300</td>\n",
              "      <td>134.0800</td>\n",
              "      <td>131.6200</td>\n",
              "    </tr>\n",
              "  </tbody>\n",
              "</table>\n",
              "<p>1570 rows × 7 columns</p>\n",
              "</div>"
            ],
            "text/plain": [
              "            close_price  compound  ...      high       low\n",
              "Date                               ...                    \n",
              "2015-01-05      26.5625    0.9748  ...   27.1625   26.3525\n",
              "2015-01-06      26.5650    0.9932  ...   26.8575   26.1575\n",
              "2015-01-07      26.9375    0.9866  ...   27.0500   26.6737\n",
              "2015-01-08      27.9725    0.4939  ...   28.0375   27.1750\n",
              "2015-01-09      28.0025    0.9107  ...   28.3125   27.5525\n",
              "...                 ...       ...  ...       ...       ...\n",
              "2021-06-16     130.1500    0.7950  ...  130.8900  128.4610\n",
              "2021-06-17     131.7900    0.9899  ...  132.5500  129.6500\n",
              "2021-06-18     130.4600    0.9825  ...  131.5100  130.2400\n",
              "2021-06-21     132.3000    0.9972  ...  132.4100  129.2100\n",
              "2021-06-22     133.9800    0.9994  ...  134.0800  131.6200\n",
              "\n",
              "[1570 rows x 7 columns]"
            ]
          },
          "metadata": {
            "tags": []
          },
          "execution_count": 1519
        }
      ]
    },
    {
      "cell_type": "code",
      "metadata": {
        "colab": {
          "base_uri": "https://localhost:8080/"
        },
        "id": "ge5HtX3ptPYl",
        "outputId": "9c5a4180-88cf-4cfd-ae5c-84ee468b6cc4"
      },
      "source": [
        "from sklearn import preprocessing,metrics\n",
        "import numpy as np\n",
        "\n",
        "X_Scale = preprocessing.MinMaxScaler(feature_range = (-1,1))\n",
        "X = np.array(X).reshape(len(X),len(columns))\n",
        "X = X_Scale.fit_transform(X)\n",
        "\n",
        "Y_Scale = preprocessing.MinMaxScaler(feature_range = (-1,1))\n",
        "Y = np.array(Y).reshape(len(Y),1)\n",
        "Y = Y_Scale.fit_transform(Y)\n",
        "\n",
        "X"
      ],
      "execution_count": null,
      "outputs": [
        {
          "output_type": "execute_result",
          "data": {
            "text/plain": [
              "array([[-0.93402447,  0.97499125,  0.99339769, ..., -0.9244839 ,\n",
              "        -0.93050809, -0.93302662],\n",
              "       [-0.933983  ,  0.99339769,  0.98679538, ..., -0.93170933,\n",
              "        -0.93550103, -0.93630386],\n",
              "       [-0.92780427,  0.98679538,  0.49392287, ..., -0.92898431,\n",
              "        -0.93234975, -0.92762841],\n",
              "       ...,\n",
              "       [ 0.78934273,  0.98269394,  0.99739909, ...,  0.78711808,\n",
              "         0.77769138,  0.81294511],\n",
              "       [ 0.81986316,  0.99739909,  0.99959986, ...,  0.78034682,\n",
              "         0.79242465,  0.79563455],\n",
              "       [ 0.84772963,  0.99959986,  0.99469814, ...,  0.81056978,\n",
              "         0.81976304,  0.8361379 ]])"
            ]
          },
          "metadata": {
            "tags": []
          },
          "execution_count": 1520
        }
      ]
    },
    {
      "cell_type": "code",
      "metadata": {
        "colab": {
          "base_uri": "https://localhost:8080/"
        },
        "id": "1MfgfEzMyc42",
        "outputId": "a8b873de-1dda-4f18-b9e2-52cd4cb9c172"
      },
      "source": [
        "Y"
      ],
      "execution_count": null,
      "outputs": [
        {
          "output_type": "execute_result",
          "data": {
            "text/plain": [
              "array([[-0.933983  ],\n",
              "       [-0.92780427],\n",
              "       [-0.91063653],\n",
              "       ...,\n",
              "       [ 0.81986316],\n",
              "       [ 0.84772963],\n",
              "       [ 0.84308522]])"
            ]
          },
          "metadata": {
            "tags": []
          },
          "execution_count": 1521
        }
      ]
    },
    {
      "cell_type": "code",
      "metadata": {
        "colab": {
          "base_uri": "https://localhost:8080/"
        },
        "id": "-k0nmuFU0pfA",
        "outputId": "f9cd790e-3c95-42b1-b883-2bf208a9aaec"
      },
      "source": [
        "Y.shape"
      ],
      "execution_count": null,
      "outputs": [
        {
          "output_type": "execute_result",
          "data": {
            "text/plain": [
              "(1570, 1)"
            ]
          },
          "metadata": {
            "tags": []
          },
          "execution_count": 1522
        }
      ]
    },
    {
      "cell_type": "markdown",
      "metadata": {
        "id": "C1yVswrozmhg"
      },
      "source": [
        "# **Dividing the Data**"
      ]
    },
    {
      "cell_type": "code",
      "metadata": {
        "colab": {
          "base_uri": "https://localhost:8080/"
        },
        "id": "aVpHqBDCzK1J",
        "outputId": "f4c9d904-05c6-4868-b607-1ff7872d4333"
      },
      "source": [
        "X_train = X[0:split,]\n",
        "X_test = X[split+1:len(X),]\n",
        "Y_train = Y[0:split]\n",
        "Y_test = Y[split+1:len(Y)]\n",
        "\n",
        "print(\"Rows and columns in X and Y Training Sets are \",X_train.shape,\"and\",Y_train.shape,\"respectively\")\n",
        "print(\"Rows and columns in X and Y Testing Sets are \",X_test.shape,\"and\",Y_test.shape,\"respectively\")"
      ],
      "execution_count": null,
      "outputs": [
        {
          "output_type": "stream",
          "text": [
            "Rows and columns in X and Y Training Sets are  (1256, 7) and (1256, 1) respectively\n",
            "Rows and columns in X and Y Testing Sets are  (313, 7) and (313, 1) respectively\n"
          ],
          "name": "stdout"
        }
      ]
    },
    {
      "cell_type": "markdown",
      "metadata": {
        "id": "lh4ngLpM161q"
      },
      "source": [
        "# **Reshaping the Feature Dataset**"
      ]
    },
    {
      "cell_type": "code",
      "metadata": {
        "colab": {
          "base_uri": "https://localhost:8080/"
        },
        "id": "1yLAwhMDziEH",
        "outputId": "76d21fcf-6ebf-4a24-e30a-fd65f8af5e2f"
      },
      "source": [
        "X_train  = X_train.reshape(X_train.shape +(1,))\n",
        "X_test  = X_test.reshape(X_test.shape +(1,))\n",
        "\n",
        "print(\"Shape of Traing and Test Set of X are \",X_train.shape,\"and\",X_test.shape,\"respectively\")"
      ],
      "execution_count": null,
      "outputs": [
        {
          "output_type": "stream",
          "text": [
            "Shape of Traing and Test Set of X are  (1256, 7, 1) and (313, 7, 1) respectively\n"
          ],
          "name": "stdout"
        }
      ]
    },
    {
      "cell_type": "markdown",
      "metadata": {
        "id": "0OQTmRQU3RJ6"
      },
      "source": [
        "# **Model Building**"
      ]
    },
    {
      "cell_type": "code",
      "metadata": {
        "colab": {
          "base_uri": "https://localhost:8080/"
        },
        "id": "nSt9QpCd2ghD",
        "outputId": "e31c53dc-8fb1-4697-ca31-c15ea65b35ae"
      },
      "source": [
        "from tensorflow import keras\n",
        "np.random.seed(500)\n",
        "model = keras.Sequential()\n",
        "model.add(keras.layers.LSTM(200,return_sequences = True,activation = \"tanh\",input_shape = (len(columns),1)))\n",
        "model.add(keras.layers.Dropout(0.4))\n",
        "model.add(keras.layers.LSTM(250,activation = \"tanh\"))\n",
        "model.add(keras.layers.Dropout(0.4))\n",
        "model.add(keras.layers.Dense(1))\n",
        "\n",
        "model.summary()"
      ],
      "execution_count": null,
      "outputs": [
        {
          "output_type": "stream",
          "text": [
            "Model: \"sequential_33\"\n",
            "_________________________________________________________________\n",
            "Layer (type)                 Output Shape              Param #   \n",
            "=================================================================\n",
            "lstm_97 (LSTM)               (None, 7, 200)            161600    \n",
            "_________________________________________________________________\n",
            "dropout_65 (Dropout)         (None, 7, 200)            0         \n",
            "_________________________________________________________________\n",
            "lstm_98 (LSTM)               (None, 250)               451000    \n",
            "_________________________________________________________________\n",
            "dropout_66 (Dropout)         (None, 250)               0         \n",
            "_________________________________________________________________\n",
            "dense_30 (Dense)             (None, 1)                 251       \n",
            "=================================================================\n",
            "Total params: 612,851\n",
            "Trainable params: 612,851\n",
            "Non-trainable params: 0\n",
            "_________________________________________________________________\n"
          ],
          "name": "stdout"
        }
      ]
    },
    {
      "cell_type": "code",
      "metadata": {
        "id": "LqtsBvRX4tK5"
      },
      "source": [
        "model.compile(optimizer = 'adam',loss = 'mse',metrics = ['accuracy'])"
      ],
      "execution_count": null,
      "outputs": []
    },
    {
      "cell_type": "code",
      "metadata": {
        "colab": {
          "base_uri": "https://localhost:8080/"
        },
        "id": "rHOoba7Q5S44",
        "outputId": "644b17a4-4bdb-4208-91b8-79f17a248b55"
      },
      "source": [
        "from keras.callbacks import EarlyStopping\n",
        "early_stop = EarlyStopping(monitor = 'val_loss',mode = 'min',verbose = 1,patience = 5)\n",
        "\n",
        "history = model.fit(X_train,Y_train,epochs = 25,batch_size = 16,validation_split = 0.2,callbacks = [early_stop])"
      ],
      "execution_count": null,
      "outputs": [
        {
          "output_type": "stream",
          "text": [
            "Epoch 1/25\n",
            "63/63 [==============================] - 8s 58ms/step - loss: 0.0729 - accuracy: 0.0000e+00 - val_loss: 0.0729 - val_accuracy: 0.0000e+00\n",
            "Epoch 2/25\n",
            "63/63 [==============================] - 3s 46ms/step - loss: 0.0119 - accuracy: 0.0000e+00 - val_loss: 0.0453 - val_accuracy: 0.0000e+00\n",
            "Epoch 3/25\n",
            "63/63 [==============================] - 3s 44ms/step - loss: 0.0083 - accuracy: 0.0000e+00 - val_loss: 0.0190 - val_accuracy: 0.0000e+00\n",
            "Epoch 4/25\n",
            "63/63 [==============================] - 3s 45ms/step - loss: 0.0061 - accuracy: 0.0000e+00 - val_loss: 0.0069 - val_accuracy: 0.0000e+00\n",
            "Epoch 5/25\n",
            "63/63 [==============================] - 3s 44ms/step - loss: 0.0053 - accuracy: 0.0000e+00 - val_loss: 0.0076 - val_accuracy: 0.0000e+00\n",
            "Epoch 6/25\n",
            "63/63 [==============================] - 3s 44ms/step - loss: 0.0037 - accuracy: 0.0000e+00 - val_loss: 0.0025 - val_accuracy: 0.0000e+00\n",
            "Epoch 7/25\n",
            "63/63 [==============================] - 3s 45ms/step - loss: 0.0035 - accuracy: 0.0000e+00 - val_loss: 0.0025 - val_accuracy: 0.0000e+00\n",
            "Epoch 8/25\n",
            "63/63 [==============================] - 3s 45ms/step - loss: 0.0037 - accuracy: 0.0000e+00 - val_loss: 0.0031 - val_accuracy: 0.0000e+00\n",
            "Epoch 9/25\n",
            "63/63 [==============================] - 3s 47ms/step - loss: 0.0035 - accuracy: 0.0000e+00 - val_loss: 0.0026 - val_accuracy: 0.0000e+00\n",
            "Epoch 10/25\n",
            "63/63 [==============================] - 3s 46ms/step - loss: 0.0034 - accuracy: 0.0000e+00 - val_loss: 0.0026 - val_accuracy: 0.0000e+00\n",
            "Epoch 11/25\n",
            "63/63 [==============================] - 3s 46ms/step - loss: 0.0032 - accuracy: 0.0000e+00 - val_loss: 0.0017 - val_accuracy: 0.0000e+00\n",
            "Epoch 12/25\n",
            "63/63 [==============================] - 3s 47ms/step - loss: 0.0032 - accuracy: 0.0000e+00 - val_loss: 0.0019 - val_accuracy: 0.0000e+00\n",
            "Epoch 13/25\n",
            "63/63 [==============================] - 3s 46ms/step - loss: 0.0034 - accuracy: 0.0000e+00 - val_loss: 0.0020 - val_accuracy: 0.0000e+00\n",
            "Epoch 14/25\n",
            "63/63 [==============================] - 3s 46ms/step - loss: 0.0026 - accuracy: 0.0000e+00 - val_loss: 8.1410e-04 - val_accuracy: 0.0000e+00\n",
            "Epoch 15/25\n",
            "63/63 [==============================] - 3s 47ms/step - loss: 0.0027 - accuracy: 0.0000e+00 - val_loss: 0.0016 - val_accuracy: 0.0000e+00\n",
            "Epoch 16/25\n",
            "63/63 [==============================] - 3s 47ms/step - loss: 0.0027 - accuracy: 0.0000e+00 - val_loss: 0.0017 - val_accuracy: 0.0000e+00\n",
            "Epoch 17/25\n",
            "63/63 [==============================] - 3s 47ms/step - loss: 0.0030 - accuracy: 0.0000e+00 - val_loss: 9.4987e-04 - val_accuracy: 0.0000e+00\n",
            "Epoch 18/25\n",
            "63/63 [==============================] - 3s 48ms/step - loss: 0.0031 - accuracy: 0.0000e+00 - val_loss: 0.0013 - val_accuracy: 0.0000e+00\n",
            "Epoch 19/25\n",
            "63/63 [==============================] - 3s 47ms/step - loss: 0.0029 - accuracy: 0.0000e+00 - val_loss: 5.4572e-04 - val_accuracy: 0.0000e+00\n",
            "Epoch 20/25\n",
            "63/63 [==============================] - 3s 48ms/step - loss: 0.0030 - accuracy: 0.0000e+00 - val_loss: 0.0025 - val_accuracy: 0.0000e+00\n",
            "Epoch 21/25\n",
            "63/63 [==============================] - 3s 49ms/step - loss: 0.0029 - accuracy: 0.0000e+00 - val_loss: 9.9328e-04 - val_accuracy: 0.0000e+00\n",
            "Epoch 22/25\n",
            "63/63 [==============================] - 3s 49ms/step - loss: 0.0029 - accuracy: 0.0000e+00 - val_loss: 8.3718e-04 - val_accuracy: 0.0000e+00\n",
            "Epoch 23/25\n",
            "63/63 [==============================] - 3s 49ms/step - loss: 0.0024 - accuracy: 0.0000e+00 - val_loss: 6.9218e-04 - val_accuracy: 0.0000e+00\n",
            "Epoch 24/25\n",
            "63/63 [==============================] - 3s 49ms/step - loss: 0.0023 - accuracy: 0.0000e+00 - val_loss: 7.8890e-04 - val_accuracy: 0.0000e+00\n",
            "Epoch 00024: early stopping\n"
          ],
          "name": "stdout"
        },
        {
          "output_type": "execute_result",
          "data": {
            "text/plain": [
              "<tensorflow.python.keras.callbacks.History at 0x7fe8ec800dd0>"
            ]
          },
          "metadata": {
            "tags": []
          },
          "execution_count": 1527
        }
      ]
    },
    {
      "cell_type": "code",
      "metadata": {
        "colab": {
          "base_uri": "https://localhost:8080/",
          "height": 282
        },
        "id": "rnKYwQiG5efT",
        "outputId": "4dc7ba19-0640-4604-b30d-c8032f0564ed"
      },
      "source": [
        "loss = pd.DataFrame(model.history.history)\n",
        "loss.plot()"
      ],
      "execution_count": null,
      "outputs": [
        {
          "output_type": "execute_result",
          "data": {
            "text/plain": [
              "<matplotlib.axes._subplots.AxesSubplot at 0x7fe8f979c250>"
            ]
          },
          "metadata": {
            "tags": []
          },
          "execution_count": 1528
        },
        {
          "output_type": "display_data",
          "data": {
            "image/png": "[encoded data removed]",
            "text/plain": [
              "<Figure size 432x288 with 1 Axes>"
            ]
          },
          "metadata": {
            "tags": [],
            "needs_background": "light"
          }
        }
      ]
    },
    {
      "cell_type": "markdown",
      "metadata": {
        "id": "gn2dhftiPi_p"
      },
      "source": [
        "# **Prediction**"
      ]
    },
    {
      "cell_type": "code",
      "metadata": {
        "colab": {
          "base_uri": "https://localhost:8080/"
        },
        "id": "M50-CwYv7HuZ",
        "outputId": "0e680e1b-f188-40fd-a32c-7c6cffaef2a7"
      },
      "source": [
        "Y_predict = model.predict(X_test)\n",
        "Y_predict = Y_Scale.inverse_transform(np.array(Y_predict).reshape(len(Y_predict),1))\n",
        "Y_predict"
      ],
      "execution_count": null,
      "outputs": [
        {
          "output_type": "execute_result",
          "data": {
            "text/plain": [
              "array([[ 78.1524  ],\n",
              "       [ 78.06821 ],\n",
              "       [ 76.43323 ],\n",
              "       [ 77.536736],\n",
              "       [ 76.13343 ],\n",
              "       [ 75.16269 ],\n",
              "       [ 71.62987 ],\n",
              "       [ 71.707375],\n",
              "       [ 70.551384],\n",
              "       [ 68.047935],\n",
              "       [ 66.21727 ],\n",
              "       [ 70.43129 ],\n",
              "       [ 71.62836 ],\n",
              "       [ 72.06776 ],\n",
              "       [ 71.59183 ],\n",
              "       [ 69.61471 ],\n",
              "       [ 66.020966],\n",
              "       [ 67.91614 ],\n",
              "       [ 67.222916],\n",
              "       [ 63.084694],\n",
              "       [ 64.78928 ],\n",
              "       [ 60.681534],\n",
              "       [ 60.583847],\n",
              "       [ 59.48458 ],\n",
              "       [ 60.678185],\n",
              "       [ 59.146828],\n",
              "       [ 54.489395],\n",
              "       [ 58.883297],\n",
              "       [ 61.37364 ],\n",
              "       [ 61.485313],\n",
              "       [ 61.51606 ],\n",
              "       [ 61.70202 ],\n",
              "       [ 62.861435],\n",
              "       [ 59.937634],\n",
              "       [ 59.097713],\n",
              "       [ 59.479664],\n",
              "       [ 62.381104],\n",
              "       [ 64.41521 ],\n",
              "       [ 65.22996 ],\n",
              "       [ 65.7013  ],\n",
              "       [ 68.609215],\n",
              "       [ 68.83684 ],\n",
              "       [ 69.320496],\n",
              "       [ 68.536896],\n",
              "       [ 67.87303 ],\n",
              "       [ 66.19889 ],\n",
              "       [ 66.908264],\n",
              "       [ 67.99254 ],\n",
              "       [ 68.60535 ],\n",
              "       [ 68.663025],\n",
              "       [ 69.5393  ],\n",
              "       [ 70.56603 ],\n",
              "       [ 70.584015],\n",
              "       [ 70.30996 ],\n",
              "       [ 71.96604 ],\n",
              "       [ 72.80089 ],\n",
              "       [ 73.416595],\n",
              "       [ 74.17697 ],\n",
              "       [ 75.13349 ],\n",
              "       [ 76.065056],\n",
              "       [ 74.74557 ],\n",
              "       [ 73.79204 ],\n",
              "       [ 73.3361  ],\n",
              "       [ 75.58827 ],\n",
              "       [ 76.12273 ],\n",
              "       [ 76.58157 ],\n",
              "       [ 76.7475  ],\n",
              "       [ 76.475815],\n",
              "       [ 77.25456 ],\n",
              "       [ 76.186745],\n",
              "       [ 76.84124 ],\n",
              "       [ 76.80528 ],\n",
              "       [ 76.83662 ],\n",
              "       [ 77.29754 ],\n",
              "       [ 77.923416],\n",
              "       [ 77.75043 ],\n",
              "       [ 78.55751 ],\n",
              "       [ 79.39371 ],\n",
              "       [ 80.92549 ],\n",
              "       [ 83.66654 ],\n",
              "       [ 82.34518 ],\n",
              "       [ 81.782524],\n",
              "       [ 81.02696 ],\n",
              "       [ 83.53738 ],\n",
              "       [ 84.49383 ],\n",
              "       [ 84.01962 ],\n",
              "       [ 83.992615],\n",
              "       [ 84.69368 ],\n",
              "       [ 87.325676],\n",
              "       [ 86.68883 ],\n",
              "       [ 86.13581 ],\n",
              "       [ 85.84035 ],\n",
              "       [ 85.01355 ],\n",
              "       [ 86.42033 ],\n",
              "       [ 87.10405 ],\n",
              "       [ 87.438   ],\n",
              "       [ 88.56212 ],\n",
              "       [ 89.08263 ],\n",
              "       [ 89.702675],\n",
              "       [ 90.75994 ],\n",
              "       [ 90.53859 ],\n",
              "       [ 92.33855 ],\n",
              "       [ 90.57092 ],\n",
              "       [ 92.846855],\n",
              "       [ 91.6444  ],\n",
              "       [ 91.60717 ],\n",
              "       [ 92.05352 ],\n",
              "       [ 92.973045],\n",
              "       [ 92.101524],\n",
              "       [ 90.11185 ],\n",
              "       [ 86.74237 ],\n",
              "       [ 89.46204 ],\n",
              "       [ 89.35786 ],\n",
              "       [ 89.67377 ],\n",
              "       [ 90.10656 ],\n",
              "       [ 97.72366 ],\n",
              "       [102.73406 ],\n",
              "       [102.58812 ],\n",
              "       [102.670456],\n",
              "       [104.50295 ],\n",
              "       [104.88012 ],\n",
              "       [104.739655],\n",
              "       [103.86094 ],\n",
              "       [103.99277 ],\n",
              "       [107.009285],\n",
              "       [106.20563 ],\n",
              "       [105.04068 ],\n",
              "       [106.62199 ],\n",
              "       [108.29062 ],\n",
              "       [108.671646],\n",
              "       [112.925224],\n",
              "       [117.30167 ],\n",
              "       [114.92518 ],\n",
              "       [116.34515 ],\n",
              "       [116.19509 ],\n",
              "       [116.016266],\n",
              "       [118.24436 ],\n",
              "       [120.764084],\n",
              "       [121.78443 ],\n",
              "       [115.55579 ],\n",
              "       [109.60285 ],\n",
              "       [107.5743  ],\n",
              "       [109.02927 ],\n",
              "       [108.94184 ],\n",
              "       [105.46758 ],\n",
              "       [106.701195],\n",
              "       [108.51366 ],\n",
              "       [106.52399 ],\n",
              "       [103.094055],\n",
              "       [102.01324 ],\n",
              "       [ 99.742836],\n",
              "       [104.12676 ],\n",
              "       [102.712555],\n",
              "       [100.53702 ],\n",
              "       [102.75077 ],\n",
              "       [106.548706],\n",
              "       [106.71441 ],\n",
              "       [107.2536  ],\n",
              "       [108.78765 ],\n",
              "       [106.01092 ],\n",
              "       [107.03912 ],\n",
              "       [106.72804 ],\n",
              "       [106.73228 ],\n",
              "       [107.55952 ],\n",
              "       [107.849556],\n",
              "       [112.91743 ],\n",
              "       [113.95893 ],\n",
              "       [112.35696 ],\n",
              "       [110.862686],\n",
              "       [111.608765],\n",
              "       [109.93317 ],\n",
              "       [108.87938 ],\n",
              "       [109.12452 ],\n",
              "       [108.40318 ],\n",
              "       [107.64651 ],\n",
              "       [106.780624],\n",
              "       [107.82624 ],\n",
              "       [105.96755 ],\n",
              "       [106.39166 ],\n",
              "       [103.04656 ],\n",
              "       [102.103035],\n",
              "       [102.98081 ],\n",
              "       [106.339165],\n",
              "       [109.81226 ],\n",
              "       [109.472824],\n",
              "       [110.66915 ],\n",
              "       [107.82262 ],\n",
              "       [109.53003 ],\n",
              "       [110.93753 ],\n",
              "       [110.37559 ],\n",
              "       [110.80594 ],\n",
              "       [110.106094],\n",
              "       [109.71139 ],\n",
              "       [109.50984 ],\n",
              "       [109.76197 ],\n",
              "       [107.93937 ],\n",
              "       [106.44988 ],\n",
              "       [107.88696 ],\n",
              "       [108.637695],\n",
              "       [110.07012 ],\n",
              "       [112.429504],\n",
              "       [112.92364 ],\n",
              "       [113.270065],\n",
              "       [112.75682 ],\n",
              "       [113.84318 ],\n",
              "       [114.613266],\n",
              "       [114.246925],\n",
              "       [112.64508 ],\n",
              "       [112.77275 ],\n",
              "       [113.30664 ],\n",
              "       [115.98668 ],\n",
              "       [117.373276],\n",
              "       [118.48449 ],\n",
              "       [117.74018 ],\n",
              "       [115.879364],\n",
              "       [121.04624 ],\n",
              "       [120.78415 ],\n",
              "       [121.02161 ],\n",
              "       [123.56495 ],\n",
              "       [124.92665 ],\n",
              "       [123.31932 ],\n",
              "       [122.14697 ],\n",
              "       [120.08306 ],\n",
              "       [119.271324],\n",
              "       [118.24937 ],\n",
              "       [119.178955],\n",
              "       [119.468445],\n",
              "       [118.32344 ],\n",
              "       [117.65705 ],\n",
              "       [119.51271 ],\n",
              "       [124.228165],\n",
              "       [125.16612 ],\n",
              "       [128.43987 ],\n",
              "       [129.77534 ],\n",
              "       [129.38264 ],\n",
              "       [126.83924 ],\n",
              "       [122.572464],\n",
              "       [122.00331 ],\n",
              "       [123.83999 ],\n",
              "       [123.35321 ],\n",
              "       [122.8956  ],\n",
              "       [124.08982 ],\n",
              "       [121.73845 ],\n",
              "       [119.507034],\n",
              "       [118.46458 ],\n",
              "       [119.309494],\n",
              "       [117.55072 ],\n",
              "       [113.52874 ],\n",
              "       [114.650635],\n",
              "       [114.18099 ],\n",
              "       [113.660576],\n",
              "       [115.35636 ],\n",
              "       [117.10905 ],\n",
              "       [114.48917 ],\n",
              "       [112.296684],\n",
              "       [111.29671 ],\n",
              "       [112.944435],\n",
              "       [116.13616 ],\n",
              "       [114.62551 ],\n",
              "       [112.90132 ],\n",
              "       [111.73972 ],\n",
              "       [112.5974  ],\n",
              "       [113.8818  ],\n",
              "       [112.693985],\n",
              "       [111.420074],\n",
              "       [111.4693  ],\n",
              "       [111.730255],\n",
              "       [110.594025],\n",
              "       [113.10397 ],\n",
              "       [114.06101 ],\n",
              "       [114.91781 ],\n",
              "       [116.521774],\n",
              "       [121.92095 ],\n",
              "       [122.328384],\n",
              "       [122.790085],\n",
              "       [122.66489 ],\n",
              "       [122.81373 ],\n",
              "       [122.55606 ],\n",
              "       [121.37639 ],\n",
              "       [121.66904 ],\n",
              "       [122.03653 ],\n",
              "       [122.93507 ],\n",
              "       [123.25919 ],\n",
              "       [122.751976],\n",
              "       [123.57036 ],\n",
              "       [121.20411 ],\n",
              "       [121.60094 ],\n",
              "       [119.038345],\n",
              "       [118.72884 ],\n",
              "       [118.0396  ],\n",
              "       [115.450775],\n",
              "       [116.779884],\n",
              "       [116.34884 ],\n",
              "       [116.16763 ],\n",
              "       [114.35455 ],\n",
              "       [116.28504 ],\n",
              "       [116.83793 ],\n",
              "       [116.76089 ],\n",
              "       [117.31766 ],\n",
              "       [116.91511 ],\n",
              "       [116.477005],\n",
              "       [115.57534 ],\n",
              "       [114.978294],\n",
              "       [113.933655],\n",
              "       [114.20829 ],\n",
              "       [115.19686 ],\n",
              "       [118.28109 ],\n",
              "       [119.2216  ],\n",
              "       [119.20908 ],\n",
              "       [120.07275 ],\n",
              "       [120.14184 ],\n",
              "       [119.96058 ],\n",
              "       [121.56476 ]], dtype=float32)"
            ]
          },
          "metadata": {
            "tags": []
          },
          "execution_count": 1529
        }
      ]
    },
    {
      "cell_type": "markdown",
      "metadata": {
        "id": "-elyHFiLPnZp"
      },
      "source": [
        "# **Evaluating the Model**"
      ]
    },
    {
      "cell_type": "code",
      "metadata": {
        "colab": {
          "base_uri": "https://localhost:8080/"
        },
        "id": "o3iwb7BlPYHz",
        "outputId": "e5fd18d5-1f04-4558-93f8-658c0d07bb5c"
      },
      "source": [
        "train_loss = model.evaluate(X_train,Y_train,batch_size = 1)\n",
        "test_loss = model.evaluate(X_test,Y_test,batch_size = 1)\n",
        "print(\"Training loss and Testing loss are\",np.around(train_loss[0],4),\"and\",np.around(test_loss[0],4),\"respectively\")"
      ],
      "execution_count": null,
      "outputs": [
        {
          "output_type": "stream",
          "text": [
            "1256/1256 [==============================] - 5s 3ms/step - loss: 3.2935e-04 - accuracy: 0.0000e+00\n",
            "313/313 [==============================] - 1s 3ms/step - loss: 0.0194 - accuracy: 0.0032\n",
            "Training loss and Testing loss are 0.0003 and 0.0194 respectively\n"
          ],
          "name": "stdout"
        }
      ]
    },
    {
      "cell_type": "code",
      "metadata": {
        "colab": {
          "base_uri": "https://localhost:8080/"
        },
        "id": "K2MWZJ88Q-rk",
        "outputId": "51e4c8d5-54c1-4970-878f-3001f31b7266"
      },
      "source": [
        "rmse = np.sqrt(np.mean(np.power((Y_test - Y_predict),2)))\n",
        "print(\"Root Mean Square Error = \",round(rmse,5))"
      ],
      "execution_count": null,
      "outputs": [
        {
          "output_type": "stream",
          "text": [
            "Root Mean Square Error =  101.30022\n"
          ],
          "name": "stdout"
        }
      ]
    },
    {
      "cell_type": "code",
      "metadata": {
        "colab": {
          "base_uri": "https://localhost:8080/"
        },
        "id": "t1uTRDYBSCxU",
        "outputId": "0007d9f3-d8a3-4138-b79f-5a7f607c5ccb"
      },
      "source": [
        "rmse1 = metrics.mean_squared_error(Y_test,Y_predict)\n",
        "print(\"Root Mean Square Error = \",round(np.sqrt(rmse1),5))"
      ],
      "execution_count": null,
      "outputs": [
        {
          "output_type": "stream",
          "text": [
            "Root Mean Square Error =  101.30022\n"
          ],
          "name": "stdout"
        }
      ]
    },
    {
      "cell_type": "code",
      "metadata": {
        "id": "viK3j9BQTi6u"
      },
      "source": [
        "X_test = X_Scale.inverse_transform(np.array(X_test).reshape(len(X_test),len(columns)))\n",
        "Y_train = Y_Scale.inverse_transform(np.array(Y_train).reshape(len(Y_train),1))\n",
        "Y_test = Y_Scale.inverse_transform(np.array(Y_test).reshape(len(Y_test),1))"
      ],
      "execution_count": null,
      "outputs": []
    },
    {
      "cell_type": "markdown",
      "metadata": {
        "id": "9wy9wf6QV7C7"
      },
      "source": [
        "## **Plotting the Prediction v/s Testing:**"
      ]
    },
    {
      "cell_type": "code",
      "metadata": {
        "colab": {
          "base_uri": "https://localhost:8080/",
          "height": 910
        },
        "id": "jmFjJdjvU804",
        "outputId": "1f476b0c-8491-4e74-e60b-4d5d27365c31"
      },
      "source": [
        "plt.figure(figsize = (17,15))\n",
        "plt.plot(Y_predict,label = \"Predicted Close Prices\")\n",
        "plt.plot([row[0] for row in Y_test],label = \"Test Close Prices\")\n",
        "plt.legend(loc = \"upper center\",bbox_to_anchor = (0.5,-0.05),fancybox = True,shadow = True,ncol = 2)\n",
        "plt.show()"
      ],
      "execution_count": null,
      "outputs": [
        {
          "output_type": "display_data",
          "data": {
            "image/png": "[encoded data removed]",
            "text/plain": [
              "<Figure size 1224x1080 with 1 Axes>"
            ]
          },
          "metadata": {
            "tags": [],
            "needs_background": "light"
          }
        }
      ]
    },
    {
      "cell_type": "markdown",
      "metadata": {
        "id": "ttVleirTnfcF"
      },
      "source": [
        "# **Saving the model weights:**"
      ]
    },
    {
      "cell_type": "code",
      "metadata": {
        "id": "OQlTM0D7n81y"
      },
      "source": [
        "json_model = model.to_json()\n",
        "with open('Stock_Price_model.json','w') as json_file:\n",
        "  json_file.write(json_model)"
      ],
      "execution_count": null,
      "outputs": []
    },
    {
      "cell_type": "code",
      "metadata": {
        "id": "kVoSSCQNnjtx"
      },
      "source": [
        "model.save('Stock_Price_Prediction.hdf5')"
      ],
      "execution_count": null,
      "outputs": []
    }
  ]
}